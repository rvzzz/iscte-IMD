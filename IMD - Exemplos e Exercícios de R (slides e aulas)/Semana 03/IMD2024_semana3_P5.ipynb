{
 "cells": [
  {
   "cell_type": "markdown",
   "metadata": {},
   "source": [
    "  \n",
    "<font size=\"5\"> <div class=\"alert alert-block alert-info\"> Introdução a Modelos Dinâmicos (IMD): Semana 3 (Aula P5) </div> </font> \n",
    "    \n",
    "  <font size=\"5\"> Licenciatura em Ciência de Dados </font>\n",
    "  \n",
    "  \n",
    "  \n",
    "  <font size=\"4\"> **Diana Aldea Mendes**</font>\n",
    "  \n",
    "  \n",
    "    \n",
    "  <font size=\"3\"> diana.mendes@iscte-iul.pt </font> \n",
    "  \n",
    "  \n",
    "  <font size=\"4\"> ISCTE-IUL, 26 de fevereiro de 2024 </font>\n",
    "  \n",
    "   \n",
    " \n",
    "    \n",
    " \n",
    "  \n",
    "  <font size=\"5\"> <div class=\"alert alert-success\" role=\"alert\"> Exemplo de regressão linear múltipla, Pressupostos dos resíduos, outliers, previsão </div></font> \n",
    "  \n",
    "\n",
    "  "
   ]
  },
  {
   "cell_type": "code",
   "execution_count": 1,
   "metadata": {
    "ExecuteTime": {
     "end_time": "2022-11-20T16:41:44.541828Z",
     "start_time": "2022-11-20T16:41:44.496Z"
    },
    "vscode": {
     "languageId": "r"
    }
   },
   "outputs": [
    {
     "name": "stderr",
     "output_type": "stream",
     "text": [
      "Warning message:\n",
      "\"package 'car' was built under R version 4.3.3\"\n",
      "Loading required package: carData\n",
      "\n",
      "Warning message:\n",
      "\"package 'carData' was built under R version 4.3.3\"\n",
      "Warning message:\n",
      "\"package 'lmtest' was built under R version 4.3.3\"\n",
      "Loading required package: zoo\n",
      "\n",
      "Warning message:\n",
      "\"package 'zoo' was built under R version 4.3.3\"\n",
      "\n",
      "Attaching package: 'zoo'\n",
      "\n",
      "\n",
      "The following objects are masked from 'package:base':\n",
      "\n",
      "    as.Date, as.Date.numeric\n",
      "\n",
      "\n",
      "Installing package into 'C:/Users/jricv/AppData/Local/R/win-library/4.3'\n",
      "(as 'lib' is unspecified)\n",
      "\n"
     ]
    },
    {
     "name": "stdout",
     "output_type": "stream",
     "text": [
      "package 'olsrr' successfully unpacked and MD5 sums checked\n",
      "\n",
      "The downloaded binary packages are in\n",
      "\tC:\\Users\\jricv\\AppData\\Local\\Temp\\RtmpKKCy6F\\downloaded_packages\n"
     ]
    },
    {
     "name": "stderr",
     "output_type": "stream",
     "text": [
      "Warning message:\n",
      "\"package 'olsrr' was built under R version 4.3.3\"\n",
      "\n",
      "Attaching package: 'olsrr'\n",
      "\n",
      "\n",
      "The following object is masked from 'package:datasets':\n",
      "\n",
      "    rivers\n",
      "\n",
      "\n",
      "Installing package into 'C:/Users/jricv/AppData/Local/R/win-library/4.3'\n",
      "(as 'lib' is unspecified)\n",
      "\n"
     ]
    },
    {
     "name": "stdout",
     "output_type": "stream",
     "text": [
      "package 'tseries' successfully unpacked and MD5 sums checked\n"
     ]
    },
    {
     "name": "stderr",
     "output_type": "stream",
     "text": [
      "Warning message:\n",
      "\"cannot remove prior installation of package 'tseries'\"\n",
      "Warning message in file.copy(savedcopy, lib, recursive = TRUE):\n",
      "\"problem copying C:\\Users\\jricv\\AppData\\Local\\R\\win-library\\4.3\\00LOCK\\tseries\\libs\\x64\\tseries.dll to C:\\Users\\jricv\\AppData\\Local\\R\\win-library\\4.3\\tseries\\libs\\x64\\tseries.dll: Permission denied\"\n",
      "Warning message:\n",
      "\"restored 'tseries'\"\n"
     ]
    },
    {
     "name": "stdout",
     "output_type": "stream",
     "text": [
      "\n",
      "The downloaded binary packages are in\n",
      "\tC:\\Users\\jricv\\AppData\\Local\\Temp\\RtmpKKCy6F\\downloaded_packages\n"
     ]
    },
    {
     "name": "stderr",
     "output_type": "stream",
     "text": [
      "Warning message:\n",
      "\"package 'tseries' was built under R version 4.3.3\"\n",
      "Registered S3 method overwritten by 'quantmod':\n",
      "  method            from\n",
      "  as.zoo.data.frame zoo \n",
      "\n"
     ]
    }
   ],
   "source": [
    "library(car) # para bases de dados e gráficos\n",
    "library(lmtest) # para testes de hipótese sobre os pressupostos dos resíduos\n",
    "install.packages(\"olsrr\") # para regressão (e testes de hipótese)\n",
    "library(olsrr) # para regressão (e testes de hipótese)\n",
    "install.packages(\"tseries\") # teste de Jarque-Bera\n",
    "library(tseries) # teste de Jarque-Bera\n"
   ]
  },
  {
   "cell_type": "code",
   "execution_count": 2,
   "metadata": {
    "ExecuteTime": {
     "end_time": "2022-11-20T16:41:45.287124Z",
     "start_time": "2022-11-20T16:41:45.256Z"
    },
    "vscode": {
     "languageId": "r"
    }
   },
   "outputs": [
    {
     "data": {
      "text/html": [
       "<table class=\"dataframe\">\n",
       "<caption>A data.frame: 6 × 5</caption>\n",
       "<thead>\n",
       "\t<tr><th></th><th scope=col>Murder</th><th scope=col>Population</th><th scope=col>Illiteracy</th><th scope=col>Income</th><th scope=col>Frost</th></tr>\n",
       "\t<tr><th></th><th scope=col>&lt;dbl&gt;</th><th scope=col>&lt;dbl&gt;</th><th scope=col>&lt;dbl&gt;</th><th scope=col>&lt;dbl&gt;</th><th scope=col>&lt;dbl&gt;</th></tr>\n",
       "</thead>\n",
       "<tbody>\n",
       "\t<tr><th scope=row>Alabama</th><td>15.1</td><td> 3615</td><td>2.1</td><td>3624</td><td> 20</td></tr>\n",
       "\t<tr><th scope=row>Alaska</th><td>11.3</td><td>  365</td><td>1.5</td><td>6315</td><td>152</td></tr>\n",
       "\t<tr><th scope=row>Arizona</th><td> 7.8</td><td> 2212</td><td>1.8</td><td>4530</td><td> 15</td></tr>\n",
       "\t<tr><th scope=row>Arkansas</th><td>10.1</td><td> 2110</td><td>1.9</td><td>3378</td><td> 65</td></tr>\n",
       "\t<tr><th scope=row>California</th><td>10.3</td><td>21198</td><td>1.1</td><td>5114</td><td> 20</td></tr>\n",
       "\t<tr><th scope=row>Colorado</th><td> 6.8</td><td> 2541</td><td>0.7</td><td>4884</td><td>166</td></tr>\n",
       "</tbody>\n",
       "</table>\n"
      ],
      "text/latex": [
       "A data.frame: 6 × 5\n",
       "\\begin{tabular}{r|lllll}\n",
       "  & Murder & Population & Illiteracy & Income & Frost\\\\\n",
       "  & <dbl> & <dbl> & <dbl> & <dbl> & <dbl>\\\\\n",
       "\\hline\n",
       "\tAlabama & 15.1 &  3615 & 2.1 & 3624 &  20\\\\\n",
       "\tAlaska & 11.3 &   365 & 1.5 & 6315 & 152\\\\\n",
       "\tArizona &  7.8 &  2212 & 1.8 & 4530 &  15\\\\\n",
       "\tArkansas & 10.1 &  2110 & 1.9 & 3378 &  65\\\\\n",
       "\tCalifornia & 10.3 & 21198 & 1.1 & 5114 &  20\\\\\n",
       "\tColorado &  6.8 &  2541 & 0.7 & 4884 & 166\\\\\n",
       "\\end{tabular}\n"
      ],
      "text/markdown": [
       "\n",
       "A data.frame: 6 × 5\n",
       "\n",
       "| <!--/--> | Murder &lt;dbl&gt; | Population &lt;dbl&gt; | Illiteracy &lt;dbl&gt; | Income &lt;dbl&gt; | Frost &lt;dbl&gt; |\n",
       "|---|---|---|---|---|---|\n",
       "| Alabama | 15.1 |  3615 | 2.1 | 3624 |  20 |\n",
       "| Alaska | 11.3 |   365 | 1.5 | 6315 | 152 |\n",
       "| Arizona |  7.8 |  2212 | 1.8 | 4530 |  15 |\n",
       "| Arkansas | 10.1 |  2110 | 1.9 | 3378 |  65 |\n",
       "| California | 10.3 | 21198 | 1.1 | 5114 |  20 |\n",
       "| Colorado |  6.8 |  2541 | 0.7 | 4884 | 166 |\n",
       "\n"
      ],
      "text/plain": [
       "           Murder Population Illiteracy Income Frost\n",
       "Alabama    15.1    3615      2.1        3624    20  \n",
       "Alaska     11.3     365      1.5        6315   152  \n",
       "Arizona     7.8    2212      1.8        4530    15  \n",
       "Arkansas   10.1    2110      1.9        3378    65  \n",
       "California 10.3   21198      1.1        5114    20  \n",
       "Colorado    6.8    2541      0.7        4884   166  "
      ]
     },
     "metadata": {},
     "output_type": "display_data"
    }
   ],
   "source": [
    "# importar a base de dados \"state.x77\" (R in-built)\n",
    "# exemplo livro Kabacoff, Capítulo 8, pag. 178\n",
    "# Estudar a relação entre a taxa de criminalidade (murder rate) de um estado e outras variáveis como:\n",
    "# população (population), vencimento médio (average income), taxa de analfabetismo (illiteracy rate)\n",
    "# número médio de dias com temperaturas negativas (frost levels) / por ano a corresponder a cada estado\n",
    "\n",
    "# importar os dados como data.frame (para poder aplicar a função lm())\n",
    "\n",
    "states <- as.data.frame(state.x77[, c(\"Murder\", \"Population\", \"Illiteracy\", \"Income\", \"Frost\")])\n",
    "head(states)\n"
   ]
  },
  {
   "cell_type": "code",
   "execution_count": 3,
   "metadata": {
    "ExecuteTime": {
     "end_time": "2022-11-20T16:41:51.219293Z",
     "start_time": "2022-11-20T16:41:51.184Z"
    },
    "vscode": {
     "languageId": "r"
    }
   },
   "outputs": [
    {
     "data": {
      "text/plain": [
       "     Murder         Population      Illiteracy        Income    \n",
       " Min.   : 1.400   Min.   :  365   Min.   :0.500   Min.   :3098  \n",
       " 1st Qu.: 4.350   1st Qu.: 1080   1st Qu.:0.625   1st Qu.:3993  \n",
       " Median : 6.850   Median : 2838   Median :0.950   Median :4519  \n",
       " Mean   : 7.378   Mean   : 4246   Mean   :1.170   Mean   :4436  \n",
       " 3rd Qu.:10.675   3rd Qu.: 4968   3rd Qu.:1.575   3rd Qu.:4814  \n",
       " Max.   :15.100   Max.   :21198   Max.   :2.800   Max.   :6315  \n",
       "     Frost       \n",
       " Min.   :  0.00  \n",
       " 1st Qu.: 66.25  \n",
       " Median :114.50  \n",
       " Mean   :104.46  \n",
       " 3rd Qu.:139.75  \n",
       " Max.   :188.00  "
      ]
     },
     "metadata": {},
     "output_type": "display_data"
    },
    {
     "data": {
      "text/html": [
       "<table class=\"dataframe\">\n",
       "<caption>A matrix: 5 × 5 of type dbl</caption>\n",
       "<thead>\n",
       "\t<tr><th></th><th scope=col>Murder</th><th scope=col>Population</th><th scope=col>Illiteracy</th><th scope=col>Income</th><th scope=col>Frost</th></tr>\n",
       "</thead>\n",
       "<tbody>\n",
       "\t<tr><th scope=row>Murder</th><td> 1.0000000</td><td> 0.3436428</td><td> 0.7029752</td><td>-0.2300776</td><td>-0.5388834</td></tr>\n",
       "\t<tr><th scope=row>Population</th><td> 0.3436428</td><td> 1.0000000</td><td> 0.1076224</td><td> 0.2082276</td><td>-0.3321525</td></tr>\n",
       "\t<tr><th scope=row>Illiteracy</th><td> 0.7029752</td><td> 0.1076224</td><td> 1.0000000</td><td>-0.4370752</td><td>-0.6719470</td></tr>\n",
       "\t<tr><th scope=row>Income</th><td>-0.2300776</td><td> 0.2082276</td><td>-0.4370752</td><td> 1.0000000</td><td> 0.2262822</td></tr>\n",
       "\t<tr><th scope=row>Frost</th><td>-0.5388834</td><td>-0.3321525</td><td>-0.6719470</td><td> 0.2262822</td><td> 1.0000000</td></tr>\n",
       "</tbody>\n",
       "</table>\n"
      ],
      "text/latex": [
       "A matrix: 5 × 5 of type dbl\n",
       "\\begin{tabular}{r|lllll}\n",
       "  & Murder & Population & Illiteracy & Income & Frost\\\\\n",
       "\\hline\n",
       "\tMurder &  1.0000000 &  0.3436428 &  0.7029752 & -0.2300776 & -0.5388834\\\\\n",
       "\tPopulation &  0.3436428 &  1.0000000 &  0.1076224 &  0.2082276 & -0.3321525\\\\\n",
       "\tIlliteracy &  0.7029752 &  0.1076224 &  1.0000000 & -0.4370752 & -0.6719470\\\\\n",
       "\tIncome & -0.2300776 &  0.2082276 & -0.4370752 &  1.0000000 &  0.2262822\\\\\n",
       "\tFrost & -0.5388834 & -0.3321525 & -0.6719470 &  0.2262822 &  1.0000000\\\\\n",
       "\\end{tabular}\n"
      ],
      "text/markdown": [
       "\n",
       "A matrix: 5 × 5 of type dbl\n",
       "\n",
       "| <!--/--> | Murder | Population | Illiteracy | Income | Frost |\n",
       "|---|---|---|---|---|---|\n",
       "| Murder |  1.0000000 |  0.3436428 |  0.7029752 | -0.2300776 | -0.5388834 |\n",
       "| Population |  0.3436428 |  1.0000000 |  0.1076224 |  0.2082276 | -0.3321525 |\n",
       "| Illiteracy |  0.7029752 |  0.1076224 |  1.0000000 | -0.4370752 | -0.6719470 |\n",
       "| Income | -0.2300776 |  0.2082276 | -0.4370752 |  1.0000000 |  0.2262822 |\n",
       "| Frost | -0.5388834 | -0.3321525 | -0.6719470 |  0.2262822 |  1.0000000 |\n",
       "\n"
      ],
      "text/plain": [
       "           Murder     Population Illiteracy Income     Frost     \n",
       "Murder      1.0000000  0.3436428  0.7029752 -0.2300776 -0.5388834\n",
       "Population  0.3436428  1.0000000  0.1076224  0.2082276 -0.3321525\n",
       "Illiteracy  0.7029752  0.1076224  1.0000000 -0.4370752 -0.6719470\n",
       "Income     -0.2300776  0.2082276 -0.4370752  1.0000000  0.2262822\n",
       "Frost      -0.5388834 -0.3321525 -0.6719470  0.2262822  1.0000000"
      ]
     },
     "metadata": {},
     "output_type": "display_data"
    }
   ],
   "source": [
    "# correlação linear entre variáveis\n",
    "\n",
    "summary(states)\n",
    "\n",
    "cor(states)\n"
   ]
  },
  {
   "cell_type": "code",
   "execution_count": 4,
   "metadata": {
    "ExecuteTime": {
     "end_time": "2022-11-20T16:41:52.417531Z",
     "start_time": "2022-11-20T16:41:52.192Z"
    },
    "vscode": {
     "languageId": "r"
    }
   },
   "outputs": [
    {
     "data": {
      "image/png": "[encoded data removed]",
      "text/plain": [
       "plot without title"
      ]
     },
     "metadata": {
      "image/png": {
       "height": 420,
       "width": 420
      }
     },
     "output_type": "display_data"
    }
   ],
   "source": [
    "# matriz dos gráficos de dispersão\n",
    "# a função scatterplotMatrix() faz parte da biblioteca \"car\"\n",
    "\n",
    "scatterplotMatrix(states, smooth = FALSE, main = \"Scatter Plot Matrix\")\n"
   ]
  },
  {
   "cell_type": "markdown",
   "metadata": {},
   "source": [
    "Observa-se que a taxa de criminalidade cresce com o aumento da população e da taxa de analfabetismo e decresce com o aumento dos níveis de rendimento e com o aumento dos dias com temperaturas negativas."
   ]
  },
  {
   "cell_type": "code",
   "execution_count": 5,
   "metadata": {
    "ExecuteTime": {
     "end_time": "2022-11-20T16:41:56.348421Z",
     "start_time": "2022-11-20T16:41:56.304Z"
    },
    "vscode": {
     "languageId": "r"
    }
   },
   "outputs": [
    {
     "data": {
      "text/plain": [
       "\n",
       "Call:\n",
       "lm(formula = Murder ~ Population + Illiteracy + Income + Frost, \n",
       "    data = states)\n",
       "\n",
       "Residuals:\n",
       "    Min      1Q  Median      3Q     Max \n",
       "-4.7960 -1.6495 -0.0811  1.4815  7.6210 \n",
       "\n",
       "Coefficients:\n",
       "             Estimate Std. Error t value Pr(>|t|)    \n",
       "(Intercept) 1.235e+00  3.866e+00   0.319   0.7510    \n",
       "Population  2.237e-04  9.052e-05   2.471   0.0173 *  \n",
       "Illiteracy  4.143e+00  8.744e-01   4.738 2.19e-05 ***\n",
       "Income      6.442e-05  6.837e-04   0.094   0.9253    \n",
       "Frost       5.813e-04  1.005e-02   0.058   0.9541    \n",
       "---\n",
       "Signif. codes:  0 '***' 0.001 '**' 0.01 '*' 0.05 '.' 0.1 ' ' 1\n",
       "\n",
       "Residual standard error: 2.535 on 45 degrees of freedom\n",
       "Multiple R-squared:  0.567,\tAdjusted R-squared:  0.5285 \n",
       "F-statistic: 14.73 on 4 and 45 DF,  p-value: 9.133e-08\n"
      ]
     },
     "metadata": {},
     "output_type": "display_data"
    }
   ],
   "source": [
    "# modelo de regressão linear múltipla, usando na formula todas as variáveis independentes\n",
    "\n",
    "fit <- lm(Murder ~ Population + Illiteracy + Income + Frost, data = states)\n",
    "\n",
    "summary(fit)\n"
   ]
  },
  {
   "cell_type": "markdown",
   "metadata": {},
   "source": [
    "Interpretação dos coeficientes:\n",
    "- No caso da regressão múltipla, os coeficientes de regressão indicam o crescimento na variável dependente para uma mudança unitária numa variável independente, sendo as outras consideradas constantes\n",
    "- Por exemplo: o coeficiente da variável Illiteracy é 4.14, o que quer dizer que um crescimento de 1% na taxa de analfabetismo está associado com um crescimento de 4.14 p.p. (pontos percentuais e não \"%\" como estava) na taxa de criminalidade, sendo a população, rendimento e temperaturas negativas constantes (ou controladas).\n",
    "- Como podemos observar do output, este coeficiente é significativamente diferente de zero (pois, o p-value<0.05), logo a variável Illiteracy é estatisticamente significativa.\n",
    "- Também podemos observar que a variável Frost não é estatisticamente significativa, tendo o seu coeficiente nulo (p-value >0.05)\n",
    "- levando em consideração o coeficiente de determinação R^2, dzemos que 57% da variância na taxa de criminalidade está explicada pelos preditores (variáveis independentes) do modelo.\n",
    "\n"
   ]
  },
  {
   "cell_type": "code",
   "execution_count": null,
   "metadata": {
    "ExecuteTime": {
     "end_time": "2022-11-20T16:42:00.842634Z",
     "start_time": "2022-11-20T16:42:00.816Z"
    },
    "vscode": {
     "languageId": "r"
    }
   },
   "outputs": [
    {
     "data": {
      "text/html": [
       "<style>\n",
       ".dl-inline {width: auto; margin:0; padding: 0}\n",
       ".dl-inline>dt, .dl-inline>dd {float: none; width: auto; display: inline-block}\n",
       ".dl-inline>dt::after {content: \":\\0020\"; padding-right: .5ex}\n",
       ".dl-inline>dt:not(:first-of-type) {padding-left: .5ex}\n",
       "</style><dl class=dl-inline><dt>Population</dt><dd>1.24528200205236</dd><dt>Illiteracy</dt><dd>2.16584830171514</dd><dt>Income</dt><dd>1.34582173068518</dd><dt>Frost</dt><dd>2.08254682072994</dd></dl>\n"
      ],
      "text/latex": [
       "\\begin{description*}\n",
       "\\item[Population] 1.24528200205236\n",
       "\\item[Illiteracy] 2.16584830171514\n",
       "\\item[Income] 1.34582173068518\n",
       "\\item[Frost] 2.08254682072994\n",
       "\\end{description*}\n"
      ],
      "text/markdown": [
       "Population\n",
       ":   1.24528200205236Illiteracy\n",
       ":   2.16584830171514Income\n",
       ":   1.34582173068518Frost\n",
       ":   2.08254682072994\n",
       "\n"
      ],
      "text/plain": [
       "Population Illiteracy     Income      Frost \n",
       "  1.245282   2.165848   1.345822   2.082547 "
      ]
     },
     "metadata": {},
     "output_type": "display_data"
    }
   ],
   "source": [
    "# verificamos se temos multicolinearidade\n",
    "vif(fit)"
   ]
  },
  {
   "cell_type": "code",
   "execution_count": null,
   "metadata": {
    "ExecuteTime": {
     "end_time": "2022-11-20T16:42:02.063996Z",
     "start_time": "2022-11-20T16:42:02.048Z"
    },
    "vscode": {
     "languageId": "r"
    }
   },
   "outputs": [],
   "source": [
    "# como todos os valores são menores que 5, não temos multicolinearidade entre as variáveis independentes"
   ]
  },
  {
   "cell_type": "code",
   "execution_count": 8,
   "metadata": {
    "ExecuteTime": {
     "end_time": "2022-11-20T16:42:03.103380Z",
     "start_time": "2022-11-20T16:42:03.064Z"
    },
    "vscode": {
     "languageId": "r"
    }
   },
   "outputs": [
    {
     "name": "stdout",
     "output_type": "stream",
     "text": [
      "Start:  AIC=97.75\n",
      "Murder ~ Population + Illiteracy + Income + Frost\n",
      "\n",
      "             Df Sum of Sq    RSS     AIC\n",
      "- Frost       1     0.021 289.19  95.753\n",
      "- Income      1     0.057 289.22  95.759\n",
      "<none>                    289.17  97.749\n",
      "- Population  1    39.238 328.41 102.111\n",
      "- Illiteracy  1   144.264 433.43 115.986\n",
      "\n",
      "Step:  AIC=95.75\n",
      "Murder ~ Population + Illiteracy + Income\n",
      "\n",
      "             Df Sum of Sq    RSS     AIC\n",
      "- Income      1     0.057 289.25  93.763\n",
      "<none>                    289.19  95.753\n",
      "- Population  1    43.658 332.85 100.783\n",
      "- Illiteracy  1   236.196 525.38 123.605\n",
      "\n",
      "Step:  AIC=93.76\n",
      "Murder ~ Population + Illiteracy\n",
      "\n",
      "             Df Sum of Sq    RSS     AIC\n",
      "<none>                    289.25  93.763\n",
      "- Population  1    48.517 337.76  99.516\n",
      "- Illiteracy  1   299.646 588.89 127.311\n"
     ]
    },
    {
     "data": {
      "text/plain": [
       "\n",
       "Call:\n",
       "lm(formula = Murder ~ Population + Illiteracy, data = states)\n",
       "\n",
       "Coefficients:\n",
       "(Intercept)   Population   Illiteracy  \n",
       "  1.6515497    0.0002242    4.0807366  \n"
      ]
     },
     "metadata": {},
     "output_type": "display_data"
    }
   ],
   "source": [
    "# selecção das variáveis no modelo de regressão no sentido Backward\n",
    "\n",
    "fit <- lm(Murder ~ Population + Illiteracy + Income + Frost, data = states)\n",
    "step(fit, direction = \"backward\")\n"
   ]
  },
  {
   "cell_type": "code",
   "execution_count": 9,
   "metadata": {
    "ExecuteTime": {
     "end_time": "2022-11-20T16:42:03.920318Z",
     "start_time": "2022-11-20T16:42:03.896Z"
    },
    "vscode": {
     "languageId": "r"
    }
   },
   "outputs": [
    {
     "data": {
      "text/plain": [
       "\n",
       "Call:\n",
       "lm(formula = Murder ~ Population + Illiteracy, data = states)\n",
       "\n",
       "Residuals:\n",
       "    Min      1Q  Median      3Q     Max \n",
       "-4.7652 -1.6561 -0.0898  1.4570  7.6758 \n",
       "\n",
       "Coefficients:\n",
       "             Estimate Std. Error t value Pr(>|t|)    \n",
       "(Intercept) 1.652e+00  8.101e-01   2.039  0.04713 *  \n",
       "Population  2.242e-04  7.984e-05   2.808  0.00724 ** \n",
       "Illiteracy  4.081e+00  5.848e-01   6.978 8.83e-09 ***\n",
       "---\n",
       "Signif. codes:  0 '***' 0.001 '**' 0.01 '*' 0.05 '.' 0.1 ' ' 1\n",
       "\n",
       "Residual standard error: 2.481 on 47 degrees of freedom\n",
       "Multiple R-squared:  0.5668,\tAdjusted R-squared:  0.5484 \n",
       "F-statistic: 30.75 on 2 and 47 DF,  p-value: 2.893e-09\n"
      ]
     },
     "metadata": {},
     "output_type": "display_data"
    }
   ],
   "source": [
    "# output do modelo escolhido (com base no menor AIC)\n",
    "\n",
    "fit_n <- lm(Murder ~ Population + Illiteracy, data = states)\n",
    "summary(fit_n)\n"
   ]
  },
  {
   "cell_type": "code",
   "execution_count": 10,
   "metadata": {
    "ExecuteTime": {
     "end_time": "2022-11-20T16:42:04.846853Z",
     "start_time": "2022-11-20T16:42:04.720Z"
    },
    "vscode": {
     "languageId": "r"
    }
   },
   "outputs": [
    {
     "data": {
      "image/png": "[encoded data removed]",
      "text/plain": [
       "Plot with title \"\""
      ]
     },
     "metadata": {
      "image/png": {
       "height": 420,
       "width": 420
      }
     },
     "output_type": "display_data"
    }
   ],
   "source": [
    "# representação gráfica sobre os resíduos\n",
    "\n",
    "par(mfrow = c(2, 2))\n",
    "plot(fit_n)\n"
   ]
  },
  {
   "cell_type": "markdown",
   "metadata": {},
   "source": [
    "## Testes para a verificação dos pressupostos da regressão (resíduos)"
   ]
  },
  {
   "cell_type": "code",
   "execution_count": 11,
   "metadata": {
    "ExecuteTime": {
     "end_time": "2022-11-20T16:42:07.195477Z",
     "start_time": "2022-11-20T16:42:07.176Z"
    },
    "vscode": {
     "languageId": "r"
    }
   },
   "outputs": [
    {
     "data": {
      "text/html": [
       "1.12249619321769e-16"
      ],
      "text/latex": [
       "1.12249619321769e-16"
      ],
      "text/markdown": [
       "1.12249619321769e-16"
      ],
      "text/plain": [
       "[1] 1.122496e-16"
      ]
     },
     "metadata": {},
     "output_type": "display_data"
    }
   ],
   "source": [
    "# os resíduos tem a média nula\n",
    "\n",
    "mean(fit_n$residuals)\n"
   ]
  },
  {
   "cell_type": "code",
   "execution_count": 12,
   "metadata": {
    "ExecuteTime": {
     "end_time": "2022-11-20T16:42:07.899768Z",
     "start_time": "2022-11-20T16:42:07.880Z"
    },
    "vscode": {
     "languageId": "r"
    }
   },
   "outputs": [
    {
     "data": {
      "text/plain": [
       "\n",
       "\tstudentized Breusch-Pagan test\n",
       "\n",
       "data:  fit_n\n",
       "BP = 1.856, df = 2, p-value = 0.3953\n"
      ]
     },
     "metadata": {},
     "output_type": "display_data"
    }
   ],
   "source": [
    "# os resíduos tem a variância constante (homocedásticos)\n",
    "# teste de Breusch-Pagan (H0: erros homocedásticos)\n",
    "\n",
    "bptest(fit_n)\n"
   ]
  },
  {
   "cell_type": "code",
   "execution_count": 13,
   "metadata": {
    "ExecuteTime": {
     "end_time": "2022-11-20T16:42:08.539150Z",
     "start_time": "2022-11-20T16:42:08.520Z"
    },
    "vscode": {
     "languageId": "r"
    }
   },
   "outputs": [],
   "source": [
    "# p-value > 0.05, não rejeitamos a HO, logo o pressuposto é verificado (variância é constante)\n"
   ]
  },
  {
   "cell_type": "code",
   "execution_count": 14,
   "metadata": {
    "ExecuteTime": {
     "end_time": "2022-11-20T16:42:09.297847Z",
     "start_time": "2022-11-20T16:42:09.264Z"
    },
    "vscode": {
     "languageId": "r"
    }
   },
   "outputs": [
    {
     "data": {
      "text/plain": [
       "\n",
       "\tBreusch-Godfrey test for serial correlation of order up to 1\n",
       "\n",
       "data:  fit_n\n",
       "LM test = 2.0712, df = 1, p-value = 0.1501\n"
      ]
     },
     "metadata": {},
     "output_type": "display_data"
    }
   ],
   "source": [
    "# os resíduos são independentes (ausência de correlação)\n",
    "# teste de Breusch-Godfrey (H0:resíduos independentes)\n",
    "\n",
    "bgtest(fit_n)\n"
   ]
  },
  {
   "cell_type": "code",
   "execution_count": 15,
   "metadata": {
    "ExecuteTime": {
     "end_time": "2022-11-20T16:42:10.032167Z",
     "start_time": "2022-11-20T16:42:10.016Z"
    },
    "vscode": {
     "languageId": "r"
    }
   },
   "outputs": [],
   "source": [
    "# p-value > 0.05, não rejeitamos a HO, logo o pressuposto é verificado (resíduos independentes)\n"
   ]
  },
  {
   "cell_type": "code",
   "execution_count": 16,
   "metadata": {
    "ExecuteTime": {
     "end_time": "2022-11-20T16:42:10.836168Z",
     "start_time": "2022-11-20T16:42:10.816Z"
    },
    "vscode": {
     "languageId": "r"
    }
   },
   "outputs": [
    {
     "data": {
      "text/plain": [
       "\n",
       "\tJarque Bera Test\n",
       "\n",
       "data:  fit_n$residuals\n",
       "X-squared = 2.5053, df = 2, p-value = 0.2857\n"
      ]
     },
     "metadata": {},
     "output_type": "display_data"
    }
   ],
   "source": [
    "# os resíduos são normalmente distribuídos\n",
    "# Teste de Jarque-Bera (H0: distribuição normal)\n",
    "\n",
    "jarque.bera.test(fit_n$residuals)\n"
   ]
  },
  {
   "cell_type": "code",
   "execution_count": 17,
   "metadata": {
    "ExecuteTime": {
     "end_time": "2022-11-20T16:42:12.387175Z",
     "start_time": "2022-11-20T16:42:12.368Z"
    },
    "vscode": {
     "languageId": "r"
    }
   },
   "outputs": [],
   "source": [
    "# p-value > 0.05, não rejeitamos a HO, logo o pressuposto é verificado (resíduos normalm. distribuídos)\n"
   ]
  },
  {
   "cell_type": "code",
   "execution_count": 18,
   "metadata": {
    "ExecuteTime": {
     "end_time": "2022-11-20T16:42:31.751612Z",
     "start_time": "2022-11-20T16:42:31.736Z"
    },
    "vscode": {
     "languageId": "r"
    }
   },
   "outputs": [
    {
     "name": "stderr",
     "output_type": "stream",
     "text": [
      "Installing package into 'C:/Users/jricv/AppData/Local/R/win-library/4.3'\n",
      "(as 'lib' is unspecified)\n",
      "\n"
     ]
    },
    {
     "name": "stdout",
     "output_type": "stream",
     "text": [
      "package 'gvlma' successfully unpacked and MD5 sums checked\n",
      "\n",
      "The downloaded binary packages are in\n",
      "\tC:\\Users\\jricv\\AppData\\Local\\Temp\\RtmpKKCy6F\\downloaded_packages\n"
     ]
    }
   ],
   "source": [
    "install.packages(\"gvlma\")\n"
   ]
  },
  {
   "cell_type": "code",
   "execution_count": 19,
   "metadata": {
    "ExecuteTime": {
     "end_time": "2022-11-20T16:42:32.372906Z",
     "start_time": "2022-11-20T16:42:32.329Z"
    },
    "vscode": {
     "languageId": "r"
    }
   },
   "outputs": [
    {
     "name": "stdout",
     "output_type": "stream",
     "text": [
      "\n",
      "Call:\n",
      "lm(formula = Murder ~ Population + Illiteracy, data = states)\n",
      "\n",
      "Residuals:\n",
      "    Min      1Q  Median      3Q     Max \n",
      "-4.7652 -1.6561 -0.0898  1.4570  7.6758 \n",
      "\n",
      "Coefficients:\n",
      "             Estimate Std. Error t value Pr(>|t|)    \n",
      "(Intercept) 1.652e+00  8.101e-01   2.039  0.04713 *  \n",
      "Population  2.242e-04  7.984e-05   2.808  0.00724 ** \n",
      "Illiteracy  4.081e+00  5.848e-01   6.978 8.83e-09 ***\n",
      "---\n",
      "Signif. codes:  0 '***' 0.001 '**' 0.01 '*' 0.05 '.' 0.1 ' ' 1\n",
      "\n",
      "Residual standard error: 2.481 on 47 degrees of freedom\n",
      "Multiple R-squared:  0.5668,\tAdjusted R-squared:  0.5484 \n",
      "F-statistic: 30.75 on 2 and 47 DF,  p-value: 2.893e-09\n",
      "\n",
      "\n",
      "ASSESSMENT OF THE LINEAR MODEL ASSUMPTIONS\n",
      "USING THE GLOBAL TEST ON 4 DEGREES-OF-FREEDOM:\n",
      "Level of Significance =  0.05 \n",
      "\n",
      "Call:\n",
      " gvlma(x = fit_n) \n",
      "\n",
      "                    Value p-value                Decision\n",
      "Global Stat        3.1201  0.5379 Assumptions acceptable.\n",
      "Skewness           1.7852  0.1815 Assumptions acceptable.\n",
      "Kurtosis           0.7201  0.3961 Assumptions acceptable.\n",
      "Link Function      0.1115  0.7384 Assumptions acceptable.\n",
      "Heteroscedasticity 0.5032  0.4781 Assumptions acceptable.\n"
     ]
    }
   ],
   "source": [
    "# Pressupostos dos resíduos: tudo de uma vez, usando a função gvlma da biblioteca com o mesmo nome.\n",
    "library(gvlma)\n",
    "gvmodel <- gvlma(fit_n)\n",
    "summary(gvmodel)\n"
   ]
  },
  {
   "cell_type": "code",
   "execution_count": 20,
   "metadata": {
    "ExecuteTime": {
     "end_time": "2022-11-20T16:42:33.176286Z",
     "start_time": "2022-11-20T16:42:33.160Z"
    },
    "vscode": {
     "languageId": "r"
    }
   },
   "outputs": [],
   "source": [
    "# como todos os pressupostos são verificados podemos validar o modelo de regressão\n"
   ]
  },
  {
   "cell_type": "code",
   "execution_count": 21,
   "metadata": {
    "ExecuteTime": {
     "end_time": "2022-11-20T16:42:34.119859Z",
     "start_time": "2022-11-20T16:42:34.104Z"
    },
    "vscode": {
     "languageId": "r"
    }
   },
   "outputs": [],
   "source": [
    "# porque está o estado de Nevada fora do intervalo de confiança (no QQ-plot)?\n"
   ]
  },
  {
   "cell_type": "code",
   "execution_count": 22,
   "metadata": {
    "ExecuteTime": {
     "end_time": "2022-11-20T16:42:35.319609Z",
     "start_time": "2022-11-20T16:42:35.296Z"
    },
    "vscode": {
     "languageId": "r"
    }
   },
   "outputs": [
    {
     "data": {
      "text/html": [
       "<table class=\"dataframe\">\n",
       "<caption>A data.frame: 1 × 5</caption>\n",
       "<thead>\n",
       "\t<tr><th></th><th scope=col>Murder</th><th scope=col>Population</th><th scope=col>Illiteracy</th><th scope=col>Income</th><th scope=col>Frost</th></tr>\n",
       "\t<tr><th></th><th scope=col>&lt;dbl&gt;</th><th scope=col>&lt;dbl&gt;</th><th scope=col>&lt;dbl&gt;</th><th scope=col>&lt;dbl&gt;</th><th scope=col>&lt;dbl&gt;</th></tr>\n",
       "</thead>\n",
       "<tbody>\n",
       "\t<tr><th scope=row>Nevada</th><td>11.5</td><td>590</td><td>0.5</td><td>5149</td><td>188</td></tr>\n",
       "</tbody>\n",
       "</table>\n"
      ],
      "text/latex": [
       "A data.frame: 1 × 5\n",
       "\\begin{tabular}{r|lllll}\n",
       "  & Murder & Population & Illiteracy & Income & Frost\\\\\n",
       "  & <dbl> & <dbl> & <dbl> & <dbl> & <dbl>\\\\\n",
       "\\hline\n",
       "\tNevada & 11.5 & 590 & 0.5 & 5149 & 188\\\\\n",
       "\\end{tabular}\n"
      ],
      "text/markdown": [
       "\n",
       "A data.frame: 1 × 5\n",
       "\n",
       "| <!--/--> | Murder &lt;dbl&gt; | Population &lt;dbl&gt; | Illiteracy &lt;dbl&gt; | Income &lt;dbl&gt; | Frost &lt;dbl&gt; |\n",
       "|---|---|---|---|---|---|\n",
       "| Nevada | 11.5 | 590 | 0.5 | 5149 | 188 |\n",
       "\n"
      ],
      "text/plain": [
       "       Murder Population Illiteracy Income Frost\n",
       "Nevada 11.5   590        0.5        5149   188  "
      ]
     },
     "metadata": {},
     "output_type": "display_data"
    }
   ],
   "source": [
    "# vejamos os valores associados ao estado Nevada\n",
    "\n",
    "states[\"Nevada\", ]\n"
   ]
  },
  {
   "cell_type": "code",
   "execution_count": 23,
   "metadata": {
    "ExecuteTime": {
     "end_time": "2022-11-20T16:42:36.155316Z",
     "start_time": "2022-11-20T16:42:36.136Z"
    },
    "vscode": {
     "languageId": "r"
    }
   },
   "outputs": [
    {
     "data": {
      "text/html": [
       "<strong>Nevada:</strong> 3.82418786712161"
      ],
      "text/latex": [
       "\\textbf{Nevada:} 3.82418786712161"
      ],
      "text/markdown": [
       "**Nevada:** 3.82418786712161"
      ],
      "text/plain": [
       "  Nevada \n",
       "3.824188 "
      ]
     },
     "metadata": {},
     "output_type": "display_data"
    }
   ],
   "source": [
    "# valor da taxa de criminalidade predito pela regressão\n",
    "\n",
    "fitted(fit_n)[\"Nevada\"]\n"
   ]
  },
  {
   "cell_type": "code",
   "execution_count": 24,
   "metadata": {
    "ExecuteTime": {
     "end_time": "2022-11-20T16:42:37.011157Z",
     "start_time": "2022-11-20T16:42:36.992Z"
    },
    "vscode": {
     "languageId": "r"
    }
   },
   "outputs": [
    {
     "data": {
      "text/html": [
       "<strong>Nevada:</strong> 7.67581213287839"
      ],
      "text/latex": [
       "\\textbf{Nevada:} 7.67581213287839"
      ],
      "text/markdown": [
       "**Nevada:** 7.67581213287839"
      ],
      "text/plain": [
       "  Nevada \n",
       "7.675812 "
      ]
     },
     "metadata": {},
     "output_type": "display_data"
    }
   ],
   "source": [
    "# valor resídual associado pela d. normal\n",
    "\n",
    "residuals(fit_n)[\"Nevada\"]\n"
   ]
  },
  {
   "cell_type": "code",
   "execution_count": 25,
   "metadata": {
    "ExecuteTime": {
     "end_time": "2022-11-20T16:42:37.819990Z",
     "start_time": "2022-11-20T16:42:37.800Z"
    },
    "vscode": {
     "languageId": "r"
    }
   },
   "outputs": [
    {
     "data": {
      "text/html": [
       "<strong>Nevada:</strong> 3.55477139360076"
      ],
      "text/latex": [
       "\\textbf{Nevada:} 3.55477139360076"
      ],
      "text/markdown": [
       "**Nevada:** 3.55477139360076"
      ],
      "text/plain": [
       "  Nevada \n",
       "3.554771 "
      ]
     },
     "metadata": {},
     "output_type": "display_data"
    }
   ],
   "source": [
    "# valor residual associado pela d. t-student\n",
    "rstudent(fit_n)[\"Nevada\"]\n"
   ]
  },
  {
   "cell_type": "markdown",
   "metadata": {},
   "source": [
    "O estado Nevada tem uma taxa de criminalidade elevada (cerca de 11.5%), mas o modelo de regressão aplicado sub-estima o valor da taxa, pois temos apenas uma previsão de 3.9%"
   ]
  },
  {
   "cell_type": "code",
   "execution_count": 26,
   "metadata": {
    "ExecuteTime": {
     "end_time": "2022-11-20T16:42:39.751067Z",
     "start_time": "2022-11-20T16:42:39.672Z"
    },
    "vscode": {
     "languageId": "r"
    }
   },
   "outputs": [
    {
     "data": {
      "image/png": "[encoded data removed]",
      "text/plain": [
       "Plot with title \"Distribution of Errors\""
      ]
     },
     "metadata": {
      "image/png": {
       "height": 420,
       "width": 420
      }
     },
     "output_type": "display_data"
    }
   ],
   "source": [
    "# representação gráfica do histograma dos resíduos e das curvas de densidade normal e empírica (kernel)\n",
    "\n",
    "residplot <- function(fit, nbreaks = 10) {\n",
    "    z <- rstudent(fit)\n",
    "    hist(z,\n",
    "        breaks = nbreaks, freq = FALSE,\n",
    "        xlab = \"Studentized Residual\",\n",
    "        main = \"Distribution of Errors\"\n",
    "    )\n",
    "    rug(jitter(z), col = \"brown\")\n",
    "    curve(dnorm(x, mean = mean(z), sd = sd(z)),\n",
    "        add = TRUE, col = \"blue\", lwd = 2\n",
    "    )\n",
    "    lines(density(z)$x, density(z)$y,\n",
    "        col = \"red\", lwd = 2, lty = 2\n",
    "    )\n",
    "    legend(\"topright\",\n",
    "        legend = c(\"Normal Curve\", \"Kernel Density Curve\"),\n",
    "        lty = 1:2, col = c(\"blue\", \"red\"), cex = .7\n",
    "    )\n",
    "}\n",
    "residplot(fit)\n"
   ]
  },
  {
   "cell_type": "code",
   "execution_count": 27,
   "metadata": {
    "ExecuteTime": {
     "end_time": "2022-11-20T16:42:40.709392Z",
     "start_time": "2022-11-20T16:42:40.688Z"
    },
    "vscode": {
     "languageId": "r"
    }
   },
   "outputs": [
    {
     "data": {
      "text/plain": [
       "       rstudent unadjusted p-value Bonferroni p\n",
       "Nevada 3.554771         0.00088849     0.044425"
      ]
     },
     "metadata": {},
     "output_type": "display_data"
    }
   ],
   "source": [
    "# vamos fazer um teste de outlier para o modelo (por causa do estado Nevada)\n",
    "outlierTest(fit_n)\n"
   ]
  },
  {
   "cell_type": "code",
   "execution_count": 28,
   "metadata": {
    "ExecuteTime": {
     "end_time": "2022-11-20T16:42:41.719614Z",
     "start_time": "2022-11-20T16:42:41.704Z"
    },
    "vscode": {
     "languageId": "r"
    }
   },
   "outputs": [],
   "source": [
    "# como o p-value = 0.044 < 0.05, rejeita-se a H0, logo o estado Nevada é identificado como um outlier\n"
   ]
  },
  {
   "cell_type": "code",
   "execution_count": 29,
   "metadata": {
    "ExecuteTime": {
     "end_time": "2022-11-20T16:42:42.318179Z",
     "start_time": "2022-11-20T16:42:42.296Z"
    },
    "vscode": {
     "languageId": "r"
    }
   },
   "outputs": [
    {
     "data": {
      "text/html": [
       "<style>\n",
       ".dl-inline {width: auto; margin:0; padding: 0}\n",
       ".dl-inline>dt, .dl-inline>dd {float: none; width: auto; display: inline-block}\n",
       ".dl-inline>dt::after {content: \":\\0020\"; padding-right: .5ex}\n",
       ".dl-inline>dt:not(:first-of-type) {padding-left: .5ex}\n",
       "</style><dl class=dl-inline><dt>Alabama</dt><dd>11.0315294763398</dd><dt>Alaska</dt><dd>7.85448262796618</dd><dt>Arizona</dt><dd>9.49277536919715</dd><dt>Arkansas</dt><dd>9.87798204931309</dd><dt>California</dt><dd>10.8926572616771</dd><dt>Colorado</dt><dd>5.07772230046226</dd><dt>Connecticut</dt><dd>6.83533699201475</dd><dt>Delaware</dt><dd>5.45401647437155</dd><dt>Florida</dt><dd>8.81209582528527</dd><dt>Georgia</dt><dd>10.918484737177</dd><dt>Hawaii</dt><dd>9.59954289720122</dd><dt>Idaho</dt><dd>4.28225503390129</dd><dt>Illinois</dt><dd>7.83442462020396</dd><dt>Indiana</dt><dd>5.69916620517572</dd><dt>Iowa</dt><dd>4.33331452931651</dd><dt>Kansas</dt><dd>4.61113606139575</dd><dt>Kentucky</dt><dd>8.94004672450522</dd><dt>Louisiana</dt><dd>13.9308646692458</dd><dt>Maine</dt><dd>4.74525429516282</dd><dt>Maryland</dt><dd>6.24830787206266</dd><dt>Massachusetts</dt><dd>7.44377810218514</dd><dt>Michigan</dt><dd>7.36677238887919</dd><dt>Minnesota</dt><dd>4.97902547251941</dd><dt>Mississippi</dt><dd>11.9701373594861</dd><dt>Missouri</dt><dd>5.98483425120336</dd><dt>Montana</dt><dd>4.26723456434292</dd><dt>Nebraska</dt><dd>4.44613508236649</dd><dt>Nevada</dt><dd>3.82418786712161</dd><dt>New Hampshire</dt><dd>4.6901045114112</dd><dt>New Jersey</dt><dd>7.78431680754579</dd><dt>New Mexico</dt><dd>10.8856392552053</dd><dt>New York</dt><dd>11.4169692083478</dd><dt>North Carolina</dt><dd>10.2166723274655</dd><dt>North Dakota</dt><dd>5.0589456052919</dd><dt>Ohio</dt><dd>7.32277697246234</dd><dt>Oklahoma</dt><dd>6.74902533858233</dd><dt>Oregon</dt><dd>4.612032805847</dd><dt>Pennsylvania</dt><dd>8.3911336766207</dd><dt>Rhode Island</dt><dd>7.16522464057205</dd><dt>South Carolina</dt><dd>11.6685520994489</dd><dt>South Dakota</dt><dd>3.84458880338746</dd><dt>Tennessee</dt><dd>9.52433067279777</dd><dt>Texas</dt><dd>13.3725358046232</dd><dt>Utah</dt><dd>4.36968761789777</dd><dt>Vermont</dt><dd>4.20580756943257</dd><dt>Virginia</dt><dd>8.48125206108131</dd><dt>Washington</dt><dd>4.89787009968165</dd><dt>West Virginia</dt><dd>7.76789185011514</dd><dt>Wisconsin</dt><dd>5.5368554595002</dd><dt>Wyoming</dt><dd>4.18428570260267</dd></dl>\n"
      ],
      "text/latex": [
       "\\begin{description*}\n",
       "\\item[Alabama] 11.0315294763398\n",
       "\\item[Alaska] 7.85448262796618\n",
       "\\item[Arizona] 9.49277536919715\n",
       "\\item[Arkansas] 9.87798204931309\n",
       "\\item[California] 10.8926572616771\n",
       "\\item[Colorado] 5.07772230046226\n",
       "\\item[Connecticut] 6.83533699201475\n",
       "\\item[Delaware] 5.45401647437155\n",
       "\\item[Florida] 8.81209582528527\n",
       "\\item[Georgia] 10.918484737177\n",
       "\\item[Hawaii] 9.59954289720122\n",
       "\\item[Idaho] 4.28225503390129\n",
       "\\item[Illinois] 7.83442462020396\n",
       "\\item[Indiana] 5.69916620517572\n",
       "\\item[Iowa] 4.33331452931651\n",
       "\\item[Kansas] 4.61113606139575\n",
       "\\item[Kentucky] 8.94004672450522\n",
       "\\item[Louisiana] 13.9308646692458\n",
       "\\item[Maine] 4.74525429516282\n",
       "\\item[Maryland] 6.24830787206266\n",
       "\\item[Massachusetts] 7.44377810218514\n",
       "\\item[Michigan] 7.36677238887919\n",
       "\\item[Minnesota] 4.97902547251941\n",
       "\\item[Mississippi] 11.9701373594861\n",
       "\\item[Missouri] 5.98483425120336\n",
       "\\item[Montana] 4.26723456434292\n",
       "\\item[Nebraska] 4.44613508236649\n",
       "\\item[Nevada] 3.82418786712161\n",
       "\\item[New Hampshire] 4.6901045114112\n",
       "\\item[New Jersey] 7.78431680754579\n",
       "\\item[New Mexico] 10.8856392552053\n",
       "\\item[New York] 11.4169692083478\n",
       "\\item[North Carolina] 10.2166723274655\n",
       "\\item[North Dakota] 5.0589456052919\n",
       "\\item[Ohio] 7.32277697246234\n",
       "\\item[Oklahoma] 6.74902533858233\n",
       "\\item[Oregon] 4.612032805847\n",
       "\\item[Pennsylvania] 8.3911336766207\n",
       "\\item[Rhode Island] 7.16522464057205\n",
       "\\item[South Carolina] 11.6685520994489\n",
       "\\item[South Dakota] 3.84458880338746\n",
       "\\item[Tennessee] 9.52433067279777\n",
       "\\item[Texas] 13.3725358046232\n",
       "\\item[Utah] 4.36968761789777\n",
       "\\item[Vermont] 4.20580756943257\n",
       "\\item[Virginia] 8.48125206108131\n",
       "\\item[Washington] 4.89787009968165\n",
       "\\item[West Virginia] 7.76789185011514\n",
       "\\item[Wisconsin] 5.5368554595002\n",
       "\\item[Wyoming] 4.18428570260267\n",
       "\\end{description*}\n"
      ],
      "text/markdown": [
       "Alabama\n",
       ":   11.0315294763398Alaska\n",
       ":   7.85448262796618Arizona\n",
       ":   9.49277536919715Arkansas\n",
       ":   9.87798204931309California\n",
       ":   10.8926572616771Colorado\n",
       ":   5.07772230046226Connecticut\n",
       ":   6.83533699201475Delaware\n",
       ":   5.45401647437155Florida\n",
       ":   8.81209582528527Georgia\n",
       ":   10.918484737177Hawaii\n",
       ":   9.59954289720122Idaho\n",
       ":   4.28225503390129Illinois\n",
       ":   7.83442462020396Indiana\n",
       ":   5.69916620517572Iowa\n",
       ":   4.33331452931651Kansas\n",
       ":   4.61113606139575Kentucky\n",
       ":   8.94004672450522Louisiana\n",
       ":   13.9308646692458Maine\n",
       ":   4.74525429516282Maryland\n",
       ":   6.24830787206266Massachusetts\n",
       ":   7.44377810218514Michigan\n",
       ":   7.36677238887919Minnesota\n",
       ":   4.97902547251941Mississippi\n",
       ":   11.9701373594861Missouri\n",
       ":   5.98483425120336Montana\n",
       ":   4.26723456434292Nebraska\n",
       ":   4.44613508236649Nevada\n",
       ":   3.82418786712161New Hampshire\n",
       ":   4.6901045114112New Jersey\n",
       ":   7.78431680754579New Mexico\n",
       ":   10.8856392552053New York\n",
       ":   11.4169692083478North Carolina\n",
       ":   10.2166723274655North Dakota\n",
       ":   5.0589456052919Ohio\n",
       ":   7.32277697246234Oklahoma\n",
       ":   6.74902533858233Oregon\n",
       ":   4.612032805847Pennsylvania\n",
       ":   8.3911336766207Rhode Island\n",
       ":   7.16522464057205South Carolina\n",
       ":   11.6685520994489South Dakota\n",
       ":   3.84458880338746Tennessee\n",
       ":   9.52433067279777Texas\n",
       ":   13.3725358046232Utah\n",
       ":   4.36968761789777Vermont\n",
       ":   4.20580756943257Virginia\n",
       ":   8.48125206108131Washington\n",
       ":   4.89787009968165West Virginia\n",
       ":   7.76789185011514Wisconsin\n",
       ":   5.5368554595002Wyoming\n",
       ":   4.18428570260267\n",
       "\n"
      ],
      "text/plain": [
       "       Alabama         Alaska        Arizona       Arkansas     California \n",
       "     11.031529       7.854483       9.492775       9.877982      10.892657 \n",
       "      Colorado    Connecticut       Delaware        Florida        Georgia \n",
       "      5.077722       6.835337       5.454016       8.812096      10.918485 \n",
       "        Hawaii          Idaho       Illinois        Indiana           Iowa \n",
       "      9.599543       4.282255       7.834425       5.699166       4.333315 \n",
       "        Kansas       Kentucky      Louisiana          Maine       Maryland \n",
       "      4.611136       8.940047      13.930865       4.745254       6.248308 \n",
       " Massachusetts       Michigan      Minnesota    Mississippi       Missouri \n",
       "      7.443778       7.366772       4.979025      11.970137       5.984834 \n",
       "       Montana       Nebraska         Nevada  New Hampshire     New Jersey \n",
       "      4.267235       4.446135       3.824188       4.690105       7.784317 \n",
       "    New Mexico       New York North Carolina   North Dakota           Ohio \n",
       "     10.885639      11.416969      10.216672       5.058946       7.322777 \n",
       "      Oklahoma         Oregon   Pennsylvania   Rhode Island South Carolina \n",
       "      6.749025       4.612033       8.391134       7.165225      11.668552 \n",
       "  South Dakota      Tennessee          Texas           Utah        Vermont \n",
       "      3.844589       9.524331      13.372536       4.369688       4.205808 \n",
       "      Virginia     Washington  West Virginia      Wisconsin        Wyoming \n",
       "      8.481252       4.897870       7.767892       5.536855       4.184286 "
      ]
     },
     "metadata": {},
     "output_type": "display_data"
    }
   ],
   "source": [
    "pr <- predict(fit_n)\n",
    "pr\n"
   ]
  },
  {
   "cell_type": "code",
   "execution_count": 30,
   "metadata": {
    "ExecuteTime": {
     "end_time": "2022-11-20T16:42:43.366231Z",
     "start_time": "2022-11-20T16:42:43.280Z"
    },
    "vscode": {
     "languageId": "r"
    }
   },
   "outputs": [
    {
     "data": {
      "image/png": "[encoded data removed]",
      "text/plain": [
       "plot without title"
      ]
     },
     "metadata": {
      "image/png": {
       "height": 420,
       "width": 420
      }
     },
     "output_type": "display_data"
    }
   ],
   "source": [
    "plot(pr,\n",
    "     type = \"b\", frame = FALSE, pch = 19,\n",
    "     col = \"red\", xlab = \"x\", ylab = \"y\"\n",
    ")\n",
    "# Add a second line\n",
    "lines(states$Murder, pch = 18, col = \"blue\", type = \"b\", lty = 2)\n",
    "## Add a legend to the plot\n",
    "legend(\"topleft\",\n",
    "     legend = c(\"Prediction\", \"True value\"),\n",
    "     col = c(\"red\", \"blue\"), lty = 1:2, cex = 0.8\n",
    ")\n"
   ]
  },
  {
   "cell_type": "code",
   "execution_count": 31,
   "metadata": {
    "ExecuteTime": {
     "end_time": "2022-11-20T16:42:44.543104Z",
     "start_time": "2022-11-20T16:42:44.520Z"
    },
    "vscode": {
     "languageId": "r"
    }
   },
   "outputs": [
    {
     "data": {
      "text/html": [
       "<table class=\"dataframe\">\n",
       "<caption>A data.frame: 3 × 2</caption>\n",
       "<thead>\n",
       "\t<tr><th scope=col>Population</th><th scope=col>Illiteracy</th></tr>\n",
       "\t<tr><th scope=col>&lt;dbl&gt;</th><th scope=col>&lt;dbl&gt;</th></tr>\n",
       "</thead>\n",
       "<tbody>\n",
       "\t<tr><td>4500</td><td>1.2</td></tr>\n",
       "\t<tr><td> 911</td><td>1.9</td></tr>\n",
       "\t<tr><td>2037</td><td>0.7</td></tr>\n",
       "</tbody>\n",
       "</table>\n"
      ],
      "text/latex": [
       "A data.frame: 3 × 2\n",
       "\\begin{tabular}{ll}\n",
       " Population & Illiteracy\\\\\n",
       " <dbl> & <dbl>\\\\\n",
       "\\hline\n",
       "\t 4500 & 1.2\\\\\n",
       "\t  911 & 1.9\\\\\n",
       "\t 2037 & 0.7\\\\\n",
       "\\end{tabular}\n"
      ],
      "text/markdown": [
       "\n",
       "A data.frame: 3 × 2\n",
       "\n",
       "| Population &lt;dbl&gt; | Illiteracy &lt;dbl&gt; |\n",
       "|---|---|\n",
       "| 4500 | 1.2 |\n",
       "|  911 | 1.9 |\n",
       "| 2037 | 0.7 |\n",
       "\n"
      ],
      "text/plain": [
       "  Population Illiteracy\n",
       "1 4500       1.2       \n",
       "2  911       1.9       \n",
       "3 2037       0.7       "
      ]
     },
     "metadata": {},
     "output_type": "display_data"
    }
   ],
   "source": [
    "# novos pontos\n",
    "\n",
    "new.points <- data.frame(Population = c(4500, 911, 2037), Illiteracy = c(1.2, 1.9, 0.7))\n",
    "new.points\n"
   ]
  },
  {
   "cell_type": "code",
   "execution_count": 32,
   "metadata": {
    "ExecuteTime": {
     "end_time": "2022-11-20T16:42:46.012586Z",
     "start_time": "2022-11-20T16:42:45.992Z"
    },
    "vscode": {
     "languageId": "r"
    }
   },
   "outputs": [
    {
     "data": {
      "text/html": [
       "<style>\n",
       ".dl-inline {width: auto; margin:0; padding: 0}\n",
       ".dl-inline>dt, .dl-inline>dd {float: none; width: auto; display: inline-block}\n",
       ".dl-inline>dt::after {content: \":\\0020\"; padding-right: .5ex}\n",
       ".dl-inline>dt:not(:first-of-type) {padding-left: .5ex}\n",
       "</style><dl class=dl-inline><dt>1</dt><dd>7.55727121357355</dd><dt>2</dt><dd>9.60918290005211</dd><dt>3</dt><dd>4.96473249960527</dd></dl>\n"
      ],
      "text/latex": [
       "\\begin{description*}\n",
       "\\item[1] 7.55727121357355\n",
       "\\item[2] 9.60918290005211\n",
       "\\item[3] 4.96473249960527\n",
       "\\end{description*}\n"
      ],
      "text/markdown": [
       "1\n",
       ":   7.557271213573552\n",
       ":   9.609182900052113\n",
       ":   4.96473249960527\n",
       "\n"
      ],
      "text/plain": [
       "       1        2        3 \n",
       "7.557271 9.609183 4.964732 "
      ]
     },
     "metadata": {},
     "output_type": "display_data"
    }
   ],
   "source": [
    "# previsão out-of-sample (fora da amostra) com base no modelo de regressão validado\n",
    "\n",
    "predict(fit_n, newdata = new.points)\n"
   ]
  },
  {
   "cell_type": "markdown",
   "metadata": {},
   "source": [
    "## TPC 1\n",
    "\n",
    "1. Divide a amostra em conjunto de treino e conjunto de teste (85%-15%)\n",
    "2. Determina um modelo de regressão linear que melhor se ajust para o conjunto de treino.\n",
    "3. Verifica os pressupostos dos resíduos\n",
    "4. Determine o erro de previsão (sobre o conjunto de teste)\n"
   ]
  }
 ],
 "metadata": {
  "hide_input": false,
  "kernelspec": {
   "display_name": "R",
   "language": "R",
   "name": "ir"
  },
  "language_info": {
   "codemirror_mode": "r",
   "file_extension": ".r",
   "mimetype": "text/x-r-source",
   "name": "R",
   "pygments_lexer": "r",
   "version": "4.3.2"
  },
  "latex_envs": {
   "LaTeX_envs_menu_present": true,
   "autoclose": false,
   "autocomplete": true,
   "bibliofile": "biblio.bib",
   "cite_by": "apalike",
   "current_citInitial": 1,
   "eqLabelWithNumbers": true,
   "eqNumInitial": 1,
   "hotkeys": {
    "equation": "Ctrl-E",
    "itemize": "Ctrl-I"
   },
   "labels_anchors": false,
   "latex_user_defs": false,
   "report_style_numbering": false,
   "user_envs_cfg": false
  },
  "nbTranslate": {
   "displayLangs": [
    "*"
   ],
   "hotkey": "alt-t",
   "langInMainMenu": true,
   "sourceLang": "en",
   "targetLang": "fr",
   "useGoogleTranslate": true
  },
  "toc": {
   "base_numbering": 1,
   "nav_menu": {},
   "number_sections": true,
   "sideBar": true,
   "skip_h1_title": false,
   "title_cell": "Table of Contents",
   "title_sidebar": "Contents",
   "toc_cell": false,
   "toc_position": {},
   "toc_section_display": true,
   "toc_window_display": false
  },
  "varInspector": {
   "cols": {
    "lenName": 16,
    "lenType": 16,
    "lenVar": 40
   },
   "kernels_config": {
    "python": {
     "delete_cmd_postfix": "",
     "delete_cmd_prefix": "del ",
     "library": "var_list.py",
     "varRefreshCmd": "print(var_dic_list())"
    },
    "r": {
     "delete_cmd_postfix": ") ",
     "delete_cmd_prefix": "rm(",
     "library": "var_list.r",
     "varRefreshCmd": "cat(var_dic_list()) "
    }
   },
   "types_to_exclude": [
    "module",
    "function",
    "builtin_function_or_method",
    "instance",
    "_Feature"
   ],
   "window_display": false
  }
 },
 "nbformat": 4,
 "nbformat_minor": 4
}
