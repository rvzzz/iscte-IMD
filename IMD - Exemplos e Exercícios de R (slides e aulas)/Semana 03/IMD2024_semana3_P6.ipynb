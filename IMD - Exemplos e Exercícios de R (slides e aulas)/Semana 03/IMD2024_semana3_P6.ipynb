{
 "cells": [
  {
   "cell_type": "markdown",
   "metadata": {},
   "source": [
    "  \n",
    "  <font size=\"5\"> <div class=\"alert alert-block alert-info\"> Introdução a Modelos Dinâmicos (IMD): Semana 3 (Aula P6) </div> </font> \n",
    "    \n",
    "  <font size=\"5\"> Licenciatura em Ciência de Dados </font>\n",
    " \n",
    "  \n",
    "  \n",
    "  <font size=\"4\"> **Diana Aldea Mendes**</font>\n",
    "  \n",
    "  \n",
    "    \n",
    "  <font size=\"3\"> diana.mendes@iscte-iul.pt </font> \n",
    "  \n",
    "  \n",
    "  <font size=\"4\"> ISCTE-IUL, 28 de fevereiro de 2024 </font>\n",
    "  \n",
    " \n",
    "    \n",
    " \n",
    "  \n",
    "  <font size=\"5\"> <div class=\"alert alert-success\" role=\"alert\"> Regressão Linear com variáveis categóricas, inter-ação, previsão </div></font> \n",
    "  \n",
    "\n",
    "  "
   ]
  },
  {
   "cell_type": "code",
   "execution_count": 11,
   "metadata": {
    "ExecuteTime": {
     "end_time": "2022-11-20T17:08:22.839583Z",
     "start_time": "2022-11-20T17:08:22.817Z"
    },
    "vscode": {
     "languageId": "r"
    }
   },
   "outputs": [],
   "source": [
    "library(car) # para bases de dados e gráficos\n",
    "library(lmtest) # para testes de hipótese sobre os pressupostos dos resíduos\n",
    "library(tseries) # teste de Jarque-Bera\n",
    "\n",
    "library(MASS)\n",
    "# usar para fazer a escolha automática do modelo de regressão (stepAIC)\n",
    "# com base no critério de informação de Akaike (AIC)\n"
   ]
  },
  {
   "cell_type": "markdown",
   "metadata": {},
   "source": [
    "**Apresentação da bse de dados**\n",
    "\n",
    "The data refers to an Italian restaurant which offers home delivery of pizza. \n",
    "- It contains the orders received during a period of one month: May 2014. \n",
    "- There are three branches of the restaurant. \n",
    "- The pizza delivery is centrally managed: an operator receives a phone call and forwards the order to the branch which is nearest to the customer’s address. \n",
    "- One of the five drivers (two of whom only work part time at the weekend) delivers the order. \n",
    "- The data set captures the number of pizzas ordered as well as the final bill (in e) which may also include drinks, salads, and pasta dishes.\n",
    "- The owner of the business observed an increased number of complaints, mostly because pizzas arrive too late and too cold. \n",
    "- To improve the service quality of his business, the owner wants to measure \n",
    " * (i) the time from call to delivery and \n",
    " * (ii) the pizza temperature at arrival (which can be done with a special device)\n",
    "- Ideally, a pizza arrives within 30 min of the call; if it takes longer than 40 min, then the customers are promised a free bottle of wine (which is not always handed out though). \n",
    "- The temperature of the pizza should be above 65◦C at the time of delivery. \n",
    "- The analysis of the data aims to determine the factors which influence delivery time and temperature of the pizzas.\n",
    "\n",
    "\n",
    "Many variables could potentially be associated with delivery time—driver, amount of food ordered, operator handling the order,\n",
    "whether it is a weekend, and so on. A reasonable question to ask is: Do different drivers have (on average) a different delivery time—given they deal with the same operator, the amount of food ordered is the same, the day is the same, etc. These kind of questions can be answered with multiple linear regression.\n",
    "\n"
   ]
  },
  {
   "cell_type": "code",
   "execution_count": 12,
   "metadata": {
    "ExecuteTime": {
     "end_time": "2022-11-20T17:06:44.065988Z",
     "start_time": "2022-11-20T17:06:44.017Z"
    },
    "vscode": {
     "languageId": "r"
    }
   },
   "outputs": [
    {
     "data": {
      "text/html": [
       "<table class=\"dataframe\">\n",
       "<caption>A data.frame: 6 × 12</caption>\n",
       "<thead>\n",
       "\t<tr><th></th><th scope=col>day</th><th scope=col>date</th><th scope=col>time</th><th scope=col>operator</th><th scope=col>branch</th><th scope=col>driver</th><th scope=col>temperature</th><th scope=col>bill</th><th scope=col>pizzas</th><th scope=col>free_wine</th><th scope=col>got_wine</th><th scope=col>discount_customer</th></tr>\n",
       "\t<tr><th></th><th scope=col>&lt;chr&gt;</th><th scope=col>&lt;chr&gt;</th><th scope=col>&lt;dbl&gt;</th><th scope=col>&lt;chr&gt;</th><th scope=col>&lt;chr&gt;</th><th scope=col>&lt;chr&gt;</th><th scope=col>&lt;dbl&gt;</th><th scope=col>&lt;dbl&gt;</th><th scope=col>&lt;int&gt;</th><th scope=col>&lt;int&gt;</th><th scope=col>&lt;int&gt;</th><th scope=col>&lt;int&gt;</th></tr>\n",
       "</thead>\n",
       "<tbody>\n",
       "\t<tr><th scope=row>1</th><td>Thursday</td><td>01-May-14</td><td>35.12837</td><td>Laura  </td><td>East  </td><td>Bruno    </td><td>68.28772</td><td>58.4</td><td>4</td><td>0</td><td>0</td><td>1</td></tr>\n",
       "\t<tr><th scope=row>2</th><td>Thursday</td><td>01-May-14</td><td>25.20307</td><td>Melissa</td><td>East  </td><td>Salvatore</td><td>70.99779</td><td>26.4</td><td>2</td><td>0</td><td>0</td><td>0</td></tr>\n",
       "\t<tr><th scope=row>3</th><td>Thursday</td><td>01-May-14</td><td>45.64340</td><td>Melissa</td><td>West  </td><td>Salvatore</td><td>53.39415</td><td>58.1</td><td>3</td><td>1</td><td>0</td><td>0</td></tr>\n",
       "\t<tr><th scope=row>4</th><td>Thursday</td><td>01-May-14</td><td>29.37430</td><td>Melissa</td><td>East  </td><td>Salvatore</td><td>70.30660</td><td>35.2</td><td>3</td><td>0</td><td>0</td><td>0</td></tr>\n",
       "\t<tr><th scope=row>5</th><td>Thursday</td><td>01-May-14</td><td>29.99461</td><td>Melissa</td><td>West  </td><td>Salvatore</td><td>71.50169</td><td>38.4</td><td>2</td><td>0</td><td>0</td><td>0</td></tr>\n",
       "\t<tr><th scope=row>6</th><td>Thursday</td><td>01-May-14</td><td>40.25432</td><td>Melissa</td><td>Centre</td><td>Bruno    </td><td>60.75950</td><td>61.8</td><td>4</td><td>1</td><td>1</td><td>0</td></tr>\n",
       "</tbody>\n",
       "</table>\n"
      ],
      "text/latex": [
       "A data.frame: 6 × 12\n",
       "\\begin{tabular}{r|llllllllllll}\n",
       "  & day & date & time & operator & branch & driver & temperature & bill & pizzas & free\\_wine & got\\_wine & discount\\_customer\\\\\n",
       "  & <chr> & <chr> & <dbl> & <chr> & <chr> & <chr> & <dbl> & <dbl> & <int> & <int> & <int> & <int>\\\\\n",
       "\\hline\n",
       "\t1 & Thursday & 01-May-14 & 35.12837 & Laura   & East   & Bruno     & 68.28772 & 58.4 & 4 & 0 & 0 & 1\\\\\n",
       "\t2 & Thursday & 01-May-14 & 25.20307 & Melissa & East   & Salvatore & 70.99779 & 26.4 & 2 & 0 & 0 & 0\\\\\n",
       "\t3 & Thursday & 01-May-14 & 45.64340 & Melissa & West   & Salvatore & 53.39415 & 58.1 & 3 & 1 & 0 & 0\\\\\n",
       "\t4 & Thursday & 01-May-14 & 29.37430 & Melissa & East   & Salvatore & 70.30660 & 35.2 & 3 & 0 & 0 & 0\\\\\n",
       "\t5 & Thursday & 01-May-14 & 29.99461 & Melissa & West   & Salvatore & 71.50169 & 38.4 & 2 & 0 & 0 & 0\\\\\n",
       "\t6 & Thursday & 01-May-14 & 40.25432 & Melissa & Centre & Bruno     & 60.75950 & 61.8 & 4 & 1 & 1 & 0\\\\\n",
       "\\end{tabular}\n"
      ],
      "text/markdown": [
       "\n",
       "A data.frame: 6 × 12\n",
       "\n",
       "| <!--/--> | day &lt;chr&gt; | date &lt;chr&gt; | time &lt;dbl&gt; | operator &lt;chr&gt; | branch &lt;chr&gt; | driver &lt;chr&gt; | temperature &lt;dbl&gt; | bill &lt;dbl&gt; | pizzas &lt;int&gt; | free_wine &lt;int&gt; | got_wine &lt;int&gt; | discount_customer &lt;int&gt; |\n",
       "|---|---|---|---|---|---|---|---|---|---|---|---|---|\n",
       "| 1 | Thursday | 01-May-14 | 35.12837 | Laura   | East   | Bruno     | 68.28772 | 58.4 | 4 | 0 | 0 | 1 |\n",
       "| 2 | Thursday | 01-May-14 | 25.20307 | Melissa | East   | Salvatore | 70.99779 | 26.4 | 2 | 0 | 0 | 0 |\n",
       "| 3 | Thursday | 01-May-14 | 45.64340 | Melissa | West   | Salvatore | 53.39415 | 58.1 | 3 | 1 | 0 | 0 |\n",
       "| 4 | Thursday | 01-May-14 | 29.37430 | Melissa | East   | Salvatore | 70.30660 | 35.2 | 3 | 0 | 0 | 0 |\n",
       "| 5 | Thursday | 01-May-14 | 29.99461 | Melissa | West   | Salvatore | 71.50169 | 38.4 | 2 | 0 | 0 | 0 |\n",
       "| 6 | Thursday | 01-May-14 | 40.25432 | Melissa | Centre | Bruno     | 60.75950 | 61.8 | 4 | 1 | 1 | 0 |\n",
       "\n"
      ],
      "text/plain": [
       "  day      date      time     operator branch driver    temperature bill pizzas\n",
       "1 Thursday 01-May-14 35.12837 Laura    East   Bruno     68.28772    58.4 4     \n",
       "2 Thursday 01-May-14 25.20307 Melissa  East   Salvatore 70.99779    26.4 2     \n",
       "3 Thursday 01-May-14 45.64340 Melissa  West   Salvatore 53.39415    58.1 3     \n",
       "4 Thursday 01-May-14 29.37430 Melissa  East   Salvatore 70.30660    35.2 3     \n",
       "5 Thursday 01-May-14 29.99461 Melissa  West   Salvatore 71.50169    38.4 2     \n",
       "6 Thursday 01-May-14 40.25432 Melissa  Centre Bruno     60.75950    61.8 4     \n",
       "  free_wine got_wine discount_customer\n",
       "1 0         0        1                \n",
       "2 0         0        0                \n",
       "3 1         0        0                \n",
       "4 0         0        0                \n",
       "5 0         0        0                \n",
       "6 1         1        0                "
      ]
     },
     "metadata": {},
     "output_type": "display_data"
    }
   ],
   "source": [
    "pizza <- read.csv(\"pizza_delivery.csv\")\n",
    "head(pizza)\n"
   ]
  },
  {
   "cell_type": "code",
   "execution_count": null,
   "metadata": {
    "ExecuteTime": {
     "end_time": "2022-11-20T17:06:44.697674Z",
     "start_time": "2022-11-20T17:06:44.665Z"
    },
    "vscode": {
     "languageId": "r"
    }
   },
   "outputs": [
    {
     "name": "stdout",
     "output_type": "stream",
     "text": [
      "'data.frame':\t1266 obs. of  12 variables:\n",
      " $ day              : chr  \"Thursday\" \"Thursday\" \"Thursday\" \"Thursday\" ...\n",
      " $ date             : chr  \"01-May-14\" \"01-May-14\" \"01-May-14\" \"01-May-14\" ...\n",
      " $ time             : num  35.1 25.2 45.6 29.4 30 ...\n",
      " $ operator         : chr  \"Laura\" \"Melissa\" \"Melissa\" \"Melissa\" ...\n",
      " $ branch           : chr  \"East\" \"East\" \"West\" \"East\" ...\n",
      " $ driver           : chr  \"Bruno\" \"Salvatore\" \"Salvatore\" \"Salvatore\" ...\n",
      " $ temperature      : num  68.3 71 53.4 70.3 71.5 ...\n",
      " $ bill             : num  58.4 26.4 58.1 35.2 38.4 61.8 57.9 35.8 36.6 44.8 ...\n",
      " $ pizzas           : int  4 2 3 3 2 4 3 2 2 5 ...\n",
      " $ free_wine        : int  0 0 1 0 0 1 1 0 0 0 ...\n",
      " $ got_wine         : int  0 0 0 0 0 1 1 0 0 0 ...\n",
      " $ discount_customer: int  1 0 0 0 0 0 0 0 0 0 ...\n"
     ]
    }
   ],
   "source": [
    "str(pizza)"
   ]
  },
  {
   "cell_type": "markdown",
   "metadata": {},
   "source": [
    "## Regressão Linear com variáveis categóricas"
   ]
  },
  {
   "cell_type": "markdown",
   "metadata": {},
   "source": [
    "#############################################################################################\n",
    "\n",
    "Vamos supor que o gerente do restaurante suspeita que o tempo de entrega (DeliveryTime) é determinado (influenciado) por duas variáveis\n",
    "\n",
    "1. quantidade encomendada - usamos como proxy a conta total (overall bill)\n",
    "2. operador\n",
    "\n",
    "isto é:\n",
    "\n",
    "\n",
    "\n",
    "$$Delivery Time = β_0 + β_1Bill + β_2Operator + e$$\n",
    "\n",
    "No que segue iremos analisar este problema de regressão linear múltipla:\n"
   ]
  },
  {
   "cell_type": "code",
   "execution_count": 14,
   "metadata": {
    "ExecuteTime": {
     "end_time": "2022-11-20T17:06:46.955623Z",
     "start_time": "2022-11-20T17:06:46.913Z"
    },
    "vscode": {
     "languageId": "r"
    }
   },
   "outputs": [
    {
     "data": {
      "text/plain": [
       "\n",
       "Call:\n",
       "lm(formula = time ~ bill + operator, data = pizza)\n",
       "\n",
       "Residuals:\n",
       "     Min       1Q   Median       3Q      Max \n",
       "-18.1788  -3.8963  -0.2872   3.9350  17.9688 \n",
       "\n",
       "Coefficients:\n",
       "                Estimate Std. Error t value Pr(>|t|)    \n",
       "(Intercept)     23.11140    0.65754  35.148   <2e-16 ***\n",
       "bill             0.25817    0.01448  17.830   <2e-16 ***\n",
       "operatorMelissa  0.16107    0.32488   0.496     0.62    \n",
       "---\n",
       "Signif. codes:  0 '***' 0.001 '**' 0.01 '*' 0.05 '.' 0.1 ' ' 1\n",
       "\n",
       "Residual standard error: 5.779 on 1263 degrees of freedom\n",
       "Multiple R-squared:  0.2014,\tAdjusted R-squared:  0.2001 \n",
       "F-statistic: 159.3 on 2 and 1263 DF,  p-value: < 2.2e-16\n"
      ]
     },
     "metadata": {},
     "output_type": "display_data"
    }
   ],
   "source": [
    "# modelo de regressão linear múltipla e o seu output\n",
    "\n",
    "model1 <- lm(time ~ bill + operator, data = pizza)\n",
    "summary(model1)\n"
   ]
  },
  {
   "cell_type": "markdown",
   "metadata": {},
   "source": [
    "############################################################################\n",
    "\n",
    "\n",
    "Interpretação dos parâmetros: \n",
    "\n",
    "- Para cada extra euro gasto, o tempo de entrega aumenta com 0.26 min. (ou, para cada 10 euros (extra) gastos, o tempo de entrega aumenta em média com 2.6 min.)\n",
    "- O tempo de entrega está, em média, 0.16 min maior para o operador 1 em comparação com o operador 0. \n",
    "- Para o operador 0 e uma conta de 0 euros, a expectativa do tempo de entrega é $β_0=23.1$ min\n",
    "- Contudo, não existem contas de 0 euros e portanto o intercept não pode ser interpretado (neste caso em particular), mas incluímos o intercept pelas razões de estimação/ajustamento.\n",
    "\n"
   ]
  },
  {
   "cell_type": "markdown",
   "metadata": {
    "ExecuteTime": {
     "end_time": "2020-11-25T19:19:20.824836Z",
     "start_time": "2020-11-25T19:19:20.808Z"
    }
   },
   "source": [
    "####################################################################################################\n",
    "\n",
    "Relembramos que numa variável categórica com duas categorias (i.e, binária), uma das categorias é substituída por 1's e a outra por 0's. Os sujeitos que pertencem a categoria x=1 tem, em média, valores de y que são $β_1$ unidades maiores do que dos sujeitos com x=0.\n",
    "\n",
    "Agora, para uma variável x que tem mais que $k>2$ categorias, para podermos incluir na regressão, temos de criar $(k-1)$ novas variáveis $x_i$, $i=1,2,...,k-1$, onde $x_i=1$ para categoria $i$, e 0 nas outras entradas.\n",
    "\n",
    "A variável para a qual não criamos uma variável dummy chama-se categoria de referência (reference\n",
    "category) e a interpretação dos parâmetros das variáveis dummy estão com respeito a esta categoria de referência.\n",
    "por exemplo, para a categoria $i$, os valores de $y$, são em média $β_i$ maiores do que para a categoria de referência."
   ]
  },
  {
   "cell_type": "markdown",
   "metadata": {},
   "source": [
    "~#####################################################################################################\n",
    "\n",
    "O gerente ponha agora uma hipótese diferente acerca os atrasos no tempo de entrega das pizzas, considerando que o tempo varía com relação a filial (branch: East, West, Centre). \n",
    "\n",
    "\n",
    "Então, em vez de usar a variável \"branch\" na regressão, vamos criar 2 novas variáveis x1=East e x2=West. \n",
    "\n",
    "- Escolhemos x1=1 para as entregas da filial East e x1=0 para as outras entregas. \n",
    "- Analogamente, escolhemos x2=1 para as entregas que provem da filial West e x2=0 para as outras entregas.\n",
    "\n",
    "Agora:\n",
    "- as entregas que vem da filial East tem: x1=1 e x2=0\n",
    "- as entregas que vem da filial West tem: x1=0 e x2=1\n",
    "- as entregas que vem da filial Centre tem: x1=0 e x2=0\n",
    "\n",
    "Então o modelo de regressão de interesse será:\n",
    "\n",
    "$$y = β_0 + β_1East + β_2West + e$$\n",
    "\n",
    "\n",
    "Podemos ser nós próprios a criar as variáveis dummy (*opção 1*) ou podemos usar as funções de R para as definir (*opção 2*) (neste caso as variáveis devem ser de tipo \"factor\")\n",
    "\n"
   ]
  },
  {
   "cell_type": "code",
   "execution_count": 15,
   "metadata": {
    "ExecuteTime": {
     "end_time": "2022-11-20T17:06:50.628546Z",
     "start_time": "2022-11-20T17:06:50.601Z"
    },
    "vscode": {
     "languageId": "r"
    }
   },
   "outputs": [
    {
     "data": {
      "text/plain": [
       "\n",
       "Call:\n",
       "lm(formula = time ~ East + West, data = pizza)\n",
       "\n",
       "Residuals:\n",
       "     Min       1Q   Median       3Q      Max \n",
       "-18.8006  -4.1262  -0.0904   4.1304  18.6637 \n",
       "\n",
       "Coefficients:\n",
       "            Estimate Std. Error t value Pr(>|t|)    \n",
       "(Intercept)  36.3127     0.2957 122.819  < 2e-16 ***\n",
       "East         -5.2461     0.4209 -12.463  < 2e-16 ***\n",
       "West         -1.1182     0.4148  -2.696  0.00711 ** \n",
       "---\n",
       "Signif. codes:  0 '***' 0.001 '**' 0.01 '*' 0.05 '.' 0.1 ' ' 1\n",
       "\n",
       "Residual standard error: 6.066 on 1263 degrees of freedom\n",
       "Multiple R-squared:  0.1199,\tAdjusted R-squared:  0.1185 \n",
       "F-statistic: 86.05 on 2 and 1263 DF,  p-value: < 2.2e-16\n"
      ]
     },
     "metadata": {},
     "output_type": "display_data"
    }
   ],
   "source": [
    "# regressão com variável categórica - opção 1\n",
    "East <- as.numeric(pizza$branch == \"East\")\n",
    "West <- as.numeric(pizza$branch == \"West\")\n",
    "modelo2 <- lm(time ~ East + West, data = pizza)\n",
    "summary(modelo2)\n"
   ]
  },
  {
   "cell_type": "code",
   "execution_count": 16,
   "metadata": {
    "ExecuteTime": {
     "end_time": "2022-11-20T17:06:51.472081Z",
     "start_time": "2022-11-20T17:06:51.449Z"
    },
    "vscode": {
     "languageId": "r"
    }
   },
   "outputs": [
    {
     "data": {
      "text/plain": [
       "\n",
       "Call:\n",
       "lm(formula = time ~ as.factor(pizza$branch), data = pizza)\n",
       "\n",
       "Residuals:\n",
       "     Min       1Q   Median       3Q      Max \n",
       "-18.8006  -4.1262  -0.0904   4.1304  18.6637 \n",
       "\n",
       "Coefficients:\n",
       "                            Estimate Std. Error t value Pr(>|t|)    \n",
       "(Intercept)                  36.3127     0.2957 122.819  < 2e-16 ***\n",
       "as.factor(pizza$branch)East  -5.2461     0.4209 -12.463  < 2e-16 ***\n",
       "as.factor(pizza$branch)West  -1.1182     0.4148  -2.696  0.00711 ** \n",
       "---\n",
       "Signif. codes:  0 '***' 0.001 '**' 0.01 '*' 0.05 '.' 0.1 ' ' 1\n",
       "\n",
       "Residual standard error: 6.066 on 1263 degrees of freedom\n",
       "Multiple R-squared:  0.1199,\tAdjusted R-squared:  0.1185 \n",
       "F-statistic: 86.05 on 2 and 1263 DF,  p-value: < 2.2e-16\n"
      ]
     },
     "metadata": {},
     "output_type": "display_data"
    }
   ],
   "source": [
    "# regressão com variável categórica - opção 2\n",
    "modelo2n <- lm(time ~ as.factor(pizza$branch), data=pizza)\n",
    "summary(modelo2n)"
   ]
  },
  {
   "cell_type": "code",
   "execution_count": null,
   "metadata": {
    "vscode": {
     "languageId": "r"
    }
   },
   "outputs": [],
   "source": []
  },
  {
   "cell_type": "markdown",
   "metadata": {},
   "source": [
    "#########################################################################################\n",
    "\n",
    "A interpretação dos parâmetros é a seguinte:\n",
    "\n",
    "- O tempo de entrega médio para a filial do Centre é 36.3 min\n",
    "- O tempo de entrega médio para a filial do East é 36.3-5.2 =31.1 min\n",
    "- O tempo de entrega médio para a filial do Weat é 36.3-1.1 =35.2 min\n",
    "\n",
    "Portanto, as entregas chegam, em média, 5.2 min mais cedo no East comparando com o Centre e as entregas do West chegam, em média, 1.1 min mais rápido do que na zona Centre  (ou: leva-se menos 5.2 minutos para entregar uma pizza na zona East comparando com a zona Centre, ...)\n",
    "\n"
   ]
  },
  {
   "cell_type": "markdown",
   "metadata": {},
   "source": [
    "## Regressão linear múltipla e pressupostos dos resíduos"
   ]
  },
  {
   "cell_type": "code",
   "execution_count": 17,
   "metadata": {
    "ExecuteTime": {
     "end_time": "2022-11-20T17:06:55.155627Z",
     "start_time": "2022-11-20T17:06:55.129Z"
    },
    "vscode": {
     "languageId": "r"
    }
   },
   "outputs": [
    {
     "data": {
      "text/plain": [
       "\n",
       "Call:\n",
       "lm(formula = time ~ temperature + branch + day + operator + driver + \n",
       "    bill + pizzas + discount_customer, data = pizza)\n",
       "\n",
       "Residuals:\n",
       "    Min      1Q  Median      3Q     Max \n",
       "-14.461  -3.768  -0.486   3.504  18.026 \n",
       "\n",
       "Coefficients:\n",
       "                  Estimate Std. Error t value Pr(>|t|)    \n",
       "(Intercept)       40.42270    2.00446  20.166  < 2e-16 ***\n",
       "temperature       -0.20823    0.02594  -8.027 2.28e-15 ***\n",
       "branchEast        -1.60263    0.42331  -3.786 0.000160 ***\n",
       "branchWest        -0.11912    0.37330  -0.319 0.749708    \n",
       "dayMonday         -1.15858    0.63300  -1.830 0.067443 .  \n",
       "daySaturday        0.88163    0.50161   1.758 0.079061 .  \n",
       "daySunday          1.01655    0.56103   1.812 0.070238 .  \n",
       "dayThursday        0.78895    0.53006   1.488 0.136895    \n",
       "dayTuesday         0.79284    0.62538   1.268 0.205117    \n",
       "dayWednesday       0.25814    0.60651   0.426 0.670468    \n",
       "operatorMelissa   -0.15791    0.34311  -0.460 0.645435    \n",
       "driverDomenico    -2.59296    0.73434  -3.531 0.000429 ***\n",
       "driverLuigi       -0.80863    0.58724  -1.377 0.168760    \n",
       "driverMario       -0.39501    0.43678  -0.904 0.365973    \n",
       "driverSalvatore   -0.50410    0.43480  -1.159 0.246519    \n",
       "bill               0.14102    0.01600   8.811  < 2e-16 ***\n",
       "pizzas             0.55618    0.11718   4.746 2.31e-06 ***\n",
       "discount_customer -0.28321    0.36848  -0.769 0.442291    \n",
       "---\n",
       "Signif. codes:  0 '***' 0.001 '**' 0.01 '*' 0.05 '.' 0.1 ' ' 1\n",
       "\n",
       "Residual standard error: 5.373 on 1248 degrees of freedom\n",
       "Multiple R-squared:  0.3178,\tAdjusted R-squared:  0.3085 \n",
       "F-statistic:  34.2 on 17 and 1248 DF,  p-value: < 2.2e-16\n"
      ]
     },
     "metadata": {},
     "output_type": "display_data"
    }
   ],
   "source": [
    "# iniciamos com o modelo de regressão múltipla com 8 variáveis indep\n",
    "\n",
    "mp <- lm(time ~ temperature + branch + day + operator + driver + bill + pizzas + discount_customer, data = pizza)\n",
    "summary(mp)\n"
   ]
  },
  {
   "cell_type": "code",
   "execution_count": 18,
   "metadata": {
    "ExecuteTime": {
     "end_time": "2022-11-20T17:06:56.054029Z",
     "start_time": "2022-11-20T17:06:56.025Z"
    },
    "vscode": {
     "languageId": "r"
    }
   },
   "outputs": [
    {
     "data": {
      "text/html": [
       "<table class=\"dataframe\">\n",
       "<caption>A matrix: 8 × 3 of type dbl</caption>\n",
       "<thead>\n",
       "\t<tr><th></th><th scope=col>GVIF</th><th scope=col>Df</th><th scope=col>GVIF^(1/(2*Df))</th></tr>\n",
       "</thead>\n",
       "<tbody>\n",
       "\t<tr><th scope=row>temperature</th><td>1.405978</td><td>1</td><td>1.185739</td></tr>\n",
       "\t<tr><th scope=row>branch</th><td>1.326838</td><td>2</td><td>1.073259</td></tr>\n",
       "\t<tr><th scope=row>day</th><td>2.292401</td><td>6</td><td>1.071579</td></tr>\n",
       "\t<tr><th scope=row>operator</th><td>1.290577</td><td>1</td><td>1.136036</td></tr>\n",
       "\t<tr><th scope=row>driver</th><td>1.971694</td><td>4</td><td>1.088566</td></tr>\n",
       "\t<tr><th scope=row>bill</th><td>1.413641</td><td>1</td><td>1.188966</td></tr>\n",
       "\t<tr><th scope=row>pizzas</th><td>1.295020</td><td>1</td><td>1.137989</td></tr>\n",
       "\t<tr><th scope=row>discount_customer</th><td>1.015089</td><td>1</td><td>1.007516</td></tr>\n",
       "</tbody>\n",
       "</table>\n"
      ],
      "text/latex": [
       "A matrix: 8 × 3 of type dbl\n",
       "\\begin{tabular}{r|lll}\n",
       "  & GVIF & Df & GVIF\\textasciicircum{}(1/(2*Df))\\\\\n",
       "\\hline\n",
       "\ttemperature & 1.405978 & 1 & 1.185739\\\\\n",
       "\tbranch & 1.326838 & 2 & 1.073259\\\\\n",
       "\tday & 2.292401 & 6 & 1.071579\\\\\n",
       "\toperator & 1.290577 & 1 & 1.136036\\\\\n",
       "\tdriver & 1.971694 & 4 & 1.088566\\\\\n",
       "\tbill & 1.413641 & 1 & 1.188966\\\\\n",
       "\tpizzas & 1.295020 & 1 & 1.137989\\\\\n",
       "\tdiscount\\_customer & 1.015089 & 1 & 1.007516\\\\\n",
       "\\end{tabular}\n"
      ],
      "text/markdown": [
       "\n",
       "A matrix: 8 × 3 of type dbl\n",
       "\n",
       "| <!--/--> | GVIF | Df | GVIF^(1/(2*Df)) |\n",
       "|---|---|---|---|\n",
       "| temperature | 1.405978 | 1 | 1.185739 |\n",
       "| branch | 1.326838 | 2 | 1.073259 |\n",
       "| day | 2.292401 | 6 | 1.071579 |\n",
       "| operator | 1.290577 | 1 | 1.136036 |\n",
       "| driver | 1.971694 | 4 | 1.088566 |\n",
       "| bill | 1.413641 | 1 | 1.188966 |\n",
       "| pizzas | 1.295020 | 1 | 1.137989 |\n",
       "| discount_customer | 1.015089 | 1 | 1.007516 |\n",
       "\n"
      ],
      "text/plain": [
       "                  GVIF     Df GVIF^(1/(2*Df))\n",
       "temperature       1.405978 1  1.185739       \n",
       "branch            1.326838 2  1.073259       \n",
       "day               2.292401 6  1.071579       \n",
       "operator          1.290577 1  1.136036       \n",
       "driver            1.971694 4  1.088566       \n",
       "bill              1.413641 1  1.188966       \n",
       "pizzas            1.295020 1  1.137989       \n",
       "discount_customer 1.015089 1  1.007516       "
      ]
     },
     "metadata": {},
     "output_type": "display_data"
    }
   ],
   "source": [
    "# verificar se existe multicolinearidade\n",
    "vif(mp)\n"
   ]
  },
  {
   "cell_type": "code",
   "execution_count": 19,
   "metadata": {
    "ExecuteTime": {
     "end_time": "2022-11-20T17:06:57.126111Z",
     "start_time": "2022-11-20T17:06:57.049Z"
    },
    "scrolled": true,
    "vscode": {
     "languageId": "r"
    }
   },
   "outputs": [
    {
     "name": "stdout",
     "output_type": "stream",
     "text": [
      "Start:  AIC=4275.15\n",
      "time ~ temperature + branch + day + operator + driver + bill + \n",
      "    pizzas + discount_customer\n",
      "\n",
      "                    Df Sum of Sq   RSS    AIC\n",
      "- operator           1      6.11 36035 4273.4\n",
      "- discount_customer  1     17.05 36046 4273.8\n",
      "<none>                           36029 4275.2\n",
      "- day                6    448.79 36478 4278.8\n",
      "- driver             4    363.91 36393 4279.9\n",
      "- branch             2    511.10 36540 4289.0\n",
      "- pizzas             1    650.39 36679 4295.8\n",
      "- temperature        1   1860.36 37889 4336.9\n",
      "- bill               1   2241.30 38270 4349.6\n",
      "\n",
      "Step:  AIC=4273.37\n",
      "time ~ temperature + branch + day + driver + bill + pizzas + \n",
      "    discount_customer\n",
      "\n",
      "                    Df Sum of Sq   RSS    AIC\n",
      "- discount_customer  1     17.57 36053 4272.0\n",
      "<none>                           36035 4273.4\n",
      "+ operator           1      6.11 36029 4275.2\n",
      "- day                6    452.00 36487 4277.1\n",
      "- driver             4    364.61 36400 4278.1\n",
      "- branch             2    508.57 36544 4287.1\n",
      "- pizzas             1    649.54 36685 4294.0\n",
      "- temperature        1   1869.98 37905 4335.4\n",
      "- bill               1   2236.19 38271 4347.6\n",
      "\n",
      "Step:  AIC=4271.98\n",
      "time ~ temperature + branch + day + driver + bill + pizzas\n",
      "\n",
      "                    Df Sum of Sq   RSS    AIC\n",
      "<none>                           36053 4272.0\n",
      "+ discount_customer  1     17.57 36035 4273.4\n",
      "+ operator           1      6.63 36046 4273.8\n",
      "- day                6    455.62 36508 4275.9\n",
      "- driver             4    368.18 36421 4276.8\n",
      "- branch             2    513.17 36566 4285.9\n",
      "- pizzas             1    657.07 36710 4292.8\n",
      "- temperature        1   1878.24 37931 4334.3\n",
      "- bill               1   2228.88 38282 4345.9\n"
     ]
    },
    {
     "data": {
      "text/plain": [
       "\n",
       "Call:\n",
       "lm(formula = time ~ temperature + branch + day + driver + bill + \n",
       "    pizzas, data = pizza)\n",
       "\n",
       "Coefficients:\n",
       "    (Intercept)      temperature       branchEast       branchWest  \n",
       "        40.3450          -0.2091          -1.6000          -0.1094  \n",
       "      dayMonday      daySaturday        daySunday      dayThursday  \n",
       "        -1.0819           0.8858           1.0444           0.7995  \n",
       "     dayTuesday     dayWednesday   driverDomenico      driverLuigi  \n",
       "         0.7258           0.2696          -2.6061          -0.8375  \n",
       "    driverMario  driverSalvatore             bill           pizzas  \n",
       "        -0.4035          -0.5162           0.1405           0.5587  \n"
      ]
     },
     "metadata": {},
     "output_type": "display_data"
    }
   ],
   "source": [
    "# escolher o melhor modelo com base no AIC\n",
    "stepAIC(mp, direction = \"both\")\n"
   ]
  },
  {
   "cell_type": "code",
   "execution_count": 20,
   "metadata": {
    "ExecuteTime": {
     "end_time": "2022-11-20T17:06:58.210963Z",
     "start_time": "2022-11-20T17:06:58.185Z"
    },
    "run_control": {
     "marked": true
    },
    "vscode": {
     "languageId": "r"
    }
   },
   "outputs": [
    {
     "data": {
      "text/plain": [
       "\n",
       "Call:\n",
       "lm(formula = time ~ temperature + branch + day + driver + bill + \n",
       "    pizzas, data = pizza)\n",
       "\n",
       "Residuals:\n",
       "     Min       1Q   Median       3Q      Max \n",
       "-14.3213  -3.8093  -0.4746   3.4627  18.0159 \n",
       "\n",
       "Coefficients:\n",
       "                Estimate Std. Error t value Pr(>|t|)    \n",
       "(Intercept)     40.34498    2.00023  20.170  < 2e-16 ***\n",
       "temperature     -0.20905    0.02591  -8.070 1.64e-15 ***\n",
       "branchEast      -1.59998    0.42309  -3.782 0.000163 ***\n",
       "branchWest      -0.10943    0.37254  -0.294 0.769014    \n",
       "dayMonday       -1.08192    0.60170  -1.798 0.072402 .  \n",
       "daySaturday      0.88582    0.50045   1.770 0.076961 .  \n",
       "daySunday        1.04440    0.55864   1.870 0.061778 .  \n",
       "dayThursday      0.79947    0.52913   1.511 0.131059    \n",
       "dayTuesday       0.72581    0.60527   1.199 0.230700    \n",
       "dayWednesday     0.26957    0.60587   0.445 0.656449    \n",
       "driverDomenico  -2.60607    0.73383  -3.551 0.000398 ***\n",
       "driverLuigi     -0.83754    0.58583  -1.430 0.153061    \n",
       "driverMario     -0.40353    0.43606  -0.925 0.354935    \n",
       "driverSalvatore -0.51624    0.43433  -1.189 0.234829    \n",
       "bill             0.14053    0.01599   8.791  < 2e-16 ***\n",
       "pizzas           0.55873    0.11706   4.773 2.03e-06 ***\n",
       "---\n",
       "Signif. codes:  0 '***' 0.001 '**' 0.01 '*' 0.05 '.' 0.1 ' ' 1\n",
       "\n",
       "Residual standard error: 5.37 on 1250 degrees of freedom\n",
       "Multiple R-squared:  0.3174,\tAdjusted R-squared:  0.3092 \n",
       "F-statistic: 38.74 on 15 and 1250 DF,  p-value: < 2.2e-16\n"
      ]
     },
     "metadata": {},
     "output_type": "display_data"
    }
   ],
   "source": [
    "# modelo escolhido\n",
    "mps <- lm(time ~ temperature + branch + day + driver + bill + pizzas, data = pizza)\n",
    "summary(mps)\n"
   ]
  },
  {
   "cell_type": "code",
   "execution_count": 21,
   "metadata": {
    "ExecuteTime": {
     "end_time": "2022-11-20T17:06:59.680159Z",
     "start_time": "2022-11-20T17:06:59.369Z"
    },
    "vscode": {
     "languageId": "r"
    }
   },
   "outputs": [
    {
     "data": {
      "image/png": "[encoded data removed]",
      "text/plain": [
       "Plot with title \"\""
      ]
     },
     "metadata": {
      "image/png": {
       "height": 420,
       "width": 420
      }
     },
     "output_type": "display_data"
    }
   ],
   "source": [
    "# gráficos associados com os resíduos da regressão\n",
    "par(mfrow = c(2, 2))\n",
    "plot(mps)\n"
   ]
  },
  {
   "cell_type": "code",
   "execution_count": 22,
   "metadata": {
    "ExecuteTime": {
     "end_time": "2022-11-20T17:07:00.645638Z",
     "start_time": "2022-11-20T17:07:00.449Z"
    },
    "vscode": {
     "languageId": "r"
    }
   },
   "outputs": [
    {
     "data": {
      "text/plain": [
       "\n",
       "Call:\n",
       "lm(formula = time ~ temperature + I(temperature^2) + branch + \n",
       "    day + driver + bill + pizzas, data = pizza)\n",
       "\n",
       "Residuals:\n",
       "     Min       1Q   Median       3Q      Max \n",
       "-13.4394  -3.6940  -0.6371   3.3585  18.2713 \n",
       "\n",
       "Coefficients:\n",
       "                   Estimate Std. Error t value Pr(>|t|)    \n",
       "(Intercept)      -18.954965   8.795301  -2.155  0.03134 *  \n",
       "temperature        1.736692   0.282453   6.149 1.05e-09 ***\n",
       "I(temperature^2)  -0.015544   0.002247  -6.917 7.36e-12 ***\n",
       "branchEast        -1.429772   0.416107  -3.436  0.00061 ***\n",
       "branchWest        -0.204927   0.366010  -0.560  0.57565    \n",
       "dayMonday         -0.917746   0.591211  -1.552  0.12084    \n",
       "daySaturday        0.734181   0.491817   1.493  0.13574    \n",
       "daySunday          1.066199   0.548463   1.944  0.05212 .  \n",
       "dayThursday        0.754740   0.519523   1.453  0.14654    \n",
       "dayTuesday         0.689329   0.594264   1.160  0.24628    \n",
       "dayWednesday       0.343759   0.594927   0.578  0.56349    \n",
       "driverDomenico    -2.197420   0.722871  -3.040  0.00242 ** \n",
       "driverLuigi       -0.891978   0.575205  -1.551  0.12122    \n",
       "driverMario       -0.468426   0.428216  -1.094  0.27421    \n",
       "driverSalvatore   -0.588685   0.426544  -1.380  0.16779    \n",
       "bill               0.119389   0.015989   7.467 1.53e-13 ***\n",
       "pizzas             0.578140   0.114962   5.029 5.65e-07 ***\n",
       "---\n",
       "Signif. codes:  0 '***' 0.001 '**' 0.01 '*' 0.05 '.' 0.1 ' ' 1\n",
       "\n",
       "Residual standard error: 5.273 on 1249 degrees of freedom\n",
       "Multiple R-squared:  0.3426,\tAdjusted R-squared:  0.3341 \n",
       "F-statistic: 40.67 on 16 and 1249 DF,  p-value: < 2.2e-16\n"
      ]
     },
     "metadata": {},
     "output_type": "display_data"
    }
   ],
   "source": [
    "# adicionar um termo de não-linearidade (para a variável temperature)\n",
    "# pois observamos um padrão não-linear nos resíduos (curvatura)\n",
    "# mps <- lm(time ~ temperature + branch + day + driver + bill + pizzas, data=pizza)\n",
    "mps2 <- lm(time ~ temperature + I(temperature^2) + branch + day + driver + bill + pizzas, data = pizza)\n",
    "summary(mps2)\n"
   ]
  },
  {
   "cell_type": "code",
   "execution_count": 23,
   "metadata": {
    "ExecuteTime": {
     "end_time": "2022-11-20T17:07:02.135776Z",
     "start_time": "2022-11-20T17:07:01.329Z"
    },
    "vscode": {
     "languageId": "r"
    }
   },
   "outputs": [
    {
     "data": {
      "image/png": "[encoded data removed]",
      "text/plain": [
       "Plot with title \"\""
      ]
     },
     "metadata": {
      "image/png": {
       "height": 420,
       "width": 420
      }
     },
     "output_type": "display_data"
    }
   ],
   "source": [
    "par(mfrow = c(2, 2))\n",
    "plot(mps2)\n"
   ]
  },
  {
   "cell_type": "code",
   "execution_count": 24,
   "metadata": {
    "ExecuteTime": {
     "end_time": "2022-11-20T17:07:03.363619Z",
     "start_time": "2022-11-20T17:07:02.763Z"
    },
    "vscode": {
     "languageId": "r"
    }
   },
   "outputs": [],
   "source": [
    "# verificação dos pressupostos dos resíduos\n",
    "\n",
    "# a média dos resíduos é nula (pois o intercept é diferente de zero)\n"
   ]
  },
  {
   "cell_type": "code",
   "execution_count": 25,
   "metadata": {
    "ExecuteTime": {
     "end_time": "2022-11-20T17:07:04.626022Z",
     "start_time": "2022-11-20T17:07:03.993Z"
    },
    "vscode": {
     "languageId": "r"
    }
   },
   "outputs": [
    {
     "data": {
      "text/plain": [
       "\n",
       "\tstudentized Breusch-Pagan test\n",
       "\n",
       "data:  mps2\n",
       "BP = 19.125, df = 16, p-value = 0.2622\n"
      ]
     },
     "metadata": {},
     "output_type": "display_data"
    }
   ],
   "source": [
    "# os resíduos tem a variância constante (homocedásticos)\n",
    "# teste de Breusch-Pagan (H0: erros homocedásticos)\n",
    "\n",
    "bptest(mps2)\n"
   ]
  },
  {
   "cell_type": "code",
   "execution_count": 26,
   "metadata": {
    "ExecuteTime": {
     "end_time": "2022-11-20T17:07:05.852039Z",
     "start_time": "2022-11-20T17:07:05.385Z"
    },
    "vscode": {
     "languageId": "r"
    }
   },
   "outputs": [
    {
     "data": {
      "text/plain": [
       "\n",
       "\tBreusch-Godfrey test for serial correlation of order up to 1\n",
       "\n",
       "data:  mps2\n",
       "LM test = 0.43195, df = 1, p-value = 0.511\n"
      ]
     },
     "metadata": {},
     "output_type": "display_data"
    }
   ],
   "source": [
    "# os resíduos são independentes (ausência de correlação)\n",
    "# teste de Breusch-Godfrey (H0:resíduos independentes)\n",
    "\n",
    "bgtest(mps2)\n"
   ]
  },
  {
   "cell_type": "code",
   "execution_count": 27,
   "metadata": {
    "ExecuteTime": {
     "end_time": "2022-11-20T17:07:07.059914Z",
     "start_time": "2022-11-20T17:07:06.521Z"
    },
    "vscode": {
     "languageId": "r"
    }
   },
   "outputs": [
    {
     "data": {
      "text/plain": [
       "\n",
       "\tJarque Bera Test\n",
       "\n",
       "data:  mps2$residuals\n",
       "X-squared = 41.702, df = 2, p-value = 8.8e-10\n"
      ]
     },
     "metadata": {},
     "output_type": "display_data"
    }
   ],
   "source": [
    "# os resíduos são normalmente distribuídos\n",
    "# Teste de Jarque-Bera (H0: distribuição normal)\n",
    "\n",
    "jarque.bera.test(mps2$residuals)\n"
   ]
  },
  {
   "cell_type": "code",
   "execution_count": 28,
   "metadata": {
    "ExecuteTime": {
     "end_time": "2022-11-20T17:07:08.297604Z",
     "start_time": "2022-11-20T17:07:07.672Z"
    },
    "vscode": {
     "languageId": "r"
    }
   },
   "outputs": [],
   "source": [
    "# o pressuposto de normalidade dos resíduos não é verificado\n"
   ]
  },
  {
   "cell_type": "markdown",
   "metadata": {},
   "source": [
    "## Influence"
   ]
  },
  {
   "cell_type": "code",
   "execution_count": 29,
   "metadata": {
    "ExecuteTime": {
     "end_time": "2022-11-20T17:07:10.200504Z",
     "start_time": "2022-11-20T17:07:09.793Z"
    },
    "vscode": {
     "languageId": "r"
    }
   },
   "outputs": [
    {
     "data": {
      "image/png": "[encoded data removed]",
      "text/plain": [
       "plot without title"
      ]
     },
     "metadata": {
      "image/png": {
       "height": 420,
       "width": 420
      }
     },
     "output_type": "display_data"
    }
   ],
   "source": [
    "# vamos ver se existem elementos influenciadores\n",
    "influenceIndexPlot(mps2, id = list(n = 3))\n"
   ]
  },
  {
   "cell_type": "code",
   "execution_count": 30,
   "metadata": {
    "ExecuteTime": {
     "end_time": "2022-11-20T17:07:11.424263Z",
     "start_time": "2022-11-20T17:07:11.008Z"
    },
    "vscode": {
     "languageId": "r"
    }
   },
   "outputs": [],
   "source": [
    "# distância de Cook\n",
    "\n",
    "cooksd <- cooks.distance(mps2)\n"
   ]
  },
  {
   "cell_type": "code",
   "execution_count": 31,
   "metadata": {
    "ExecuteTime": {
     "end_time": "2022-11-20T17:07:12.635053Z",
     "start_time": "2022-11-20T17:07:12.208Z"
    },
    "vscode": {
     "languageId": "r"
    }
   },
   "outputs": [],
   "source": [
    "# Geralmente, as observações que tem uma distância de Cook maior que 4*(média), podem ser clasificados como infuenciadores\n"
   ]
  },
  {
   "cell_type": "code",
   "execution_count": 32,
   "metadata": {
    "ExecuteTime": {
     "end_time": "2022-11-20T17:07:13.852839Z",
     "start_time": "2022-11-20T17:07:13.192Z"
    },
    "vscode": {
     "languageId": "r"
    }
   },
   "outputs": [
    {
     "data": {
      "text/html": [
       "<table class=\"dataframe\">\n",
       "<caption>A data.frame: 6 × 12</caption>\n",
       "<thead>\n",
       "\t<tr><th></th><th scope=col>day</th><th scope=col>date</th><th scope=col>time</th><th scope=col>operator</th><th scope=col>branch</th><th scope=col>driver</th><th scope=col>temperature</th><th scope=col>bill</th><th scope=col>pizzas</th><th scope=col>free_wine</th><th scope=col>got_wine</th><th scope=col>discount_customer</th></tr>\n",
       "\t<tr><th></th><th scope=col>&lt;chr&gt;</th><th scope=col>&lt;chr&gt;</th><th scope=col>&lt;dbl&gt;</th><th scope=col>&lt;chr&gt;</th><th scope=col>&lt;chr&gt;</th><th scope=col>&lt;chr&gt;</th><th scope=col>&lt;dbl&gt;</th><th scope=col>&lt;dbl&gt;</th><th scope=col>&lt;int&gt;</th><th scope=col>&lt;int&gt;</th><th scope=col>&lt;int&gt;</th><th scope=col>&lt;int&gt;</th></tr>\n",
       "</thead>\n",
       "<tbody>\n",
       "\t<tr><th scope=row>21</th><td>Thursday</td><td>01-May-14</td><td>47.78338</td><td>Melissa</td><td>Centre</td><td>Mario    </td><td>66.10353</td><td>63.7</td><td>2</td><td>1</td><td>1</td><td>1</td></tr>\n",
       "\t<tr><th scope=row>50</th><td>Thursday</td><td>01-May-14</td><td>48.50989</td><td>Melissa</td><td>West  </td><td>Mario    </td><td>58.99079</td><td>43.3</td><td>2</td><td>1</td><td>1</td><td>1</td></tr>\n",
       "\t<tr><th scope=row>67</th><td>Friday  </td><td>02-May-14</td><td>26.14416</td><td>Melissa</td><td>West  </td><td>Salvatore</td><td>47.42635</td><td>47.0</td><td>4</td><td>0</td><td>0</td><td>1</td></tr>\n",
       "\t<tr><th scope=row>79</th><td>Friday  </td><td>02-May-14</td><td>43.55575</td><td>Melissa</td><td>East  </td><td>Luigi    </td><td>73.97554</td><td>47.6</td><td>1</td><td>1</td><td>0</td><td>1</td></tr>\n",
       "\t<tr><th scope=row>96</th><td>Friday  </td><td>02-May-14</td><td>26.09400</td><td>Melissa</td><td>West  </td><td>Luigi    </td><td>50.63594</td><td>43.2</td><td>5</td><td>0</td><td>0</td><td>0</td></tr>\n",
       "\t<tr><th scope=row>106</th><td>Saturday</td><td>03-May-14</td><td>45.03009</td><td>Melissa</td><td>West  </td><td>Mario    </td><td>70.08782</td><td>23.7</td><td>1</td><td>1</td><td>1</td><td>1</td></tr>\n",
       "</tbody>\n",
       "</table>\n"
      ],
      "text/latex": [
       "A data.frame: 6 × 12\n",
       "\\begin{tabular}{r|llllllllllll}\n",
       "  & day & date & time & operator & branch & driver & temperature & bill & pizzas & free\\_wine & got\\_wine & discount\\_customer\\\\\n",
       "  & <chr> & <chr> & <dbl> & <chr> & <chr> & <chr> & <dbl> & <dbl> & <int> & <int> & <int> & <int>\\\\\n",
       "\\hline\n",
       "\t21 & Thursday & 01-May-14 & 47.78338 & Melissa & Centre & Mario     & 66.10353 & 63.7 & 2 & 1 & 1 & 1\\\\\n",
       "\t50 & Thursday & 01-May-14 & 48.50989 & Melissa & West   & Mario     & 58.99079 & 43.3 & 2 & 1 & 1 & 1\\\\\n",
       "\t67 & Friday   & 02-May-14 & 26.14416 & Melissa & West   & Salvatore & 47.42635 & 47.0 & 4 & 0 & 0 & 1\\\\\n",
       "\t79 & Friday   & 02-May-14 & 43.55575 & Melissa & East   & Luigi     & 73.97554 & 47.6 & 1 & 1 & 0 & 1\\\\\n",
       "\t96 & Friday   & 02-May-14 & 26.09400 & Melissa & West   & Luigi     & 50.63594 & 43.2 & 5 & 0 & 0 & 0\\\\\n",
       "\t106 & Saturday & 03-May-14 & 45.03009 & Melissa & West   & Mario     & 70.08782 & 23.7 & 1 & 1 & 1 & 1\\\\\n",
       "\\end{tabular}\n"
      ],
      "text/markdown": [
       "\n",
       "A data.frame: 6 × 12\n",
       "\n",
       "| <!--/--> | day &lt;chr&gt; | date &lt;chr&gt; | time &lt;dbl&gt; | operator &lt;chr&gt; | branch &lt;chr&gt; | driver &lt;chr&gt; | temperature &lt;dbl&gt; | bill &lt;dbl&gt; | pizzas &lt;int&gt; | free_wine &lt;int&gt; | got_wine &lt;int&gt; | discount_customer &lt;int&gt; |\n",
       "|---|---|---|---|---|---|---|---|---|---|---|---|---|\n",
       "| 21 | Thursday | 01-May-14 | 47.78338 | Melissa | Centre | Mario     | 66.10353 | 63.7 | 2 | 1 | 1 | 1 |\n",
       "| 50 | Thursday | 01-May-14 | 48.50989 | Melissa | West   | Mario     | 58.99079 | 43.3 | 2 | 1 | 1 | 1 |\n",
       "| 67 | Friday   | 02-May-14 | 26.14416 | Melissa | West   | Salvatore | 47.42635 | 47.0 | 4 | 0 | 0 | 1 |\n",
       "| 79 | Friday   | 02-May-14 | 43.55575 | Melissa | East   | Luigi     | 73.97554 | 47.6 | 1 | 1 | 0 | 1 |\n",
       "| 96 | Friday   | 02-May-14 | 26.09400 | Melissa | West   | Luigi     | 50.63594 | 43.2 | 5 | 0 | 0 | 0 |\n",
       "| 106 | Saturday | 03-May-14 | 45.03009 | Melissa | West   | Mario     | 70.08782 | 23.7 | 1 | 1 | 1 | 1 |\n",
       "\n"
      ],
      "text/plain": [
       "    day      date      time     operator branch driver    temperature bill\n",
       "21  Thursday 01-May-14 47.78338 Melissa  Centre Mario     66.10353    63.7\n",
       "50  Thursday 01-May-14 48.50989 Melissa  West   Mario     58.99079    43.3\n",
       "67  Friday   02-May-14 26.14416 Melissa  West   Salvatore 47.42635    47.0\n",
       "79  Friday   02-May-14 43.55575 Melissa  East   Luigi     73.97554    47.6\n",
       "96  Friday   02-May-14 26.09400 Melissa  West   Luigi     50.63594    43.2\n",
       "106 Saturday 03-May-14 45.03009 Melissa  West   Mario     70.08782    23.7\n",
       "    pizzas free_wine got_wine discount_customer\n",
       "21  2      1         1        1                \n",
       "50  2      1         1        1                \n",
       "67  4      0         0        1                \n",
       "79  1      1         0        1                \n",
       "96  5      0         0        0                \n",
       "106 1      1         1        1                "
      ]
     },
     "metadata": {},
     "output_type": "display_data"
    }
   ],
   "source": [
    "# detetar se existem influenciadores\n",
    "influential <- as.numeric(names(cooksd)[(cooksd > 4 * mean(cooksd, na.rm = T))])\n",
    "# visualizar os influenciadores\n",
    "head(pizza[influential, ])\n"
   ]
  },
  {
   "cell_type": "code",
   "execution_count": 33,
   "metadata": {
    "ExecuteTime": {
     "end_time": "2022-11-20T17:07:15.073595Z",
     "start_time": "2022-11-20T17:07:14.344Z"
    },
    "vscode": {
     "languageId": "r"
    }
   },
   "outputs": [],
   "source": [
    "# avPlots (mps2, id=list (cex=0.75, n=3, method=\"mahal\"))\n",
    "# from car library\n"
   ]
  },
  {
   "cell_type": "code",
   "execution_count": 34,
   "metadata": {
    "ExecuteTime": {
     "end_time": "2022-11-20T17:07:16.624008Z",
     "start_time": "2022-11-20T17:07:15.657Z"
    },
    "vscode": {
     "languageId": "r"
    }
   },
   "outputs": [
    {
     "data": {
      "image/png": "[encoded data removed]",
      "text/plain": [
       "plot without title"
      ]
     },
     "metadata": {
      "image/png": {
       "height": 420,
       "width": 420
      }
     },
     "output_type": "display_data"
    }
   ],
   "source": [
    "crPlots(mps2)\n"
   ]
  },
  {
   "cell_type": "markdown",
   "metadata": {},
   "source": [
    "## Outliers"
   ]
  },
  {
   "cell_type": "code",
   "execution_count": 35,
   "metadata": {
    "ExecuteTime": {
     "end_time": "2022-11-20T17:07:19.077992Z",
     "start_time": "2022-11-20T17:07:19.057Z"
    },
    "vscode": {
     "languageId": "r"
    }
   },
   "outputs": [],
   "source": [
    "pizza <- read.csv(\"pizza_delivery.csv\")\n"
   ]
  },
  {
   "cell_type": "code",
   "execution_count": 36,
   "metadata": {
    "ExecuteTime": {
     "end_time": "2022-11-20T17:07:20.354696Z",
     "start_time": "2022-11-20T17:07:19.976Z"
    },
    "vscode": {
     "languageId": "r"
    }
   },
   "outputs": [
    {
     "data": {
      "text/plain": [
       "No Studentized residuals with Bonferroni p < 0.05\n",
       "Largest |rstudent|:\n",
       "    rstudent unadjusted p-value Bonferroni p\n",
       "127 3.510461         0.00046327       0.5865"
      ]
     },
     "metadata": {},
     "output_type": "display_data"
    }
   ],
   "source": [
    "# vamos fazer um teste de outlier para o modelo ()\n",
    "outlierTest(mps2)\n"
   ]
  },
  {
   "cell_type": "code",
   "execution_count": 37,
   "metadata": {
    "ExecuteTime": {
     "end_time": "2022-11-20T17:07:21.595329Z",
     "start_time": "2022-11-20T17:07:21.305Z"
    },
    "vscode": {
     "languageId": "r"
    }
   },
   "outputs": [],
   "source": [
    "# o output sugere que existem outliers, sendo o valor mais extremo na linha 127\n"
   ]
  },
  {
   "cell_type": "code",
   "execution_count": 38,
   "metadata": {
    "ExecuteTime": {
     "end_time": "2022-11-20T17:07:23.544984Z",
     "start_time": "2022-11-20T17:07:23.497Z"
    },
    "vscode": {
     "languageId": "r"
    }
   },
   "outputs": [
    {
     "data": {
      "image/png": "[encoded data removed]",
      "text/plain": [
       "plot without title"
      ]
     },
     "metadata": {
      "image/png": {
       "height": 420,
       "width": 420
      }
     },
     "output_type": "display_data"
    }
   ],
   "source": [
    "boxplot(pizza$pizzas)\n"
   ]
  },
  {
   "cell_type": "code",
   "execution_count": 39,
   "metadata": {
    "ExecuteTime": {
     "end_time": "2022-11-20T17:07:24.822414Z",
     "start_time": "2022-11-20T17:07:24.233Z"
    },
    "vscode": {
     "languageId": "r"
    }
   },
   "outputs": [
    {
     "data": {
      "image/png": "[encoded data removed]",
      "text/plain": [
       "plot without title"
      ]
     },
     "metadata": {
      "image/png": {
       "height": 420,
       "width": 420
      }
     },
     "output_type": "display_data"
    }
   ],
   "source": [
    "boxplot(pizza$temperature)\n"
   ]
  },
  {
   "cell_type": "code",
   "execution_count": 40,
   "metadata": {
    "ExecuteTime": {
     "end_time": "2022-11-20T17:07:26.053126Z",
     "start_time": "2022-11-20T17:07:25.441Z"
    },
    "vscode": {
     "languageId": "r"
    }
   },
   "outputs": [],
   "source": [
    "# remover outliers\n"
   ]
  },
  {
   "cell_type": "code",
   "execution_count": 41,
   "metadata": {
    "ExecuteTime": {
     "end_time": "2022-11-20T17:07:27.276359Z",
     "start_time": "2022-11-20T17:07:26.833Z"
    },
    "vscode": {
     "languageId": "r"
    }
   },
   "outputs": [
    {
     "data": {
      "text/html": [
       "<style>\n",
       ".list-inline {list-style: none; margin:0; padding: 0}\n",
       ".list-inline>li {display: inline-block}\n",
       ".list-inline>li:not(:last-child)::after {content: \"\\00b7\"; padding: 0 .5ex}\n",
       "</style>\n",
       "<ol class=list-inline><li>9</li><li>9</li><li>11</li><li>8</li><li>8</li><li>9</li><li>9</li><li>8</li><li>8</li></ol>\n"
      ],
      "text/latex": [
       "\\begin{enumerate*}\n",
       "\\item 9\n",
       "\\item 9\n",
       "\\item 11\n",
       "\\item 8\n",
       "\\item 8\n",
       "\\item 9\n",
       "\\item 9\n",
       "\\item 8\n",
       "\\item 8\n",
       "\\end{enumerate*}\n"
      ],
      "text/markdown": [
       "1. 9\n",
       "2. 9\n",
       "3. 11\n",
       "4. 8\n",
       "5. 8\n",
       "6. 9\n",
       "7. 9\n",
       "8. 8\n",
       "9. 8\n",
       "\n",
       "\n"
      ],
      "text/plain": [
       "[1]  9  9 11  8  8  9  9  8  8"
      ]
     },
     "metadata": {},
     "output_type": "display_data"
    }
   ],
   "source": [
    "# obter os valores actuais dos outliers na variável definida \"pizzas\"\n",
    "\n",
    "boxplot(pizza$pizzas, plot = FALSE)$out\n"
   ]
  },
  {
   "cell_type": "code",
   "execution_count": 42,
   "metadata": {
    "ExecuteTime": {
     "end_time": "2022-11-20T17:07:28.529184Z",
     "start_time": "2022-11-20T17:07:27.872Z"
    },
    "vscode": {
     "languageId": "r"
    }
   },
   "outputs": [],
   "source": [
    "# guardar os outliers num vetor\n",
    "\n",
    "outliers <- boxplot(pizza$pizzas, plot = FALSE)$out\n"
   ]
  },
  {
   "cell_type": "code",
   "execution_count": 43,
   "metadata": {
    "ExecuteTime": {
     "end_time": "2022-11-20T17:07:29.782894Z",
     "start_time": "2022-11-20T17:07:29.041Z"
    },
    "vscode": {
     "languageId": "r"
    }
   },
   "outputs": [
    {
     "name": "stdout",
     "output_type": "stream",
     "text": [
      "[1]  9  9 11  8  8  9  9  8  8\n"
     ]
    }
   ],
   "source": [
    "# afixar os outliers\n",
    "\n",
    "print(outliers)\n"
   ]
  },
  {
   "cell_type": "code",
   "execution_count": 44,
   "metadata": {
    "ExecuteTime": {
     "end_time": "2022-11-20T17:07:31.028565Z",
     "start_time": "2022-11-20T17:07:30.241Z"
    },
    "vscode": {
     "languageId": "r"
    }
   },
   "outputs": [
    {
     "data": {
      "text/html": [
       "<table class=\"dataframe\">\n",
       "<caption>A data.frame: 9 × 12</caption>\n",
       "<thead>\n",
       "\t<tr><th></th><th scope=col>day</th><th scope=col>date</th><th scope=col>time</th><th scope=col>operator</th><th scope=col>branch</th><th scope=col>driver</th><th scope=col>temperature</th><th scope=col>bill</th><th scope=col>pizzas</th><th scope=col>free_wine</th><th scope=col>got_wine</th><th scope=col>discount_customer</th></tr>\n",
       "\t<tr><th></th><th scope=col>&lt;chr&gt;</th><th scope=col>&lt;chr&gt;</th><th scope=col>&lt;dbl&gt;</th><th scope=col>&lt;chr&gt;</th><th scope=col>&lt;chr&gt;</th><th scope=col>&lt;chr&gt;</th><th scope=col>&lt;dbl&gt;</th><th scope=col>&lt;dbl&gt;</th><th scope=col>&lt;int&gt;</th><th scope=col>&lt;int&gt;</th><th scope=col>&lt;int&gt;</th><th scope=col>&lt;int&gt;</th></tr>\n",
       "</thead>\n",
       "<tbody>\n",
       "\t<tr><th scope=row>358</th><td>Friday   </td><td>09-May-14</td><td>31.37855</td><td>Melissa</td><td>Centre</td><td>Salvatore</td><td>56.39617</td><td>44.3</td><td> 9</td><td>0</td><td>0</td><td>1</td></tr>\n",
       "\t<tr><th scope=row>530</th><td>Tuesday  </td><td>13-May-14</td><td>35.14902</td><td>Melissa</td><td>Centre</td><td>Mario    </td><td>63.11195</td><td>46.3</td><td> 9</td><td>0</td><td>0</td><td>1</td></tr>\n",
       "\t<tr><th scope=row>560</th><td>Wednesday</td><td>14-May-14</td><td>37.44287</td><td>Melissa</td><td>West  </td><td>Salvatore</td><td>43.25447</td><td>48.4</td><td>11</td><td>0</td><td>0</td><td>0</td></tr>\n",
       "\t<tr><th scope=row>618</th><td>Friday   </td><td>16-May-14</td><td>38.68589</td><td>Laura  </td><td>Centre</td><td>Bruno    </td><td>49.78358</td><td>54.9</td><td> 8</td><td>0</td><td>0</td><td>0</td></tr>\n",
       "\t<tr><th scope=row>643</th><td>Friday   </td><td>16-May-14</td><td>37.21598</td><td>Melissa</td><td>West  </td><td>Mario    </td><td>62.98484</td><td>46.3</td><td> 8</td><td>0</td><td>0</td><td>0</td></tr>\n",
       "\t<tr><th scope=row>857</th><td>Wednesday</td><td>21-May-14</td><td>39.23247</td><td>Melissa</td><td>Centre</td><td>Mario    </td><td>63.34821</td><td>49.1</td><td> 9</td><td>0</td><td>0</td><td>0</td></tr>\n",
       "\t<tr><th scope=row>887</th><td>Thursday </td><td>22-May-14</td><td>36.02981</td><td>Melissa</td><td>West  </td><td>Bruno    </td><td>55.10237</td><td>52.2</td><td> 9</td><td>0</td><td>0</td><td>0</td></tr>\n",
       "\t<tr><th scope=row>971</th><td>Saturday </td><td>24-May-14</td><td>42.86296</td><td>Laura  </td><td>West  </td><td>Bruno    </td><td>64.00714</td><td>48.3</td><td> 8</td><td>1</td><td>0</td><td>0</td></tr>\n",
       "\t<tr><th scope=row>1022</th><td>Sunday   </td><td>25-May-14</td><td>43.63154</td><td>Laura  </td><td>Centre</td><td>Salvatore</td><td>63.37152</td><td>64.4</td><td> 8</td><td>1</td><td>1</td><td>0</td></tr>\n",
       "</tbody>\n",
       "</table>\n"
      ],
      "text/latex": [
       "A data.frame: 9 × 12\n",
       "\\begin{tabular}{r|llllllllllll}\n",
       "  & day & date & time & operator & branch & driver & temperature & bill & pizzas & free\\_wine & got\\_wine & discount\\_customer\\\\\n",
       "  & <chr> & <chr> & <dbl> & <chr> & <chr> & <chr> & <dbl> & <dbl> & <int> & <int> & <int> & <int>\\\\\n",
       "\\hline\n",
       "\t358 & Friday    & 09-May-14 & 31.37855 & Melissa & Centre & Salvatore & 56.39617 & 44.3 &  9 & 0 & 0 & 1\\\\\n",
       "\t530 & Tuesday   & 13-May-14 & 35.14902 & Melissa & Centre & Mario     & 63.11195 & 46.3 &  9 & 0 & 0 & 1\\\\\n",
       "\t560 & Wednesday & 14-May-14 & 37.44287 & Melissa & West   & Salvatore & 43.25447 & 48.4 & 11 & 0 & 0 & 0\\\\\n",
       "\t618 & Friday    & 16-May-14 & 38.68589 & Laura   & Centre & Bruno     & 49.78358 & 54.9 &  8 & 0 & 0 & 0\\\\\n",
       "\t643 & Friday    & 16-May-14 & 37.21598 & Melissa & West   & Mario     & 62.98484 & 46.3 &  8 & 0 & 0 & 0\\\\\n",
       "\t857 & Wednesday & 21-May-14 & 39.23247 & Melissa & Centre & Mario     & 63.34821 & 49.1 &  9 & 0 & 0 & 0\\\\\n",
       "\t887 & Thursday  & 22-May-14 & 36.02981 & Melissa & West   & Bruno     & 55.10237 & 52.2 &  9 & 0 & 0 & 0\\\\\n",
       "\t971 & Saturday  & 24-May-14 & 42.86296 & Laura   & West   & Bruno     & 64.00714 & 48.3 &  8 & 1 & 0 & 0\\\\\n",
       "\t1022 & Sunday    & 25-May-14 & 43.63154 & Laura   & Centre & Salvatore & 63.37152 & 64.4 &  8 & 1 & 1 & 0\\\\\n",
       "\\end{tabular}\n"
      ],
      "text/markdown": [
       "\n",
       "A data.frame: 9 × 12\n",
       "\n",
       "| <!--/--> | day &lt;chr&gt; | date &lt;chr&gt; | time &lt;dbl&gt; | operator &lt;chr&gt; | branch &lt;chr&gt; | driver &lt;chr&gt; | temperature &lt;dbl&gt; | bill &lt;dbl&gt; | pizzas &lt;int&gt; | free_wine &lt;int&gt; | got_wine &lt;int&gt; | discount_customer &lt;int&gt; |\n",
       "|---|---|---|---|---|---|---|---|---|---|---|---|---|\n",
       "| 358 | Friday    | 09-May-14 | 31.37855 | Melissa | Centre | Salvatore | 56.39617 | 44.3 |  9 | 0 | 0 | 1 |\n",
       "| 530 | Tuesday   | 13-May-14 | 35.14902 | Melissa | Centre | Mario     | 63.11195 | 46.3 |  9 | 0 | 0 | 1 |\n",
       "| 560 | Wednesday | 14-May-14 | 37.44287 | Melissa | West   | Salvatore | 43.25447 | 48.4 | 11 | 0 | 0 | 0 |\n",
       "| 618 | Friday    | 16-May-14 | 38.68589 | Laura   | Centre | Bruno     | 49.78358 | 54.9 |  8 | 0 | 0 | 0 |\n",
       "| 643 | Friday    | 16-May-14 | 37.21598 | Melissa | West   | Mario     | 62.98484 | 46.3 |  8 | 0 | 0 | 0 |\n",
       "| 857 | Wednesday | 21-May-14 | 39.23247 | Melissa | Centre | Mario     | 63.34821 | 49.1 |  9 | 0 | 0 | 0 |\n",
       "| 887 | Thursday  | 22-May-14 | 36.02981 | Melissa | West   | Bruno     | 55.10237 | 52.2 |  9 | 0 | 0 | 0 |\n",
       "| 971 | Saturday  | 24-May-14 | 42.86296 | Laura   | West   | Bruno     | 64.00714 | 48.3 |  8 | 1 | 0 | 0 |\n",
       "| 1022 | Sunday    | 25-May-14 | 43.63154 | Laura   | Centre | Salvatore | 63.37152 | 64.4 |  8 | 1 | 1 | 0 |\n",
       "\n"
      ],
      "text/plain": [
       "     day       date      time     operator branch driver    temperature bill\n",
       "358  Friday    09-May-14 31.37855 Melissa  Centre Salvatore 56.39617    44.3\n",
       "530  Tuesday   13-May-14 35.14902 Melissa  Centre Mario     63.11195    46.3\n",
       "560  Wednesday 14-May-14 37.44287 Melissa  West   Salvatore 43.25447    48.4\n",
       "618  Friday    16-May-14 38.68589 Laura    Centre Bruno     49.78358    54.9\n",
       "643  Friday    16-May-14 37.21598 Melissa  West   Mario     62.98484    46.3\n",
       "857  Wednesday 21-May-14 39.23247 Melissa  Centre Mario     63.34821    49.1\n",
       "887  Thursday  22-May-14 36.02981 Melissa  West   Bruno     55.10237    52.2\n",
       "971  Saturday  24-May-14 42.86296 Laura    West   Bruno     64.00714    48.3\n",
       "1022 Sunday    25-May-14 43.63154 Laura    Centre Salvatore 63.37152    64.4\n",
       "     pizzas free_wine got_wine discount_customer\n",
       "358   9     0         0        1                \n",
       "530   9     0         0        1                \n",
       "560  11     0         0        0                \n",
       "618   8     0         0        0                \n",
       "643   8     0         0        0                \n",
       "857   9     0         0        0                \n",
       "887   9     0         0        0                \n",
       "971   8     1         0        0                \n",
       "1022  8     1         1        0                "
      ]
     },
     "metadata": {},
     "output_type": "display_data"
    }
   ],
   "source": [
    "# identificar as linhas onde temos os outliers\n",
    "\n",
    "pizza[which(pizza$pizzas %in% outliers), ]\n"
   ]
  },
  {
   "cell_type": "code",
   "execution_count": 45,
   "metadata": {
    "ExecuteTime": {
     "end_time": "2022-11-20T17:07:32.277227Z",
     "start_time": "2022-11-20T17:07:31.544Z"
    },
    "vscode": {
     "languageId": "r"
    }
   },
   "outputs": [],
   "source": [
    "# remover os outliers do data frame original (atenção que temos \"-which()\")\n",
    "# pizza[which(pizza$pizzas %in% outliers),]\n",
    "pizza <- pizza[-which(pizza$pizzas %in% outliers), ]\n"
   ]
  },
  {
   "cell_type": "code",
   "execution_count": 46,
   "metadata": {
    "ExecuteTime": {
     "end_time": "2022-11-20T17:07:33.553813Z",
     "start_time": "2022-11-20T17:07:33.296Z"
    },
    "vscode": {
     "languageId": "r"
    }
   },
   "outputs": [
    {
     "data": {
      "image/png": "[encoded data removed]",
      "text/plain": [
       "plot without title"
      ]
     },
     "metadata": {
      "image/png": {
       "height": 420,
       "width": 420
      }
     },
     "output_type": "display_data"
    }
   ],
   "source": [
    "# visualizar novamente o boxplot\n",
    "boxplot(pizza$pizzas)\n"
   ]
  },
  {
   "cell_type": "code",
   "execution_count": 47,
   "metadata": {
    "ExecuteTime": {
     "end_time": "2022-11-20T17:07:34.898190Z",
     "start_time": "2022-11-20T17:07:34.169Z"
    },
    "run_control": {
     "marked": true
    },
    "vscode": {
     "languageId": "r"
    }
   },
   "outputs": [
    {
     "data": {
      "text/plain": [
       "\n",
       "Call:\n",
       "lm(formula = time ~ temperature + I(temperature^2) + branch + \n",
       "    day + driver + bill + pizzas, data = pizza)\n",
       "\n",
       "Residuals:\n",
       "     Min       1Q   Median       3Q      Max \n",
       "-13.5653  -3.6698  -0.6165   3.3467  18.2489 \n",
       "\n",
       "Coefficients:\n",
       "                   Estimate Std. Error t value Pr(>|t|)    \n",
       "(Intercept)      -18.478642   8.932786  -2.069 0.038788 *  \n",
       "temperature        1.720494   0.286735   6.000 2.58e-09 ***\n",
       "I(temperature^2)  -0.015418   0.002279  -6.765 2.05e-11 ***\n",
       "branchEast        -1.431866   0.417465  -3.430 0.000624 ***\n",
       "branchWest        -0.212924   0.368651  -0.578 0.563656    \n",
       "dayMonday         -0.956769   0.593499  -1.612 0.107199    \n",
       "daySaturday        0.667061   0.494687   1.348 0.177759    \n",
       "daySunday          0.994798   0.551822   1.803 0.071670 .  \n",
       "dayThursday        0.746135   0.522614   1.428 0.153631    \n",
       "dayTuesday         0.685410   0.598046   1.146 0.251982    \n",
       "dayWednesday       0.309251   0.600103   0.515 0.606415    \n",
       "driverDomenico    -2.138775   0.725002  -2.950 0.003237 ** \n",
       "driverLuigi       -0.873916   0.577043  -1.514 0.130161    \n",
       "driverMario       -0.453205   0.430751  -1.052 0.292947    \n",
       "driverSalvatore   -0.576189   0.429295  -1.342 0.179785    \n",
       "bill               0.117504   0.016055   7.319 4.48e-13 ***\n",
       "pizzas             0.630252   0.122456   5.147 3.08e-07 ***\n",
       "---\n",
       "Signif. codes:  0 '***' 0.001 '**' 0.01 '*' 0.05 '.' 0.1 ' ' 1\n",
       "\n",
       "Residual standard error: 5.281 on 1240 degrees of freedom\n",
       "Multiple R-squared:  0.3423,\tAdjusted R-squared:  0.3338 \n",
       "F-statistic: 40.33 on 16 and 1240 DF,  p-value: < 2.2e-16\n"
      ]
     },
     "metadata": {},
     "output_type": "display_data"
    }
   ],
   "source": [
    "# avaliar o modelo depois de remover os outliers\n",
    "mps2 <- lm(time ~ temperature + I(temperature^2) + branch + day + driver + bill + pizzas, data = pizza)\n",
    "summary(mps2)\n"
   ]
  },
  {
   "cell_type": "code",
   "execution_count": 48,
   "metadata": {
    "ExecuteTime": {
     "end_time": "2022-11-20T17:07:36.337213Z",
     "start_time": "2022-11-20T17:07:35.378Z"
    },
    "vscode": {
     "languageId": "r"
    }
   },
   "outputs": [
    {
     "data": {
      "text/plain": [
       "\n",
       "\tJarque Bera Test\n",
       "\n",
       "data:  mps2$residuals\n",
       "X-squared = 40.999, df = 2, p-value = 1.251e-09\n"
      ]
     },
     "metadata": {},
     "output_type": "display_data"
    }
   ],
   "source": [
    "# os resíduos ainda não verificam a condição de normalidade\n",
    "jarque.bera.test(mps2$residuals)\n"
   ]
  },
  {
   "cell_type": "code",
   "execution_count": 49,
   "metadata": {
    "ExecuteTime": {
     "end_time": "2022-11-20T17:07:37.696265Z",
     "start_time": "2022-11-20T17:07:36.824Z"
    },
    "vscode": {
     "languageId": "r"
    }
   },
   "outputs": [
    {
     "data": {
      "text/plain": [
       "\n",
       "Call:\n",
       "lm(formula = time ~ temperature + I(temperature^2) + branch * \n",
       "    driver + day + bill + pizzas, data = pizza)\n",
       "\n",
       "Residuals:\n",
       "     Min       1Q   Median       3Q      Max \n",
       "-12.5264  -3.6725  -0.5709   3.2948  18.0512 \n",
       "\n",
       "Coefficients:\n",
       "                             Estimate Std. Error t value Pr(>|t|)    \n",
       "(Intercept)                -18.135022   8.971116  -2.021  0.04344 *  \n",
       "temperature                  1.727433   0.287824   6.002 2.56e-09 ***\n",
       "I(temperature^2)            -0.015443   0.002287  -6.751 2.25e-11 ***\n",
       "branchEast                  -3.028157   0.769960  -3.933 8.86e-05 ***\n",
       "branchWest                  -0.558293   0.682003  -0.819  0.41317    \n",
       "driverDomenico              -5.702020   1.448166  -3.937 8.70e-05 ***\n",
       "driverLuigi                 -1.258508   0.945239  -1.331  0.18330    \n",
       "driverMario                 -1.135222   0.698977  -1.624  0.10461    \n",
       "driverSalvatore             -1.109263   0.685458  -1.618  0.10586    \n",
       "dayMonday                   -0.946946   0.590900  -1.603  0.10929    \n",
       "daySaturday                  0.732204   0.493654   1.483  0.13827    \n",
       "daySunday                    0.950867   0.551573   1.724  0.08497 .  \n",
       "dayThursday                  0.816735   0.522099   1.564  0.11800    \n",
       "dayTuesday                   0.763586   0.596923   1.279  0.20107    \n",
       "dayWednesday                 0.346418   0.598131   0.579  0.56258    \n",
       "bill                         0.115142   0.016060   7.169 1.29e-12 ***\n",
       "pizzas                       0.607096   0.122424   4.959 8.08e-07 ***\n",
       "branchEast:driverDomenico    5.141907   1.674814   3.070  0.00219 ** \n",
       "branchWest:driverDomenico    4.086290   1.859923   2.197  0.02820 *  \n",
       "branchEast:driverLuigi       2.318348   1.280688   1.810  0.07050 .  \n",
       "branchWest:driverLuigi      -1.360245   1.350128  -1.007  0.31390    \n",
       "branchEast:driverMario       2.150732   1.014322   2.120  0.03417 *  \n",
       "branchWest:driverMario       0.155998   0.971574   0.161  0.87246    \n",
       "branchEast:driverSalvatore   0.877718   1.056178   0.831  0.40612    \n",
       "branchWest:driverSalvatore   0.807383   0.949579   0.850  0.39535    \n",
       "---\n",
       "Signif. codes:  0 '***' 0.001 '**' 0.01 '*' 0.05 '.' 0.1 ' ' 1\n",
       "\n",
       "Residual standard error: 5.256 on 1232 degrees of freedom\n",
       "Multiple R-squared:  0.3528,\tAdjusted R-squared:  0.3402 \n",
       "F-statistic: 27.98 on 24 and 1232 DF,  p-value: < 2.2e-16\n"
      ]
     },
     "metadata": {},
     "output_type": "display_data"
    }
   ],
   "source": [
    "# modelo de intera-acção\n",
    "mps4 <- lm(time ~ temperature + I(temperature^2) + branch * driver + day + bill + pizzas, data = pizza)\n",
    "summary(mps4)\n"
   ]
  },
  {
   "cell_type": "code",
   "execution_count": 50,
   "metadata": {
    "ExecuteTime": {
     "end_time": "2022-11-20T17:07:39.361600Z",
     "start_time": "2022-11-20T17:07:38.120Z"
    },
    "vscode": {
     "languageId": "r"
    }
   },
   "outputs": [
    {
     "data": {
      "text/plain": [
       "\n",
       "\tJarque Bera Test\n",
       "\n",
       "data:  mps4$residuals\n",
       "X-squared = 41.06, df = 2, p-value = 1.213e-09\n"
      ]
     },
     "metadata": {},
     "output_type": "display_data"
    }
   ],
   "source": [
    "jarque.bera.test(mps4$residuals)\n"
   ]
  },
  {
   "cell_type": "code",
   "execution_count": 51,
   "metadata": {
    "ExecuteTime": {
     "end_time": "2022-11-20T17:07:41.058066Z",
     "start_time": "2022-11-20T17:07:39.888Z"
    },
    "vscode": {
     "languageId": "r"
    }
   },
   "outputs": [
    {
     "data": {
      "text/plain": [
       "\n",
       "Call:\n",
       "lm(formula = log(time) ~ temperature + I(temperature^2) + branch * \n",
       "    driver + day + log(bill) + pizzas, data = pizza)\n",
       "\n",
       "Residuals:\n",
       "     Min       1Q   Median       3Q      Max \n",
       "-0.49690 -0.10329 -0.00625  0.10393  0.56944 \n",
       "\n",
       "Coefficients:\n",
       "                             Estimate Std. Error t value Pr(>|t|)    \n",
       "(Intercept)                 1.069e+00  2.661e-01   4.017 6.25e-05 ***\n",
       "temperature                 6.488e-02  8.729e-03   7.433 1.98e-13 ***\n",
       "I(temperature^2)           -5.723e-04  6.959e-05  -8.224 4.94e-16 ***\n",
       "branchEast                 -8.788e-02  2.290e-02  -3.837 0.000131 ***\n",
       "branchWest                 -1.408e-02  2.027e-02  -0.695 0.487470    \n",
       "driverDomenico             -1.733e-01  4.301e-02  -4.029 5.93e-05 ***\n",
       "driverLuigi                -3.121e-02  2.809e-02  -1.111 0.266898    \n",
       "driverMario                -3.226e-02  2.078e-02  -1.553 0.120725    \n",
       "driverSalvatore            -2.958e-02  2.037e-02  -1.452 0.146627    \n",
       "dayMonday                  -2.905e-02  1.757e-02  -1.654 0.098443 .  \n",
       "daySaturday                 2.266e-02  1.468e-02   1.544 0.122833    \n",
       "daySunday                   2.620e-02  1.640e-02   1.597 0.110445    \n",
       "dayThursday                 2.141e-02  1.552e-02   1.379 0.168031    \n",
       "dayTuesday                  2.077e-02  1.775e-02   1.170 0.242217    \n",
       "dayWednesday                7.387e-03  1.777e-02   0.416 0.677770    \n",
       "log(bill)                   1.716e-01  1.879e-02   9.133  < 2e-16 ***\n",
       "pizzas                      1.648e-02  3.645e-03   4.521 6.76e-06 ***\n",
       "branchEast:driverDomenico   1.614e-01  4.979e-02   3.242 0.001218 ** \n",
       "branchWest:driverDomenico   1.428e-01  5.531e-02   2.582 0.009935 ** \n",
       "branchEast:driverLuigi      7.549e-02  3.809e-02   1.982 0.047684 *  \n",
       "branchWest:driverLuigi     -4.533e-02  4.014e-02  -1.129 0.259013    \n",
       "branchEast:driverMario      6.946e-02  3.017e-02   2.302 0.021482 *  \n",
       "branchWest:driverMario      7.526e-03  2.889e-02   0.261 0.794490    \n",
       "branchEast:driverSalvatore  2.663e-02  3.141e-02   0.848 0.396587    \n",
       "branchWest:driverSalvatore  2.331e-02  2.823e-02   0.826 0.409125    \n",
       "---\n",
       "Signif. codes:  0 '***' 0.001 '**' 0.01 '*' 0.05 '.' 0.1 ' ' 1\n",
       "\n",
       "Residual standard error: 0.1562 on 1232 degrees of freedom\n",
       "Multiple R-squared:  0.4169,\tAdjusted R-squared:  0.4055 \n",
       "F-statistic:  36.7 on 24 and 1232 DF,  p-value: < 2.2e-16\n"
      ]
     },
     "metadata": {},
     "output_type": "display_data"
    }
   ],
   "source": [
    "# vamos logaritmizar as variáveis (time) e (bill) e correr um novo modelo de regressão\n",
    "mps5 <- lm(log(time) ~ temperature + I(temperature^2) + branch * driver + day + log(bill) + pizzas, data = pizza)\n",
    "summary(mps5)\n"
   ]
  },
  {
   "cell_type": "code",
   "execution_count": 52,
   "metadata": {
    "ExecuteTime": {
     "end_time": "2022-11-20T17:07:43.127622Z",
     "start_time": "2022-11-20T17:07:41.521Z"
    },
    "vscode": {
     "languageId": "r"
    }
   },
   "outputs": [
    {
     "data": {
      "text/plain": [
       "\n",
       "\tJarque Bera Test\n",
       "\n",
       "data:  mps5$residuals\n",
       "X-squared = 3.8951, df = 2, p-value = 0.1426\n"
      ]
     },
     "metadata": {},
     "output_type": "display_data"
    }
   ],
   "source": [
    "jarque.bera.test(mps5$residuals)\n"
   ]
  },
  {
   "cell_type": "code",
   "execution_count": 53,
   "metadata": {
    "ExecuteTime": {
     "end_time": "2022-11-20T17:07:45.174157Z",
     "start_time": "2022-11-20T17:07:43.808Z"
    },
    "vscode": {
     "languageId": "r"
    }
   },
   "outputs": [],
   "source": [
    "# finalmente os resíduos são normalmente distribuídos (pressuposto verificado)\n"
   ]
  },
  {
   "cell_type": "markdown",
   "metadata": {},
   "source": [
    "## Previsão"
   ]
  },
  {
   "cell_type": "code",
   "execution_count": 54,
   "metadata": {
    "ExecuteTime": {
     "end_time": "2022-11-20T17:07:47.344660Z",
     "start_time": "2022-11-20T17:07:46.385Z"
    },
    "vscode": {
     "languageId": "r"
    }
   },
   "outputs": [],
   "source": [
    "# previsão in-sample e erros de previsão\n",
    "pr <- predict(mps5, pizza)\n",
    "# pr\n"
   ]
  },
  {
   "cell_type": "code",
   "execution_count": 55,
   "metadata": {
    "ExecuteTime": {
     "end_time": "2022-11-20T17:07:49.493904Z",
     "start_time": "2022-11-20T17:07:47.936Z"
    },
    "vscode": {
     "languageId": "r"
    }
   },
   "outputs": [
    {
     "data": {
      "image/png": "[encoded data removed]",
      "text/plain": [
       "plot without title"
      ]
     },
     "metadata": {
      "image/png": {
       "height": 420,
       "width": 420
      }
     },
     "output_type": "display_data"
    }
   ],
   "source": [
    "# representar os valores observados e os valores préditos\n",
    "plot(pr, type = \"b\", frame = FALSE, pch = 19, col = \"red\", xlab = \"x\", ylab = \"y\")\n",
    "\n",
    "lines(pizza$time, pch = 18, col = \"blue\", type = \"b\", lty = 2)\n",
    "\n",
    "legend(\"topleft\", legend = c(\"Prediction\", \"True value\"), col = c(\"red\", \"blue\"), lty = 1:2, cex = 0.8)\n"
   ]
  },
  {
   "cell_type": "code",
   "execution_count": 56,
   "metadata": {
    "ExecuteTime": {
     "end_time": "2022-11-20T17:07:51.544030Z",
     "start_time": "2022-11-20T17:07:50.272Z"
    },
    "vscode": {
     "languageId": "r"
    }
   },
   "outputs": [
    {
     "data": {
      "image/png": "[encoded data removed]",
      "text/plain": [
       "plot without title"
      ]
     },
     "metadata": {
      "image/png": {
       "height": 420,
       "width": 420
      }
     },
     "output_type": "display_data"
    }
   ],
   "source": [
    "# fazer um zoom na figura (identificar os valores limite no eixo do x)\n",
    "\n",
    "plot(pr, type = \"b\", frame = FALSE, pch = 19, col = \"red\", xlab = \"x\", ylab = \"y\", xlim = c(1000, 1200))\n",
    "\n",
    "lines(pizza$time, pch = 18, col = \"blue\", type = \"b\", lty = 2, xlim = c(1000, 1200))\n",
    "\n",
    "legend(\"topleft\", legend = c(\"Prediction\", \"True value\"), col = c(\"red\", \"blue\"), lty = 1:2, cex = 0.8)\n"
   ]
  },
  {
   "cell_type": "code",
   "execution_count": 57,
   "metadata": {
    "ExecuteTime": {
     "end_time": "2022-11-20T17:07:53.638590Z",
     "start_time": "2022-11-20T17:07:52.162Z"
    },
    "vscode": {
     "languageId": "r"
    }
   },
   "outputs": [
    {
     "data": {
      "image/png": "[encoded data removed]",
      "text/plain": [
       "plot without title"
      ]
     },
     "metadata": {
      "image/png": {
       "height": 420,
       "width": 420
      }
     },
     "output_type": "display_data"
    }
   ],
   "source": [
    "# fazer um zoom na figura (identificar os valores limite no eixo do x) e\n",
    "# fazer a transformação inversa na variável dependente (que foi logaritmizada)\n",
    "\n",
    "plot(exp(pr), type = \"b\", frame = FALSE, pch = 19, col = \"red\", xlab = \"x\", ylab = \"y\", xlim = c(1000, 1200), ylim = c(10, 60))\n",
    "\n",
    "lines(pizza$time, pch = 18, col = \"blue\", type = \"b\", lty = 2, xlim = c(1000, 1200), ylim = c(10, 60))\n",
    "\n",
    "legend(\"topleft\", legend = c(\"Prediction\", \"True value\"), col = c(\"red\", \"blue\"), lty = 1:2, cex = 0.8)\n"
   ]
  },
  {
   "cell_type": "code",
   "execution_count": 58,
   "metadata": {
    "ExecuteTime": {
     "end_time": "2022-11-20T17:07:55.650281Z",
     "start_time": "2022-11-20T17:07:53.016Z"
    },
    "vscode": {
     "languageId": "r"
    }
   },
   "outputs": [
    {
     "data": {
      "text/html": [
       "0.123157106232514"
      ],
      "text/latex": [
       "0.123157106232514"
      ],
      "text/markdown": [
       "0.123157106232514"
      ],
      "text/plain": [
       "[1] 0.1231571"
      ]
     },
     "metadata": {},
     "output_type": "display_data"
    }
   ],
   "source": [
    "# erro de previsão\n",
    "# calcular vários erros de previsão\n",
    "\n",
    "actual <- pizza$time\n",
    "# prediction<-exp(pr)\n",
    "prediction <- exp(mps5$fitted.values)\n",
    "n <- length(pizza$time)\n",
    "\n",
    "# o MAPE é uma das melhores métricas, pois é dada por uma percentagem (não é dependente de escala)\n",
    "MAPE <- (1 / n) * sum(abs((actual - prediction) / actual))\n",
    "MAPE\n"
   ]
  },
  {
   "cell_type": "code",
   "execution_count": 59,
   "metadata": {
    "ExecuteTime": {
     "end_time": "2022-11-20T17:08:00.293612Z",
     "start_time": "2022-11-20T17:08:00.273Z"
    },
    "vscode": {
     "languageId": "r"
    }
   },
   "outputs": [
    {
     "data": {
      "text/html": [
       "4.1139643185077"
      ],
      "text/latex": [
       "4.1139643185077"
      ],
      "text/markdown": [
       "4.1139643185077"
      ],
      "text/plain": [
       "[1] 4.113964"
      ]
     },
     "metadata": {},
     "output_type": "display_data"
    }
   ],
   "source": [
    "MAE <- mean(abs(actual - prediction))\n",
    "MAE\n"
   ]
  },
  {
   "cell_type": "code",
   "execution_count": 60,
   "metadata": {
    "ExecuteTime": {
     "end_time": "2022-11-20T17:08:02.324958Z",
     "start_time": "2022-11-20T17:08:01.576Z"
    },
    "vscode": {
     "languageId": "r"
    }
   },
   "outputs": [
    {
     "data": {
      "text/html": [
       "5.20939345569093"
      ],
      "text/latex": [
       "5.20939345569093"
      ],
      "text/markdown": [
       "5.20939345569093"
      ],
      "text/plain": [
       "[1] 5.209393"
      ]
     },
     "metadata": {},
     "output_type": "display_data"
    }
   ],
   "source": [
    "RMSE <- sqrt(mean((actual - prediction)^2))\n",
    "RMSE\n"
   ]
  },
  {
   "cell_type": "code",
   "execution_count": 61,
   "metadata": {
    "ExecuteTime": {
     "end_time": "2022-11-20T17:08:04.369811Z",
     "start_time": "2022-11-20T17:08:02.928Z"
    },
    "vscode": {
     "languageId": "r"
    }
   },
   "outputs": [
    {
     "name": "stderr",
     "output_type": "stream",
     "text": [
      "Warning message:\n",
      "\"package 'Metrics' was built under R version 4.3.3\"\n"
     ]
    },
    {
     "data": {
      "text/html": [
       "5.20939345569093"
      ],
      "text/latex": [
       "5.20939345569093"
      ],
      "text/markdown": [
       "5.20939345569093"
      ],
      "text/plain": [
       "[1] 5.209393"
      ]
     },
     "metadata": {},
     "output_type": "display_data"
    }
   ],
   "source": [
    "# e agora usando a biblioteca Metrics\n",
    "library(Metrics)\n",
    "result <- rmse(actual, prediction)\n",
    "result\n"
   ]
  },
  {
   "cell_type": "code",
   "execution_count": 62,
   "metadata": {
    "ExecuteTime": {
     "end_time": "2022-11-20T17:08:06.386392Z",
     "start_time": "2022-11-20T17:08:05.048Z"
    },
    "vscode": {
     "languageId": "r"
    }
   },
   "outputs": [
    {
     "data": {
      "text/html": [
       "0.123157106232514"
      ],
      "text/latex": [
       "0.123157106232514"
      ],
      "text/markdown": [
       "0.123157106232514"
      ],
      "text/plain": [
       "[1] 0.1231571"
      ]
     },
     "metadata": {},
     "output_type": "display_data"
    }
   ],
   "source": [
    "result <- mape(actual, prediction)\n",
    "result\n"
   ]
  },
  {
   "cell_type": "markdown",
   "metadata": {},
   "source": [
    "## TPC 1\n",
    "\n",
    "1. Elimina os outliers que correspondem a variável temperature\n",
    "2. Actualiza a base de dados depois de eliminar os outliers\n",
    "3. Determina um novo modelo de regressão linear para a base de dados actualizada\n",
    "4. Verifica os pressupostos dos resíduos\n",
    "5. Determine o erro de previsão em termos percentuais (sobre os valores ajustados - in-sample)\n",
    "6. Faça a previsão do tempo de entrega um passo fora de amostra (out-of-sample)\n",
    "\n"
   ]
  },
  {
   "cell_type": "markdown",
   "metadata": {},
   "source": [
    "## TPC 2\n",
    "\n",
    "1. Importa a base de dados mtcars\n",
    "2. Corre uma regressão linear simples mpg ~ cyl\n",
    "3. Escolha a variável categórica cyl e cria as duas novas variáveis associadas (dummy's)\n",
    "4. Corre a regressão linear com as variáveis dummy."
   ]
  },
  {
   "cell_type": "code",
   "execution_count": null,
   "metadata": {
    "vscode": {
     "languageId": "r"
    }
   },
   "outputs": [],
   "source": []
  }
 ],
 "metadata": {
  "hide_input": false,
  "kernelspec": {
   "display_name": "R",
   "language": "R",
   "name": "ir"
  },
  "language_info": {
   "codemirror_mode": "r",
   "file_extension": ".r",
   "mimetype": "text/x-r-source",
   "name": "R",
   "pygments_lexer": "r",
   "version": "4.3.2"
  },
  "latex_envs": {
   "LaTeX_envs_menu_present": true,
   "autoclose": false,
   "autocomplete": true,
   "bibliofile": "biblio.bib",
   "cite_by": "apalike",
   "current_citInitial": 1,
   "eqLabelWithNumbers": true,
   "eqNumInitial": 1,
   "hotkeys": {
    "equation": "Ctrl-E",
    "itemize": "Ctrl-I"
   },
   "labels_anchors": false,
   "latex_user_defs": false,
   "report_style_numbering": false,
   "user_envs_cfg": false
  },
  "nbTranslate": {
   "displayLangs": [
    "*"
   ],
   "hotkey": "alt-t",
   "langInMainMenu": true,
   "sourceLang": "en",
   "targetLang": "fr",
   "useGoogleTranslate": true
  },
  "toc": {
   "base_numbering": 1,
   "nav_menu": {},
   "number_sections": true,
   "sideBar": true,
   "skip_h1_title": false,
   "title_cell": "Table of Contents",
   "title_sidebar": "Contents",
   "toc_cell": false,
   "toc_position": {},
   "toc_section_display": true,
   "toc_window_display": false
  },
  "varInspector": {
   "cols": {
    "lenName": 16,
    "lenType": 16,
    "lenVar": 40
   },
   "kernels_config": {
    "python": {
     "delete_cmd_postfix": "",
     "delete_cmd_prefix": "del ",
     "library": "var_list.py",
     "varRefreshCmd": "print(var_dic_list())"
    },
    "r": {
     "delete_cmd_postfix": ") ",
     "delete_cmd_prefix": "rm(",
     "library": "var_list.r",
     "varRefreshCmd": "cat(var_dic_list()) "
    }
   },
   "types_to_exclude": [
    "module",
    "function",
    "builtin_function_or_method",
    "instance",
    "_Feature"
   ],
   "window_display": false
  }
 },
 "nbformat": 4,
 "nbformat_minor": 4
}
