{
 "cells": [
  {
   "cell_type": "markdown",
   "id": "bb3c812a",
   "metadata": {},
   "source": [
    "\n",
    " <font size=\"5\"> <div class=\"alert alert-block alert-info\"> Introdução a Modelos Dinâmicos (IMD): Semana 6 (Aula P12) </div> </font> \n",
    "\n",
    "     \n",
    "    \n",
    "  <font size=\"5\"> Licenciatura em Ciência de Dados </font>\n",
    "  \n",
    "  \n",
    "  \n",
    "  <font size=\"4\"> **Diana Aldea Mendes**</font>\n",
    "  \n",
    "  \n",
    "    \n",
    "  <font size=\"3\"> diana.mendes@iscte-iul.pt </font> \n",
    "  \n",
    "  \n",
    "  <font size=\"4\"> ISCTE-IUL, 19 de março de 2024 </font>\n",
    "   \n",
    "   \n",
    " \n",
    "    \n",
    " \n",
    "   \n",
    "  <font size=\"5\"> <div class=\"alert alert-success\" role=\"alert\"> Modelos ARMA/SARIMAX - Exemplos 2 </div></font> "
   ]
  },
  {
   "cell_type": "code",
   "execution_count": null,
   "id": "281ace4f",
   "metadata": {
    "ExecuteTime": {
     "end_time": "2022-12-14T14:56:55.649959Z",
     "start_time": "2022-12-14T14:56:55.288Z"
    },
    "vscode": {
     "languageId": "r"
    }
   },
   "outputs": [
    {
     "name": "stderr",
     "output_type": "stream",
     "text": [
      "Installing package into 'C:/Users/jricv/AppData/Local/R/win-library/4.3'\n",
      "(as 'lib' is unspecified)\n",
      "\n"
     ]
    },
    {
     "name": "stdout",
     "output_type": "stream",
     "text": [
      "package 'AER' successfully unpacked and MD5 sums checked\n",
      "\n",
      "The downloaded binary packages are in\n",
      "\tC:\\Users\\jricv\\AppData\\Local\\Temp\\Rtmpe6U35m\\downloaded_packages\n"
     ]
    },
    {
     "name": "stderr",
     "output_type": "stream",
     "text": [
      "Warning message:\n",
      "\"package 'AER' was built under R version 4.3.3\"\n",
      "Loading required package: sandwich\n",
      "\n",
      "Warning message:\n",
      "\"package 'sandwich' was built under R version 4.3.3\"\n",
      "Loading required package: survival\n",
      "\n"
     ]
    }
   ],
   "source": [
    "library(car)  # para bases de dados e gráficos\n",
    "library(lmtest)  # para testes de hipótese sobre os pressupostos dos resíduos\n",
    "library(tseries)  # teste de Jarque-Bera\n",
    "library(ggplot2)   # gráficos\n",
    "library(tidyr)   # data-frames\n",
    "library(MASS)   # estatística, bases de dados, regressão\n",
    "library(forecast)  # forecast e séries temporais\n",
    "library(Quandl)   # importar dados de Net (Yahoo Finance, FRED)\n",
    "library(TSstudio)   # biblioteca do livro de Rami Krispin, séries temporais\n",
    "library(dplyr)\n",
    "library(tidyverse)\n",
    "library(pdfetch)\n",
    "library(zoo)   # base para séries temporais (date)\n",
    "library(plotly)   # gráficos dinâmicos (geral para R, Python, Julia)\n",
    "library(PerformanceAnalytics)\n",
    "library(dynlm)  # moelos de regressão dinâmica\n",
    "library(urca)   # testes de raiz unitária\n",
    "library(egcm)\n",
    "library(corrplot)  # correlação\n",
    "library(roll)   # rolling windows\n",
    "library(xts)   # base de séries temporais (junto com zoo)\n",
    "library(rlang)\n",
    "library(Metrics)  # métricas de performance\n",
    "library(lubridate)\n",
    "library(astsa)  # acf e pacf (correlograma), séries temporais, bases de dados\n",
    "library(fpp2)\n",
    "#library(aTSA)\n",
    "library(FinTS)\n",
    "install.packages(\"AER\")\n",
    "library(AER) ### macro data\n",
    "#library(skimr)"
   ]
  },
  {
   "cell_type": "code",
   "execution_count": 3,
   "id": "b11b801a",
   "metadata": {
    "ExecuteTime": {
     "end_time": "2022-12-14T14:57:16.683591Z",
     "start_time": "2022-12-14T14:57:16.616Z"
    },
    "vscode": {
     "languageId": "r"
    }
   },
   "outputs": [
    {
     "data": {
      "text/html": [
       "<table class=\"dataframe\">\n",
       "<caption>A Time Series: 6 × 12</caption>\n",
       "<thead>\n",
       "\t<tr><th></th><th scope=col>gdp</th><th scope=col>consumption</th><th scope=col>invest</th><th scope=col>government</th><th scope=col>dpi</th><th scope=col>cpi</th><th scope=col>m1</th><th scope=col>tbill</th><th scope=col>unemp</th><th scope=col>population</th><th scope=col>inflation</th><th scope=col>interest</th></tr>\n",
       "</thead>\n",
       "<tbody>\n",
       "\t<tr><th scope=row>1950 Q1</th><td>1610.5</td><td>1058.9</td><td>198.1</td><td>361.0</td><td>1186.1</td><td>70.6</td><td>110.20</td><td>1.12</td><td>6.4</td><td>149.461</td><td>     NA</td><td>      NA</td></tr>\n",
       "\t<tr><th scope=row>1950 Q2</th><td>1658.8</td><td>1075.9</td><td>220.4</td><td>366.4</td><td>1178.1</td><td>71.4</td><td>111.75</td><td>1.17</td><td>5.6</td><td>150.260</td><td> 4.5071</td><td> -3.3404</td></tr>\n",
       "\t<tr><th scope=row>1950 Q3</th><td>1723.0</td><td>1131.0</td><td>239.7</td><td>359.6</td><td>1196.5</td><td>73.2</td><td>112.95</td><td>1.23</td><td>4.6</td><td>151.064</td><td> 9.9590</td><td> -8.7290</td></tr>\n",
       "\t<tr><th scope=row>1950 Q4</th><td>1753.9</td><td>1097.6</td><td>271.8</td><td>382.5</td><td>1210.0</td><td>74.9</td><td>113.93</td><td>1.35</td><td>4.2</td><td>151.871</td><td> 9.1834</td><td> -7.8301</td></tr>\n",
       "\t<tr><th scope=row>1951 Q1</th><td>1773.5</td><td>1122.8</td><td>242.9</td><td>421.9</td><td>1207.9</td><td>77.3</td><td>115.08</td><td>1.40</td><td>3.5</td><td>152.393</td><td>12.6160</td><td>-11.2160</td></tr>\n",
       "\t<tr><th scope=row>1951 Q2</th><td>1803.7</td><td>1091.4</td><td>249.2</td><td>480.1</td><td>1225.8</td><td>77.6</td><td>116.19</td><td>1.53</td><td>3.1</td><td>152.917</td><td> 1.5494</td><td> -0.0161</td></tr>\n",
       "</tbody>\n",
       "</table>\n"
      ],
      "text/latex": [
       "A Time Series: 6 × 12\n",
       "\\begin{tabular}{r|llllllllllll}\n",
       "  & gdp & consumption & invest & government & dpi & cpi & m1 & tbill & unemp & population & inflation & interest\\\\\n",
       "\\hline\n",
       "\t1950 Q1 & 1610.5 & 1058.9 & 198.1 & 361.0 & 1186.1 & 70.6 & 110.20 & 1.12 & 6.4 & 149.461 &      NA &       NA\\\\\n",
       "\t1950 Q2 & 1658.8 & 1075.9 & 220.4 & 366.4 & 1178.1 & 71.4 & 111.75 & 1.17 & 5.6 & 150.260 &  4.5071 &  -3.3404\\\\\n",
       "\t1950 Q3 & 1723.0 & 1131.0 & 239.7 & 359.6 & 1196.5 & 73.2 & 112.95 & 1.23 & 4.6 & 151.064 &  9.9590 &  -8.7290\\\\\n",
       "\t1950 Q4 & 1753.9 & 1097.6 & 271.8 & 382.5 & 1210.0 & 74.9 & 113.93 & 1.35 & 4.2 & 151.871 &  9.1834 &  -7.8301\\\\\n",
       "\t1951 Q1 & 1773.5 & 1122.8 & 242.9 & 421.9 & 1207.9 & 77.3 & 115.08 & 1.40 & 3.5 & 152.393 & 12.6160 & -11.2160\\\\\n",
       "\t1951 Q2 & 1803.7 & 1091.4 & 249.2 & 480.1 & 1225.8 & 77.6 & 116.19 & 1.53 & 3.1 & 152.917 &  1.5494 &  -0.0161\\\\\n",
       "\\end{tabular}\n"
      ],
      "text/markdown": [
       "\n",
       "A Time Series: 6 × 12\n",
       "\n",
       "| <!--/--> | gdp | consumption | invest | government | dpi | cpi | m1 | tbill | unemp | population | inflation | interest |\n",
       "|---|---|---|---|---|---|---|---|---|---|---|---|---|\n",
       "| 1950 Q1 | 1610.5 | 1058.9 | 198.1 | 361.0 | 1186.1 | 70.6 | 110.20 | 1.12 | 6.4 | 149.461 |      NA |       NA |\n",
       "| 1950 Q2 | 1658.8 | 1075.9 | 220.4 | 366.4 | 1178.1 | 71.4 | 111.75 | 1.17 | 5.6 | 150.260 |  4.5071 |  -3.3404 |\n",
       "| 1950 Q3 | 1723.0 | 1131.0 | 239.7 | 359.6 | 1196.5 | 73.2 | 112.95 | 1.23 | 4.6 | 151.064 |  9.9590 |  -8.7290 |\n",
       "| 1950 Q4 | 1753.9 | 1097.6 | 271.8 | 382.5 | 1210.0 | 74.9 | 113.93 | 1.35 | 4.2 | 151.871 |  9.1834 |  -7.8301 |\n",
       "| 1951 Q1 | 1773.5 | 1122.8 | 242.9 | 421.9 | 1207.9 | 77.3 | 115.08 | 1.40 | 3.5 | 152.393 | 12.6160 | -11.2160 |\n",
       "| 1951 Q2 | 1803.7 | 1091.4 | 249.2 | 480.1 | 1225.8 | 77.6 | 116.19 | 1.53 | 3.1 | 152.917 |  1.5494 |  -0.0161 |\n",
       "\n"
      ],
      "text/plain": [
       "        gdp    consumption invest government dpi    cpi  m1     tbill unemp\n",
       "1950 Q1 1610.5 1058.9      198.1  361.0      1186.1 70.6 110.20 1.12  6.4  \n",
       "1950 Q2 1658.8 1075.9      220.4  366.4      1178.1 71.4 111.75 1.17  5.6  \n",
       "1950 Q3 1723.0 1131.0      239.7  359.6      1196.5 73.2 112.95 1.23  4.6  \n",
       "1950 Q4 1753.9 1097.6      271.8  382.5      1210.0 74.9 113.93 1.35  4.2  \n",
       "1951 Q1 1773.5 1122.8      242.9  421.9      1207.9 77.3 115.08 1.40  3.5  \n",
       "1951 Q2 1803.7 1091.4      249.2  480.1      1225.8 77.6 116.19 1.53  3.1  \n",
       "        population inflation interest\n",
       "1950 Q1 149.461         NA         NA\n",
       "1950 Q2 150.260     4.5071    -3.3404\n",
       "1950 Q3 151.064     9.9590    -8.7290\n",
       "1950 Q4 151.871     9.1834    -7.8301\n",
       "1951 Q1 152.393    12.6160   -11.2160\n",
       "1951 Q2 152.917     1.5494    -0.0161"
      ]
     },
     "metadata": {},
     "output_type": "display_data"
    }
   ],
   "source": [
    "# importar  os dados de AER\n",
    "data(\"USMacroG\")\n",
    "df<- USMacroG\n",
    "head(df)"
   ]
  },
  {
   "cell_type": "code",
   "execution_count": 4,
   "id": "48d487a3",
   "metadata": {
    "ExecuteTime": {
     "end_time": "2022-12-14T14:58:28.365949Z",
     "start_time": "2022-12-14T14:58:28.329Z"
    },
    "scrolled": false,
    "vscode": {
     "languageId": "r"
    }
   },
   "outputs": [
    {
     "data": {
      "text/plain": [
       "      gdp        consumption       invest         government          dpi      \n",
       " Min.   :1610   Min.   :1059   Min.   : 197.7   Min.   : 359.6   Min.   :1178  \n",
       " 1st Qu.:2602   1st Qu.:1640   1st Qu.: 309.3   1st Qu.: 740.6   1st Qu.:1822  \n",
       " Median :4142   Median :2715   Median : 568.5   Median : 952.0   Median :3133  \n",
       " Mean   :4563   Mean   :2999   Mean   : 652.3   Mean   : 997.0   Mean   :3341  \n",
       " 3rd Qu.:6294   3rd Qu.:4235   3rd Qu.: 874.1   3rd Qu.:1300.8   3rd Qu.:4733  \n",
       " Max.   :9304   Max.   :6341   Max.   :1801.6   Max.   :1582.8   Max.   :6635  \n",
       "                                                                               \n",
       "      cpi               m1             tbill            unemp       \n",
       " Min.   : 70.60   Min.   : 110.2   Min.   : 0.810   Min.   : 2.600  \n",
       " 1st Qu.: 91.15   1st Qu.: 147.5   1st Qu.: 3.087   1st Qu.: 4.400  \n",
       " Median :162.10   Median : 284.4   Median : 5.045   Median : 5.600  \n",
       " Mean   :225.82   Mean   : 453.9   Mean   : 5.229   Mean   : 5.675  \n",
       " 3rd Qu.:350.12   3rd Qu.: 764.3   3rd Qu.: 6.645   3rd Qu.: 6.800  \n",
       " Max.   :521.10   Max.   :1152.1   Max.   :15.090   Max.   :10.700  \n",
       "                                                                    \n",
       "   population      inflation         interest       \n",
       " Min.   :149.5   Min.   :-2.530   Min.   :-11.2160  \n",
       " 1st Qu.:185.6   1st Qu.: 1.762   1st Qu.: -0.1583  \n",
       " Median :214.7   Median : 3.138   Median :  1.5133  \n",
       " Mean   :214.0   Mean   : 3.939   Mean   :  1.3112  \n",
       " 3rd Qu.:243.0   3rd Qu.: 5.591   3rd Qu.:  2.9155  \n",
       " Max.   :281.4   Max.   :16.864   Max.   : 10.6262  \n",
       "                 NA's   :1        NA's   :1         "
      ]
     },
     "metadata": {},
     "output_type": "display_data"
    }
   ],
   "source": [
    "summary(USMacroG)"
   ]
  },
  {
   "cell_type": "code",
   "execution_count": 5,
   "id": "422031fa",
   "metadata": {
    "ExecuteTime": {
     "end_time": "2022-12-14T15:00:11.067040Z",
     "start_time": "2022-12-14T15:00:11.018Z"
    },
    "vscode": {
     "languageId": "r"
    }
   },
   "outputs": [
    {
     "data": {
      "text/html": [
       "<table class=\"dataframe\">\n",
       "<caption>A Time Series: 6 × 12</caption>\n",
       "<thead>\n",
       "\t<tr><th></th><th scope=col>gdp</th><th scope=col>consumption</th><th scope=col>invest</th><th scope=col>government</th><th scope=col>dpi</th><th scope=col>cpi</th><th scope=col>m1</th><th scope=col>tbill</th><th scope=col>unemp</th><th scope=col>population</th><th scope=col>inflation</th><th scope=col>interest</th></tr>\n",
       "</thead>\n",
       "<tbody>\n",
       "\t<tr><th scope=row>1950 Q2</th><td>1658.8</td><td>1075.9</td><td>220.4</td><td>366.4</td><td>1178.1</td><td>71.4</td><td>111.75</td><td>1.17</td><td>5.6</td><td>150.260</td><td> 4.5071</td><td> -3.3404</td></tr>\n",
       "\t<tr><th scope=row>1950 Q3</th><td>1723.0</td><td>1131.0</td><td>239.7</td><td>359.6</td><td>1196.5</td><td>73.2</td><td>112.95</td><td>1.23</td><td>4.6</td><td>151.064</td><td> 9.9590</td><td> -8.7290</td></tr>\n",
       "\t<tr><th scope=row>1950 Q4</th><td>1753.9</td><td>1097.6</td><td>271.8</td><td>382.5</td><td>1210.0</td><td>74.9</td><td>113.93</td><td>1.35</td><td>4.2</td><td>151.871</td><td> 9.1834</td><td> -7.8301</td></tr>\n",
       "\t<tr><th scope=row>1951 Q1</th><td>1773.5</td><td>1122.8</td><td>242.9</td><td>421.9</td><td>1207.9</td><td>77.3</td><td>115.08</td><td>1.40</td><td>3.5</td><td>152.393</td><td>12.6160</td><td>-11.2160</td></tr>\n",
       "\t<tr><th scope=row>1951 Q2</th><td>1803.7</td><td>1091.4</td><td>249.2</td><td>480.1</td><td>1225.8</td><td>77.6</td><td>116.19</td><td>1.53</td><td>3.1</td><td>152.917</td><td> 1.5494</td><td> -0.0161</td></tr>\n",
       "\t<tr><th scope=row>1951 Q3</th><td>1839.8</td><td>1103.9</td><td>230.1</td><td>534.2</td><td>1235.8</td><td>78.2</td><td>117.76</td><td>1.63</td><td>3.2</td><td>153.443</td><td> 3.0809</td><td> -1.4542</td></tr>\n",
       "</tbody>\n",
       "</table>\n"
      ],
      "text/latex": [
       "A Time Series: 6 × 12\n",
       "\\begin{tabular}{r|llllllllllll}\n",
       "  & gdp & consumption & invest & government & dpi & cpi & m1 & tbill & unemp & population & inflation & interest\\\\\n",
       "\\hline\n",
       "\t1950 Q2 & 1658.8 & 1075.9 & 220.4 & 366.4 & 1178.1 & 71.4 & 111.75 & 1.17 & 5.6 & 150.260 &  4.5071 &  -3.3404\\\\\n",
       "\t1950 Q3 & 1723.0 & 1131.0 & 239.7 & 359.6 & 1196.5 & 73.2 & 112.95 & 1.23 & 4.6 & 151.064 &  9.9590 &  -8.7290\\\\\n",
       "\t1950 Q4 & 1753.9 & 1097.6 & 271.8 & 382.5 & 1210.0 & 74.9 & 113.93 & 1.35 & 4.2 & 151.871 &  9.1834 &  -7.8301\\\\\n",
       "\t1951 Q1 & 1773.5 & 1122.8 & 242.9 & 421.9 & 1207.9 & 77.3 & 115.08 & 1.40 & 3.5 & 152.393 & 12.6160 & -11.2160\\\\\n",
       "\t1951 Q2 & 1803.7 & 1091.4 & 249.2 & 480.1 & 1225.8 & 77.6 & 116.19 & 1.53 & 3.1 & 152.917 &  1.5494 &  -0.0161\\\\\n",
       "\t1951 Q3 & 1839.8 & 1103.9 & 230.1 & 534.2 & 1235.8 & 78.2 & 117.76 & 1.63 & 3.2 & 153.443 &  3.0809 &  -1.4542\\\\\n",
       "\\end{tabular}\n"
      ],
      "text/markdown": [
       "\n",
       "A Time Series: 6 × 12\n",
       "\n",
       "| <!--/--> | gdp | consumption | invest | government | dpi | cpi | m1 | tbill | unemp | population | inflation | interest |\n",
       "|---|---|---|---|---|---|---|---|---|---|---|---|---|\n",
       "| 1950 Q2 | 1658.8 | 1075.9 | 220.4 | 366.4 | 1178.1 | 71.4 | 111.75 | 1.17 | 5.6 | 150.260 |  4.5071 |  -3.3404 |\n",
       "| 1950 Q3 | 1723.0 | 1131.0 | 239.7 | 359.6 | 1196.5 | 73.2 | 112.95 | 1.23 | 4.6 | 151.064 |  9.9590 |  -8.7290 |\n",
       "| 1950 Q4 | 1753.9 | 1097.6 | 271.8 | 382.5 | 1210.0 | 74.9 | 113.93 | 1.35 | 4.2 | 151.871 |  9.1834 |  -7.8301 |\n",
       "| 1951 Q1 | 1773.5 | 1122.8 | 242.9 | 421.9 | 1207.9 | 77.3 | 115.08 | 1.40 | 3.5 | 152.393 | 12.6160 | -11.2160 |\n",
       "| 1951 Q2 | 1803.7 | 1091.4 | 249.2 | 480.1 | 1225.8 | 77.6 | 116.19 | 1.53 | 3.1 | 152.917 |  1.5494 |  -0.0161 |\n",
       "| 1951 Q3 | 1839.8 | 1103.9 | 230.1 | 534.2 | 1235.8 | 78.2 | 117.76 | 1.63 | 3.2 | 153.443 |  3.0809 |  -1.4542 |\n",
       "\n"
      ],
      "text/plain": [
       "        gdp    consumption invest government dpi    cpi  m1     tbill unemp\n",
       "1950 Q2 1658.8 1075.9      220.4  366.4      1178.1 71.4 111.75 1.17  5.6  \n",
       "1950 Q3 1723.0 1131.0      239.7  359.6      1196.5 73.2 112.95 1.23  4.6  \n",
       "1950 Q4 1753.9 1097.6      271.8  382.5      1210.0 74.9 113.93 1.35  4.2  \n",
       "1951 Q1 1773.5 1122.8      242.9  421.9      1207.9 77.3 115.08 1.40  3.5  \n",
       "1951 Q2 1803.7 1091.4      249.2  480.1      1225.8 77.6 116.19 1.53  3.1  \n",
       "1951 Q3 1839.8 1103.9      230.1  534.2      1235.8 78.2 117.76 1.63  3.2  \n",
       "        population inflation interest\n",
       "1950 Q2 150.260     4.5071    -3.3404\n",
       "1950 Q3 151.064     9.9590    -8.7290\n",
       "1950 Q4 151.871     9.1834    -7.8301\n",
       "1951 Q1 152.393    12.6160   -11.2160\n",
       "1951 Q2 152.917     1.5494    -0.0161\n",
       "1951 Q3 153.443     3.0809    -1.4542"
      ]
     },
     "metadata": {},
     "output_type": "display_data"
    }
   ],
   "source": [
    "df1<-window(df, start=c(1950,2))\n",
    "head(df1)"
   ]
  },
  {
   "cell_type": "code",
   "execution_count": 6,
   "id": "7618810b",
   "metadata": {
    "ExecuteTime": {
     "end_time": "2022-12-14T15:00:27.453368Z",
     "start_time": "2022-12-14T15:00:27.320Z"
    },
    "vscode": {
     "languageId": "r"
    }
   },
   "outputs": [
    {
     "data": {
      "image/png": "[encoded data removed]",
      "text/plain": [
       "plot without title"
      ]
     },
     "metadata": {
      "image/png": {
       "height": 420,
       "width": 420
      }
     },
     "output_type": "display_data"
    }
   ],
   "source": [
    "plot(df1[, c(\"consumption\", \"m1\", \"dpi\", \"gdp\", \"inflation\", \"interest\")])"
   ]
  },
  {
   "cell_type": "code",
   "execution_count": 7,
   "id": "a45b5f7c",
   "metadata": {
    "ExecuteTime": {
     "end_time": "2022-12-14T15:01:27.469900Z",
     "start_time": "2022-12-14T15:01:27.442Z"
    },
    "vscode": {
     "languageId": "r"
    }
   },
   "outputs": [
    {
     "name": "stdout",
     "output_type": "stream",
     "text": [
      " Time-Series [1:203, 1:12] from 1950 to 2001: 1659 1723 1754 1774 1804 ...\n",
      " - attr(*, \"dimnames\")=List of 2\n",
      "  ..$ : NULL\n",
      "  ..$ : chr [1:12] \"gdp\" \"consumption\" \"invest\" \"government\" ...\n"
     ]
    }
   ],
   "source": [
    "str(df1)"
   ]
  },
  {
   "cell_type": "code",
   "execution_count": 8,
   "id": "ef747b50",
   "metadata": {
    "ExecuteTime": {
     "end_time": "2022-12-14T15:02:28.175364Z",
     "start_time": "2022-12-14T15:02:28.153Z"
    },
    "vscode": {
     "languageId": "r"
    }
   },
   "outputs": [],
   "source": [
    "# separar em conjunto de treino e conjunto de teste, vamos usar a função window\n",
    "\n",
    "# conjunto de treino\n",
    "train = window(df1, start=c(1950,2), end=c(1995,4))\n",
    "\n",
    "# conjunto de teste\n",
    "\n",
    "test = window(df1, start=c(1996,1), end=c(2000,4))"
   ]
  },
  {
   "cell_type": "code",
   "execution_count": 9,
   "id": "723f96cb",
   "metadata": {
    "ExecuteTime": {
     "end_time": "2022-12-14T15:02:30.512444Z",
     "start_time": "2022-12-14T15:02:30.460Z"
    },
    "vscode": {
     "languageId": "r"
    }
   },
   "outputs": [
    {
     "data": {
      "text/html": [
       "<table class=\"dataframe\">\n",
       "<caption>A Time Series: 6 × 12</caption>\n",
       "<thead>\n",
       "\t<tr><th></th><th scope=col>gdp</th><th scope=col>consumption</th><th scope=col>invest</th><th scope=col>government</th><th scope=col>dpi</th><th scope=col>cpi</th><th scope=col>m1</th><th scope=col>tbill</th><th scope=col>unemp</th><th scope=col>population</th><th scope=col>inflation</th><th scope=col>interest</th></tr>\n",
       "</thead>\n",
       "<tbody>\n",
       "\t<tr><th scope=row>1950 Q2</th><td>1658.8</td><td>1075.9</td><td>220.4</td><td>366.4</td><td>1178.1</td><td>71.4</td><td>111.75</td><td>1.17</td><td>5.6</td><td>150.260</td><td> 4.5071</td><td> -3.3404</td></tr>\n",
       "\t<tr><th scope=row>1950 Q3</th><td>1723.0</td><td>1131.0</td><td>239.7</td><td>359.6</td><td>1196.5</td><td>73.2</td><td>112.95</td><td>1.23</td><td>4.6</td><td>151.064</td><td> 9.9590</td><td> -8.7290</td></tr>\n",
       "\t<tr><th scope=row>1950 Q4</th><td>1753.9</td><td>1097.6</td><td>271.8</td><td>382.5</td><td>1210.0</td><td>74.9</td><td>113.93</td><td>1.35</td><td>4.2</td><td>151.871</td><td> 9.1834</td><td> -7.8301</td></tr>\n",
       "\t<tr><th scope=row>1951 Q1</th><td>1773.5</td><td>1122.8</td><td>242.9</td><td>421.9</td><td>1207.9</td><td>77.3</td><td>115.08</td><td>1.40</td><td>3.5</td><td>152.393</td><td>12.6160</td><td>-11.2160</td></tr>\n",
       "\t<tr><th scope=row>1951 Q2</th><td>1803.7</td><td>1091.4</td><td>249.2</td><td>480.1</td><td>1225.8</td><td>77.6</td><td>116.19</td><td>1.53</td><td>3.1</td><td>152.917</td><td> 1.5494</td><td> -0.0161</td></tr>\n",
       "\t<tr><th scope=row>1951 Q3</th><td>1839.8</td><td>1103.9</td><td>230.1</td><td>534.2</td><td>1235.8</td><td>78.2</td><td>117.76</td><td>1.63</td><td>3.2</td><td>153.443</td><td> 3.0809</td><td> -1.4542</td></tr>\n",
       "</tbody>\n",
       "</table>\n"
      ],
      "text/latex": [
       "A Time Series: 6 × 12\n",
       "\\begin{tabular}{r|llllllllllll}\n",
       "  & gdp & consumption & invest & government & dpi & cpi & m1 & tbill & unemp & population & inflation & interest\\\\\n",
       "\\hline\n",
       "\t1950 Q2 & 1658.8 & 1075.9 & 220.4 & 366.4 & 1178.1 & 71.4 & 111.75 & 1.17 & 5.6 & 150.260 &  4.5071 &  -3.3404\\\\\n",
       "\t1950 Q3 & 1723.0 & 1131.0 & 239.7 & 359.6 & 1196.5 & 73.2 & 112.95 & 1.23 & 4.6 & 151.064 &  9.9590 &  -8.7290\\\\\n",
       "\t1950 Q4 & 1753.9 & 1097.6 & 271.8 & 382.5 & 1210.0 & 74.9 & 113.93 & 1.35 & 4.2 & 151.871 &  9.1834 &  -7.8301\\\\\n",
       "\t1951 Q1 & 1773.5 & 1122.8 & 242.9 & 421.9 & 1207.9 & 77.3 & 115.08 & 1.40 & 3.5 & 152.393 & 12.6160 & -11.2160\\\\\n",
       "\t1951 Q2 & 1803.7 & 1091.4 & 249.2 & 480.1 & 1225.8 & 77.6 & 116.19 & 1.53 & 3.1 & 152.917 &  1.5494 &  -0.0161\\\\\n",
       "\t1951 Q3 & 1839.8 & 1103.9 & 230.1 & 534.2 & 1235.8 & 78.2 & 117.76 & 1.63 & 3.2 & 153.443 &  3.0809 &  -1.4542\\\\\n",
       "\\end{tabular}\n"
      ],
      "text/markdown": [
       "\n",
       "A Time Series: 6 × 12\n",
       "\n",
       "| <!--/--> | gdp | consumption | invest | government | dpi | cpi | m1 | tbill | unemp | population | inflation | interest |\n",
       "|---|---|---|---|---|---|---|---|---|---|---|---|---|\n",
       "| 1950 Q2 | 1658.8 | 1075.9 | 220.4 | 366.4 | 1178.1 | 71.4 | 111.75 | 1.17 | 5.6 | 150.260 |  4.5071 |  -3.3404 |\n",
       "| 1950 Q3 | 1723.0 | 1131.0 | 239.7 | 359.6 | 1196.5 | 73.2 | 112.95 | 1.23 | 4.6 | 151.064 |  9.9590 |  -8.7290 |\n",
       "| 1950 Q4 | 1753.9 | 1097.6 | 271.8 | 382.5 | 1210.0 | 74.9 | 113.93 | 1.35 | 4.2 | 151.871 |  9.1834 |  -7.8301 |\n",
       "| 1951 Q1 | 1773.5 | 1122.8 | 242.9 | 421.9 | 1207.9 | 77.3 | 115.08 | 1.40 | 3.5 | 152.393 | 12.6160 | -11.2160 |\n",
       "| 1951 Q2 | 1803.7 | 1091.4 | 249.2 | 480.1 | 1225.8 | 77.6 | 116.19 | 1.53 | 3.1 | 152.917 |  1.5494 |  -0.0161 |\n",
       "| 1951 Q3 | 1839.8 | 1103.9 | 230.1 | 534.2 | 1235.8 | 78.2 | 117.76 | 1.63 | 3.2 | 153.443 |  3.0809 |  -1.4542 |\n",
       "\n"
      ],
      "text/plain": [
       "        gdp    consumption invest government dpi    cpi  m1     tbill unemp\n",
       "1950 Q2 1658.8 1075.9      220.4  366.4      1178.1 71.4 111.75 1.17  5.6  \n",
       "1950 Q3 1723.0 1131.0      239.7  359.6      1196.5 73.2 112.95 1.23  4.6  \n",
       "1950 Q4 1753.9 1097.6      271.8  382.5      1210.0 74.9 113.93 1.35  4.2  \n",
       "1951 Q1 1773.5 1122.8      242.9  421.9      1207.9 77.3 115.08 1.40  3.5  \n",
       "1951 Q2 1803.7 1091.4      249.2  480.1      1225.8 77.6 116.19 1.53  3.1  \n",
       "1951 Q3 1839.8 1103.9      230.1  534.2      1235.8 78.2 117.76 1.63  3.2  \n",
       "        population inflation interest\n",
       "1950 Q2 150.260     4.5071    -3.3404\n",
       "1950 Q3 151.064     9.9590    -8.7290\n",
       "1950 Q4 151.871     9.1834    -7.8301\n",
       "1951 Q1 152.393    12.6160   -11.2160\n",
       "1951 Q2 152.917     1.5494    -0.0161\n",
       "1951 Q3 153.443     3.0809    -1.4542"
      ]
     },
     "metadata": {},
     "output_type": "display_data"
    }
   ],
   "source": [
    "# primeiras observações do conjunto de treino\n",
    "\n",
    "head(train)"
   ]
  },
  {
   "cell_type": "markdown",
   "id": "11a16cde",
   "metadata": {},
   "source": [
    "## Modelo ARIMA e previsão para a série temporal \"consumption\""
   ]
  },
  {
   "cell_type": "code",
   "execution_count": null,
   "id": "96f5f3e1",
   "metadata": {
    "ExecuteTime": {
     "end_time": "2022-12-14T15:03:46.592704Z",
     "start_time": "2022-12-14T15:03:46.449Z"
    },
    "vscode": {
     "languageId": "r"
    }
   },
   "outputs": [
    {
     "data": {
      "text/plain": [
       "Series: tsc \n",
       "ARIMA(2,2,1) \n",
       "\n",
       "Coefficients:\n",
       "         ar1     ar2      ma1\n",
       "      0.1434  0.2168  -0.9672\n",
       "s.e.  0.0769  0.0772   0.0197\n",
       "\n",
       "sigma^2 = 442.4:  log likelihood = -807.68\n",
       "AIC=1623.36   AICc=1623.59   BIC=1636.16\n",
       "\n",
       "Training set error measures:\n",
       "                  ME     RMSE     MAE        MPE      MAPE      MASE\n",
       "Training set 1.80714 20.74466 15.1324 0.05015966 0.6200162 0.1653038\n",
       "                    ACF1\n",
       "Training set -0.02179196"
      ]
     },
     "metadata": {},
     "output_type": "display_data"
    }
   ],
   "source": [
    "# isolar a série temporal \"consumption\" e usar auto.arima para ajustar o melhor modelo sobre o conjunto de treino\n",
    "tsc <- train[ ,c(\"consumption\")]\n",
    "arima_model <- auto.arima(tsc)\n",
    "summary(arima_model)"
   ]
  },
  {
   "cell_type": "code",
   "execution_count": 11,
   "id": "24129a79",
   "metadata": {
    "ExecuteTime": {
     "end_time": "2022-12-14T15:06:05.542028Z",
     "start_time": "2022-12-14T15:06:04.689Z"
    },
    "vscode": {
     "languageId": "r"
    }
   },
   "outputs": [
    {
     "data": {
      "image/png": "[encoded data removed]",
      "text/plain": [
       "plot without title"
      ]
     },
     "metadata": {
      "image/png": {
       "height": 240,
       "width": 360
      }
     },
     "output_type": "display_data"
    }
   ],
   "source": [
    "# visualizar os valores do conjunto de treino e os valores ajustados (fitted) pelo modelo Arima\n",
    "options(repr.plot.width=6, repr.plot.height=4)\n",
    "autoplot(tsc, series=\"original\") + autolayer(fitted(arima_model), series=\"fitted\")"
   ]
  },
  {
   "cell_type": "code",
   "execution_count": null,
   "id": "033db600",
   "metadata": {
    "ExecuteTime": {
     "end_time": "2022-12-14T15:09:33.980726Z",
     "start_time": "2022-12-14T15:09:33.907Z"
    },
    "vscode": {
     "languageId": "r"
    }
   },
   "outputs": [
    {
     "data": {
      "text/html": [
       "0.0420385997363265"
      ],
      "text/latex": [
       "0.0420385997363265"
      ],
      "text/markdown": [
       "0.0420385997363265"
      ],
      "text/plain": [
       "[1] 0.0420386"
      ]
     },
     "metadata": {},
     "output_type": "display_data"
    }
   ],
   "source": [
    "# forecast sobre o conjunto de teste (20 observações)\n",
    "fore_arima = forecast::forecast(arima_model, h=20)\n",
    "\n",
    "# no conjunto de teste, considerar apaenas a variável de interesse (consumption)\n",
    "test2 <-test[ ,c(\"consumption\")]\n",
    "\n",
    "# isolar os valores preditos\n",
    "df_fcst = as.data.frame(fore_arima)\n",
    "\n",
    "# calcular o MAPE para os valores preditos com o modelo ARIMA e o conjunto de teste\n",
    "mape(test2, df_fcst$'Point Forecast')"
   ]
  },
  {
   "cell_type": "code",
   "execution_count": 13,
   "id": "e6c41cdf",
   "metadata": {
    "ExecuteTime": {
     "end_time": "2022-12-14T15:10:34.248427Z",
     "start_time": "2022-12-14T15:10:33.928Z"
    },
    "vscode": {
     "languageId": "r"
    }
   },
   "outputs": [
    {
     "data": {
      "image/png": "[encoded data removed]",
      "text/plain": [
       "plot without title"
      ]
     },
     "metadata": {
      "image/png": {
       "height": 240,
       "width": 360
      }
     },
     "output_type": "display_data"
    }
   ],
   "source": [
    "# comparar graficamente os valores preditos e o conjunto de teste\n",
    "arima_model %>%\n",
    "forecast(h=20) %>%\n",
    "autoplot() + autolayer(test2)"
   ]
  },
  {
   "cell_type": "markdown",
   "id": "64399a01",
   "metadata": {},
   "source": [
    "## Regressão com séries temporais"
   ]
  },
  {
   "cell_type": "code",
   "execution_count": 14,
   "id": "3e978cd8",
   "metadata": {
    "ExecuteTime": {
     "end_time": "2022-12-14T15:15:06.656042Z",
     "start_time": "2022-12-14T15:15:06.569Z"
    },
    "vscode": {
     "languageId": "r"
    }
   },
   "outputs": [
    {
     "data": {
      "text/plain": [
       "\n",
       "Time series regression with \"ts\" data:\n",
       "Start = 1950(3), End = 1995(4)\n",
       "\n",
       "Call:\n",
       "dynlm(formula = consumption ~ dpi + L(dpi) + L(consumption), \n",
       "    data = train)\n",
       "\n",
       "Residuals:\n",
       "    Min      1Q  Median      3Q     Max \n",
       "-68.976  -9.011   0.419   9.624  53.855 \n",
       "\n",
       "Coefficients:\n",
       "               Estimate Std. Error t value Pr(>|t|)    \n",
       "(Intercept)     2.10493    3.49524   0.602    0.548    \n",
       "dpi             0.34335    0.04697   7.310 8.70e-12 ***\n",
       "L(dpi)         -0.30167    0.04952  -6.092 6.71e-09 ***\n",
       "L(consumption)  0.95752    0.02907  32.939  < 2e-16 ***\n",
       "---\n",
       "Signif. codes:  0 '***' 0.001 '**' 0.01 '*' 0.05 '.' 0.1 ' ' 1\n",
       "\n",
       "Residual standard error: 18.77 on 178 degrees of freedom\n",
       "Multiple R-squared:  0.9998,\tAdjusted R-squared:  0.9998 \n",
       "F-statistic: 2.467e+05 on 3 and 178 DF,  p-value: < 2.2e-16\n"
      ]
     },
     "metadata": {},
     "output_type": "display_data"
    }
   ],
   "source": [
    "library(dynlm) # package para regressão de séries temporais\n",
    "\n",
    "# modelo 1 (lag na variável independente)\n",
    "cons_lm1 <- dynlm(consumption ~ dpi + L(dpi)+L(consumption), data = train) # note L() para crear variaveis desfasadas (lag)\n",
    "summary(cons_lm1)"
   ]
  },
  {
   "cell_type": "code",
   "execution_count": 15,
   "id": "447780c1",
   "metadata": {
    "ExecuteTime": {
     "end_time": "2022-12-14T15:16:12.075925Z",
     "start_time": "2022-12-14T15:16:11.997Z"
    },
    "vscode": {
     "languageId": "r"
    }
   },
   "outputs": [
    {
     "data": {
      "image/png": "[encoded data removed]",
      "text/plain": [
       "plot without title"
      ]
     },
     "metadata": {
      "image/png": {
       "height": 240,
       "width": 360
      }
     },
     "output_type": "display_data"
    }
   ],
   "source": [
    "# previsão sobre o conjunto de test (o mesmo que no caso univariado)\n",
    "ml1<-predict(cons_lm1,newdata=test)\n",
    "plot(ml1)"
   ]
  },
  {
   "cell_type": "code",
   "execution_count": null,
   "id": "2082d60e",
   "metadata": {
    "ExecuteTime": {
     "end_time": "2022-12-14T15:16:54.640646Z",
     "start_time": "2022-12-14T15:16:54.584Z"
    },
    "vscode": {
     "languageId": "r"
    }
   },
   "outputs": [
    {
     "data": {
      "text/plain": [
       "\n",
       "Time series regression with \"ts\" data:\n",
       "Start = 1950(3), End = 1995(4)\n",
       "\n",
       "Call:\n",
       "dynlm(formula = consumption ~ dpi + L(consumption), data = train)\n",
       "\n",
       "Residuals:\n",
       "    Min      1Q  Median      3Q     Max \n",
       "-94.959  -9.328   1.030  13.619  45.820 \n",
       "\n",
       "Coefficients:\n",
       "               Estimate Std. Error t value Pr(>|t|)    \n",
       "(Intercept)     4.42806    3.80875   1.163 0.246538    \n",
       "dpi             0.09789    0.02646   3.699 0.000287 ***\n",
       "L(consumption)  0.89565    0.02986  29.996  < 2e-16 ***\n",
       "---\n",
       "Signif. codes:  0 '***' 0.001 '**' 0.01 '*' 0.05 '.' 0.1 ' ' 1\n",
       "\n",
       "Residual standard error: 20.58 on 179 degrees of freedom\n",
       "Multiple R-squared:  0.9997,\tAdjusted R-squared:  0.9997 \n",
       "F-statistic: 3.079e+05 on 2 and 179 DF,  p-value: < 2.2e-16\n"
      ]
     },
     "metadata": {},
     "output_type": "display_data"
    }
   ],
   "source": [
    "# modelo 2 (lag na variável dependente)\n",
    "cons_lm2 <- dynlm(consumption ~ dpi + L(consumption),  data = train)\n",
    "summary(cons_lm2)"
   ]
  },
  {
   "cell_type": "code",
   "execution_count": 17,
   "id": "1a4f2baf",
   "metadata": {
    "ExecuteTime": {
     "end_time": "2022-12-14T15:17:00.035045Z",
     "start_time": "2022-12-14T15:16:59.977Z"
    },
    "vscode": {
     "languageId": "r"
    }
   },
   "outputs": [
    {
     "data": {
      "image/png": "[encoded data removed]",
      "text/plain": [
       "plot without title"
      ]
     },
     "metadata": {
      "image/png": {
       "height": 240,
       "width": 360
      }
     },
     "output_type": "display_data"
    }
   ],
   "source": [
    "# previsão sobre o conjunto de teste\n",
    "ml2<- predict(cons_lm2,newdata=test)\n",
    "plot(ml2)"
   ]
  },
  {
   "cell_type": "code",
   "execution_count": null,
   "id": "f04f424e",
   "metadata": {
    "ExecuteTime": {
     "end_time": "2022-12-14T15:17:02.934910Z",
     "start_time": "2022-12-14T15:17:02.809Z"
    },
    "vscode": {
     "languageId": "r"
    }
   },
   "outputs": [
    {
     "data": {
      "image/png": "[encoded data removed]",
      "text/plain": [
       "plot without title"
      ]
     },
     "metadata": {
      "image/png": {
       "height": 360,
       "width": 360
      }
     },
     "output_type": "display_data"
    }
   ],
   "source": [
    "# comparar as previsões\n",
    "options(repr.plot.width=6, repr.plot.height=6)\n",
    "dd<-cbind(test2,ml1,ml2)\n",
    "matplot(dd, type = \"b\", pch=1,col = 1:3)\n",
    "legend(\"topleft\", legend = c(\"test\",\"ml1\",\"ml2\"), col=1:3, pch=1)"
   ]
  }
 ],
 "metadata": {
  "hide_input": false,
  "kernelspec": {
   "display_name": "R",
   "language": "R",
   "name": "ir"
  },
  "language_info": {
   "codemirror_mode": "r",
   "file_extension": ".r",
   "mimetype": "text/x-r-source",
   "name": "R",
   "pygments_lexer": "r",
   "version": "4.3.2"
  },
  "latex_envs": {
   "LaTeX_envs_menu_present": true,
   "autoclose": false,
   "autocomplete": true,
   "bibliofile": "biblio.bib",
   "cite_by": "apalike",
   "current_citInitial": 1,
   "eqLabelWithNumbers": true,
   "eqNumInitial": 1,
   "hotkeys": {
    "equation": "Ctrl-E",
    "itemize": "Ctrl-I"
   },
   "labels_anchors": false,
   "latex_user_defs": false,
   "report_style_numbering": false,
   "user_envs_cfg": false
  },
  "nbTranslate": {
   "displayLangs": [
    "*"
   ],
   "hotkey": "alt-t",
   "langInMainMenu": true,
   "sourceLang": "en",
   "targetLang": "fr",
   "useGoogleTranslate": true
  },
  "toc": {
   "base_numbering": 1,
   "nav_menu": {},
   "number_sections": true,
   "sideBar": true,
   "skip_h1_title": false,
   "title_cell": "Table of Contents",
   "title_sidebar": "Contents",
   "toc_cell": false,
   "toc_position": {},
   "toc_section_display": true,
   "toc_window_display": false
  },
  "varInspector": {
   "cols": {
    "lenName": 16,
    "lenType": 16,
    "lenVar": 40
   },
   "kernels_config": {
    "python": {
     "delete_cmd_postfix": "",
     "delete_cmd_prefix": "del ",
     "library": "var_list.py",
     "varRefreshCmd": "print(var_dic_list())"
    },
    "r": {
     "delete_cmd_postfix": ") ",
     "delete_cmd_prefix": "rm(",
     "library": "var_list.r",
     "varRefreshCmd": "cat(var_dic_list()) "
    }
   },
   "types_to_exclude": [
    "module",
    "function",
    "builtin_function_or_method",
    "instance",
    "_Feature"
   ],
   "window_display": false
  }
 },
 "nbformat": 4,
 "nbformat_minor": 5
}
