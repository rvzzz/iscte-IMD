{
 "cells": [
  {
   "cell_type": "markdown",
   "metadata": {},
   "source": [
    " \n",
    "<font size=\"5\"> <div class=\"alert alert-block alert-info\"> Introdução a Modelos Dinâmicos (IMD): Semana 2 (Aula P3) </div> </font> \n",
    "\n",
    "         \n",
    "  <font size=\"5\"> Licenciatura em Ciência de Dados </font>\n",
    "  \n",
    "  \n",
    "  <font size=\"4\"> **Diana Aldea Mendes**</font>\n",
    "  \n",
    "    \n",
    "  <font size=\"3\"> diana.mendes@iscte-iul.pt </font> \n",
    "  \n",
    "  \n",
    "  <font size=\"4\"> ISCTE-IUL, 19 de fevereiro de 2024 </font>\n",
    "     \n",
    " \n",
    " \n",
    "  <font size=\"5\"> <div class=\"alert alert-success\" role=\"alert\"> Regressão Linear Simples </div></font> \n",
    "  \n",
    "\n",
    "  "
   ]
  },
  {
   "cell_type": "code",
   "execution_count": null,
   "metadata": {
    "ExecuteTime": {
     "end_time": "2022-11-13T18:27:17.845009Z",
     "start_time": "2022-11-13T18:27:17.819Z"
    },
    "vscode": {
     "languageId": "r"
    }
   },
   "outputs": [],
   "source": [
    "# carregar as bibliotecas que vamos usar neste notebook / script\n",
    "\n",
    "library(dplyr) # para importar data frames\n",
    "library(tidyr)\n",
    "library(gmodels)\n",
    "library(matrixStats)\n",
    "library(corrplot)\n",
    "library(MASS) # very large collection of data sets and functions.\n"
   ]
  },
  {
   "cell_type": "markdown",
   "metadata": {},
   "source": [
    "## Tabela de dados"
   ]
  },
  {
   "cell_type": "code",
   "execution_count": 1,
   "metadata": {
    "ExecuteTime": {
     "end_time": "2022-11-13T18:27:22.493841Z",
     "start_time": "2022-11-13T18:27:22.459Z"
    },
    "vscode": {
     "languageId": "r"
    }
   },
   "outputs": [
    {
     "data": {
      "text/html": [
       "<table class=\"dataframe\">\n",
       "<caption>A data.frame: 23 × 2</caption>\n",
       "<thead>\n",
       "\t<tr><th scope=col>driving</th><th scope=col>premium</th></tr>\n",
       "\t<tr><th scope=col>&lt;dbl&gt;</th><th scope=col>&lt;dbl&gt;</th></tr>\n",
       "</thead>\n",
       "<tbody>\n",
       "\t<tr><td> 5</td><td>64</td></tr>\n",
       "\t<tr><td> 2</td><td>57</td></tr>\n",
       "\t<tr><td>12</td><td>50</td></tr>\n",
       "\t<tr><td> 9</td><td>71</td></tr>\n",
       "\t<tr><td>15</td><td>44</td></tr>\n",
       "\t<tr><td> 6</td><td>56</td></tr>\n",
       "\t<tr><td>25</td><td>42</td></tr>\n",
       "\t<tr><td>16</td><td>60</td></tr>\n",
       "\t<tr><td>23</td><td>34</td></tr>\n",
       "\t<tr><td>21</td><td>54</td></tr>\n",
       "\t<tr><td>16</td><td>44</td></tr>\n",
       "\t<tr><td>17</td><td>61</td></tr>\n",
       "\t<tr><td>23</td><td>39</td></tr>\n",
       "\t<tr><td>18</td><td>43</td></tr>\n",
       "\t<tr><td>21</td><td>52</td></tr>\n",
       "\t<tr><td>11</td><td>38</td></tr>\n",
       "\t<tr><td>29</td><td>41</td></tr>\n",
       "\t<tr><td>19</td><td>48</td></tr>\n",
       "\t<tr><td> 6</td><td>32</td></tr>\n",
       "\t<tr><td>23</td><td>41</td></tr>\n",
       "\t<tr><td>12</td><td>28</td></tr>\n",
       "\t<tr><td> 7</td><td>29</td></tr>\n",
       "\t<tr><td> 8</td><td>21</td></tr>\n",
       "</tbody>\n",
       "</table>\n"
      ],
      "text/latex": [
       "A data.frame: 23 × 2\n",
       "\\begin{tabular}{ll}\n",
       " driving & premium\\\\\n",
       " <dbl> & <dbl>\\\\\n",
       "\\hline\n",
       "\t  5 & 64\\\\\n",
       "\t  2 & 57\\\\\n",
       "\t 12 & 50\\\\\n",
       "\t  9 & 71\\\\\n",
       "\t 15 & 44\\\\\n",
       "\t  6 & 56\\\\\n",
       "\t 25 & 42\\\\\n",
       "\t 16 & 60\\\\\n",
       "\t 23 & 34\\\\\n",
       "\t 21 & 54\\\\\n",
       "\t 16 & 44\\\\\n",
       "\t 17 & 61\\\\\n",
       "\t 23 & 39\\\\\n",
       "\t 18 & 43\\\\\n",
       "\t 21 & 52\\\\\n",
       "\t 11 & 38\\\\\n",
       "\t 29 & 41\\\\\n",
       "\t 19 & 48\\\\\n",
       "\t  6 & 32\\\\\n",
       "\t 23 & 41\\\\\n",
       "\t 12 & 28\\\\\n",
       "\t  7 & 29\\\\\n",
       "\t  8 & 21\\\\\n",
       "\\end{tabular}\n"
      ],
      "text/markdown": [
       "\n",
       "A data.frame: 23 × 2\n",
       "\n",
       "| driving &lt;dbl&gt; | premium &lt;dbl&gt; |\n",
       "|---|---|\n",
       "|  5 | 64 |\n",
       "|  2 | 57 |\n",
       "| 12 | 50 |\n",
       "|  9 | 71 |\n",
       "| 15 | 44 |\n",
       "|  6 | 56 |\n",
       "| 25 | 42 |\n",
       "| 16 | 60 |\n",
       "| 23 | 34 |\n",
       "| 21 | 54 |\n",
       "| 16 | 44 |\n",
       "| 17 | 61 |\n",
       "| 23 | 39 |\n",
       "| 18 | 43 |\n",
       "| 21 | 52 |\n",
       "| 11 | 38 |\n",
       "| 29 | 41 |\n",
       "| 19 | 48 |\n",
       "|  6 | 32 |\n",
       "| 23 | 41 |\n",
       "| 12 | 28 |\n",
       "|  7 | 29 |\n",
       "|  8 | 21 |\n",
       "\n"
      ],
      "text/plain": [
       "   driving premium\n",
       "1   5      64     \n",
       "2   2      57     \n",
       "3  12      50     \n",
       "4   9      71     \n",
       "5  15      44     \n",
       "6   6      56     \n",
       "7  25      42     \n",
       "8  16      60     \n",
       "9  23      34     \n",
       "10 21      54     \n",
       "11 16      44     \n",
       "12 17      61     \n",
       "13 23      39     \n",
       "14 18      43     \n",
       "15 21      52     \n",
       "16 11      38     \n",
       "17 29      41     \n",
       "18 19      48     \n",
       "19  6      32     \n",
       "20 23      41     \n",
       "21 12      28     \n",
       "22  7      29     \n",
       "23  8      21     "
      ]
     },
     "metadata": {},
     "output_type": "display_data"
    }
   ],
   "source": [
    "# inserir os dados (data.frame)\n",
    "data1 <- data.frame(\n",
    "    driving = c(5, 2, 12, 9, 15, 6, 25, 16, 23, 21, 16, 17, 23, 18, 21, 11, 29, 19, 6, 23, 12, 7, 8),\n",
    "    premium = c(64, 57, 50, 71, 44, 56, 42, 60, 34, 54, 44, 61, 39, 43, 52, 38, 41, 48, 32, 41, 28, 29, 21)\n",
    ")\n",
    "\n",
    "# visualizar a tabela de dados\n",
    "data1\n"
   ]
  },
  {
   "cell_type": "code",
   "execution_count": 2,
   "metadata": {
    "ExecuteTime": {
     "end_time": "2022-11-13T18:27:24.022994Z",
     "start_time": "2022-11-13T18:27:23.971Z"
    },
    "vscode": {
     "languageId": "r"
    }
   },
   "outputs": [
    {
     "data": {
      "image/png": "[encoded data removed]",
      "text/plain": [
       "plot without title"
      ]
     },
     "metadata": {
      "image/png": {
       "height": 240,
       "width": 240
      }
     },
     "output_type": "display_data"
    }
   ],
   "source": [
    "# extrair a variável independente,x, e a variável dependente, y,\n",
    "y <- data1$premium\n",
    "x <- data1$driving\n",
    "\n",
    "# definir o tamanho da figura\n",
    "options(repr.plot.width = 4, repr.plot.height = 4)\n",
    "\n",
    "# diagrama de dispersão\n",
    "plot(x, y, xlab = \"Driving\", ylab = \"Premium\")\n"
   ]
  },
  {
   "cell_type": "markdown",
   "metadata": {},
   "source": [
    "## Correlação de Pearson"
   ]
  },
  {
   "cell_type": "markdown",
   "metadata": {},
   "source": [
    "###################################################################################\n",
    "\n",
    "Vamos calcular o coeficiente de correlação de Pearson, usando a fórmula definida na aula teórica, isto é:\n",
    "\n",
    "$$ R= \\frac{SS_{xy}}{\\sqrt{SS_{xx}}\\sqrt{SS_{yy}}} $$\n"
   ]
  },
  {
   "cell_type": "code",
   "execution_count": null,
   "metadata": {
    "ExecuteTime": {
     "end_time": "2022-11-13T18:27:28.176317Z",
     "start_time": "2022-11-13T18:27:28.139Z"
    },
    "vscode": {
     "languageId": "r"
    }
   },
   "outputs": [
    {
     "data": {
      "text/html": [
       "<table class=\"dataframe\">\n",
       "<caption>A data.frame: 23 × 8</caption>\n",
       "<thead>\n",
       "\t<tr><th scope=col>xi</th><th scope=col>yi</th><th scope=col>xiyi</th><th scope=col>x.squared</th><th scope=col>y.squared</th><th scope=col>x_c</th><th scope=col>y_c</th><th scope=col>x_cy_c</th></tr>\n",
       "\t<tr><th scope=col>&lt;dbl&gt;</th><th scope=col>&lt;dbl&gt;</th><th scope=col>&lt;dbl&gt;</th><th scope=col>&lt;dbl&gt;</th><th scope=col>&lt;dbl&gt;</th><th scope=col>&lt;dbl&gt;</th><th scope=col>&lt;dbl&gt;</th><th scope=col>&lt;dbl&gt;</th></tr>\n",
       "</thead>\n",
       "<tbody>\n",
       "\t<tr><td> 5</td><td>64</td><td> 320</td><td> 25</td><td>4096</td><td> -9.95652174</td><td> 18.391304</td><td>-183.11342155</td></tr>\n",
       "\t<tr><td> 2</td><td>57</td><td> 114</td><td>  4</td><td>3249</td><td>-12.95652174</td><td> 11.391304</td><td>-147.59168242</td></tr>\n",
       "\t<tr><td>12</td><td>50</td><td> 600</td><td>144</td><td>2500</td><td> -2.95652174</td><td>  4.391304</td><td> -12.98298677</td></tr>\n",
       "\t<tr><td> 9</td><td>71</td><td> 639</td><td> 81</td><td>5041</td><td> -5.95652174</td><td> 25.391304</td><td>-151.24385633</td></tr>\n",
       "\t<tr><td>15</td><td>44</td><td> 660</td><td>225</td><td>1936</td><td>  0.04347826</td><td> -1.608696</td><td>  -0.06994329</td></tr>\n",
       "\t<tr><td> 6</td><td>56</td><td> 336</td><td> 36</td><td>3136</td><td> -8.95652174</td><td> 10.391304</td><td> -93.06994329</td></tr>\n",
       "\t<tr><td>25</td><td>42</td><td>1050</td><td>625</td><td>1764</td><td> 10.04347826</td><td> -3.608696</td><td> -36.24385633</td></tr>\n",
       "\t<tr><td>16</td><td>60</td><td> 960</td><td>256</td><td>3600</td><td>  1.04347826</td><td> 14.391304</td><td>  15.01701323</td></tr>\n",
       "\t<tr><td>23</td><td>34</td><td> 782</td><td>529</td><td>1156</td><td>  8.04347826</td><td>-11.608696</td><td> -93.37429112</td></tr>\n",
       "\t<tr><td>21</td><td>54</td><td>1134</td><td>441</td><td>2916</td><td>  6.04347826</td><td>  8.391304</td><td>  50.71266541</td></tr>\n",
       "\t<tr><td>16</td><td>44</td><td> 704</td><td>256</td><td>1936</td><td>  1.04347826</td><td> -1.608696</td><td>  -1.67863894</td></tr>\n",
       "\t<tr><td>17</td><td>61</td><td>1037</td><td>289</td><td>3721</td><td>  2.04347826</td><td> 15.391304</td><td>  31.45179584</td></tr>\n",
       "\t<tr><td>23</td><td>39</td><td> 897</td><td>529</td><td>1521</td><td>  8.04347826</td><td> -6.608696</td><td> -53.15689981</td></tr>\n",
       "\t<tr><td>18</td><td>43</td><td> 774</td><td>324</td><td>1849</td><td>  3.04347826</td><td> -2.608696</td><td>  -7.93950851</td></tr>\n",
       "\t<tr><td>21</td><td>52</td><td>1092</td><td>441</td><td>2704</td><td>  6.04347826</td><td>  6.391304</td><td>  38.62570888</td></tr>\n",
       "\t<tr><td>11</td><td>38</td><td> 418</td><td>121</td><td>1444</td><td> -3.95652174</td><td> -7.608696</td><td>  30.10396975</td></tr>\n",
       "\t<tr><td>29</td><td>41</td><td>1189</td><td>841</td><td>1681</td><td> 14.04347826</td><td> -4.608696</td><td> -64.72211720</td></tr>\n",
       "\t<tr><td>19</td><td>48</td><td> 912</td><td>361</td><td>2304</td><td>  4.04347826</td><td>  2.391304</td><td>   9.66918715</td></tr>\n",
       "\t<tr><td> 6</td><td>32</td><td> 192</td><td> 36</td><td>1024</td><td> -8.95652174</td><td>-13.608696</td><td> 121.88657845</td></tr>\n",
       "\t<tr><td>23</td><td>41</td><td> 943</td><td>529</td><td>1681</td><td>  8.04347826</td><td> -4.608696</td><td> -37.06994329</td></tr>\n",
       "\t<tr><td>12</td><td>28</td><td> 336</td><td>144</td><td> 784</td><td> -2.95652174</td><td>-17.608696</td><td>  52.06049149</td></tr>\n",
       "\t<tr><td> 7</td><td>29</td><td> 203</td><td> 49</td><td> 841</td><td> -7.95652174</td><td>-16.608696</td><td> 132.14744802</td></tr>\n",
       "\t<tr><td> 8</td><td>21</td><td> 168</td><td> 64</td><td> 441</td><td> -6.95652174</td><td>-24.608696</td><td> 171.19092628</td></tr>\n",
       "</tbody>\n",
       "</table>\n"
      ],
      "text/latex": [
       "A data.frame: 23 × 8\n",
       "\\begin{tabular}{llllllll}\n",
       " xi & yi & xiyi & x.squared & y.squared & x\\_c & y\\_c & x\\_cy\\_c\\\\\n",
       " <dbl> & <dbl> & <dbl> & <dbl> & <dbl> & <dbl> & <dbl> & <dbl>\\\\\n",
       "\\hline\n",
       "\t  5 & 64 &  320 &  25 & 4096 &  -9.95652174 &  18.391304 & -183.11342155\\\\\n",
       "\t  2 & 57 &  114 &   4 & 3249 & -12.95652174 &  11.391304 & -147.59168242\\\\\n",
       "\t 12 & 50 &  600 & 144 & 2500 &  -2.95652174 &   4.391304 &  -12.98298677\\\\\n",
       "\t  9 & 71 &  639 &  81 & 5041 &  -5.95652174 &  25.391304 & -151.24385633\\\\\n",
       "\t 15 & 44 &  660 & 225 & 1936 &   0.04347826 &  -1.608696 &   -0.06994329\\\\\n",
       "\t  6 & 56 &  336 &  36 & 3136 &  -8.95652174 &  10.391304 &  -93.06994329\\\\\n",
       "\t 25 & 42 & 1050 & 625 & 1764 &  10.04347826 &  -3.608696 &  -36.24385633\\\\\n",
       "\t 16 & 60 &  960 & 256 & 3600 &   1.04347826 &  14.391304 &   15.01701323\\\\\n",
       "\t 23 & 34 &  782 & 529 & 1156 &   8.04347826 & -11.608696 &  -93.37429112\\\\\n",
       "\t 21 & 54 & 1134 & 441 & 2916 &   6.04347826 &   8.391304 &   50.71266541\\\\\n",
       "\t 16 & 44 &  704 & 256 & 1936 &   1.04347826 &  -1.608696 &   -1.67863894\\\\\n",
       "\t 17 & 61 & 1037 & 289 & 3721 &   2.04347826 &  15.391304 &   31.45179584\\\\\n",
       "\t 23 & 39 &  897 & 529 & 1521 &   8.04347826 &  -6.608696 &  -53.15689981\\\\\n",
       "\t 18 & 43 &  774 & 324 & 1849 &   3.04347826 &  -2.608696 &   -7.93950851\\\\\n",
       "\t 21 & 52 & 1092 & 441 & 2704 &   6.04347826 &   6.391304 &   38.62570888\\\\\n",
       "\t 11 & 38 &  418 & 121 & 1444 &  -3.95652174 &  -7.608696 &   30.10396975\\\\\n",
       "\t 29 & 41 & 1189 & 841 & 1681 &  14.04347826 &  -4.608696 &  -64.72211720\\\\\n",
       "\t 19 & 48 &  912 & 361 & 2304 &   4.04347826 &   2.391304 &    9.66918715\\\\\n",
       "\t  6 & 32 &  192 &  36 & 1024 &  -8.95652174 & -13.608696 &  121.88657845\\\\\n",
       "\t 23 & 41 &  943 & 529 & 1681 &   8.04347826 &  -4.608696 &  -37.06994329\\\\\n",
       "\t 12 & 28 &  336 & 144 &  784 &  -2.95652174 & -17.608696 &   52.06049149\\\\\n",
       "\t  7 & 29 &  203 &  49 &  841 &  -7.95652174 & -16.608696 &  132.14744802\\\\\n",
       "\t  8 & 21 &  168 &  64 &  441 &  -6.95652174 & -24.608696 &  171.19092628\\\\\n",
       "\\end{tabular}\n"
      ],
      "text/markdown": [
       "\n",
       "A data.frame: 23 × 8\n",
       "\n",
       "| xi &lt;dbl&gt; | yi &lt;dbl&gt; | xiyi &lt;dbl&gt; | x.squared &lt;dbl&gt; | y.squared &lt;dbl&gt; | x_c &lt;dbl&gt; | y_c &lt;dbl&gt; | x_cy_c &lt;dbl&gt; |\n",
       "|---|---|---|---|---|---|---|---|\n",
       "|  5 | 64 |  320 |  25 | 4096 |  -9.95652174 |  18.391304 | -183.11342155 |\n",
       "|  2 | 57 |  114 |   4 | 3249 | -12.95652174 |  11.391304 | -147.59168242 |\n",
       "| 12 | 50 |  600 | 144 | 2500 |  -2.95652174 |   4.391304 |  -12.98298677 |\n",
       "|  9 | 71 |  639 |  81 | 5041 |  -5.95652174 |  25.391304 | -151.24385633 |\n",
       "| 15 | 44 |  660 | 225 | 1936 |   0.04347826 |  -1.608696 |   -0.06994329 |\n",
       "|  6 | 56 |  336 |  36 | 3136 |  -8.95652174 |  10.391304 |  -93.06994329 |\n",
       "| 25 | 42 | 1050 | 625 | 1764 |  10.04347826 |  -3.608696 |  -36.24385633 |\n",
       "| 16 | 60 |  960 | 256 | 3600 |   1.04347826 |  14.391304 |   15.01701323 |\n",
       "| 23 | 34 |  782 | 529 | 1156 |   8.04347826 | -11.608696 |  -93.37429112 |\n",
       "| 21 | 54 | 1134 | 441 | 2916 |   6.04347826 |   8.391304 |   50.71266541 |\n",
       "| 16 | 44 |  704 | 256 | 1936 |   1.04347826 |  -1.608696 |   -1.67863894 |\n",
       "| 17 | 61 | 1037 | 289 | 3721 |   2.04347826 |  15.391304 |   31.45179584 |\n",
       "| 23 | 39 |  897 | 529 | 1521 |   8.04347826 |  -6.608696 |  -53.15689981 |\n",
       "| 18 | 43 |  774 | 324 | 1849 |   3.04347826 |  -2.608696 |   -7.93950851 |\n",
       "| 21 | 52 | 1092 | 441 | 2704 |   6.04347826 |   6.391304 |   38.62570888 |\n",
       "| 11 | 38 |  418 | 121 | 1444 |  -3.95652174 |  -7.608696 |   30.10396975 |\n",
       "| 29 | 41 | 1189 | 841 | 1681 |  14.04347826 |  -4.608696 |  -64.72211720 |\n",
       "| 19 | 48 |  912 | 361 | 2304 |   4.04347826 |   2.391304 |    9.66918715 |\n",
       "|  6 | 32 |  192 |  36 | 1024 |  -8.95652174 | -13.608696 |  121.88657845 |\n",
       "| 23 | 41 |  943 | 529 | 1681 |   8.04347826 |  -4.608696 |  -37.06994329 |\n",
       "| 12 | 28 |  336 | 144 |  784 |  -2.95652174 | -17.608696 |   52.06049149 |\n",
       "|  7 | 29 |  203 |  49 |  841 |  -7.95652174 | -16.608696 |  132.14744802 |\n",
       "|  8 | 21 |  168 |  64 |  441 |  -6.95652174 | -24.608696 |  171.19092628 |\n",
       "\n"
      ],
      "text/plain": [
       "   xi yi xiyi x.squared y.squared x_c          y_c        x_cy_c       \n",
       "1   5 64  320  25       4096       -9.95652174  18.391304 -183.11342155\n",
       "2   2 57  114   4       3249      -12.95652174  11.391304 -147.59168242\n",
       "3  12 50  600 144       2500       -2.95652174   4.391304  -12.98298677\n",
       "4   9 71  639  81       5041       -5.95652174  25.391304 -151.24385633\n",
       "5  15 44  660 225       1936        0.04347826  -1.608696   -0.06994329\n",
       "6   6 56  336  36       3136       -8.95652174  10.391304  -93.06994329\n",
       "7  25 42 1050 625       1764       10.04347826  -3.608696  -36.24385633\n",
       "8  16 60  960 256       3600        1.04347826  14.391304   15.01701323\n",
       "9  23 34  782 529       1156        8.04347826 -11.608696  -93.37429112\n",
       "10 21 54 1134 441       2916        6.04347826   8.391304   50.71266541\n",
       "11 16 44  704 256       1936        1.04347826  -1.608696   -1.67863894\n",
       "12 17 61 1037 289       3721        2.04347826  15.391304   31.45179584\n",
       "13 23 39  897 529       1521        8.04347826  -6.608696  -53.15689981\n",
       "14 18 43  774 324       1849        3.04347826  -2.608696   -7.93950851\n",
       "15 21 52 1092 441       2704        6.04347826   6.391304   38.62570888\n",
       "16 11 38  418 121       1444       -3.95652174  -7.608696   30.10396975\n",
       "17 29 41 1189 841       1681       14.04347826  -4.608696  -64.72211720\n",
       "18 19 48  912 361       2304        4.04347826   2.391304    9.66918715\n",
       "19  6 32  192  36       1024       -8.95652174 -13.608696  121.88657845\n",
       "20 23 41  943 529       1681        8.04347826  -4.608696  -37.06994329\n",
       "21 12 28  336 144        784       -2.95652174 -17.608696   52.06049149\n",
       "22  7 29  203  49        841       -7.95652174 -16.608696  132.14744802\n",
       "23  8 21  168  64        441       -6.95652174 -24.608696  171.19092628"
      ]
     },
     "metadata": {},
     "output_type": "display_data"
    }
   ],
   "source": [
    "# calcular o coeficiente de correlação de Pearson\n",
    "\n",
    "xbar <- mean(x) # média de x\n",
    "ybar <- mean(y) # média de y\n",
    "n <- length(y) # comprimento de y (número de observações)\n",
    "\n",
    "# definir a tabela com as variáveis, quadrado das variáveis, produto das variáveis\n",
    "# x-média(x), y-média(y),(x-média(x))*(y-média(y))\n",
    "\n",
    "data.frame(\n",
    "    xi = x, yi = y, xiyi = x * y, x.squared = x^2, y.squared = y^2,\n",
    "    x_c = x - xbar, y_c = y - ybar, x_cy_c = (x - xbar) * (y - ybar)\n",
    ")\n"
   ]
  },
  {
   "cell_type": "code",
   "execution_count": 4,
   "metadata": {
    "ExecuteTime": {
     "end_time": "2022-11-13T18:27:28.928791Z",
     "start_time": "2022-11-13T18:27:28.907Z"
    },
    "vscode": {
     "languageId": "r"
    }
   },
   "outputs": [
    {
     "data": {
      "text/html": [
       "-229.391304347826"
      ],
      "text/latex": [
       "-229.391304347826"
      ],
      "text/markdown": [
       "-229.391304347826"
      ],
      "text/plain": [
       "[1] -229.3913"
      ]
     },
     "metadata": {},
     "output_type": "display_data"
    }
   ],
   "source": [
    "# definir SSxy\n",
    "SSxy <- sum(x * y) - n * xbar * ybar\n",
    "SSxy\n",
    "\n",
    "# ou equivalente : SSxy <- sum((x-xbar)*(y-ybar))\n"
   ]
  },
  {
   "cell_type": "code",
   "execution_count": 5,
   "metadata": {
    "ExecuteTime": {
     "end_time": "2022-11-13T18:27:29.801666Z",
     "start_time": "2022-11-13T18:27:29.778Z"
    },
    "vscode": {
     "languageId": "r"
    }
   },
   "outputs": [
    {
     "data": {
      "text/html": [
       "1204.95652173913"
      ],
      "text/latex": [
       "1204.95652173913"
      ],
      "text/markdown": [
       "1204.95652173913"
      ],
      "text/plain": [
       "[1] 1204.957"
      ]
     },
     "metadata": {},
     "output_type": "display_data"
    }
   ],
   "source": [
    "# definir SSxx\n",
    "SSxx <- sum(x^2) - n * xbar^2\n",
    "SSxx\n",
    "\n",
    "# ou equivalente: SSxx <- sum((x-xbar)^2)\n"
   ]
  },
  {
   "cell_type": "code",
   "execution_count": 6,
   "metadata": {
    "ExecuteTime": {
     "end_time": "2022-11-13T18:27:30.569517Z",
     "start_time": "2022-11-13T18:27:30.547Z"
    },
    "vscode": {
     "languageId": "r"
    }
   },
   "outputs": [
    {
     "data": {
      "text/html": [
       "3481.47826086957"
      ],
      "text/latex": [
       "3481.47826086957"
      ],
      "text/markdown": [
       "3481.47826086957"
      ],
      "text/plain": [
       "[1] 3481.478"
      ]
     },
     "metadata": {},
     "output_type": "display_data"
    }
   ],
   "source": [
    "# definir SSyy\n",
    "\n",
    "SSyy <- sum(y^2) - n * ybar^2\n",
    "SSyy\n",
    "\n",
    "# ou equivalente: SSyy <- sum((y-ybar)^2)\n"
   ]
  },
  {
   "cell_type": "code",
   "execution_count": 7,
   "metadata": {
    "ExecuteTime": {
     "end_time": "2022-11-13T18:27:31.216261Z",
     "start_time": "2022-11-13T18:27:31.187Z"
    },
    "vscode": {
     "languageId": "r"
    }
   },
   "outputs": [
    {
     "data": {
      "text/html": [
       "-0.111997781149809"
      ],
      "text/latex": [
       "-0.111997781149809"
      ],
      "text/markdown": [
       "-0.111997781149809"
      ],
      "text/plain": [
       "[1] -0.1119978"
      ]
     },
     "metadata": {},
     "output_type": "display_data"
    }
   ],
   "source": [
    "# logo, o coeficiente de correlação de Pearson é\n",
    "r <- SSxy / (sqrt(SSxx) * sqrt(SSyy))\n",
    "r\n"
   ]
  },
  {
   "cell_type": "code",
   "execution_count": 8,
   "metadata": {
    "ExecuteTime": {
     "end_time": "2022-11-13T18:27:31.857979Z",
     "start_time": "2022-11-13T18:27:31.827Z"
    },
    "vscode": {
     "languageId": "r"
    }
   },
   "outputs": [
    {
     "data": {
      "text/html": [
       "0.0125435029824806"
      ],
      "text/latex": [
       "0.0125435029824806"
      ],
      "text/markdown": [
       "0.0125435029824806"
      ],
      "text/plain": [
       "[1] 0.0125435"
      ]
     },
     "metadata": {},
     "output_type": "display_data"
    }
   ],
   "source": [
    "# coeficiente de determinação\n",
    "r^2\n"
   ]
  },
  {
   "cell_type": "markdown",
   "metadata": {},
   "source": [
    "## Estimar os coeficientes de regressão"
   ]
  },
  {
   "cell_type": "markdown",
   "metadata": {},
   "source": [
    "Relembra-se que, usando o método de estimação dos mínimos quadrados, os parametros podem ser estimados com base nas seguintes fórmulas:\n",
    "\n",
    "$$ \\widehat{\\beta}_1 = \\frac{SS_{xy}}{SS_{xx}} $$\n",
    "e \n",
    "$$ \\widehat{\\beta}_0 = \\overline{y}-\\widehat{\\beta}_1 \\overline{x}$$"
   ]
  },
  {
   "cell_type": "code",
   "execution_count": 9,
   "metadata": {
    "ExecuteTime": {
     "end_time": "2022-11-13T18:27:34.402063Z",
     "start_time": "2022-11-13T18:27:34.371Z"
    },
    "vscode": {
     "languageId": "r"
    }
   },
   "outputs": [
    {
     "data": {
      "text/html": [
       "-0.190373096629862"
      ],
      "text/latex": [
       "-0.190373096629862"
      ],
      "text/markdown": [
       "-0.190373096629862"
      ],
      "text/plain": [
       "[1] -0.1903731"
      ]
     },
     "metadata": {},
     "output_type": "display_data"
    }
   ],
   "source": [
    "# calcular beta_1\n",
    "\n",
    "xbar <- mean(x)\n",
    "ybar <- mean(y)\n",
    "n <- length(y)\n",
    "SSxy <- sum(x * y) - n * xbar * ybar\n",
    "SSxx <- sum(x^2) - n * xbar^2\n",
    "SSyy <- sum(y^2) - n * ybar^2\n",
    "\n",
    "beta1 <- SSxy / SSxx\n",
    "beta1\n"
   ]
  },
  {
   "cell_type": "code",
   "execution_count": 10,
   "metadata": {
    "ExecuteTime": {
     "end_time": "2022-11-13T18:27:35.104219Z",
     "start_time": "2022-11-13T18:27:35.083Z"
    },
    "vscode": {
     "languageId": "r"
    }
   },
   "outputs": [
    {
     "data": {
      "text/html": [
       "48.456015010464"
      ],
      "text/latex": [
       "48.456015010464"
      ],
      "text/markdown": [
       "48.456015010464"
      ],
      "text/plain": [
       "[1] 48.45602"
      ]
     },
     "metadata": {},
     "output_type": "display_data"
    }
   ],
   "source": [
    "# calcular beta_0\n",
    "\n",
    "beta0 <- ybar - beta1 * xbar\n",
    "beta0\n"
   ]
  },
  {
   "cell_type": "code",
   "execution_count": 11,
   "metadata": {
    "ExecuteTime": {
     "end_time": "2022-11-13T18:27:35.883470Z",
     "start_time": "2022-11-13T18:27:35.827Z"
    },
    "vscode": {
     "languageId": "r"
    }
   },
   "outputs": [
    {
     "data": {
      "image/png": "[encoded data removed]",
      "text/plain": [
       "plot without title"
      ]
     },
     "metadata": {
      "image/png": {
       "height": 240,
       "width": 240
      }
     },
     "output_type": "display_data"
    }
   ],
   "source": [
    "# gráfico de dispersão e reta de regressão\n",
    "plot(x, y, pch = 19, col = \"red\", cex = 1.0)\n",
    "abline(a = beta0, b = beta1)\n"
   ]
  },
  {
   "cell_type": "markdown",
   "metadata": {},
   "source": [
    "## Valores estimados pela regressão, resíduos e soma dos quadrados dos resíduos"
   ]
  },
  {
   "cell_type": "code",
   "execution_count": 12,
   "metadata": {
    "ExecuteTime": {
     "end_time": "2022-11-13T18:27:37.447948Z",
     "start_time": "2022-11-13T18:27:37.395Z"
    },
    "vscode": {
     "languageId": "r"
    }
   },
   "outputs": [
    {
     "data": {
      "text/html": [
       "<table class=\"dataframe\">\n",
       "<caption>A data.frame: 23 × 6</caption>\n",
       "<thead>\n",
       "\t<tr><th scope=col>y</th><th scope=col>fitted0</th><th scope=col>residual0</th><th scope=col>fitted1</th><th scope=col>residual1</th><th scope=col>diff.res</th></tr>\n",
       "\t<tr><th scope=col>&lt;dbl&gt;</th><th scope=col>&lt;dbl&gt;</th><th scope=col>&lt;dbl&gt;</th><th scope=col>&lt;dbl&gt;</th><th scope=col>&lt;dbl&gt;</th><th scope=col>&lt;dbl&gt;</th></tr>\n",
       "</thead>\n",
       "<tbody>\n",
       "\t<tr><td>64</td><td>45.6087</td><td> 18.391304</td><td>47.50415</td><td> 16.495850</td><td> 1.895453875</td></tr>\n",
       "\t<tr><td>57</td><td>45.6087</td><td> 11.391304</td><td>48.07527</td><td>  8.924731</td><td> 2.466573165</td></tr>\n",
       "\t<tr><td>50</td><td>45.6087</td><td>  4.391304</td><td>46.17154</td><td>  3.828462</td><td> 0.562842199</td></tr>\n",
       "\t<tr><td>71</td><td>45.6087</td><td> 25.391304</td><td>46.74266</td><td> 24.257343</td><td> 1.133961489</td></tr>\n",
       "\t<tr><td>44</td><td>45.6087</td><td> -1.608696</td><td>45.60042</td><td> -1.600419</td><td>-0.008277091</td></tr>\n",
       "\t<tr><td>56</td><td>45.6087</td><td> 10.391304</td><td>47.31378</td><td>  8.686224</td><td> 1.705080779</td></tr>\n",
       "\t<tr><td>42</td><td>45.6087</td><td> -3.608696</td><td>43.69669</td><td> -1.696688</td><td>-1.912008057</td></tr>\n",
       "\t<tr><td>60</td><td>45.6087</td><td> 14.391304</td><td>45.41005</td><td> 14.589955</td><td>-0.198650188</td></tr>\n",
       "\t<tr><td>34</td><td>45.6087</td><td>-11.608696</td><td>44.07743</td><td>-10.077434</td><td>-1.531261864</td></tr>\n",
       "\t<tr><td>54</td><td>45.6087</td><td>  8.391304</td><td>44.45818</td><td>  9.541820</td><td>-1.150515671</td></tr>\n",
       "\t<tr><td>44</td><td>45.6087</td><td> -1.608696</td><td>45.41005</td><td> -1.410045</td><td>-0.198650188</td></tr>\n",
       "\t<tr><td>61</td><td>45.6087</td><td> 15.391304</td><td>45.21967</td><td> 15.780328</td><td>-0.389023284</td></tr>\n",
       "\t<tr><td>39</td><td>45.6087</td><td> -6.608696</td><td>44.07743</td><td> -5.077434</td><td>-1.531261864</td></tr>\n",
       "\t<tr><td>43</td><td>45.6087</td><td> -2.608696</td><td>45.02930</td><td> -2.029299</td><td>-0.579396381</td></tr>\n",
       "\t<tr><td>52</td><td>45.6087</td><td>  6.391304</td><td>44.45818</td><td>  7.541820</td><td>-1.150515671</td></tr>\n",
       "\t<tr><td>38</td><td>45.6087</td><td> -7.608696</td><td>46.36191</td><td> -8.361911</td><td> 0.753215295</td></tr>\n",
       "\t<tr><td>41</td><td>45.6087</td><td> -4.608696</td><td>42.93520</td><td> -1.935195</td><td>-2.673500444</td></tr>\n",
       "\t<tr><td>48</td><td>45.6087</td><td>  2.391304</td><td>44.83893</td><td>  3.161074</td><td>-0.769769478</td></tr>\n",
       "\t<tr><td>32</td><td>45.6087</td><td>-13.608696</td><td>47.31378</td><td>-15.313776</td><td> 1.705080779</td></tr>\n",
       "\t<tr><td>41</td><td>45.6087</td><td> -4.608696</td><td>44.07743</td><td> -3.077434</td><td>-1.531261864</td></tr>\n",
       "\t<tr><td>28</td><td>45.6087</td><td>-17.608696</td><td>46.17154</td><td>-18.171538</td><td> 0.562842199</td></tr>\n",
       "\t<tr><td>29</td><td>45.6087</td><td>-16.608696</td><td>47.12340</td><td>-18.123403</td><td> 1.514707682</td></tr>\n",
       "\t<tr><td>21</td><td>45.6087</td><td>-24.608696</td><td>46.93303</td><td>-25.933030</td><td> 1.324334585</td></tr>\n",
       "</tbody>\n",
       "</table>\n"
      ],
      "text/latex": [
       "A data.frame: 23 × 6\n",
       "\\begin{tabular}{llllll}\n",
       " y & fitted0 & residual0 & fitted1 & residual1 & diff.res\\\\\n",
       " <dbl> & <dbl> & <dbl> & <dbl> & <dbl> & <dbl>\\\\\n",
       "\\hline\n",
       "\t 64 & 45.6087 &  18.391304 & 47.50415 &  16.495850 &  1.895453875\\\\\n",
       "\t 57 & 45.6087 &  11.391304 & 48.07527 &   8.924731 &  2.466573165\\\\\n",
       "\t 50 & 45.6087 &   4.391304 & 46.17154 &   3.828462 &  0.562842199\\\\\n",
       "\t 71 & 45.6087 &  25.391304 & 46.74266 &  24.257343 &  1.133961489\\\\\n",
       "\t 44 & 45.6087 &  -1.608696 & 45.60042 &  -1.600419 & -0.008277091\\\\\n",
       "\t 56 & 45.6087 &  10.391304 & 47.31378 &   8.686224 &  1.705080779\\\\\n",
       "\t 42 & 45.6087 &  -3.608696 & 43.69669 &  -1.696688 & -1.912008057\\\\\n",
       "\t 60 & 45.6087 &  14.391304 & 45.41005 &  14.589955 & -0.198650188\\\\\n",
       "\t 34 & 45.6087 & -11.608696 & 44.07743 & -10.077434 & -1.531261864\\\\\n",
       "\t 54 & 45.6087 &   8.391304 & 44.45818 &   9.541820 & -1.150515671\\\\\n",
       "\t 44 & 45.6087 &  -1.608696 & 45.41005 &  -1.410045 & -0.198650188\\\\\n",
       "\t 61 & 45.6087 &  15.391304 & 45.21967 &  15.780328 & -0.389023284\\\\\n",
       "\t 39 & 45.6087 &  -6.608696 & 44.07743 &  -5.077434 & -1.531261864\\\\\n",
       "\t 43 & 45.6087 &  -2.608696 & 45.02930 &  -2.029299 & -0.579396381\\\\\n",
       "\t 52 & 45.6087 &   6.391304 & 44.45818 &   7.541820 & -1.150515671\\\\\n",
       "\t 38 & 45.6087 &  -7.608696 & 46.36191 &  -8.361911 &  0.753215295\\\\\n",
       "\t 41 & 45.6087 &  -4.608696 & 42.93520 &  -1.935195 & -2.673500444\\\\\n",
       "\t 48 & 45.6087 &   2.391304 & 44.83893 &   3.161074 & -0.769769478\\\\\n",
       "\t 32 & 45.6087 & -13.608696 & 47.31378 & -15.313776 &  1.705080779\\\\\n",
       "\t 41 & 45.6087 &  -4.608696 & 44.07743 &  -3.077434 & -1.531261864\\\\\n",
       "\t 28 & 45.6087 & -17.608696 & 46.17154 & -18.171538 &  0.562842199\\\\\n",
       "\t 29 & 45.6087 & -16.608696 & 47.12340 & -18.123403 &  1.514707682\\\\\n",
       "\t 21 & 45.6087 & -24.608696 & 46.93303 & -25.933030 &  1.324334585\\\\\n",
       "\\end{tabular}\n"
      ],
      "text/markdown": [
       "\n",
       "A data.frame: 23 × 6\n",
       "\n",
       "| y &lt;dbl&gt; | fitted0 &lt;dbl&gt; | residual0 &lt;dbl&gt; | fitted1 &lt;dbl&gt; | residual1 &lt;dbl&gt; | diff.res &lt;dbl&gt; |\n",
       "|---|---|---|---|---|---|\n",
       "| 64 | 45.6087 |  18.391304 | 47.50415 |  16.495850 |  1.895453875 |\n",
       "| 57 | 45.6087 |  11.391304 | 48.07527 |   8.924731 |  2.466573165 |\n",
       "| 50 | 45.6087 |   4.391304 | 46.17154 |   3.828462 |  0.562842199 |\n",
       "| 71 | 45.6087 |  25.391304 | 46.74266 |  24.257343 |  1.133961489 |\n",
       "| 44 | 45.6087 |  -1.608696 | 45.60042 |  -1.600419 | -0.008277091 |\n",
       "| 56 | 45.6087 |  10.391304 | 47.31378 |   8.686224 |  1.705080779 |\n",
       "| 42 | 45.6087 |  -3.608696 | 43.69669 |  -1.696688 | -1.912008057 |\n",
       "| 60 | 45.6087 |  14.391304 | 45.41005 |  14.589955 | -0.198650188 |\n",
       "| 34 | 45.6087 | -11.608696 | 44.07743 | -10.077434 | -1.531261864 |\n",
       "| 54 | 45.6087 |   8.391304 | 44.45818 |   9.541820 | -1.150515671 |\n",
       "| 44 | 45.6087 |  -1.608696 | 45.41005 |  -1.410045 | -0.198650188 |\n",
       "| 61 | 45.6087 |  15.391304 | 45.21967 |  15.780328 | -0.389023284 |\n",
       "| 39 | 45.6087 |  -6.608696 | 44.07743 |  -5.077434 | -1.531261864 |\n",
       "| 43 | 45.6087 |  -2.608696 | 45.02930 |  -2.029299 | -0.579396381 |\n",
       "| 52 | 45.6087 |   6.391304 | 44.45818 |   7.541820 | -1.150515671 |\n",
       "| 38 | 45.6087 |  -7.608696 | 46.36191 |  -8.361911 |  0.753215295 |\n",
       "| 41 | 45.6087 |  -4.608696 | 42.93520 |  -1.935195 | -2.673500444 |\n",
       "| 48 | 45.6087 |   2.391304 | 44.83893 |   3.161074 | -0.769769478 |\n",
       "| 32 | 45.6087 | -13.608696 | 47.31378 | -15.313776 |  1.705080779 |\n",
       "| 41 | 45.6087 |  -4.608696 | 44.07743 |  -3.077434 | -1.531261864 |\n",
       "| 28 | 45.6087 | -17.608696 | 46.17154 | -18.171538 |  0.562842199 |\n",
       "| 29 | 45.6087 | -16.608696 | 47.12340 | -18.123403 |  1.514707682 |\n",
       "| 21 | 45.6087 | -24.608696 | 46.93303 | -25.933030 |  1.324334585 |\n",
       "\n"
      ],
      "text/plain": [
       "   y  fitted0 residual0  fitted1  residual1  diff.res    \n",
       "1  64 45.6087  18.391304 47.50415  16.495850  1.895453875\n",
       "2  57 45.6087  11.391304 48.07527   8.924731  2.466573165\n",
       "3  50 45.6087   4.391304 46.17154   3.828462  0.562842199\n",
       "4  71 45.6087  25.391304 46.74266  24.257343  1.133961489\n",
       "5  44 45.6087  -1.608696 45.60042  -1.600419 -0.008277091\n",
       "6  56 45.6087  10.391304 47.31378   8.686224  1.705080779\n",
       "7  42 45.6087  -3.608696 43.69669  -1.696688 -1.912008057\n",
       "8  60 45.6087  14.391304 45.41005  14.589955 -0.198650188\n",
       "9  34 45.6087 -11.608696 44.07743 -10.077434 -1.531261864\n",
       "10 54 45.6087   8.391304 44.45818   9.541820 -1.150515671\n",
       "11 44 45.6087  -1.608696 45.41005  -1.410045 -0.198650188\n",
       "12 61 45.6087  15.391304 45.21967  15.780328 -0.389023284\n",
       "13 39 45.6087  -6.608696 44.07743  -5.077434 -1.531261864\n",
       "14 43 45.6087  -2.608696 45.02930  -2.029299 -0.579396381\n",
       "15 52 45.6087   6.391304 44.45818   7.541820 -1.150515671\n",
       "16 38 45.6087  -7.608696 46.36191  -8.361911  0.753215295\n",
       "17 41 45.6087  -4.608696 42.93520  -1.935195 -2.673500444\n",
       "18 48 45.6087   2.391304 44.83893   3.161074 -0.769769478\n",
       "19 32 45.6087 -13.608696 47.31378 -15.313776  1.705080779\n",
       "20 41 45.6087  -4.608696 44.07743  -3.077434 -1.531261864\n",
       "21 28 45.6087 -17.608696 46.17154 -18.171538  0.562842199\n",
       "22 29 45.6087 -16.608696 47.12340 -18.123403  1.514707682\n",
       "23 21 45.6087 -24.608696 46.93303 -25.933030  1.324334585"
      ]
     },
     "metadata": {},
     "output_type": "display_data"
    }
   ],
   "source": [
    "# vamos formar uma tabela (data frame) com os valores de y estimados pela reta de regressão\n",
    "# resíduos e soma dos quadrados dos resíduos (SSE)\n",
    "\n",
    "fitted1 <- beta0 + beta1 * x # reta de regressão\n",
    "fitted0 <- rep(ybar, n) # replicar os valores da média de y, n=8 vezes\n",
    "residual1 <- y - fitted1 # resíduos 1\n",
    "residual0 <- y - fitted0 # resíduos 2\n",
    "\n",
    "data.frame(y, fitted0, residual0, fitted1, residual1, diff.res = fitted1 - fitted0)\n"
   ]
  },
  {
   "cell_type": "code",
   "execution_count": 13,
   "metadata": {
    "ExecuteTime": {
     "end_time": "2022-11-13T18:27:38.496041Z",
     "start_time": "2022-11-13T18:27:38.347Z"
    },
    "vscode": {
     "languageId": "r"
    }
   },
   "outputs": [
    {
     "name": "stderr",
     "output_type": "stream",
     "text": [
      "Warning message in arrows(x[i], fitted0[i], x[i], fitted1[i], length = 0.1, col = 2):\n",
      "\"zero-length arrow is of indeterminate angle and so skipped\"\n"
     ]
    },
    {
     "data": {
      "image/png": "[encoded data removed]",
      "text/plain": [
       "Plot with title \"Diferença dos resíduos: yhat-ybar\""
      ]
     },
     "metadata": {
      "image/png": {
       "height": 240,
       "width": 480
      }
     },
     "output_type": "display_data"
    }
   ],
   "source": [
    "# visualizar a reta de regressão, os valores estimados/preditos e os resíduos\n",
    "\n",
    "# definir o tamanho da figura\n",
    "options(repr.plot.width = 8, repr.plot.height = 4)\n",
    "\n",
    "# definimos 3 figuras em linha (1x3)\n",
    "par(mfrow = c(1, 3))\n",
    "plot(premium ~ driving, data = data1, ylim = range(y, fitted1, fitted0))\n",
    "abline(h = mean(y))\n",
    "points(x, fitted0, pch = 4, col = 4)\n",
    "for (i in 1:length(y)) {\n",
    "    arrows(x[i], fitted0[i], x[i], y[i], length = 0.1, col = 4)\n",
    "}\n",
    "title(main = \"Resíduos do modelo 0: y-ybar\")\n",
    "\n",
    "\n",
    "plot(premium ~ driving, data = data1, ylim = range(y, fitted1, fitted0))\n",
    "abline(h = mean(y))\n",
    "abline(a = beta0, b = beta1)\n",
    "points(x, fitted1, pch = 3, col = 3)\n",
    "for (i in 1:length(y)) {\n",
    "    arrows(x[i], fitted1[i], x[i], y[i], length = 0.1, col = 3)\n",
    "}\n",
    "title(main = \"Resíduos do modelo 1: y-yhat\")\n",
    "\n",
    "\n",
    "plot(premium ~ driving, data = data1, ylim = range(y, fitted1, fitted0))\n",
    "abline(h = mean(y))\n",
    "abline(a = beta0, b = beta1)\n",
    "points(x, fitted0, pch = 4, col = 4)\n",
    "points(x, fitted1, pch = 3, col = 3)\n",
    "\n",
    "for (i in 1:length(y)) {\n",
    "    arrows(x[i], fitted0[i], x[i], fitted1[i], length = 0.1, col = 2)\n",
    "}\n",
    "title(main = \"Diferença dos resíduos: yhat-ybar\")\n"
   ]
  },
  {
   "cell_type": "code",
   "execution_count": 14,
   "metadata": {
    "ExecuteTime": {
     "end_time": "2022-11-13T18:27:39.272981Z",
     "start_time": "2022-11-13T18:27:39.251Z"
    },
    "vscode": {
     "languageId": "r"
    }
   },
   "outputs": [
    {
     "data": {
      "text/html": [
       "3437.80832792091"
      ],
      "text/latex": [
       "3437.80832792091"
      ],
      "text/markdown": [
       "3437.80832792091"
      ],
      "text/plain": [
       "[1] 3437.808"
      ]
     },
     "metadata": {},
     "output_type": "display_data"
    }
   ],
   "source": [
    "# soma dos quadrados dos resíduos (SSE)\n",
    "\n",
    "SSE <- sum((y - fitted1)^2)\n",
    "SSE\n"
   ]
  },
  {
   "cell_type": "markdown",
   "metadata": {},
   "source": [
    "## Inferência estatística sobre $\\beta_1$"
   ]
  },
  {
   "cell_type": "markdown",
   "metadata": {},
   "source": [
    "Para fazer inferência sobre $\\beta_1$, precisamos calcular o erro padrão de $ \\widehat{\\beta}_1$, isto é\n",
    "\n",
    "$$ \\widehat{s}(\\beta_1)= \\frac{s_{e}}{\\sqrt{SS_{xx}}} $$\n",
    "onde \n",
    "$$ s_e = \\sqrt{\\frac{SSE}{(n-2)}}$$\n",
    "é o desvio padrão dos resíduos."
   ]
  },
  {
   "cell_type": "code",
   "execution_count": 15,
   "metadata": {
    "ExecuteTime": {
     "end_time": "2022-11-13T18:27:42.229892Z",
     "start_time": "2022-11-13T18:27:42.203Z"
    },
    "vscode": {
     "languageId": "r"
    }
   },
   "outputs": [
    {
     "data": {
      "text/html": [
       "12.7947316686371"
      ],
      "text/latex": [
       "12.7947316686371"
      ],
      "text/markdown": [
       "12.7947316686371"
      ],
      "text/plain": [
       "[1] 12.79473"
      ]
     },
     "metadata": {},
     "output_type": "display_data"
    },
    {
     "data": {
      "text/html": [
       "0.368591651191669"
      ],
      "text/latex": [
       "0.368591651191669"
      ],
      "text/markdown": [
       "0.368591651191669"
      ],
      "text/plain": [
       "[1] 0.3685917"
      ]
     },
     "metadata": {},
     "output_type": "display_data"
    }
   ],
   "source": [
    "# erro padrão de beta_1\n",
    "\n",
    "sd_e <- sqrt(SSE / (n - 2))\n",
    "# desvio padrão dos resíduos\n",
    "sd_e\n",
    "\n",
    "se_beta1 <- sd_e / sqrt(SSxx)\n",
    "se_beta1\n"
   ]
  },
  {
   "cell_type": "code",
   "execution_count": 16,
   "metadata": {
    "ExecuteTime": {
     "end_time": "2022-11-13T18:27:43.059474Z",
     "start_time": "2022-11-13T18:27:43.035Z"
    },
    "vscode": {
     "languageId": "r"
    }
   },
   "outputs": [
    {
     "data": {
      "text/html": [
       "-0.516487815213339"
      ],
      "text/latex": [
       "-0.516487815213339"
      ],
      "text/markdown": [
       "-0.516487815213339"
      ],
      "text/plain": [
       "[1] -0.5164878"
      ]
     },
     "metadata": {},
     "output_type": "display_data"
    }
   ],
   "source": [
    "# definir a estatística teste\n",
    "\n",
    "tstat <- beta1 / se_beta1\n",
    "tstat\n"
   ]
  },
  {
   "cell_type": "code",
   "execution_count": 17,
   "metadata": {
    "ExecuteTime": {
     "end_time": "2022-11-13T18:27:44.320699Z",
     "start_time": "2022-11-13T18:27:44.291Z"
    },
    "vscode": {
     "languageId": "r"
    }
   },
   "outputs": [
    {
     "data": {
      "text/html": [
       "0.610910184370328"
      ],
      "text/latex": [
       "0.610910184370328"
      ],
      "text/markdown": [
       "0.610910184370328"
      ],
      "text/plain": [
       "[1] 0.6109102"
      ]
     },
     "metadata": {},
     "output_type": "display_data"
    }
   ],
   "source": [
    "# para testar a hipótese nula H0: beta1=0, vamos calcular o p-value\n",
    "\n",
    "2 * pt(-abs(beta1) / se_beta1, df = n - 2)\n"
   ]
  },
  {
   "cell_type": "code",
   "execution_count": 18,
   "metadata": {
    "ExecuteTime": {
     "end_time": "2022-11-13T18:27:45.075498Z",
     "start_time": "2022-11-13T18:27:45.059Z"
    },
    "vscode": {
     "languageId": "r"
    }
   },
   "outputs": [],
   "source": [
    "# como o p-value > 0.05, não se rejeita a H0, logo beta1 é zero\n",
    "# e a variável x não é estatisticamente significativa\n"
   ]
  },
  {
   "cell_type": "code",
   "execution_count": 19,
   "metadata": {
    "ExecuteTime": {
     "end_time": "2022-11-13T18:27:46.107767Z",
     "start_time": "2022-11-13T18:27:46.083Z"
    },
    "vscode": {
     "languageId": "r"
    }
   },
   "outputs": [
    {
     "data": {
      "text/html": [
       "<style>\n",
       ".list-inline {list-style: none; margin:0; padding: 0}\n",
       ".list-inline>li {display: inline-block}\n",
       ".list-inline>li:not(:last-child)::after {content: \"\\00b7\"; padding: 0 .5ex}\n",
       "</style>\n",
       "<ol class=list-inline><li>-0.956901397499092</li><li>0.576155204239368</li></ol>\n"
      ],
      "text/latex": [
       "\\begin{enumerate*}\n",
       "\\item -0.956901397499092\n",
       "\\item 0.576155204239368\n",
       "\\end{enumerate*}\n"
      ],
      "text/markdown": [
       "1. -0.956901397499092\n",
       "2. 0.576155204239368\n",
       "\n",
       "\n"
      ],
      "text/plain": [
       "[1] -0.9569014  0.5761552"
      ]
     },
     "metadata": {},
     "output_type": "display_data"
    }
   ],
   "source": [
    "# finalmente, vamos ver o intervalo de confiança para beta1\n",
    "\n",
    "alpha <- 0.05\n",
    "me_beta1 <- qt(alpha / 2, df = n - 2, lower.tail = FALSE) * se_beta1\n",
    "# 95% CI:\n",
    "beta1 + c(-me_beta1, me_beta1)\n"
   ]
  },
  {
   "cell_type": "code",
   "execution_count": 20,
   "metadata": {
    "ExecuteTime": {
     "end_time": "2022-11-13T18:27:47.056752Z",
     "start_time": "2022-11-13T18:27:47.021Z"
    },
    "vscode": {
     "languageId": "r"
    }
   },
   "outputs": [],
   "source": [
    "# ou: mais simples, usando algumas funções predefinidas de R\n",
    "\n",
    "xbar <- mean(x)\n",
    "ybar <- mean(y)\n",
    "n <- length(y)\n",
    "SSxy <- sum(x * y) - n * xbar * ybar\n",
    "SSxx <- sum(x^2) - n * xbar^2\n",
    "SSyy <- sum(y^2) - n * ybar^2\n",
    "\n",
    "# estimar a reta de regressão:\n",
    "beta1 <- SSxy / SSxx\n",
    "beta0 <- ybar - beta1 * xbar\n"
   ]
  },
  {
   "cell_type": "markdown",
   "metadata": {},
   "source": [
    "## Easy Way"
   ]
  },
  {
   "cell_type": "code",
   "execution_count": 21,
   "metadata": {
    "ExecuteTime": {
     "end_time": "2022-11-13T18:27:48.738582Z",
     "start_time": "2022-11-13T18:27:48.675Z"
    },
    "vscode": {
     "languageId": "r"
    }
   },
   "outputs": [
    {
     "data": {
      "text/plain": [
       "\n",
       "Call:\n",
       "lm(formula = premium ~ driving, data = data1)\n",
       "\n",
       "Residuals:\n",
       "    Min      1Q  Median      3Q     Max \n",
       "-25.933  -6.720  -1.600   8.806  24.257 \n",
       "\n",
       "Coefficients:\n",
       "            Estimate Std. Error t value Pr(>|t|)    \n",
       "(Intercept)  48.4560     6.1245   7.912 9.83e-08 ***\n",
       "driving      -0.1904     0.3686  -0.516    0.611    \n",
       "---\n",
       "Signif. codes:  0 '***' 0.001 '**' 0.01 '*' 0.05 '.' 0.1 ' ' 1\n",
       "\n",
       "Residual standard error: 12.79 on 21 degrees of freedom\n",
       "Multiple R-squared:  0.01254,\tAdjusted R-squared:  -0.03448 \n",
       "F-statistic: 0.2668 on 1 and 21 DF,  p-value: 0.6109\n"
      ]
     },
     "metadata": {},
     "output_type": "display_data"
    }
   ],
   "source": [
    "# ou: the easy way\n",
    "# todo o trabalho anterior resumido em apenas 2 linhas de comandos\n",
    "# falta confirmar que os valores obtidos anteriormente, aparecem também no output\n",
    "\n",
    "modelo_1 <- lm(premium ~ driving, data = data1)\n",
    "\n",
    "# summary ou o output do modelo de regressão\n",
    "summary(modelo_1)\n"
   ]
  },
  {
   "cell_type": "code",
   "execution_count": 22,
   "metadata": {
    "ExecuteTime": {
     "end_time": "2022-11-13T18:27:49.315640Z",
     "start_time": "2022-11-13T18:27:49.291Z"
    },
    "vscode": {
     "languageId": "r"
    }
   },
   "outputs": [
    {
     "data": {
      "text/html": [
       "<table class=\"dataframe\">\n",
       "<caption>A matrix: 2 × 2 of type dbl</caption>\n",
       "<thead>\n",
       "\t<tr><th></th><th scope=col>2.5 %</th><th scope=col>97.5 %</th></tr>\n",
       "</thead>\n",
       "<tbody>\n",
       "\t<tr><th scope=row>(Intercept)</th><td>35.7194845</td><td>61.1925455</td></tr>\n",
       "\t<tr><th scope=row>driving</th><td>-0.9569014</td><td> 0.5761552</td></tr>\n",
       "</tbody>\n",
       "</table>\n"
      ],
      "text/latex": [
       "A matrix: 2 × 2 of type dbl\n",
       "\\begin{tabular}{r|ll}\n",
       "  & 2.5 \\% & 97.5 \\%\\\\\n",
       "\\hline\n",
       "\t(Intercept) & 35.7194845 & 61.1925455\\\\\n",
       "\tdriving & -0.9569014 &  0.5761552\\\\\n",
       "\\end{tabular}\n"
      ],
      "text/markdown": [
       "\n",
       "A matrix: 2 × 2 of type dbl\n",
       "\n",
       "| <!--/--> | 2.5 % | 97.5 % |\n",
       "|---|---|---|\n",
       "| (Intercept) | 35.7194845 | 61.1925455 |\n",
       "| driving | -0.9569014 |  0.5761552 |\n",
       "\n"
      ],
      "text/plain": [
       "            2.5 %      97.5 %    \n",
       "(Intercept) 35.7194845 61.1925455\n",
       "driving     -0.9569014  0.5761552"
      ]
     },
     "metadata": {},
     "output_type": "display_data"
    }
   ],
   "source": [
    "# intervalos de confiança (associados aos parâmetros estimados)\n",
    "confint(modelo_1)\n"
   ]
  },
  {
   "cell_type": "code",
   "execution_count": 23,
   "metadata": {
    "ExecuteTime": {
     "end_time": "2022-11-13T18:27:49.927356Z",
     "start_time": "2022-11-13T18:27:49.907Z"
    },
    "vscode": {
     "languageId": "r"
    }
   },
   "outputs": [
    {
     "data": {
      "text/html": [
       "<style>\n",
       ".list-inline {list-style: none; margin:0; padding: 0}\n",
       ".list-inline>li {display: inline-block}\n",
       ".list-inline>li:not(:last-child)::after {content: \"\\00b7\"; padding: 0 .5ex}\n",
       "</style>\n",
       "<ol class=list-inline><li>'coefficients'</li><li>'residuals'</li><li>'effects'</li><li>'rank'</li><li>'fitted.values'</li><li>'assign'</li><li>'qr'</li><li>'df.residual'</li><li>'xlevels'</li><li>'call'</li><li>'terms'</li><li>'model'</li></ol>\n"
      ],
      "text/latex": [
       "\\begin{enumerate*}\n",
       "\\item 'coefficients'\n",
       "\\item 'residuals'\n",
       "\\item 'effects'\n",
       "\\item 'rank'\n",
       "\\item 'fitted.values'\n",
       "\\item 'assign'\n",
       "\\item 'qr'\n",
       "\\item 'df.residual'\n",
       "\\item 'xlevels'\n",
       "\\item 'call'\n",
       "\\item 'terms'\n",
       "\\item 'model'\n",
       "\\end{enumerate*}\n"
      ],
      "text/markdown": [
       "1. 'coefficients'\n",
       "2. 'residuals'\n",
       "3. 'effects'\n",
       "4. 'rank'\n",
       "5. 'fitted.values'\n",
       "6. 'assign'\n",
       "7. 'qr'\n",
       "8. 'df.residual'\n",
       "9. 'xlevels'\n",
       "10. 'call'\n",
       "11. 'terms'\n",
       "12. 'model'\n",
       "\n",
       "\n"
      ],
      "text/plain": [
       " [1] \"coefficients\"  \"residuals\"     \"effects\"       \"rank\"         \n",
       " [5] \"fitted.values\" \"assign\"        \"qr\"            \"df.residual\"  \n",
       " [9] \"xlevels\"       \"call\"          \"terms\"         \"model\"        "
      ]
     },
     "metadata": {},
     "output_type": "display_data"
    }
   ],
   "source": [
    "# nomes das variáveis no output da função 'lm'\n",
    "\n",
    "names(modelo_1)\n"
   ]
  },
  {
   "cell_type": "code",
   "execution_count": 24,
   "metadata": {
    "ExecuteTime": {
     "end_time": "2022-11-13T18:27:50.566627Z",
     "start_time": "2022-11-13T18:27:50.547Z"
    },
    "vscode": {
     "languageId": "r"
    }
   },
   "outputs": [
    {
     "data": {
      "text/html": [
       "<style>\n",
       ".dl-inline {width: auto; margin:0; padding: 0}\n",
       ".dl-inline>dt, .dl-inline>dd {float: none; width: auto; display: inline-block}\n",
       ".dl-inline>dt::after {content: \":\\0020\"; padding-right: .5ex}\n",
       ".dl-inline>dt:not(:first-of-type) {padding-left: .5ex}\n",
       "</style><dl class=dl-inline><dt>(Intercept)</dt><dd>48.456015010464</dd><dt>driving</dt><dd>-0.190373096629862</dd></dl>\n"
      ],
      "text/latex": [
       "\\begin{description*}\n",
       "\\item[(Intercept)] 48.456015010464\n",
       "\\item[driving] -0.190373096629862\n",
       "\\end{description*}\n"
      ],
      "text/markdown": [
       "(Intercept)\n",
       ":   48.456015010464driving\n",
       ":   -0.190373096629862\n",
       "\n"
      ],
      "text/plain": [
       "(Intercept)     driving \n",
       " 48.4560150  -0.1903731 "
      ]
     },
     "metadata": {},
     "output_type": "display_data"
    }
   ],
   "source": [
    "# vamos ver então os coeficientes do reta de regressão\n",
    "\n",
    "modelo_1$coefficients\n"
   ]
  },
  {
   "cell_type": "code",
   "execution_count": 25,
   "metadata": {
    "ExecuteTime": {
     "end_time": "2022-11-13T18:27:51.294062Z",
     "start_time": "2022-11-13T18:27:51.227Z"
    },
    "vscode": {
     "languageId": "r"
    }
   },
   "outputs": [
    {
     "data": {
      "image/png": "[encoded data removed]",
      "text/plain": [
       "plot without title"
      ]
     },
     "metadata": {
      "image/png": {
       "height": 240,
       "width": 480
      }
     },
     "output_type": "display_data"
    }
   ],
   "source": [
    "# comparação entre y e y-predito (fitted.values)\n",
    "\n",
    "plot(y, col = \"red\", type = \"o\", pch = \"o\", lty = 1, ylim = c(20, 80))\n",
    "lines(modelo_1$fitted.values, type = \"o\", col = \"blue\", pch = \"o\")\n"
   ]
  },
  {
   "cell_type": "code",
   "execution_count": 26,
   "metadata": {
    "ExecuteTime": {
     "end_time": "2022-11-13T18:27:51.999507Z",
     "start_time": "2022-11-13T18:27:51.947Z"
    },
    "vscode": {
     "languageId": "r"
    }
   },
   "outputs": [
    {
     "data": {
      "image/png": "[encoded data removed]",
      "text/plain": [
       "plot without title"
      ]
     },
     "metadata": {
      "image/png": {
       "height": 240,
       "width": 240
      }
     },
     "output_type": "display_data"
    }
   ],
   "source": [
    "# definir o tamanho da figura\n",
    "options(repr.plot.width = 4, repr.plot.height = 4)\n",
    "\n",
    "# representar graficamente os resíduos do modelo_1\n",
    "\n",
    "plot(modelo_1$resid)\n"
   ]
  },
  {
   "cell_type": "code",
   "execution_count": 27,
   "metadata": {
    "ExecuteTime": {
     "end_time": "2022-11-13T18:27:52.738886Z",
     "start_time": "2022-11-13T18:27:52.691Z"
    },
    "vscode": {
     "languageId": "r"
    }
   },
   "outputs": [
    {
     "data": {
      "image/png": "[encoded data removed]",
      "text/plain": [
       "plot without title"
      ]
     },
     "metadata": {
      "image/png": {
       "height": 240,
       "width": 240
      }
     },
     "output_type": "display_data"
    }
   ],
   "source": [
    "# verificação dos pressupostos dos resíduos de ponto de vista visual\n",
    "# observa-se que a média é nula\n",
    "\n",
    "# gráfico de dispersão entre resíduos e valores preditos de y\n",
    "\n",
    "plot(modelo_1$fitted.values, modelo_1$resid)\n",
    "\n",
    "# como temos poucos pontos não conseguimos observar nem padrões não-lineares e\n",
    "# nem se a variância é constante (gráfico em forma de funil)\n"
   ]
  },
  {
   "cell_type": "code",
   "execution_count": 28,
   "metadata": {
    "ExecuteTime": {
     "end_time": "2022-11-13T18:27:53.422952Z",
     "start_time": "2022-11-13T18:27:53.363Z"
    },
    "vscode": {
     "languageId": "r"
    }
   },
   "outputs": [
    {
     "data": {
      "image/png": "[encoded data removed]",
      "text/plain": [
       "Plot with title \"Normal Q-Q Plot\""
      ]
     },
     "metadata": {
      "image/png": {
       "height": 240,
       "width": 240
      }
     },
     "output_type": "display_data"
    }
   ],
   "source": [
    "# verificamos se os resíduos são normalmente distribuídos, usando o QQ-plot\n",
    "\n",
    "qqnorm(modelo_1$resid, pch = 1)\n",
    "qqline(modelo_1$resid, col = \"steelblue\", lwd = 2)\n"
   ]
  },
  {
   "cell_type": "code",
   "execution_count": 29,
   "metadata": {
    "ExecuteTime": {
     "end_time": "2022-11-13T18:27:54.838795Z",
     "start_time": "2022-11-13T18:27:54.011Z"
    },
    "vscode": {
     "languageId": "r"
    }
   },
   "outputs": [
    {
     "name": "stderr",
     "output_type": "stream",
     "text": [
      "Warning message:\n",
      "\"package 'car' was built under R version 4.3.3\"\n",
      "Loading required package: carData\n",
      "\n",
      "Warning message:\n",
      "\"package 'carData' was built under R version 4.3.3\"\n"
     ]
    },
    {
     "data": {
      "text/html": [
       "<style>\n",
       ".list-inline {list-style: none; margin:0; padding: 0}\n",
       ".list-inline>li {display: inline-block}\n",
       ".list-inline>li:not(:last-child)::after {content: \"\\00b7\"; padding: 0 .5ex}\n",
       "</style>\n",
       "<ol class=list-inline><li>23</li><li>4</li></ol>\n"
      ],
      "text/latex": [
       "\\begin{enumerate*}\n",
       "\\item 23\n",
       "\\item 4\n",
       "\\end{enumerate*}\n"
      ],
      "text/markdown": [
       "1. 23\n",
       "2. 4\n",
       "\n",
       "\n"
      ],
      "text/plain": [
       "[1] 23  4"
      ]
     },
     "metadata": {},
     "output_type": "display_data"
    },
    {
     "data": {
      "image/png": "[encoded data removed]",
      "text/plain": [
       "plot without title"
      ]
     },
     "metadata": {
      "image/png": {
       "height": 240,
       "width": 240
      }
     },
     "output_type": "display_data"
    }
   ],
   "source": [
    "# QQ-plot usando a biblioteca \"car\"\n",
    "library(\"car\")\n",
    "qqPlot(modelo_1$resid)\n"
   ]
  },
  {
   "cell_type": "code",
   "execution_count": 30,
   "metadata": {
    "ExecuteTime": {
     "end_time": "2022-11-13T18:27:56.476409Z",
     "start_time": "2022-11-13T18:27:56.331Z"
    },
    "vscode": {
     "languageId": "r"
    }
   },
   "outputs": [
    {
     "data": {
      "image/png": "[encoded data removed]",
      "text/plain": [
       "Plot with title \"\""
      ]
     },
     "metadata": {
      "image/png": {
       "height": 360,
       "width": 360
      }
     },
     "output_type": "display_data"
    }
   ],
   "source": [
    "# definir o tamanho da figura\n",
    "options(repr.plot.width = 6, repr.plot.height = 6)\n",
    "\n",
    "# tudo de uma vez\n",
    "\n",
    "par(mfrow = c(2, 2))\n",
    "plot(modelo_1)\n"
   ]
  }
 ],
 "metadata": {
  "hide_input": false,
  "kernelspec": {
   "display_name": "R",
   "language": "R",
   "name": "ir"
  },
  "language_info": {
   "codemirror_mode": "r",
   "file_extension": ".r",
   "mimetype": "text/x-r-source",
   "name": "R",
   "pygments_lexer": "r",
   "version": "4.3.2"
  },
  "latex_envs": {
   "LaTeX_envs_menu_present": true,
   "autoclose": false,
   "autocomplete": true,
   "bibliofile": "biblio.bib",
   "cite_by": "apalike",
   "current_citInitial": 1,
   "eqLabelWithNumbers": true,
   "eqNumInitial": 1,
   "hotkeys": {
    "equation": "Ctrl-E",
    "itemize": "Ctrl-I"
   },
   "labels_anchors": false,
   "latex_user_defs": false,
   "report_style_numbering": false,
   "user_envs_cfg": false
  },
  "nbTranslate": {
   "displayLangs": [
    "*"
   ],
   "hotkey": "alt-t",
   "langInMainMenu": true,
   "sourceLang": "en",
   "targetLang": "fr",
   "useGoogleTranslate": true
  },
  "toc": {
   "base_numbering": 1,
   "nav_menu": {},
   "number_sections": true,
   "sideBar": true,
   "skip_h1_title": false,
   "title_cell": "Table of Contents",
   "title_sidebar": "Contents",
   "toc_cell": false,
   "toc_position": {},
   "toc_section_display": true,
   "toc_window_display": false
  },
  "varInspector": {
   "cols": {
    "lenName": 16,
    "lenType": 16,
    "lenVar": 40
   },
   "kernels_config": {
    "python": {
     "delete_cmd_postfix": "",
     "delete_cmd_prefix": "del ",
     "library": "var_list.py",
     "varRefreshCmd": "print(var_dic_list())"
    },
    "r": {
     "delete_cmd_postfix": ") ",
     "delete_cmd_prefix": "rm(",
     "library": "var_list.r",
     "varRefreshCmd": "cat(var_dic_list()) "
    }
   },
   "types_to_exclude": [
    "module",
    "function",
    "builtin_function_or_method",
    "instance",
    "_Feature"
   ],
   "window_display": false
  }
 },
 "nbformat": 4,
 "nbformat_minor": 4
}
