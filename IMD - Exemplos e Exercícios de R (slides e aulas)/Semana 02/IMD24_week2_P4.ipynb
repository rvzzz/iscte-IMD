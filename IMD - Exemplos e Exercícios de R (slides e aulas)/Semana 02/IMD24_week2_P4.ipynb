{
 "cells": [
  {
   "cell_type": "markdown",
   "metadata": {},
   "source": [
    "<font size=\"5\"> <div class=\"alert alert-block alert-info\"> Introdução a Modelos Dinâmicos (IMD): Semana 2 (Aula P4) </div> </font> \n",
    "     \n",
    "    \n",
    "  <font size=\"5\"> Licenciatura em Ciência de Dados </font>\n",
    "\n",
    "  \n",
    "  \n",
    "  <font size=\"4\"> **Diana Aldea Mendes**</font>\n",
    "\n",
    "  \n",
    "    \n",
    "  <font size=\"3\"> diana.mendes@iscte-iul.pt </font> \n",
    "  \n",
    "  \n",
    "  <font size=\"4\"> ISCTE-IUL, 21 de fevereiro de 2024 </font>\n",
    " \n",
    "   \n",
    " \n",
    "   \n",
    "  <font size=\"5\"> <div class=\"alert alert-success\" role=\"alert\"> Exemplos de regressão linear / não-linear simples </div></font> \n",
    "  \n",
    "\n"
   ]
  },
  {
   "cell_type": "markdown",
   "metadata": {},
   "source": [
    "## Exemplo1 - Regressão linear simples"
   ]
  },
  {
   "cell_type": "code",
   "execution_count": 219,
   "metadata": {
    "ExecuteTime": {
     "end_time": "2022-11-13T18:30:28.426563Z",
     "start_time": "2022-11-13T18:30:28.404Z"
    },
    "vscode": {
     "languageId": "r"
    }
   },
   "outputs": [],
   "source": [
    "# carregar as bibliotecas que vamos usar neste notebook / script\n",
    "\n",
    "library(dplyr) # para importar data frames\n",
    "library(tidyr)\n",
    "library(gmodels)\n",
    "library(matrixStats)\n",
    "library(corrplot)\n",
    "library(MASS) # very large collection of data sets and functions.\n"
   ]
  },
  {
   "cell_type": "code",
   "execution_count": 220,
   "metadata": {
    "ExecuteTime": {
     "end_time": "2022-11-13T18:30:29.143763Z",
     "start_time": "2022-11-13T18:30:29.124Z"
    },
    "vscode": {
     "languageId": "r"
    }
   },
   "outputs": [],
   "source": [
    "# \"SellingPrinters.csv\": Base de dados com a quantidade e o respetivo preço\n",
    "# de items que foram vendidos em variadas lojas\n",
    "\n",
    "# Ler a base de dados\n",
    "Printers <- read.csv(\"SellingPrinters.csv\", header = TRUE, sep = \";\")\n"
   ]
  },
  {
   "cell_type": "code",
   "execution_count": 221,
   "metadata": {
    "ExecuteTime": {
     "end_time": "2022-11-13T18:30:29.733499Z",
     "start_time": "2022-11-13T18:30:29.710Z"
    },
    "vscode": {
     "languageId": "r"
    }
   },
   "outputs": [
    {
     "data": {
      "text/html": [
       "<table class=\"dataframe\">\n",
       "<caption>A data.frame: 6 × 3</caption>\n",
       "<thead>\n",
       "\t<tr><th></th><th scope=col>X</th><th scope=col>Sold.Items</th><th scope=col>Price</th></tr>\n",
       "\t<tr><th></th><th scope=col>&lt;chr&gt;</th><th scope=col>&lt;int&gt;</th><th scope=col>&lt;int&gt;</th></tr>\n",
       "</thead>\n",
       "<tbody>\n",
       "\t<tr><th scope=row>1</th><td>Store1</td><td>100</td><td>60</td></tr>\n",
       "\t<tr><th scope=row>2</th><td>Store2</td><td>150</td><td>43</td></tr>\n",
       "\t<tr><th scope=row>3</th><td>Store3</td><td>130</td><td>48</td></tr>\n",
       "\t<tr><th scope=row>4</th><td>Store4</td><td>140</td><td>45</td></tr>\n",
       "\t<tr><th scope=row>5</th><td>Store5</td><td>110</td><td>55</td></tr>\n",
       "\t<tr><th scope=row>6</th><td>Store6</td><td>160</td><td>40</td></tr>\n",
       "</tbody>\n",
       "</table>\n"
      ],
      "text/latex": [
       "A data.frame: 6 × 3\n",
       "\\begin{tabular}{r|lll}\n",
       "  & X & Sold.Items & Price\\\\\n",
       "  & <chr> & <int> & <int>\\\\\n",
       "\\hline\n",
       "\t1 & Store1 & 100 & 60\\\\\n",
       "\t2 & Store2 & 150 & 43\\\\\n",
       "\t3 & Store3 & 130 & 48\\\\\n",
       "\t4 & Store4 & 140 & 45\\\\\n",
       "\t5 & Store5 & 110 & 55\\\\\n",
       "\t6 & Store6 & 160 & 40\\\\\n",
       "\\end{tabular}\n"
      ],
      "text/markdown": [
       "\n",
       "A data.frame: 6 × 3\n",
       "\n",
       "| <!--/--> | X &lt;chr&gt; | Sold.Items &lt;int&gt; | Price &lt;int&gt; |\n",
       "|---|---|---|---|\n",
       "| 1 | Store1 | 100 | 60 |\n",
       "| 2 | Store2 | 150 | 43 |\n",
       "| 3 | Store3 | 130 | 48 |\n",
       "| 4 | Store4 | 140 | 45 |\n",
       "| 5 | Store5 | 110 | 55 |\n",
       "| 6 | Store6 | 160 | 40 |\n",
       "\n"
      ],
      "text/plain": [
       "  X      Sold.Items Price\n",
       "1 Store1 100        60   \n",
       "2 Store2 150        43   \n",
       "3 Store3 130        48   \n",
       "4 Store4 140        45   \n",
       "5 Store5 110        55   \n",
       "6 Store6 160        40   "
      ]
     },
     "metadata": {},
     "output_type": "display_data"
    }
   ],
   "source": [
    "# Analisar a base de dados\n",
    "head(Printers)\n"
   ]
  },
  {
   "cell_type": "code",
   "execution_count": 222,
   "metadata": {
    "ExecuteTime": {
     "end_time": "2022-11-13T18:30:30.318648Z",
     "start_time": "2022-11-13T18:30:30.300Z"
    },
    "vscode": {
     "languageId": "r"
    }
   },
   "outputs": [
    {
     "name": "stdout",
     "output_type": "stream",
     "text": [
      "'data.frame':\t20 obs. of  3 variables:\n",
      " $ X         : chr  \"Store1\" \"Store2\" \"Store3\" \"Store4\" ...\n",
      " $ Sold.Items: int  100 150 130 140 110 160 115 135 120 155 ...\n",
      " $ Price     : int  60 43 48 45 55 40 53 47 52 42 ...\n"
     ]
    }
   ],
   "source": [
    "str(Printers)\n"
   ]
  },
  {
   "cell_type": "code",
   "execution_count": 223,
   "metadata": {
    "ExecuteTime": {
     "end_time": "2022-11-13T18:30:31.109712Z",
     "start_time": "2022-11-13T18:30:31.060Z"
    },
    "vscode": {
     "languageId": "r"
    }
   },
   "outputs": [
    {
     "data": {
      "image/png": "[encoded data removed]",
      "text/plain": [
       "plot without title"
      ]
     },
     "metadata": {
      "image/png": {
       "height": 240,
       "width": 240
      }
     },
     "output_type": "display_data"
    }
   ],
   "source": [
    "# definir o tamanho da figura\n",
    "options(repr.plot.width = 4, repr.plot.height = 4)\n",
    "\n",
    "# Gráfico de dispersão entre as variáveis Sold.Items e Price\n",
    "plot(Printers$Sold.Items, Printers$Price)\n"
   ]
  },
  {
   "cell_type": "code",
   "execution_count": 224,
   "metadata": {
    "ExecuteTime": {
     "end_time": "2022-11-13T18:30:31.738957Z",
     "start_time": "2022-11-13T18:30:31.716Z"
    },
    "vscode": {
     "languageId": "r"
    }
   },
   "outputs": [
    {
     "data": {
      "text/html": [
       "-107.810526315789"
      ],
      "text/latex": [
       "-107.810526315789"
      ],
      "text/markdown": [
       "-107.810526315789"
      ],
      "text/plain": [
       "[1] -107.8105"
      ]
     },
     "metadata": {},
     "output_type": "display_data"
    },
    {
     "data": {
      "text/html": [
       "-0.962572499208914"
      ],
      "text/latex": [
       "-0.962572499208914"
      ],
      "text/markdown": [
       "-0.962572499208914"
      ],
      "text/plain": [
       "[1] -0.9625725"
      ]
     },
     "metadata": {},
     "output_type": "display_data"
    }
   ],
   "source": [
    "# Análise de covariância e correlação\n",
    "cov(Printers$Sold.Items, Printers$Price)\n",
    "cor(Printers$Sold.Items, Printers$Price)\n"
   ]
  },
  {
   "cell_type": "code",
   "execution_count": 225,
   "metadata": {
    "ExecuteTime": {
     "end_time": "2022-11-13T18:30:32.367301Z",
     "start_time": "2022-11-13T18:30:32.332Z"
    },
    "vscode": {
     "languageId": "r"
    }
   },
   "outputs": [
    {
     "data": {
      "text/html": [
       "-107.810526315789"
      ],
      "text/latex": [
       "-107.810526315789"
      ],
      "text/markdown": [
       "-107.810526315789"
      ],
      "text/plain": [
       "[1] -107.8105"
      ]
     },
     "metadata": {},
     "output_type": "display_data"
    },
    {
     "data": {
      "text/html": [
       "19.1520233917986"
      ],
      "text/latex": [
       "19.1520233917986"
      ],
      "text/markdown": [
       "19.1520233917986"
      ],
      "text/plain": [
       "[1] 19.15202"
      ]
     },
     "metadata": {},
     "output_type": "display_data"
    },
    {
     "data": {
      "text/html": [
       "5.84807660688538"
      ],
      "text/latex": [
       "5.84807660688538"
      ],
      "text/markdown": [
       "5.84807660688538"
      ],
      "text/plain": [
       "[1] 5.848077"
      ]
     },
     "metadata": {},
     "output_type": "display_data"
    },
    {
     "data": {
      "text/html": [
       "-0.962572499208914"
      ],
      "text/latex": [
       "-0.962572499208914"
      ],
      "text/markdown": [
       "-0.962572499208914"
      ],
      "text/plain": [
       "[1] -0.9625725"
      ]
     },
     "metadata": {},
     "output_type": "display_data"
    }
   ],
   "source": [
    "# Calcular a correlação através da covariância\n",
    "CovX_Y <- cov(Printers$Sold.Items, Printers$Price)\n",
    "CovX_Y\n",
    "SdSoldItems <- sd(Printers$Sold.Items)\n",
    "SdSoldItems\n",
    "SdPrice <- sd(Printers$Price)\n",
    "SdPrice\n",
    "CorrCoef <- CovX_Y / (SdSoldItems * SdPrice)\n",
    "CorrCoef\n"
   ]
  },
  {
   "cell_type": "code",
   "execution_count": 226,
   "metadata": {
    "ExecuteTime": {
     "end_time": "2022-11-13T18:30:33.194850Z",
     "start_time": "2022-11-13T18:30:33.173Z"
    },
    "vscode": {
     "languageId": "r"
    }
   },
   "outputs": [
    {
     "data": {
      "text/plain": [
       "\n",
       "Call:\n",
       "lm(formula = Printers$Price ~ Printers$Sold.Items, data = Printers)\n",
       "\n",
       "Coefficients:\n",
       "        (Intercept)  Printers$Sold.Items  \n",
       "            85.9565              -0.2939  \n"
      ]
     },
     "metadata": {},
     "output_type": "display_data"
    }
   ],
   "source": [
    "# Fazer o ajustamento do modelo de regressão linear simples\n",
    "# Objetivo: prever o preço através das respetivas quantidades vendidas de um item\n",
    "# Variável dependente (target): Price | Variável Independente: Sold.Items\n",
    "LinMod <- lm(Printers$Price ~ Printers$Sold.Items, data = Printers)\n",
    "LinMod\n"
   ]
  },
  {
   "cell_type": "code",
   "execution_count": 227,
   "metadata": {
    "ExecuteTime": {
     "end_time": "2022-11-13T18:30:33.938161Z",
     "start_time": "2022-11-13T18:30:33.900Z"
    },
    "vscode": {
     "languageId": "r"
    }
   },
   "outputs": [
    {
     "data": {
      "text/plain": [
       "\n",
       "Call:\n",
       "lm(formula = Printers$Price ~ Printers$Sold.Items, data = Printers)\n",
       "\n",
       "Residuals:\n",
       "   Min     1Q Median     3Q    Max \n",
       "-2.277 -1.353  0.223  1.177  3.436 \n",
       "\n",
       "Coefficients:\n",
       "                    Estimate Std. Error t value Pr(>|t|)    \n",
       "(Intercept)         85.95647    2.60429   33.01  < 2e-16 ***\n",
       "Printers$Sold.Items -0.29392    0.01951  -15.07 1.19e-11 ***\n",
       "---\n",
       "Signif. codes:  0 '***' 0.001 '**' 0.01 '*' 0.05 '.' 0.1 ' ' 1\n",
       "\n",
       "Residual standard error: 1.628 on 18 degrees of freedom\n",
       "Multiple R-squared:  0.9265,\tAdjusted R-squared:  0.9225 \n",
       "F-statistic: 227.1 on 1 and 18 DF,  p-value: 1.195e-11\n"
      ]
     },
     "metadata": {},
     "output_type": "display_data"
    }
   ],
   "source": [
    "# Sumário do modelo\n",
    "# Beta(0): 85.95647 | Beta(1): -0.29392\n",
    "summary(LinMod)"
   ]
  },
  {
   "cell_type": "markdown",
   "metadata": {},
   "source": [
    "# RV\n",
    "\n",
    "# interpretações:\n",
    "\n",
    "-> Quando é que o preço é 85,95?  resposta: Quando a quantidade \"Sold.Items\" for zero.\n",
    "\n",
    "    Ou seja: O termo independente é o valor esperado da variável dependente quando todas as variáveis explicativas são nulas.\n",
    "\n",
    "### Variações Unitárias\n",
    "\n",
    "perante a variação unitária de uma variável independente xi (beta j) qual é o impacto na variável y (dependente)\n",
    "\n",
    "Nota importante: a variação unitária não é necessariamente a variação de uma unidade, pois vai depender das unidades de medida em que a variável está expressa.\n",
    "\n",
    "Por exemplo, se uma variável está expressa em milhares de dollars.\n",
    "Quando ocorre uma variação unitária, ela aumenta mil dollars e não 1 dollar\n",
    "\n",
    "@01:55\n"
   ]
  },
  {
   "cell_type": "code",
   "execution_count": 228,
   "metadata": {
    "ExecuteTime": {
     "end_time": "2022-11-13T18:30:36.212418Z",
     "start_time": "2022-11-13T18:30:36.189Z"
    },
    "vscode": {
     "languageId": "r"
    }
   },
   "outputs": [
    {
     "data": {
      "text/plain": [
       "\n",
       "Call:\n",
       "lm(formula = Printers$Sold.Items ~ Printers$Price, data = Printers)\n",
       "\n",
       "Residuals:\n",
       "    Min      1Q  Median      3Q     Max \n",
       "-7.5152 -5.0416  0.9086  3.6537  8.4654 \n",
       "\n",
       "Coefficients:\n",
       "               Estimate Std. Error t value Pr(>|t|)    \n",
       "(Intercept)    280.6759     9.9255   28.28 2.27e-16 ***\n",
       "Printers$Price  -3.1524     0.2092  -15.07 1.19e-11 ***\n",
       "---\n",
       "Signif. codes:  0 '***' 0.001 '**' 0.01 '*' 0.05 '.' 0.1 ' ' 1\n",
       "\n",
       "Residual standard error: 5.333 on 18 degrees of freedom\n",
       "Multiple R-squared:  0.9265,\tAdjusted R-squared:  0.9225 \n",
       "F-statistic: 227.1 on 1 and 18 DF,  p-value: 1.195e-11\n"
      ]
     },
     "metadata": {},
     "output_type": "display_data"
    }
   ],
   "source": [
    "LinMod2 <- lm(Printers$Sold.Items ~ Printers$Price, data = Printers)\n",
    "summary(LinMod2)\n"
   ]
  },
  {
   "cell_type": "code",
   "execution_count": 229,
   "metadata": {
    "ExecuteTime": {
     "end_time": "2022-11-13T18:30:36.888497Z",
     "start_time": "2022-11-13T18:30:36.837Z"
    },
    "vscode": {
     "languageId": "r"
    }
   },
   "outputs": [
    {
     "data": {
      "image/png": "[encoded data removed]",
      "text/plain": [
       "plot without title"
      ]
     },
     "metadata": {
      "image/png": {
       "height": 240,
       "width": 240
      }
     },
     "output_type": "display_data"
    }
   ],
   "source": [
    "# Colocar no gráfico a linha de melhor ajuste calculada pelo modelo de\n",
    "# regressão linear previamente ajustado\n",
    "# Price = 85.95647 - (0.29392 * Sold.Items)\n",
    "plot(Printers$Sold.Items, Printers$Price)\n",
    "abline(LinMod, col = \"blue\")\n"
   ]
  },
  {
   "cell_type": "code",
   "execution_count": 230,
   "metadata": {
    "ExecuteTime": {
     "end_time": "2022-11-13T18:30:37.570854Z",
     "start_time": "2022-11-13T18:30:37.524Z"
    },
    "vscode": {
     "languageId": "r"
    }
   },
   "outputs": [
    {
     "data": {
      "image/png": "[encoded data removed]",
      "text/plain": [
       "plot without title"
      ]
     },
     "metadata": {
      "image/png": {
       "height": 240,
       "width": 240
      }
     },
     "output_type": "display_data"
    }
   ],
   "source": [
    "plot(Printers$Price, Printers$Sold.Items)\n",
    "abline(LinMod2, col = \"red\")\n"
   ]
  },
  {
   "cell_type": "markdown",
   "metadata": {},
   "source": [
    "# Verificação dos Pressupostos"
   ]
  },
  {
   "cell_type": "code",
   "execution_count": 231,
   "metadata": {
    "ExecuteTime": {
     "end_time": "2022-11-13T18:30:38.357255Z",
     "start_time": "2022-11-13T18:30:38.188Z"
    },
    "vscode": {
     "languageId": "r"
    }
   },
   "outputs": [
    {
     "data": {
      "image/png": "[encoded data removed]",
      "text/plain": [
       "Plot with title \"\""
      ]
     },
     "metadata": {
      "image/png": {
       "height": 240,
       "width": 240
      }
     },
     "output_type": "display_data"
    },
    {
     "data": {
      "image/png": "[encoded data removed]",
      "text/plain": [
       "Plot with title \"\""
      ]
     },
     "metadata": {
      "image/png": {
       "height": 240,
       "width": 240
      }
     },
     "output_type": "display_data"
    },
    {
     "data": {
      "image/png": "[encoded data removed]",
      "text/plain": [
       "Plot with title \"\""
      ]
     },
     "metadata": {
      "image/png": {
       "height": 240,
       "width": 240
      }
     },
     "output_type": "display_data"
    },
    {
     "data": {
      "image/png": "[encoded data removed]",
      "text/plain": [
       "Plot with title \"\""
      ]
     },
     "metadata": {
      "image/png": {
       "height": 240,
       "width": 240
      }
     },
     "output_type": "display_data"
    }
   ],
   "source": [
    "plot(LinMod2)\n"
   ]
  },
  {
   "cell_type": "code",
   "execution_count": 232,
   "metadata": {
    "ExecuteTime": {
     "end_time": "2022-11-13T18:30:39.657312Z",
     "start_time": "2022-11-13T18:30:39.637Z"
    },
    "vscode": {
     "languageId": "r"
    }
   },
   "outputs": [
    {
     "data": {
      "text/html": [
       "80.1543199770141"
      ],
      "text/latex": [
       "80.1543199770141"
      ],
      "text/markdown": [
       "80.1543199770141"
      ],
      "text/plain": [
       "[1] 80.15432"
      ]
     },
     "metadata": {},
     "output_type": "display_data"
    }
   ],
   "source": [
    "AIC(LinMod)\n"
   ]
  },
  {
   "cell_type": "code",
   "execution_count": 233,
   "metadata": {
    "ExecuteTime": {
     "end_time": "2022-11-13T18:30:40.494179Z",
     "start_time": "2022-11-13T18:30:40.468Z"
    },
    "vscode": {
     "languageId": "r"
    }
   },
   "outputs": [
    {
     "data": {
      "text/html": [
       "127.606141903289"
      ],
      "text/latex": [
       "127.606141903289"
      ],
      "text/markdown": [
       "127.606141903289"
      ],
      "text/plain": [
       "[1] 127.6061"
      ]
     },
     "metadata": {},
     "output_type": "display_data"
    }
   ],
   "source": [
    "AIC(LinMod2)\n"
   ]
  },
  {
   "cell_type": "code",
   "execution_count": 234,
   "metadata": {
    "ExecuteTime": {
     "end_time": "2022-11-13T18:30:41.167100Z",
     "start_time": "2022-11-13T18:30:41.148Z"
    },
    "vscode": {
     "languageId": "r"
    }
   },
   "outputs": [
    {
     "data": {
      "text/html": [
       "-1.67183974997265e-17"
      ],
      "text/latex": [
       "-1.67183974997265e-17"
      ],
      "text/markdown": [
       "-1.67183974997265e-17"
      ],
      "text/plain": [
       "[1] -1.67184e-17"
      ]
     },
     "metadata": {},
     "output_type": "display_data"
    }
   ],
   "source": [
    "mean(LinMod$residuals)\n"
   ]
  },
  {
   "cell_type": "code",
   "execution_count": 235,
   "metadata": {
    "ExecuteTime": {
     "end_time": "2022-11-13T18:30:41.850486Z",
     "start_time": "2022-11-13T18:30:41.828Z"
    },
    "vscode": {
     "languageId": "r"
    }
   },
   "outputs": [
    {
     "data": {
      "text/html": [
       "4.27652704915182e-16"
      ],
      "text/latex": [
       "4.27652704915182e-16"
      ],
      "text/markdown": [
       "4.27652704915182e-16"
      ],
      "text/plain": [
       "[1] 4.276527e-16"
      ]
     },
     "metadata": {},
     "output_type": "display_data"
    }
   ],
   "source": [
    "mean(LinMod2$residuals)\n"
   ]
  },
  {
   "cell_type": "code",
   "execution_count": 236,
   "metadata": {
    "ExecuteTime": {
     "end_time": "2022-11-13T18:30:42.489290Z",
     "start_time": "2022-11-13T18:30:42.468Z"
    },
    "vscode": {
     "languageId": "r"
    }
   },
   "outputs": [
    {
     "data": {
      "text/html": [
       "7.62496694639029e-16"
      ],
      "text/latex": [
       "7.62496694639029e-16"
      ],
      "text/markdown": [
       "7.62496694639029e-16"
      ],
      "text/plain": [
       "[1] 7.624967e-16"
      ]
     },
     "metadata": {},
     "output_type": "display_data"
    }
   ],
   "source": [
    "cor(LinMod$residuals, LinMod$fitted.values)\n"
   ]
  },
  {
   "cell_type": "markdown",
   "metadata": {},
   "source": [
    "## Exemplo 2 - Regressão polinomial (não-linear na variável independente)"
   ]
  },
  {
   "cell_type": "code",
   "execution_count": 237,
   "metadata": {
    "ExecuteTime": {
     "end_time": "2022-11-13T18:30:44.161287Z",
     "start_time": "2022-11-13T18:30:44.140Z"
    },
    "vscode": {
     "languageId": "r"
    }
   },
   "outputs": [],
   "source": [
    "# Regressão Polinomial\n",
    "# criar vetores que vão pertencer à base de dados de estudo\n",
    "Time <- c(6, 7, 8, 9, 10, 11, 12, 13, 14, 15, 16, 17, 18, 19)\n",
    "Temp <- c(4, 6, 7, 9, 10, 11, 11.5, 12, 12, 11.5, 11, 10, 9, 8)\n"
   ]
  },
  {
   "cell_type": "code",
   "execution_count": 238,
   "metadata": {
    "ExecuteTime": {
     "end_time": "2022-11-13T18:30:45.864874Z",
     "start_time": "2022-11-13T18:30:45.828Z"
    },
    "vscode": {
     "languageId": "r"
    }
   },
   "outputs": [
    {
     "data": {
      "image/png": "[encoded data removed]",
      "text/plain": [
       "plot without title"
      ]
     },
     "metadata": {
      "image/png": {
       "height": 240,
       "width": 240
      }
     },
     "output_type": "display_data"
    }
   ],
   "source": [
    "# gráfico de dispersão das variáveis Time e Temp\n",
    "plot(Time, Temp, cex.axis = 0.6, cex.lab = 0.6)\n"
   ]
  },
  {
   "cell_type": "code",
   "execution_count": 239,
   "metadata": {
    "ExecuteTime": {
     "end_time": "2022-11-13T18:30:46.550374Z",
     "start_time": "2022-11-13T18:30:46.532Z"
    },
    "vscode": {
     "languageId": "r"
    }
   },
   "outputs": [
    {
     "data": {
      "text/html": [
       "0.517792835751578"
      ],
      "text/latex": [
       "0.517792835751578"
      ],
      "text/markdown": [
       "0.517792835751578"
      ],
      "text/plain": [
       "[1] 0.5177928"
      ]
     },
     "metadata": {},
     "output_type": "display_data"
    }
   ],
   "source": [
    "cor(Time, Temp)\n"
   ]
  },
  {
   "cell_type": "code",
   "execution_count": 240,
   "metadata": {
    "ExecuteTime": {
     "end_time": "2022-11-13T18:30:47.251938Z",
     "start_time": "2022-11-13T18:30:47.220Z"
    },
    "vscode": {
     "languageId": "r"
    }
   },
   "outputs": [
    {
     "data": {
      "text/plain": [
       "\n",
       "Call:\n",
       "lm(formula = Temp ~ Time)\n",
       "\n",
       "Residuals:\n",
       "    Min      1Q  Median      3Q     Max \n",
       "-3.4714 -1.5978  0.5714  1.8484  2.4209 \n",
       "\n",
       "Coefficients:\n",
       "            Estimate Std. Error t value Pr(>|t|)  \n",
       "(Intercept)   5.6648     1.8862   3.003   0.0110 *\n",
       "Time          0.3011     0.1436   2.097   0.0579 .\n",
       "---\n",
       "Signif. codes:  0 '***' 0.001 '**' 0.01 '*' 0.05 '.' 0.1 ' ' 1\n",
       "\n",
       "Residual standard error: 2.166 on 12 degrees of freedom\n",
       "Multiple R-squared:  0.2681,\tAdjusted R-squared:  0.2071 \n",
       "F-statistic: 4.396 on 1 and 12 DF,  p-value: 0.05789\n"
      ]
     },
     "metadata": {},
     "output_type": "display_data"
    }
   ],
   "source": [
    "# Ajustar um modelo de regressão linear simples\n",
    "LRfit1 <- lm(Temp ~ Time)\n",
    "summary(LRfit1)\n"
   ]
  },
  {
   "cell_type": "code",
   "execution_count": 241,
   "metadata": {
    "ExecuteTime": {
     "end_time": "2022-11-13T18:30:48.006262Z",
     "start_time": "2022-11-13T18:30:47.956Z"
    },
    "vscode": {
     "languageId": "r"
    }
   },
   "outputs": [
    {
     "data": {
      "image/png": "[encoded data removed]",
      "text/plain": [
       "plot without title"
      ]
     },
     "metadata": {
      "image/png": {
       "height": 240,
       "width": 240
      }
     },
     "output_type": "display_data"
    }
   ],
   "source": [
    "#\n",
    "# gráfico de dispersão das variáveis Time e Temp e reta de regressão\n",
    "plot(Time, Temp, cex.axis = 0.6, cex.lab = 0.6)\n",
    "abline(LRfit1, col = \"red\")\n"
   ]
  },
  {
   "cell_type": "code",
   "execution_count": 242,
   "metadata": {
    "ExecuteTime": {
     "end_time": "2022-11-13T18:30:48.736210Z",
     "start_time": "2022-11-13T18:30:48.716Z"
    },
    "vscode": {
     "languageId": "r"
    }
   },
   "outputs": [],
   "source": [
    "# Ajustar 2 modelos de regressão polinomial diferentes\n",
    "Polyfit2 <- lm(Temp ~ Time + I(Time^2))\n",
    "Polyfit3 <- lm(Temp ~ Time + I(Time^2) + I(Time^3))\n"
   ]
  },
  {
   "cell_type": "code",
   "execution_count": 243,
   "metadata": {
    "ExecuteTime": {
     "end_time": "2022-11-13T18:30:49.643105Z",
     "start_time": "2022-11-13T18:30:49.620Z"
    },
    "vscode": {
     "languageId": "r"
    }
   },
   "outputs": [],
   "source": [
    "# Algoritmo alternativo para ajustar os mesmos 2 modelos\n",
    "Polyfit2b <- lm(Temp ~ poly(Time, 2, raw = TRUE))\n",
    "Polyfit3b <- lm(Temp ~ poly(Time, 3, raw = TRUE))\n"
   ]
  },
  {
   "cell_type": "code",
   "execution_count": 244,
   "metadata": {
    "ExecuteTime": {
     "end_time": "2022-11-13T18:30:50.487692Z",
     "start_time": "2022-11-13T18:30:50.468Z"
    },
    "vscode": {
     "languageId": "r"
    }
   },
   "outputs": [
    {
     "data": {
      "text/plain": [
       "\n",
       "Call:\n",
       "lm(formula = Temp ~ Time + I(Time^2))\n",
       "\n",
       "Residuals:\n",
       "     Min       1Q   Median       3Q      Max \n",
       "-0.52005 -0.06387  0.03970  0.15543  0.21250 \n",
       "\n",
       "Coefficients:\n",
       "              Estimate Std. Error t value Pr(>|t|)    \n",
       "(Intercept) -13.710165   0.601247  -22.80 1.30e-10 ***\n",
       "Time          3.760920   0.102822   36.58 7.69e-13 ***\n",
       "I(Time^2)    -0.138393   0.004071  -33.99 1.71e-12 ***\n",
       "---\n",
       "Signif. codes:  0 '***' 0.001 '**' 0.01 '*' 0.05 '.' 0.1 ' ' 1\n",
       "\n",
       "Residual standard error: 0.2197 on 11 degrees of freedom\n",
       "Multiple R-squared:  0.9931,\tAdjusted R-squared:  0.9918 \n",
       "F-statistic: 791.3 on 2 and 11 DF,  p-value: 1.301e-12\n"
      ]
     },
     "metadata": {},
     "output_type": "display_data"
    }
   ],
   "source": [
    "# Sumário dos modelos\n",
    "# Pode-se observar que em Polyfit3 existem 2 variáveis\n",
    "# com pouca significância explicativa\n",
    "summary(Polyfit2)\n"
   ]
  },
  {
   "cell_type": "code",
   "execution_count": 245,
   "metadata": {
    "ExecuteTime": {
     "end_time": "2022-11-13T18:30:51.351607Z",
     "start_time": "2022-11-13T18:30:51.324Z"
    },
    "vscode": {
     "languageId": "r"
    }
   },
   "outputs": [
    {
     "data": {
      "text/plain": [
       "\n",
       "Call:\n",
       "lm(formula = Temp ~ Time + I(Time^2) + I(Time^3))\n",
       "\n",
       "Residuals:\n",
       "     Min       1Q   Median       3Q      Max \n",
       "-0.51293 -0.06900  0.04628  0.15067  0.22794 \n",
       "\n",
       "Coefficients:\n",
       "             Estimate Std. Error t value Pr(>|t|)    \n",
       "(Intercept) -13.42402    2.05505  -6.532 6.62e-05 ***\n",
       "Time          3.68179    0.55157   6.675 5.53e-05 ***\n",
       "I(Time^2)    -0.13164    0.04633  -2.841   0.0175 *  \n",
       "I(Time^3)    -0.00018    0.00123  -0.146   0.8866    \n",
       "---\n",
       "Signif. codes:  0 '***' 0.001 '**' 0.01 '*' 0.05 '.' 0.1 ' ' 1\n",
       "\n",
       "Residual standard error: 0.2302 on 10 degrees of freedom\n",
       "Multiple R-squared:  0.9931,\tAdjusted R-squared:  0.991 \n",
       "F-statistic: 480.6 on 3 and 10 DF,  p-value: 4.183e-11\n"
      ]
     },
     "metadata": {},
     "output_type": "display_data"
    }
   ],
   "source": [
    "summary(Polyfit3)\n"
   ]
  },
  {
   "cell_type": "code",
   "execution_count": 246,
   "metadata": {
    "ExecuteTime": {
     "end_time": "2022-11-13T18:30:52.065978Z",
     "start_time": "2022-11-13T18:30:52.044Z"
    },
    "vscode": {
     "languageId": "r"
    }
   },
   "outputs": [],
   "source": [
    "# Criar um dataset de teste\n",
    "PredData <- data.frame(Time = seq(min(Time), max(Time), length.out = 100))\n",
    "# Usar o modelo Polyfit2 para prever Temp usando o novo dataset de teste\n",
    "PredData$Temp <- predict(Polyfit2, newdata = PredData)\n"
   ]
  },
  {
   "cell_type": "code",
   "execution_count": 247,
   "metadata": {
    "ExecuteTime": {
     "end_time": "2022-11-13T18:30:52.902373Z",
     "start_time": "2022-11-13T18:30:52.884Z"
    },
    "vscode": {
     "languageId": "r"
    }
   },
   "outputs": [],
   "source": [
    "# Criar um 2º dataset de teste\n",
    "PredData2 <- data.frame(Time = seq(min(Time), max(Time), length.out = 100))\n",
    "# Usar o modelo Polyfit3 para prever Temp usando o novo dataset de teste\n",
    "PredData2$Temp <- predict(Polyfit3, newdata = PredData2)\n"
   ]
  },
  {
   "cell_type": "code",
   "execution_count": 248,
   "metadata": {
    "ExecuteTime": {
     "end_time": "2022-11-13T18:30:58.172695Z",
     "start_time": "2022-11-13T18:30:58.116Z"
    },
    "vscode": {
     "languageId": "r"
    }
   },
   "outputs": [
    {
     "data": {
      "image/png": "[encoded data removed]",
      "text/plain": [
       "plot without title"
      ]
     },
     "metadata": {
      "image/png": {
       "height": 240,
       "width": 240
      }
     },
     "output_type": "display_data"
    }
   ],
   "source": [
    "# Visualizar gráficamente como cada um dos modelo se ajusta aos dados originais\n",
    "\n",
    "plot(Time, Temp, cex.axis = 0.6, cex.lab = 0.6)\n",
    "lines(PredData, col = \"red\")\n",
    "# lines(PredData2, col=\"blue\")\n"
   ]
  },
  {
   "cell_type": "markdown",
   "metadata": {},
   "source": [
    "## Exemplo 3 - Regressão não-linear simples (nos parâmetros)   -> não vamos utilizar!!!!!"
   ]
  },
  {
   "cell_type": "code",
   "execution_count": 249,
   "metadata": {
    "ExecuteTime": {
     "end_time": "2022-11-13T18:31:01.278817Z",
     "start_time": "2022-11-13T18:31:01.260Z"
    },
    "vscode": {
     "languageId": "r"
    }
   },
   "outputs": [],
   "source": [
    "# Criar uma distribuição exponencial\n",
    "# Sendo esta uma função não linear, o método OLS (Mínimos Quadrados Ordinários)\n",
    "# não pode ser aplicado. Ou seja, não se pode utilizar regressão linear.\n",
    "# Nestes casos, pode ser usado o método dos mínimos quadrados não linear.\n",
    "\n",
    "x <- seq(0, 200, 1)\n",
    "y <- ((runif(1, 8, 25) * x) / (runif(1, 0, 7) + x)) + runif(201, 0, 1)\n"
   ]
  },
  {
   "cell_type": "code",
   "execution_count": 250,
   "metadata": {
    "ExecuteTime": {
     "end_time": "2022-11-13T18:31:02.180079Z",
     "start_time": "2022-11-13T18:31:02.124Z"
    },
    "vscode": {
     "languageId": "r"
    }
   },
   "outputs": [
    {
     "data": {
      "image/png": "[encoded data removed]",
      "text/plain": [
       "plot without title"
      ]
     },
     "metadata": {
      "image/png": {
       "height": 240,
       "width": 240
      }
     },
     "output_type": "display_data"
    }
   ],
   "source": [
    "# Visualizar a relação das variáveis num gráfico de dispersão\n",
    "plot(x, y)\n"
   ]
  },
  {
   "cell_type": "code",
   "execution_count": 251,
   "metadata": {
    "ExecuteTime": {
     "end_time": "2022-11-13T18:31:02.841672Z",
     "start_time": "2022-11-13T18:31:02.820Z"
    },
    "vscode": {
     "languageId": "r"
    }
   },
   "outputs": [
    {
     "data": {
      "text/plain": [
       "\n",
       "Call:\n",
       "lm(formula = y ~ x)\n",
       "\n",
       "Residuals:\n",
       "    Min      1Q  Median      3Q     Max \n",
       "-9.1669 -0.1988  0.0784  0.3181  0.7171 \n",
       "\n",
       "Coefficients:\n",
       "             Estimate Std. Error t value Pr(>|t|)    \n",
       "(Intercept) 9.2293884  0.1082306  85.275  < 2e-16 ***\n",
       "x           0.0034790  0.0009361   3.716 0.000263 ***\n",
       "---\n",
       "Signif. codes:  0 '***' 0.001 '**' 0.01 '*' 0.05 '.' 0.1 ' ' 1\n",
       "\n",
       "Residual standard error: 0.7701 on 199 degrees of freedom\n",
       "Multiple R-squared:  0.0649,\tAdjusted R-squared:  0.0602 \n",
       "F-statistic: 13.81 on 1 and 199 DF,  p-value: 0.0002626\n"
      ]
     },
     "metadata": {},
     "output_type": "display_data"
    }
   ],
   "source": [
    "# Ajustar um modelo de regressão linear simples aos dados\n",
    "# Pode-se observar que o ajuste está longe de ideal\n",
    "LModel <- lm(y ~ x)\n",
    "LMSummary <- summary(LModel)\n",
    "LMSummary\n"
   ]
  },
  {
   "cell_type": "code",
   "execution_count": 252,
   "metadata": {
    "ExecuteTime": {
     "end_time": "2022-11-13T18:31:03.759209Z",
     "start_time": "2022-11-13T18:31:03.732Z"
    },
    "vscode": {
     "languageId": "r"
    }
   },
   "outputs": [
    {
     "data": {
      "text/plain": [
       "\n",
       "Formula: y ~ a * x/(b + x)\n",
       "\n",
       "Parameters:\n",
       "  Estimate Std. Error t value Pr(>|t|)    \n",
       "a  9.74687    0.02355  413.95   <2e-16 ***\n",
       "b  0.47291    0.04363   10.84   <2e-16 ***\n",
       "---\n",
       "Signif. codes:  0 '***' 0.001 '**' 0.01 '*' 0.05 '.' 0.1 ' ' 1\n",
       "\n",
       "Residual standard error: 0.2993 on 199 degrees of freedom\n",
       "\n",
       "Number of iterations to convergence: 6 \n",
       "Achieved convergence tolerance: 2.615e-07\n"
      ]
     },
     "metadata": {},
     "output_type": "display_data"
    }
   ],
   "source": [
    "# Ajustar um modelo de regressão não linear\n",
    "# Usa-se a função nls() para utilizar este método\n",
    "NLModel <- nls(y ~ a * x / (b + x), start = list(a = 1, b = 0.1))\n",
    "NLMSummary <- summary(NLModel)\n",
    "NLMSummary\n"
   ]
  },
  {
   "cell_type": "code",
   "execution_count": 253,
   "metadata": {
    "ExecuteTime": {
     "end_time": "2022-11-13T18:31:04.482135Z",
     "start_time": "2022-11-13T18:31:04.460Z"
    },
    "vscode": {
     "languageId": "r"
    }
   },
   "outputs": [
    {
     "data": {
      "text/html": [
       "0.770081065903018"
      ],
      "text/latex": [
       "0.770081065903018"
      ],
      "text/markdown": [
       "0.770081065903018"
      ],
      "text/plain": [
       "[1] 0.7700811"
      ]
     },
     "metadata": {},
     "output_type": "display_data"
    },
    {
     "data": {
      "text/html": [
       "0.299269739767812"
      ],
      "text/latex": [
       "0.299269739767812"
      ],
      "text/markdown": [
       "0.299269739767812"
      ],
      "text/plain": [
       "[1] 0.2992697"
      ]
     },
     "metadata": {},
     "output_type": "display_data"
    }
   ],
   "source": [
    "# Extrair o erro padrão residual de ambos os modelos, para serem comparados.\n",
    "# O erro padrão residual da regressão não linear é substancialmente menor\n",
    "# do que o do modelo de regressão linear\n",
    "LMSummary$sigma\n",
    "NLMSummary$sigma\n"
   ]
  },
  {
   "cell_type": "code",
   "execution_count": 254,
   "metadata": {
    "ExecuteTime": {
     "end_time": "2022-11-13T18:31:05.714595Z",
     "start_time": "2022-11-13T18:31:05.652Z"
    },
    "vscode": {
     "languageId": "r"
    }
   },
   "outputs": [
    {
     "data": {
      "image/png": "[encoded data removed]",
      "text/plain": [
       "plot without title"
      ]
     },
     "metadata": {
      "image/png": {
       "height": 240,
       "width": 240
      }
     },
     "output_type": "display_data"
    }
   ],
   "source": [
    "# Visualizar gráficamente como cada modelo se ajusta aos dados\n",
    "plot(x, y)\n",
    "abline(LModel, col = \"blue\")\n",
    "lines(x, predict(NLModel), col = \"red\")\n"
   ]
  }
 ],
 "metadata": {
  "hide_input": false,
  "kernelspec": {
   "display_name": "R",
   "language": "R",
   "name": "ir"
  },
  "language_info": {
   "codemirror_mode": "r",
   "file_extension": ".r",
   "mimetype": "text/x-r-source",
   "name": "R",
   "pygments_lexer": "r",
   "version": "4.3.2"
  },
  "latex_envs": {
   "LaTeX_envs_menu_present": true,
   "autoclose": false,
   "autocomplete": true,
   "bibliofile": "biblio.bib",
   "cite_by": "apalike",
   "current_citInitial": 1,
   "eqLabelWithNumbers": true,
   "eqNumInitial": 1,
   "hotkeys": {
    "equation": "Ctrl-E",
    "itemize": "Ctrl-I"
   },
   "labels_anchors": false,
   "latex_user_defs": false,
   "report_style_numbering": false,
   "user_envs_cfg": false
  },
  "nbTranslate": {
   "displayLangs": [
    "*"
   ],
   "hotkey": "alt-t",
   "langInMainMenu": true,
   "sourceLang": "en",
   "targetLang": "fr",
   "useGoogleTranslate": true
  },
  "toc": {
   "base_numbering": 1,
   "nav_menu": {},
   "number_sections": true,
   "sideBar": true,
   "skip_h1_title": false,
   "title_cell": "Table of Contents",
   "title_sidebar": "Contents",
   "toc_cell": false,
   "toc_position": {},
   "toc_section_display": true,
   "toc_window_display": false
  },
  "varInspector": {
   "cols": {
    "lenName": 16,
    "lenType": 16,
    "lenVar": 40
   },
   "kernels_config": {
    "python": {
     "delete_cmd_postfix": "",
     "delete_cmd_prefix": "del ",
     "library": "var_list.py",
     "varRefreshCmd": "print(var_dic_list())"
    },
    "r": {
     "delete_cmd_postfix": ") ",
     "delete_cmd_prefix": "rm(",
     "library": "var_list.r",
     "varRefreshCmd": "cat(var_dic_list()) "
    }
   },
   "types_to_exclude": [
    "module",
    "function",
    "builtin_function_or_method",
    "instance",
    "_Feature"
   ],
   "window_display": false
  }
 },
 "nbformat": 4,
 "nbformat_minor": 4
}
