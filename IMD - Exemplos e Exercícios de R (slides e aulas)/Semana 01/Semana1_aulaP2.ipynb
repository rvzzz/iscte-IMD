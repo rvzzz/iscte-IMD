{
 "cells": [
  {
   "cell_type": "markdown",
   "metadata": {},
   "source": [
    "\n",
    "\n",
    "<font size=\"5\"> <div class=\"alert alert-block alert-info\"> Introdução a Modelos Dinâmicos (IMD): Semana 1 (Aula P2) </div> </font> \n",
    " \n",
    "\n",
    "     \n",
    "    \n",
    "  <font size=\"5\"> Licenciatura em Ciência de Dados </font>\n",
    "  \n",
    "  \n",
    "  \n",
    "  <font size=\"4\"> **Diana Aldea Mendes**</font>\n",
    "\n",
    "  \n",
    "    \n",
    "  <font size=\"3\"> diana.mendes@iscte-iul.pt </font> \n",
    " \n",
    "  \n",
    "  <font size=\"4\"> ISCTE-IUL, 08 de fevereiro de 2024 </font>\n",
    "\n",
    "   \n",
    "\n",
    "  <font size=\"5\"> <div class=\"alert alert-success\" role=\"alert\"> Correlação e Regressão </div></font> \n",
    "  \n"
   ]
  },
  {
   "cell_type": "code",
   "execution_count": null,
   "metadata": {
    "ExecuteTime": {
     "end_time": "2024-02-04T16:51:10.587270Z",
     "start_time": "2024-02-04T16:51:10.563Z"
    },
    "vscode": {
     "languageId": "r"
    }
   },
   "outputs": [
    {
     "name": "stderr",
     "output_type": "stream",
     "text": [
      "Warning message:\n",
      "\"package 'dplyr' was built under R version 4.3.3\"\n",
      "\n",
      "Attaching package: 'dplyr'\n",
      "\n",
      "\n",
      "The following objects are masked from 'package:stats':\n",
      "\n",
      "    filter, lag\n",
      "\n",
      "\n",
      "The following objects are masked from 'package:base':\n",
      "\n",
      "    intersect, setdiff, setequal, union\n",
      "\n",
      "\n",
      "Warning message:\n",
      "\"package 'gmodels' was built under R version 4.3.3\"\n",
      "Warning message:\n",
      "\"package 'matrixStats' was built under R version 4.3.3\"\n",
      "\n",
      "Attaching package: 'matrixStats'\n",
      "\n",
      "\n",
      "The following object is masked from 'package:dplyr':\n",
      "\n",
      "    count\n",
      "\n",
      "\n",
      "Warning message:\n",
      "\"package 'corrplot' was built under R version 4.3.3\"\n",
      "corrplot 0.95 loaded\n",
      "\n"
     ]
    }
   ],
   "source": [
    "# carregar as bibliotecas que vamos usar neste notebook / script\n",
    "\n",
    "library(dplyr) # para importar data frames\n",
    "library(tidyr)\n",
    "library(gmodels)\n",
    "library(matrixStats)\n",
    "library(corrplot) # para matrizes de correlação\n"
   ]
  },
  {
   "cell_type": "markdown",
   "metadata": {},
   "source": [
    "## Correlação / Associação entre variáveis\n"
   ]
  },
  {
   "cell_type": "code",
   "execution_count": null,
   "metadata": {
    "ExecuteTime": {
     "end_time": "2024-02-04T16:51:12.864006Z",
     "start_time": "2024-02-04T16:51:12.795Z"
    },
    "vscode": {
     "languageId": "r"
    }
   },
   "outputs": [
    {
     "data": {
      "text/html": [
       "<table class=\"dataframe\">\n",
       "<caption>A data.frame: 6 × 6</caption>\n",
       "<thead>\n",
       "\t<tr><th></th><th scope=col>mpg</th><th scope=col>disp</th><th scope=col>hp</th><th scope=col>drat</th><th scope=col>wt</th><th scope=col>qsec</th></tr>\n",
       "\t<tr><th></th><th scope=col>&lt;dbl&gt;</th><th scope=col>&lt;dbl&gt;</th><th scope=col>&lt;dbl&gt;</th><th scope=col>&lt;dbl&gt;</th><th scope=col>&lt;dbl&gt;</th><th scope=col>&lt;dbl&gt;</th></tr>\n",
       "</thead>\n",
       "<tbody>\n",
       "\t<tr><th scope=row>Mazda RX4</th><td>21.0</td><td>160</td><td>110</td><td>3.90</td><td>2.620</td><td>16.46</td></tr>\n",
       "\t<tr><th scope=row>Mazda RX4 Wag</th><td>21.0</td><td>160</td><td>110</td><td>3.90</td><td>2.875</td><td>17.02</td></tr>\n",
       "\t<tr><th scope=row>Datsun 710</th><td>22.8</td><td>108</td><td> 93</td><td>3.85</td><td>2.320</td><td>18.61</td></tr>\n",
       "\t<tr><th scope=row>Hornet 4 Drive</th><td>21.4</td><td>258</td><td>110</td><td>3.08</td><td>3.215</td><td>19.44</td></tr>\n",
       "\t<tr><th scope=row>Hornet Sportabout</th><td>18.7</td><td>360</td><td>175</td><td>3.15</td><td>3.440</td><td>17.02</td></tr>\n",
       "\t<tr><th scope=row>Valiant</th><td>18.1</td><td>225</td><td>105</td><td>2.76</td><td>3.460</td><td>20.22</td></tr>\n",
       "</tbody>\n",
       "</table>\n"
      ],
      "text/latex": [
       "A data.frame: 6 × 6\n",
       "\\begin{tabular}{r|llllll}\n",
       "  & mpg & disp & hp & drat & wt & qsec\\\\\n",
       "  & <dbl> & <dbl> & <dbl> & <dbl> & <dbl> & <dbl>\\\\\n",
       "\\hline\n",
       "\tMazda RX4 & 21.0 & 160 & 110 & 3.90 & 2.620 & 16.46\\\\\n",
       "\tMazda RX4 Wag & 21.0 & 160 & 110 & 3.90 & 2.875 & 17.02\\\\\n",
       "\tDatsun 710 & 22.8 & 108 &  93 & 3.85 & 2.320 & 18.61\\\\\n",
       "\tHornet 4 Drive & 21.4 & 258 & 110 & 3.08 & 3.215 & 19.44\\\\\n",
       "\tHornet Sportabout & 18.7 & 360 & 175 & 3.15 & 3.440 & 17.02\\\\\n",
       "\tValiant & 18.1 & 225 & 105 & 2.76 & 3.460 & 20.22\\\\\n",
       "\\end{tabular}\n"
      ],
      "text/markdown": [
       "\n",
       "A data.frame: 6 × 6\n",
       "\n",
       "| <!--/--> | mpg &lt;dbl&gt; | disp &lt;dbl&gt; | hp &lt;dbl&gt; | drat &lt;dbl&gt; | wt &lt;dbl&gt; | qsec &lt;dbl&gt; |\n",
       "|---|---|---|---|---|---|---|\n",
       "| Mazda RX4 | 21.0 | 160 | 110 | 3.90 | 2.620 | 16.46 |\n",
       "| Mazda RX4 Wag | 21.0 | 160 | 110 | 3.90 | 2.875 | 17.02 |\n",
       "| Datsun 710 | 22.8 | 108 |  93 | 3.85 | 2.320 | 18.61 |\n",
       "| Hornet 4 Drive | 21.4 | 258 | 110 | 3.08 | 3.215 | 19.44 |\n",
       "| Hornet Sportabout | 18.7 | 360 | 175 | 3.15 | 3.440 | 17.02 |\n",
       "| Valiant | 18.1 | 225 | 105 | 2.76 | 3.460 | 20.22 |\n",
       "\n"
      ],
      "text/plain": [
       "                  mpg  disp hp  drat wt    qsec \n",
       "Mazda RX4         21.0 160  110 3.90 2.620 16.46\n",
       "Mazda RX4 Wag     21.0 160  110 3.90 2.875 17.02\n",
       "Datsun 710        22.8 108   93 3.85 2.320 18.61\n",
       "Hornet 4 Drive    21.4 258  110 3.08 3.215 19.44\n",
       "Hornet Sportabout 18.7 360  175 3.15 3.440 17.02\n",
       "Valiant           18.1 225  105 2.76 3.460 20.22"
      ]
     },
     "metadata": {},
     "output_type": "display_data"
    }
   ],
   "source": [
    "# Load data (R built-in data set)\n",
    "# comprises fuel consumption and 10 aspects of automobile design and performance for 32 automobiles\n",
    "data(\"mtcars\")\n",
    "\n",
    "# ver a estrutura da base de dados\n",
    "# str(mtcars)\n",
    "\n",
    "# ?mtcars # para saber info sobre o dataset\n",
    "\n",
    "my_data <- mtcars[, c(1, 3, 4, 5, 6, 7)]\n",
    "\n",
    "# cabeçario, ver as primeiras linhas da base de dados\n",
    "head(my_data, n = 6)\n"
   ]
  },
  {
   "cell_type": "markdown",
   "metadata": {},
   "source": [
    "[, 1]\tmpg\tMiles/(US) gallon\n",
    "\n",
    "[, 3]\tdisp\tDisplacement \n",
    "\n",
    "[, 4]\thp\tGross horsepower\n",
    "\n",
    "[, 5]\tdrat\tRear axle ratio\n",
    "\n",
    "[, 6]\twt\tWeight (1000 lbs)\n",
    "\n",
    "[, 7]\tqsec\t1/4 mile time"
   ]
  },
  {
   "cell_type": "code",
   "execution_count": null,
   "metadata": {
    "ExecuteTime": {
     "end_time": "2024-02-04T16:51:15.664161Z",
     "start_time": "2024-02-04T16:51:15.627Z"
    },
    "vscode": {
     "languageId": "r"
    }
   },
   "outputs": [
    {
     "name": "stdout",
     "output_type": "stream",
     "text": [
      "'data.frame':\t32 obs. of  6 variables:\n",
      " $ mpg : num  21 21 22.8 21.4 18.7 18.1 14.3 24.4 22.8 19.2 ...\n",
      " $ disp: num  160 160 108 258 360 ...\n",
      " $ hp  : num  110 110 93 110 175 105 245 62 95 123 ...\n",
      " $ drat: num  3.9 3.9 3.85 3.08 3.15 2.76 3.21 3.69 3.92 3.92 ...\n",
      " $ wt  : num  2.62 2.88 2.32 3.21 3.44 ...\n",
      " $ qsec: num  16.5 17 18.6 19.4 17 ...\n"
     ]
    }
   ],
   "source": [
    "# estrutura da base de dados\n",
    "str(my_data)\n"
   ]
  },
  {
   "cell_type": "code",
   "execution_count": null,
   "metadata": {
    "ExecuteTime": {
     "end_time": "2024-02-04T16:51:16.912967Z",
     "start_time": "2024-02-04T16:51:16.892Z"
    },
    "vscode": {
     "languageId": "r"
    }
   },
   "outputs": [
    {
     "data": {
      "text/plain": [
       "      mpg             disp             hp             drat      \n",
       " Min.   :10.40   Min.   : 71.1   Min.   : 52.0   Min.   :2.760  \n",
       " 1st Qu.:15.43   1st Qu.:120.8   1st Qu.: 96.5   1st Qu.:3.080  \n",
       " Median :19.20   Median :196.3   Median :123.0   Median :3.695  \n",
       " Mean   :20.09   Mean   :230.7   Mean   :146.7   Mean   :3.597  \n",
       " 3rd Qu.:22.80   3rd Qu.:326.0   3rd Qu.:180.0   3rd Qu.:3.920  \n",
       " Max.   :33.90   Max.   :472.0   Max.   :335.0   Max.   :4.930  \n",
       "       wt             qsec      \n",
       " Min.   :1.513   Min.   :14.50  \n",
       " 1st Qu.:2.581   1st Qu.:16.89  \n",
       " Median :3.325   Median :17.71  \n",
       " Mean   :3.217   Mean   :17.85  \n",
       " 3rd Qu.:3.610   3rd Qu.:18.90  \n",
       " Max.   :5.424   Max.   :22.90  "
      ]
     },
     "metadata": {},
     "output_type": "display_data"
    }
   ],
   "source": [
    "# sumário com informação estatística básica sobre as variáveis\n",
    "summary(my_data)\n",
    "\n",
    "# a 2ª e 3ª colunas (disp e hp) têm uma grande amplitude de valores -- é útil logaritmizar estas variáveis\n"
   ]
  },
  {
   "cell_type": "code",
   "execution_count": 11,
   "metadata": {
    "ExecuteTime": {
     "end_time": "2024-02-04T17:06:33.911834Z",
     "start_time": "2024-02-04T17:06:33.882Z"
    },
    "vscode": {
     "languageId": "r"
    }
   },
   "outputs": [
    {
     "data": {
      "text/html": [
       "'The mode of the miles per gallon data is 10.4'"
      ],
      "text/latex": [
       "'The mode of the miles per gallon data is 10.4'"
      ],
      "text/markdown": [
       "'The mode of the miles per gallon data is 10.4'"
      ],
      "text/plain": [
       "[1] \"The mode of the miles per gallon data is 10.4\""
      ]
     },
     "metadata": {},
     "output_type": "display_data"
    }
   ],
   "source": [
    "# calcular a moda da variável mpg\n",
    "mode_mpg <- names(sort(-table(my_data$mpg)))[1]\n",
    "paste(\"The mode of the miles per gallon data is\", mode_mpg)\n"
   ]
  },
  {
   "cell_type": "code",
   "execution_count": null,
   "metadata": {
    "ExecuteTime": {
     "end_time": "2024-02-04T17:06:34.909790Z",
     "start_time": "2024-02-04T17:06:34.882Z"
    },
    "vscode": {
     "languageId": "r"
    }
   },
   "outputs": [
    {
     "data": {
      "text/html": [
       "<style>\n",
       ".list-inline {list-style: none; margin:0; padding: 0}\n",
       ".list-inline>li {display: inline-block}\n",
       ".list-inline>li:not(:last-child)::after {content: \"\\00b7\"; padding: 0 .5ex}\n",
       "</style>\n",
       "<ol class=list-inline><li>'mpg'</li><li>'disp'</li><li>'hp'</li><li>'drat'</li><li>'wt'</li><li>'qsec'</li></ol>\n"
      ],
      "text/latex": [
       "\\begin{enumerate*}\n",
       "\\item 'mpg'\n",
       "\\item 'disp'\n",
       "\\item 'hp'\n",
       "\\item 'drat'\n",
       "\\item 'wt'\n",
       "\\item 'qsec'\n",
       "\\end{enumerate*}\n"
      ],
      "text/markdown": [
       "1. 'mpg'\n",
       "2. 'disp'\n",
       "3. 'hp'\n",
       "4. 'drat'\n",
       "5. 'wt'\n",
       "6. 'qsec'\n",
       "\n",
       "\n"
      ],
      "text/plain": [
       "[1] \"mpg\"  \"disp\" \"hp\"   \"drat\" \"wt\"   \"qsec\""
      ]
     },
     "metadata": {},
     "output_type": "display_data"
    }
   ],
   "source": [
    "names(my_data)\n"
   ]
  },
  {
   "cell_type": "code",
   "execution_count": null,
   "metadata": {
    "ExecuteTime": {
     "end_time": "2024-02-04T17:06:35.745883Z",
     "start_time": "2024-02-04T17:06:35.722Z"
    },
    "vscode": {
     "languageId": "r"
    }
   },
   "outputs": [
    {
     "data": {
      "text/html": [
       "-0.776168371826586"
      ],
      "text/latex": [
       "-0.776168371826586"
      ],
      "text/markdown": [
       "-0.776168371826586"
      ],
      "text/plain": [
       "[1] -0.7761684"
      ]
     },
     "metadata": {},
     "output_type": "display_data"
    }
   ],
   "source": [
    "# correlação de Pearson entre 2 variáveis cor(hp,mpg, method=\"pearson\") # por default é o pearson\n",
    "cor(my_data$hp, my_data$mpg) # por default é o pearson\n"
   ]
  },
  {
   "cell_type": "code",
   "execution_count": null,
   "metadata": {
    "ExecuteTime": {
     "end_time": "2024-02-04T17:06:36.494690Z",
     "start_time": "2024-02-04T17:06:36.474Z"
    },
    "vscode": {
     "languageId": "r"
    }
   },
   "outputs": [
    {
     "data": {
      "text/html": [
       "-0.894664645749963"
      ],
      "text/latex": [
       "-0.894664645749963"
      ],
      "text/markdown": [
       "-0.894664645749963"
      ],
      "text/plain": [
       "[1] -0.8946646"
      ]
     },
     "metadata": {},
     "output_type": "display_data"
    }
   ],
   "source": [
    "# correlação de Spearman entre 2 variáveis\n",
    "cor(my_data$hp, my_data$mpg, method = \"spearman\")\n"
   ]
  },
  {
   "cell_type": "code",
   "execution_count": null,
   "metadata": {
    "ExecuteTime": {
     "end_time": "2024-02-04T17:06:37.320684Z",
     "start_time": "2024-02-04T17:06:37.290Z"
    },
    "vscode": {
     "languageId": "r"
    }
   },
   "outputs": [
    {
     "data": {
      "text/html": [
       "<table class=\"dataframe\">\n",
       "<caption>A matrix: 6 × 6 of type dbl</caption>\n",
       "<thead>\n",
       "\t<tr><th></th><th scope=col>mpg</th><th scope=col>disp</th><th scope=col>hp</th><th scope=col>drat</th><th scope=col>wt</th><th scope=col>qsec</th></tr>\n",
       "</thead>\n",
       "<tbody>\n",
       "\t<tr><th scope=row>mpg</th><td> 1.00</td><td>-0.85</td><td>-0.78</td><td> 0.68</td><td>-0.87</td><td> 0.42</td></tr>\n",
       "\t<tr><th scope=row>disp</th><td>-0.85</td><td> 1.00</td><td> 0.79</td><td>-0.71</td><td> 0.89</td><td>-0.43</td></tr>\n",
       "\t<tr><th scope=row>hp</th><td>-0.78</td><td> 0.79</td><td> 1.00</td><td>-0.45</td><td> 0.66</td><td>-0.71</td></tr>\n",
       "\t<tr><th scope=row>drat</th><td> 0.68</td><td>-0.71</td><td>-0.45</td><td> 1.00</td><td>-0.71</td><td> 0.09</td></tr>\n",
       "\t<tr><th scope=row>wt</th><td>-0.87</td><td> 0.89</td><td> 0.66</td><td>-0.71</td><td> 1.00</td><td>-0.17</td></tr>\n",
       "\t<tr><th scope=row>qsec</th><td> 0.42</td><td>-0.43</td><td>-0.71</td><td> 0.09</td><td>-0.17</td><td> 1.00</td></tr>\n",
       "</tbody>\n",
       "</table>\n"
      ],
      "text/latex": [
       "A matrix: 6 × 6 of type dbl\n",
       "\\begin{tabular}{r|llllll}\n",
       "  & mpg & disp & hp & drat & wt & qsec\\\\\n",
       "\\hline\n",
       "\tmpg &  1.00 & -0.85 & -0.78 &  0.68 & -0.87 &  0.42\\\\\n",
       "\tdisp & -0.85 &  1.00 &  0.79 & -0.71 &  0.89 & -0.43\\\\\n",
       "\thp & -0.78 &  0.79 &  1.00 & -0.45 &  0.66 & -0.71\\\\\n",
       "\tdrat &  0.68 & -0.71 & -0.45 &  1.00 & -0.71 &  0.09\\\\\n",
       "\twt & -0.87 &  0.89 &  0.66 & -0.71 &  1.00 & -0.17\\\\\n",
       "\tqsec &  0.42 & -0.43 & -0.71 &  0.09 & -0.17 &  1.00\\\\\n",
       "\\end{tabular}\n"
      ],
      "text/markdown": [
       "\n",
       "A matrix: 6 × 6 of type dbl\n",
       "\n",
       "| <!--/--> | mpg | disp | hp | drat | wt | qsec |\n",
       "|---|---|---|---|---|---|---|\n",
       "| mpg |  1.00 | -0.85 | -0.78 |  0.68 | -0.87 |  0.42 |\n",
       "| disp | -0.85 |  1.00 |  0.79 | -0.71 |  0.89 | -0.43 |\n",
       "| hp | -0.78 |  0.79 |  1.00 | -0.45 |  0.66 | -0.71 |\n",
       "| drat |  0.68 | -0.71 | -0.45 |  1.00 | -0.71 |  0.09 |\n",
       "| wt | -0.87 |  0.89 |  0.66 | -0.71 |  1.00 | -0.17 |\n",
       "| qsec |  0.42 | -0.43 | -0.71 |  0.09 | -0.17 |  1.00 |\n",
       "\n"
      ],
      "text/plain": [
       "     mpg   disp  hp    drat  wt    qsec \n",
       "mpg   1.00 -0.85 -0.78  0.68 -0.87  0.42\n",
       "disp -0.85  1.00  0.79 -0.71  0.89 -0.43\n",
       "hp   -0.78  0.79  1.00 -0.45  0.66 -0.71\n",
       "drat  0.68 -0.71 -0.45  1.00 -0.71  0.09\n",
       "wt   -0.87  0.89  0.66 -0.71  1.00 -0.17\n",
       "qsec  0.42 -0.43 -0.71  0.09 -0.17  1.00"
      ]
     },
     "metadata": {},
     "output_type": "display_data"
    }
   ],
   "source": [
    "# matriz de correlação (correlação de Pearson entre todos os pares de variáveis)\n",
    "res <- cor(my_data)\n",
    "round(res, 2)\n",
    "\n",
    "\n",
    "# metemos a variável dependente na coluna e na linha para aparecer como na matriz de correlação abaixo:\n"
   ]
  },
  {
   "cell_type": "code",
   "execution_count": null,
   "metadata": {
    "ExecuteTime": {
     "end_time": "2024-02-04T17:06:38.065484Z",
     "start_time": "2024-02-04T17:06:38.034Z"
    },
    "vscode": {
     "languageId": "r"
    }
   },
   "outputs": [
    {
     "data": {
      "text/html": [
       "<table class=\"dataframe\">\n",
       "<caption>A matrix: 6 × 6 of type dbl</caption>\n",
       "<thead>\n",
       "\t<tr><th></th><th scope=col>mpg</th><th scope=col>disp</th><th scope=col>hp</th><th scope=col>drat</th><th scope=col>wt</th><th scope=col>qsec</th></tr>\n",
       "</thead>\n",
       "<tbody>\n",
       "\t<tr><th scope=row>mpg</th><td> 1.0000000</td><td>-0.8475514</td><td>-0.7761684</td><td> 0.68117191</td><td>-0.8676594</td><td> 0.41868403</td></tr>\n",
       "\t<tr><th scope=row>disp</th><td>-0.8475514</td><td> 1.0000000</td><td> 0.7909486</td><td>-0.71021393</td><td> 0.8879799</td><td>-0.43369788</td></tr>\n",
       "\t<tr><th scope=row>hp</th><td>-0.7761684</td><td> 0.7909486</td><td> 1.0000000</td><td>-0.44875912</td><td> 0.6587479</td><td>-0.70822339</td></tr>\n",
       "\t<tr><th scope=row>drat</th><td> 0.6811719</td><td>-0.7102139</td><td>-0.4487591</td><td> 1.00000000</td><td>-0.7124406</td><td> 0.09120476</td></tr>\n",
       "\t<tr><th scope=row>wt</th><td>-0.8676594</td><td> 0.8879799</td><td> 0.6587479</td><td>-0.71244065</td><td> 1.0000000</td><td>-0.17471588</td></tr>\n",
       "\t<tr><th scope=row>qsec</th><td> 0.4186840</td><td>-0.4336979</td><td>-0.7082234</td><td> 0.09120476</td><td>-0.1747159</td><td> 1.00000000</td></tr>\n",
       "</tbody>\n",
       "</table>\n"
      ],
      "text/latex": [
       "A matrix: 6 × 6 of type dbl\n",
       "\\begin{tabular}{r|llllll}\n",
       "  & mpg & disp & hp & drat & wt & qsec\\\\\n",
       "\\hline\n",
       "\tmpg &  1.0000000 & -0.8475514 & -0.7761684 &  0.68117191 & -0.8676594 &  0.41868403\\\\\n",
       "\tdisp & -0.8475514 &  1.0000000 &  0.7909486 & -0.71021393 &  0.8879799 & -0.43369788\\\\\n",
       "\thp & -0.7761684 &  0.7909486 &  1.0000000 & -0.44875912 &  0.6587479 & -0.70822339\\\\\n",
       "\tdrat &  0.6811719 & -0.7102139 & -0.4487591 &  1.00000000 & -0.7124406 &  0.09120476\\\\\n",
       "\twt & -0.8676594 &  0.8879799 &  0.6587479 & -0.71244065 &  1.0000000 & -0.17471588\\\\\n",
       "\tqsec &  0.4186840 & -0.4336979 & -0.7082234 &  0.09120476 & -0.1747159 &  1.00000000\\\\\n",
       "\\end{tabular}\n"
      ],
      "text/markdown": [
       "\n",
       "A matrix: 6 × 6 of type dbl\n",
       "\n",
       "| <!--/--> | mpg | disp | hp | drat | wt | qsec |\n",
       "|---|---|---|---|---|---|---|\n",
       "| mpg |  1.0000000 | -0.8475514 | -0.7761684 |  0.68117191 | -0.8676594 |  0.41868403 |\n",
       "| disp | -0.8475514 |  1.0000000 |  0.7909486 | -0.71021393 |  0.8879799 | -0.43369788 |\n",
       "| hp | -0.7761684 |  0.7909486 |  1.0000000 | -0.44875912 |  0.6587479 | -0.70822339 |\n",
       "| drat |  0.6811719 | -0.7102139 | -0.4487591 |  1.00000000 | -0.7124406 |  0.09120476 |\n",
       "| wt | -0.8676594 |  0.8879799 |  0.6587479 | -0.71244065 |  1.0000000 | -0.17471588 |\n",
       "| qsec |  0.4186840 | -0.4336979 | -0.7082234 |  0.09120476 | -0.1747159 |  1.00000000 |\n",
       "\n"
      ],
      "text/plain": [
       "     mpg        disp       hp         drat        wt         qsec       \n",
       "mpg   1.0000000 -0.8475514 -0.7761684  0.68117191 -0.8676594  0.41868403\n",
       "disp -0.8475514  1.0000000  0.7909486 -0.71021393  0.8879799 -0.43369788\n",
       "hp   -0.7761684  0.7909486  1.0000000 -0.44875912  0.6587479 -0.70822339\n",
       "drat  0.6811719 -0.7102139 -0.4487591  1.00000000 -0.7124406  0.09120476\n",
       "wt   -0.8676594  0.8879799  0.6587479 -0.71244065  1.0000000 -0.17471588\n",
       "qsec  0.4186840 -0.4336979 -0.7082234  0.09120476 -0.1747159  1.00000000"
      ]
     },
     "metadata": {},
     "output_type": "display_data"
    }
   ],
   "source": [
    "# a mesma coisa, mas usando mais digitos nos coeficientes de correlação\n",
    "cor(my_data, use = \"complete.obs\")\n"
   ]
  },
  {
   "cell_type": "code",
   "execution_count": null,
   "metadata": {
    "ExecuteTime": {
     "end_time": "2024-02-04T17:06:38.770183Z",
     "start_time": "2024-02-04T17:06:38.746Z"
    },
    "vscode": {
     "languageId": "r"
    }
   },
   "outputs": [
    {
     "data": {
      "text/html": [
       "<table class=\"dataframe\">\n",
       "<caption>A matrix: 6 × 6 of type dbl</caption>\n",
       "<thead>\n",
       "\t<tr><th></th><th scope=col>mpg</th><th scope=col>disp</th><th scope=col>hp</th><th scope=col>drat</th><th scope=col>wt</th><th scope=col>qsec</th></tr>\n",
       "</thead>\n",
       "<tbody>\n",
       "\t<tr><th scope=row>mpg</th><td> 1.000</td><td>-0.848</td><td>-0.776</td><td> 0.681</td><td>-0.868</td><td> 0.419</td></tr>\n",
       "\t<tr><th scope=row>disp</th><td>-0.848</td><td> 1.000</td><td> 0.791</td><td>-0.710</td><td> 0.888</td><td>-0.434</td></tr>\n",
       "\t<tr><th scope=row>hp</th><td>-0.776</td><td> 0.791</td><td> 1.000</td><td>-0.449</td><td> 0.659</td><td>-0.708</td></tr>\n",
       "\t<tr><th scope=row>drat</th><td> 0.681</td><td>-0.710</td><td>-0.449</td><td> 1.000</td><td>-0.712</td><td> 0.091</td></tr>\n",
       "\t<tr><th scope=row>wt</th><td>-0.868</td><td> 0.888</td><td> 0.659</td><td>-0.712</td><td> 1.000</td><td>-0.175</td></tr>\n",
       "\t<tr><th scope=row>qsec</th><td> 0.419</td><td>-0.434</td><td>-0.708</td><td> 0.091</td><td>-0.175</td><td> 1.000</td></tr>\n",
       "</tbody>\n",
       "</table>\n"
      ],
      "text/latex": [
       "A matrix: 6 × 6 of type dbl\n",
       "\\begin{tabular}{r|llllll}\n",
       "  & mpg & disp & hp & drat & wt & qsec\\\\\n",
       "\\hline\n",
       "\tmpg &  1.000 & -0.848 & -0.776 &  0.681 & -0.868 &  0.419\\\\\n",
       "\tdisp & -0.848 &  1.000 &  0.791 & -0.710 &  0.888 & -0.434\\\\\n",
       "\thp & -0.776 &  0.791 &  1.000 & -0.449 &  0.659 & -0.708\\\\\n",
       "\tdrat &  0.681 & -0.710 & -0.449 &  1.000 & -0.712 &  0.091\\\\\n",
       "\twt & -0.868 &  0.888 &  0.659 & -0.712 &  1.000 & -0.175\\\\\n",
       "\tqsec &  0.419 & -0.434 & -0.708 &  0.091 & -0.175 &  1.000\\\\\n",
       "\\end{tabular}\n"
      ],
      "text/markdown": [
       "\n",
       "A matrix: 6 × 6 of type dbl\n",
       "\n",
       "| <!--/--> | mpg | disp | hp | drat | wt | qsec |\n",
       "|---|---|---|---|---|---|---|\n",
       "| mpg |  1.000 | -0.848 | -0.776 |  0.681 | -0.868 |  0.419 |\n",
       "| disp | -0.848 |  1.000 |  0.791 | -0.710 |  0.888 | -0.434 |\n",
       "| hp | -0.776 |  0.791 |  1.000 | -0.449 |  0.659 | -0.708 |\n",
       "| drat |  0.681 | -0.710 | -0.449 |  1.000 | -0.712 |  0.091 |\n",
       "| wt | -0.868 |  0.888 |  0.659 | -0.712 |  1.000 | -0.175 |\n",
       "| qsec |  0.419 | -0.434 | -0.708 |  0.091 | -0.175 |  1.000 |\n",
       "\n"
      ],
      "text/plain": [
       "     mpg    disp   hp     drat   wt     qsec  \n",
       "mpg   1.000 -0.848 -0.776  0.681 -0.868  0.419\n",
       "disp -0.848  1.000  0.791 -0.710  0.888 -0.434\n",
       "hp   -0.776  0.791  1.000 -0.449  0.659 -0.708\n",
       "drat  0.681 -0.710 -0.449  1.000 -0.712  0.091\n",
       "wt   -0.868  0.888  0.659 -0.712  1.000 -0.175\n",
       "qsec  0.419 -0.434 -0.708  0.091 -0.175  1.000"
      ]
     },
     "metadata": {},
     "output_type": "display_data"
    }
   ],
   "source": [
    "# arrondar para 3 casas decimais\n",
    "round(cor(my_data), digits = 3)\n"
   ]
  },
  {
   "cell_type": "code",
   "execution_count": null,
   "metadata": {
    "ExecuteTime": {
     "end_time": "2024-02-04T17:06:39.569818Z",
     "start_time": "2024-02-04T17:06:39.466Z"
    },
    "vscode": {
     "languageId": "r"
    }
   },
   "outputs": [
    {
     "data": {
      "image/png": "[encoded data removed]",
      "text/plain": [
       "Plot with title \"\""
      ]
     },
     "metadata": {
      "image/png": {
       "height": 240,
       "width": 240
      }
     },
     "output_type": "display_data"
    }
   ],
   "source": [
    "# várias formas de representar uma matriz de correlação (mais visual)\n",
    "# usamos library(corrplot)\n",
    "# definir o tamanho da figura\n",
    "options(repr.plot.width = 4, repr.plot.height = 4)\n",
    "\n",
    "corrplot(res,\n",
    "    type = \"upper\", order = \"hclust\",\n",
    "    tl.col = \"black\", tl.srt = 25\n",
    ")\n"
   ]
  },
  {
   "cell_type": "code",
   "execution_count": null,
   "metadata": {
    "ExecuteTime": {
     "end_time": "2024-02-04T17:06:40.337105Z",
     "start_time": "2024-02-04T17:06:40.202Z"
    },
    "vscode": {
     "languageId": "r"
    }
   },
   "outputs": [
    {
     "data": {
      "image/png": "[encoded data removed]",
      "text/plain": [
       "Plot with title \"\""
      ]
     },
     "metadata": {
      "image/png": {
       "height": 240,
       "width": 240
      }
     },
     "output_type": "display_data"
    }
   ],
   "source": [
    "# várias formas de representar uma matriz de correlação (mais visual)\n",
    "corrplot(cor(my_data), method = \"number\", type = \"upper\")\n"
   ]
  },
  {
   "cell_type": "code",
   "execution_count": null,
   "metadata": {
    "ExecuteTime": {
     "end_time": "2024-02-04T17:06:41.081278Z",
     "start_time": "2024-02-04T17:06:41.010Z"
    },
    "run_control": {
     "marked": true
    },
    "vscode": {
     "languageId": "r"
    }
   },
   "outputs": [
    {
     "data": {
      "image/png": "[encoded data removed]",
      "text/plain": [
       "plot without title"
      ]
     },
     "metadata": {
      "image/png": {
       "height": 240,
       "width": 240
      }
     },
     "output_type": "display_data"
    }
   ],
   "source": [
    "col <- colorRampPalette(c(\"blue\", \"white\", \"red\"))(20)\n",
    "heatmap(x = res, col = col, symm = TRUE)\n"
   ]
  },
  {
   "cell_type": "code",
   "execution_count": null,
   "metadata": {
    "ExecuteTime": {
     "end_time": "2024-02-04T17:06:41.852140Z",
     "start_time": "2024-02-04T17:06:41.818Z"
    },
    "vscode": {
     "languageId": "r"
    }
   },
   "outputs": [
    {
     "data": {
      "text/html": [
       "<table class=\"dataframe\">\n",
       "<caption>A matrix: 11 × 11 of type dbl</caption>\n",
       "<thead>\n",
       "\t<tr><th></th><th scope=col>mpg</th><th scope=col>cyl</th><th scope=col>disp</th><th scope=col>hp</th><th scope=col>drat</th><th scope=col>wt</th><th scope=col>qsec</th><th scope=col>vs</th><th scope=col>am</th><th scope=col>gear</th><th scope=col>carb</th></tr>\n",
       "</thead>\n",
       "<tbody>\n",
       "\t<tr><th scope=row>mpg</th><td> 1.0000000</td><td>-0.7953134</td><td>-0.7681311</td><td>-0.7428125</td><td> 0.46454879</td><td>-0.7278321</td><td> 0.31536522</td><td> 0.5896790</td><td> 0.46901280</td><td> 0.43315089</td><td>-0.50439455</td></tr>\n",
       "\t<tr><th scope=row>cyl</th><td>-0.7953134</td><td> 1.0000000</td><td> 0.8144263</td><td> 0.7851865</td><td>-0.55131785</td><td> 0.7282611</td><td>-0.44896982</td><td>-0.7710007</td><td>-0.49462115</td><td>-0.51254349</td><td> 0.46542994</td></tr>\n",
       "\t<tr><th scope=row>disp</th><td>-0.7681311</td><td> 0.8144263</td><td> 1.0000000</td><td> 0.6659987</td><td>-0.49898277</td><td> 0.7433824</td><td>-0.30081549</td><td>-0.6033059</td><td>-0.52027392</td><td>-0.47597955</td><td> 0.41373600</td></tr>\n",
       "\t<tr><th scope=row>hp</th><td>-0.7428125</td><td> 0.7851865</td><td> 0.6659987</td><td> 1.0000000</td><td>-0.38262689</td><td> 0.6113081</td><td>-0.47290613</td><td>-0.6305926</td><td>-0.30399557</td><td>-0.27944584</td><td> 0.59598416</td></tr>\n",
       "\t<tr><th scope=row>drat</th><td> 0.4645488</td><td>-0.5513178</td><td>-0.4989828</td><td>-0.3826269</td><td> 1.00000000</td><td>-0.5471495</td><td> 0.03272155</td><td> 0.3751011</td><td> 0.57554849</td><td> 0.58392476</td><td>-0.09535193</td></tr>\n",
       "\t<tr><th scope=row>wt</th><td>-0.7278321</td><td> 0.7282611</td><td> 0.7433824</td><td> 0.6113081</td><td>-0.54714953</td><td> 1.0000000</td><td>-0.14198812</td><td>-0.4884787</td><td>-0.61387896</td><td>-0.54359562</td><td> 0.37137413</td></tr>\n",
       "\t<tr><th scope=row>qsec</th><td> 0.3153652</td><td>-0.4489698</td><td>-0.3008155</td><td>-0.4729061</td><td> 0.03272155</td><td>-0.1419881</td><td> 1.00000000</td><td> 0.6575431</td><td>-0.16890405</td><td>-0.09126069</td><td>-0.50643945</td></tr>\n",
       "\t<tr><th scope=row>vs</th><td> 0.5896790</td><td>-0.7710007</td><td>-0.6033059</td><td>-0.6305926</td><td> 0.37510111</td><td>-0.4884787</td><td> 0.65754312</td><td> 1.0000000</td><td> 0.16834512</td><td> 0.26974788</td><td>-0.57692729</td></tr>\n",
       "\t<tr><th scope=row>am</th><td> 0.4690128</td><td>-0.4946212</td><td>-0.5202739</td><td>-0.3039956</td><td> 0.57554849</td><td>-0.6138790</td><td>-0.16890405</td><td> 0.1683451</td><td> 1.00000000</td><td> 0.77078758</td><td>-0.05859929</td></tr>\n",
       "\t<tr><th scope=row>gear</th><td> 0.4331509</td><td>-0.5125435</td><td>-0.4759795</td><td>-0.2794458</td><td> 0.58392476</td><td>-0.5435956</td><td>-0.09126069</td><td> 0.2697479</td><td> 0.77078758</td><td> 1.00000000</td><td> 0.09801487</td></tr>\n",
       "\t<tr><th scope=row>carb</th><td>-0.5043945</td><td> 0.4654299</td><td> 0.4137360</td><td> 0.5959842</td><td>-0.09535193</td><td> 0.3713741</td><td>-0.50643945</td><td>-0.5769273</td><td>-0.05859929</td><td> 0.09801487</td><td> 1.00000000</td></tr>\n",
       "</tbody>\n",
       "</table>\n"
      ],
      "text/latex": [
       "A matrix: 11 × 11 of type dbl\n",
       "\\begin{tabular}{r|lllllllllll}\n",
       "  & mpg & cyl & disp & hp & drat & wt & qsec & vs & am & gear & carb\\\\\n",
       "\\hline\n",
       "\tmpg &  1.0000000 & -0.7953134 & -0.7681311 & -0.7428125 &  0.46454879 & -0.7278321 &  0.31536522 &  0.5896790 &  0.46901280 &  0.43315089 & -0.50439455\\\\\n",
       "\tcyl & -0.7953134 &  1.0000000 &  0.8144263 &  0.7851865 & -0.55131785 &  0.7282611 & -0.44896982 & -0.7710007 & -0.49462115 & -0.51254349 &  0.46542994\\\\\n",
       "\tdisp & -0.7681311 &  0.8144263 &  1.0000000 &  0.6659987 & -0.49898277 &  0.7433824 & -0.30081549 & -0.6033059 & -0.52027392 & -0.47597955 &  0.41373600\\\\\n",
       "\thp & -0.7428125 &  0.7851865 &  0.6659987 &  1.0000000 & -0.38262689 &  0.6113081 & -0.47290613 & -0.6305926 & -0.30399557 & -0.27944584 &  0.59598416\\\\\n",
       "\tdrat &  0.4645488 & -0.5513178 & -0.4989828 & -0.3826269 &  1.00000000 & -0.5471495 &  0.03272155 &  0.3751011 &  0.57554849 &  0.58392476 & -0.09535193\\\\\n",
       "\twt & -0.7278321 &  0.7282611 &  0.7433824 &  0.6113081 & -0.54714953 &  1.0000000 & -0.14198812 & -0.4884787 & -0.61387896 & -0.54359562 &  0.37137413\\\\\n",
       "\tqsec &  0.3153652 & -0.4489698 & -0.3008155 & -0.4729061 &  0.03272155 & -0.1419881 &  1.00000000 &  0.6575431 & -0.16890405 & -0.09126069 & -0.50643945\\\\\n",
       "\tvs &  0.5896790 & -0.7710007 & -0.6033059 & -0.6305926 &  0.37510111 & -0.4884787 &  0.65754312 &  1.0000000 &  0.16834512 &  0.26974788 & -0.57692729\\\\\n",
       "\tam &  0.4690128 & -0.4946212 & -0.5202739 & -0.3039956 &  0.57554849 & -0.6138790 & -0.16890405 &  0.1683451 &  1.00000000 &  0.77078758 & -0.05859929\\\\\n",
       "\tgear &  0.4331509 & -0.5125435 & -0.4759795 & -0.2794458 &  0.58392476 & -0.5435956 & -0.09126069 &  0.2697479 &  0.77078758 &  1.00000000 &  0.09801487\\\\\n",
       "\tcarb & -0.5043945 &  0.4654299 &  0.4137360 &  0.5959842 & -0.09535193 &  0.3713741 & -0.50643945 & -0.5769273 & -0.05859929 &  0.09801487 &  1.00000000\\\\\n",
       "\\end{tabular}\n"
      ],
      "text/markdown": [
       "\n",
       "A matrix: 11 × 11 of type dbl\n",
       "\n",
       "| <!--/--> | mpg | cyl | disp | hp | drat | wt | qsec | vs | am | gear | carb |\n",
       "|---|---|---|---|---|---|---|---|---|---|---|---|\n",
       "| mpg |  1.0000000 | -0.7953134 | -0.7681311 | -0.7428125 |  0.46454879 | -0.7278321 |  0.31536522 |  0.5896790 |  0.46901280 |  0.43315089 | -0.50439455 |\n",
       "| cyl | -0.7953134 |  1.0000000 |  0.8144263 |  0.7851865 | -0.55131785 |  0.7282611 | -0.44896982 | -0.7710007 | -0.49462115 | -0.51254349 |  0.46542994 |\n",
       "| disp | -0.7681311 |  0.8144263 |  1.0000000 |  0.6659987 | -0.49898277 |  0.7433824 | -0.30081549 | -0.6033059 | -0.52027392 | -0.47597955 |  0.41373600 |\n",
       "| hp | -0.7428125 |  0.7851865 |  0.6659987 |  1.0000000 | -0.38262689 |  0.6113081 | -0.47290613 | -0.6305926 | -0.30399557 | -0.27944584 |  0.59598416 |\n",
       "| drat |  0.4645488 | -0.5513178 | -0.4989828 | -0.3826269 |  1.00000000 | -0.5471495 |  0.03272155 |  0.3751011 |  0.57554849 |  0.58392476 | -0.09535193 |\n",
       "| wt | -0.7278321 |  0.7282611 |  0.7433824 |  0.6113081 | -0.54714953 |  1.0000000 | -0.14198812 | -0.4884787 | -0.61387896 | -0.54359562 |  0.37137413 |\n",
       "| qsec |  0.3153652 | -0.4489698 | -0.3008155 | -0.4729061 |  0.03272155 | -0.1419881 |  1.00000000 |  0.6575431 | -0.16890405 | -0.09126069 | -0.50643945 |\n",
       "| vs |  0.5896790 | -0.7710007 | -0.6033059 | -0.6305926 |  0.37510111 | -0.4884787 |  0.65754312 |  1.0000000 |  0.16834512 |  0.26974788 | -0.57692729 |\n",
       "| am |  0.4690128 | -0.4946212 | -0.5202739 | -0.3039956 |  0.57554849 | -0.6138790 | -0.16890405 |  0.1683451 |  1.00000000 |  0.77078758 | -0.05859929 |\n",
       "| gear |  0.4331509 | -0.5125435 | -0.4759795 | -0.2794458 |  0.58392476 | -0.5435956 | -0.09126069 |  0.2697479 |  0.77078758 |  1.00000000 |  0.09801487 |\n",
       "| carb | -0.5043945 |  0.4654299 |  0.4137360 |  0.5959842 | -0.09535193 |  0.3713741 | -0.50643945 | -0.5769273 | -0.05859929 |  0.09801487 |  1.00000000 |\n",
       "\n"
      ],
      "text/plain": [
       "     mpg        cyl        disp       hp         drat        wt        \n",
       "mpg   1.0000000 -0.7953134 -0.7681311 -0.7428125  0.46454879 -0.7278321\n",
       "cyl  -0.7953134  1.0000000  0.8144263  0.7851865 -0.55131785  0.7282611\n",
       "disp -0.7681311  0.8144263  1.0000000  0.6659987 -0.49898277  0.7433824\n",
       "hp   -0.7428125  0.7851865  0.6659987  1.0000000 -0.38262689  0.6113081\n",
       "drat  0.4645488 -0.5513178 -0.4989828 -0.3826269  1.00000000 -0.5471495\n",
       "wt   -0.7278321  0.7282611  0.7433824  0.6113081 -0.54714953  1.0000000\n",
       "qsec  0.3153652 -0.4489698 -0.3008155 -0.4729061  0.03272155 -0.1419881\n",
       "vs    0.5896790 -0.7710007 -0.6033059 -0.6305926  0.37510111 -0.4884787\n",
       "am    0.4690128 -0.4946212 -0.5202739 -0.3039956  0.57554849 -0.6138790\n",
       "gear  0.4331509 -0.5125435 -0.4759795 -0.2794458  0.58392476 -0.5435956\n",
       "carb -0.5043945  0.4654299  0.4137360  0.5959842 -0.09535193  0.3713741\n",
       "     qsec        vs         am          gear        carb       \n",
       "mpg   0.31536522  0.5896790  0.46901280  0.43315089 -0.50439455\n",
       "cyl  -0.44896982 -0.7710007 -0.49462115 -0.51254349  0.46542994\n",
       "disp -0.30081549 -0.6033059 -0.52027392 -0.47597955  0.41373600\n",
       "hp   -0.47290613 -0.6305926 -0.30399557 -0.27944584  0.59598416\n",
       "drat  0.03272155  0.3751011  0.57554849  0.58392476 -0.09535193\n",
       "wt   -0.14198812 -0.4884787 -0.61387896 -0.54359562  0.37137413\n",
       "qsec  1.00000000  0.6575431 -0.16890405 -0.09126069 -0.50643945\n",
       "vs    0.65754312  1.0000000  0.16834512  0.26974788 -0.57692729\n",
       "am   -0.16890405  0.1683451  1.00000000  0.77078758 -0.05859929\n",
       "gear -0.09126069  0.2697479  0.77078758  1.00000000  0.09801487\n",
       "carb -0.50643945 -0.5769273 -0.05859929  0.09801487  1.00000000"
      ]
     },
     "metadata": {},
     "output_type": "display_data"
    }
   ],
   "source": [
    "# matriz de correlação para a base de dados mtcars, onde os coeficientes de correlação\n",
    "# são calculados com base no método tau de Kendall\n",
    "\n",
    "cor(mtcars, use = \"complete.obs\", method = \"kendall\")\n"
   ]
  },
  {
   "cell_type": "code",
   "execution_count": null,
   "metadata": {
    "ExecuteTime": {
     "end_time": "2024-02-04T17:06:42.715420Z",
     "start_time": "2024-02-04T17:06:42.674Z"
    },
    "vscode": {
     "languageId": "r"
    }
   },
   "outputs": [
    {
     "data": {
      "text/html": [
       "<table class=\"dataframe\">\n",
       "<caption>A matrix: 11 × 11 of type dbl</caption>\n",
       "<thead>\n",
       "\t<tr><th></th><th scope=col>mpg</th><th scope=col>cyl</th><th scope=col>disp</th><th scope=col>hp</th><th scope=col>drat</th><th scope=col>wt</th><th scope=col>qsec</th><th scope=col>vs</th><th scope=col>am</th><th scope=col>gear</th><th scope=col>carb</th></tr>\n",
       "</thead>\n",
       "<tbody>\n",
       "\t<tr><th scope=row>mpg</th><td> 1.0000000</td><td>-0.9108013</td><td>-0.9088824</td><td>-0.8946646</td><td> 0.65145546</td><td>-0.8864220</td><td> 0.46693575</td><td> 0.7065968</td><td> 0.56200569</td><td> 0.5427816</td><td>-0.65749764</td></tr>\n",
       "\t<tr><th scope=row>cyl</th><td>-0.9108013</td><td> 1.0000000</td><td> 0.9276516</td><td> 0.9017909</td><td>-0.67888119</td><td> 0.8577282</td><td>-0.57235095</td><td>-0.8137890</td><td>-0.52207118</td><td>-0.5643105</td><td> 0.58006798</td></tr>\n",
       "\t<tr><th scope=row>disp</th><td>-0.9088824</td><td> 0.9276516</td><td> 1.0000000</td><td> 0.8510426</td><td>-0.68359210</td><td> 0.8977064</td><td>-0.45978176</td><td>-0.7236643</td><td>-0.62406767</td><td>-0.5944703</td><td> 0.53977806</td></tr>\n",
       "\t<tr><th scope=row>hp</th><td>-0.8946646</td><td> 0.9017909</td><td> 0.8510426</td><td> 1.0000000</td><td>-0.52012499</td><td> 0.7746767</td><td>-0.66660602</td><td>-0.7515934</td><td>-0.36232756</td><td>-0.3314016</td><td> 0.73337937</td></tr>\n",
       "\t<tr><th scope=row>drat</th><td> 0.6514555</td><td>-0.6788812</td><td>-0.6835921</td><td>-0.5201250</td><td> 1.00000000</td><td>-0.7503904</td><td> 0.09186863</td><td> 0.4474575</td><td> 0.68657079</td><td> 0.7448162</td><td>-0.12522294</td></tr>\n",
       "\t<tr><th scope=row>wt</th><td>-0.8864220</td><td> 0.8577282</td><td> 0.8977064</td><td> 0.7746767</td><td>-0.75039041</td><td> 1.0000000</td><td>-0.22540120</td><td>-0.5870162</td><td>-0.73771259</td><td>-0.6761284</td><td> 0.49981205</td></tr>\n",
       "\t<tr><th scope=row>qsec</th><td> 0.4669358</td><td>-0.5723509</td><td>-0.4597818</td><td>-0.6666060</td><td> 0.09186863</td><td>-0.2254012</td><td> 1.00000000</td><td> 0.7915715</td><td>-0.20333211</td><td>-0.1481997</td><td>-0.65871814</td></tr>\n",
       "\t<tr><th scope=row>vs</th><td> 0.7065968</td><td>-0.8137890</td><td>-0.7236643</td><td>-0.7515934</td><td> 0.44745745</td><td>-0.5870162</td><td> 0.79157148</td><td> 1.0000000</td><td> 0.16834512</td><td> 0.2826617</td><td>-0.63369482</td></tr>\n",
       "\t<tr><th scope=row>am</th><td> 0.5620057</td><td>-0.5220712</td><td>-0.6240677</td><td>-0.3623276</td><td> 0.68657079</td><td>-0.7377126</td><td>-0.20333211</td><td> 0.1683451</td><td> 1.00000000</td><td> 0.8076880</td><td>-0.06436525</td></tr>\n",
       "\t<tr><th scope=row>gear</th><td> 0.5427816</td><td>-0.5643105</td><td>-0.5944703</td><td>-0.3314016</td><td> 0.74481617</td><td>-0.6761284</td><td>-0.14819967</td><td> 0.2826617</td><td> 0.80768800</td><td> 1.0000000</td><td> 0.11488698</td></tr>\n",
       "\t<tr><th scope=row>carb</th><td>-0.6574976</td><td> 0.5800680</td><td> 0.5397781</td><td> 0.7333794</td><td>-0.12522294</td><td> 0.4998120</td><td>-0.65871814</td><td>-0.6336948</td><td>-0.06436525</td><td> 0.1148870</td><td> 1.00000000</td></tr>\n",
       "</tbody>\n",
       "</table>\n"
      ],
      "text/latex": [
       "A matrix: 11 × 11 of type dbl\n",
       "\\begin{tabular}{r|lllllllllll}\n",
       "  & mpg & cyl & disp & hp & drat & wt & qsec & vs & am & gear & carb\\\\\n",
       "\\hline\n",
       "\tmpg &  1.0000000 & -0.9108013 & -0.9088824 & -0.8946646 &  0.65145546 & -0.8864220 &  0.46693575 &  0.7065968 &  0.56200569 &  0.5427816 & -0.65749764\\\\\n",
       "\tcyl & -0.9108013 &  1.0000000 &  0.9276516 &  0.9017909 & -0.67888119 &  0.8577282 & -0.57235095 & -0.8137890 & -0.52207118 & -0.5643105 &  0.58006798\\\\\n",
       "\tdisp & -0.9088824 &  0.9276516 &  1.0000000 &  0.8510426 & -0.68359210 &  0.8977064 & -0.45978176 & -0.7236643 & -0.62406767 & -0.5944703 &  0.53977806\\\\\n",
       "\thp & -0.8946646 &  0.9017909 &  0.8510426 &  1.0000000 & -0.52012499 &  0.7746767 & -0.66660602 & -0.7515934 & -0.36232756 & -0.3314016 &  0.73337937\\\\\n",
       "\tdrat &  0.6514555 & -0.6788812 & -0.6835921 & -0.5201250 &  1.00000000 & -0.7503904 &  0.09186863 &  0.4474575 &  0.68657079 &  0.7448162 & -0.12522294\\\\\n",
       "\twt & -0.8864220 &  0.8577282 &  0.8977064 &  0.7746767 & -0.75039041 &  1.0000000 & -0.22540120 & -0.5870162 & -0.73771259 & -0.6761284 &  0.49981205\\\\\n",
       "\tqsec &  0.4669358 & -0.5723509 & -0.4597818 & -0.6666060 &  0.09186863 & -0.2254012 &  1.00000000 &  0.7915715 & -0.20333211 & -0.1481997 & -0.65871814\\\\\n",
       "\tvs &  0.7065968 & -0.8137890 & -0.7236643 & -0.7515934 &  0.44745745 & -0.5870162 &  0.79157148 &  1.0000000 &  0.16834512 &  0.2826617 & -0.63369482\\\\\n",
       "\tam &  0.5620057 & -0.5220712 & -0.6240677 & -0.3623276 &  0.68657079 & -0.7377126 & -0.20333211 &  0.1683451 &  1.00000000 &  0.8076880 & -0.06436525\\\\\n",
       "\tgear &  0.5427816 & -0.5643105 & -0.5944703 & -0.3314016 &  0.74481617 & -0.6761284 & -0.14819967 &  0.2826617 &  0.80768800 &  1.0000000 &  0.11488698\\\\\n",
       "\tcarb & -0.6574976 &  0.5800680 &  0.5397781 &  0.7333794 & -0.12522294 &  0.4998120 & -0.65871814 & -0.6336948 & -0.06436525 &  0.1148870 &  1.00000000\\\\\n",
       "\\end{tabular}\n"
      ],
      "text/markdown": [
       "\n",
       "A matrix: 11 × 11 of type dbl\n",
       "\n",
       "| <!--/--> | mpg | cyl | disp | hp | drat | wt | qsec | vs | am | gear | carb |\n",
       "|---|---|---|---|---|---|---|---|---|---|---|---|\n",
       "| mpg |  1.0000000 | -0.9108013 | -0.9088824 | -0.8946646 |  0.65145546 | -0.8864220 |  0.46693575 |  0.7065968 |  0.56200569 |  0.5427816 | -0.65749764 |\n",
       "| cyl | -0.9108013 |  1.0000000 |  0.9276516 |  0.9017909 | -0.67888119 |  0.8577282 | -0.57235095 | -0.8137890 | -0.52207118 | -0.5643105 |  0.58006798 |\n",
       "| disp | -0.9088824 |  0.9276516 |  1.0000000 |  0.8510426 | -0.68359210 |  0.8977064 | -0.45978176 | -0.7236643 | -0.62406767 | -0.5944703 |  0.53977806 |\n",
       "| hp | -0.8946646 |  0.9017909 |  0.8510426 |  1.0000000 | -0.52012499 |  0.7746767 | -0.66660602 | -0.7515934 | -0.36232756 | -0.3314016 |  0.73337937 |\n",
       "| drat |  0.6514555 | -0.6788812 | -0.6835921 | -0.5201250 |  1.00000000 | -0.7503904 |  0.09186863 |  0.4474575 |  0.68657079 |  0.7448162 | -0.12522294 |\n",
       "| wt | -0.8864220 |  0.8577282 |  0.8977064 |  0.7746767 | -0.75039041 |  1.0000000 | -0.22540120 | -0.5870162 | -0.73771259 | -0.6761284 |  0.49981205 |\n",
       "| qsec |  0.4669358 | -0.5723509 | -0.4597818 | -0.6666060 |  0.09186863 | -0.2254012 |  1.00000000 |  0.7915715 | -0.20333211 | -0.1481997 | -0.65871814 |\n",
       "| vs |  0.7065968 | -0.8137890 | -0.7236643 | -0.7515934 |  0.44745745 | -0.5870162 |  0.79157148 |  1.0000000 |  0.16834512 |  0.2826617 | -0.63369482 |\n",
       "| am |  0.5620057 | -0.5220712 | -0.6240677 | -0.3623276 |  0.68657079 | -0.7377126 | -0.20333211 |  0.1683451 |  1.00000000 |  0.8076880 | -0.06436525 |\n",
       "| gear |  0.5427816 | -0.5643105 | -0.5944703 | -0.3314016 |  0.74481617 | -0.6761284 | -0.14819967 |  0.2826617 |  0.80768800 |  1.0000000 |  0.11488698 |\n",
       "| carb | -0.6574976 |  0.5800680 |  0.5397781 |  0.7333794 | -0.12522294 |  0.4998120 | -0.65871814 | -0.6336948 | -0.06436525 |  0.1148870 |  1.00000000 |\n",
       "\n"
      ],
      "text/plain": [
       "     mpg        cyl        disp       hp         drat        wt        \n",
       "mpg   1.0000000 -0.9108013 -0.9088824 -0.8946646  0.65145546 -0.8864220\n",
       "cyl  -0.9108013  1.0000000  0.9276516  0.9017909 -0.67888119  0.8577282\n",
       "disp -0.9088824  0.9276516  1.0000000  0.8510426 -0.68359210  0.8977064\n",
       "hp   -0.8946646  0.9017909  0.8510426  1.0000000 -0.52012499  0.7746767\n",
       "drat  0.6514555 -0.6788812 -0.6835921 -0.5201250  1.00000000 -0.7503904\n",
       "wt   -0.8864220  0.8577282  0.8977064  0.7746767 -0.75039041  1.0000000\n",
       "qsec  0.4669358 -0.5723509 -0.4597818 -0.6666060  0.09186863 -0.2254012\n",
       "vs    0.7065968 -0.8137890 -0.7236643 -0.7515934  0.44745745 -0.5870162\n",
       "am    0.5620057 -0.5220712 -0.6240677 -0.3623276  0.68657079 -0.7377126\n",
       "gear  0.5427816 -0.5643105 -0.5944703 -0.3314016  0.74481617 -0.6761284\n",
       "carb -0.6574976  0.5800680  0.5397781  0.7333794 -0.12522294  0.4998120\n",
       "     qsec        vs         am          gear       carb       \n",
       "mpg   0.46693575  0.7065968  0.56200569  0.5427816 -0.65749764\n",
       "cyl  -0.57235095 -0.8137890 -0.52207118 -0.5643105  0.58006798\n",
       "disp -0.45978176 -0.7236643 -0.62406767 -0.5944703  0.53977806\n",
       "hp   -0.66660602 -0.7515934 -0.36232756 -0.3314016  0.73337937\n",
       "drat  0.09186863  0.4474575  0.68657079  0.7448162 -0.12522294\n",
       "wt   -0.22540120 -0.5870162 -0.73771259 -0.6761284  0.49981205\n",
       "qsec  1.00000000  0.7915715 -0.20333211 -0.1481997 -0.65871814\n",
       "vs    0.79157148  1.0000000  0.16834512  0.2826617 -0.63369482\n",
       "am   -0.20333211  0.1683451  1.00000000  0.8076880 -0.06436525\n",
       "gear -0.14819967  0.2826617  0.80768800  1.0000000  0.11488698\n",
       "carb -0.65871814 -0.6336948 -0.06436525  0.1148870  1.00000000"
      ]
     },
     "metadata": {},
     "output_type": "display_data"
    }
   ],
   "source": [
    "# matriz de correlação para a base de dados mtcars, onde os coeficientes de correlação\n",
    "# são calculados com base no método de Spearman\n",
    "\n",
    "cor(mtcars, use = \"complete.obs\", method = \"spearman\")\n"
   ]
  },
  {
   "cell_type": "markdown",
   "metadata": {},
   "source": [
    "######################################################################################\n",
    "\n",
    "No que segue definimos um test de correlação, isto é, formamos uma hipótese nula (pergunta) cuja valor (rejeito ou não rejeito) fica avaliada usando uma estatística test.\n",
    "\n",
    "Neste caso, em particular, questionamos se a correlação entre 2 variáveis é realmente zero ou não (significativamente diferente de zero ou não). Pois, um dos problemas é encontrar, provar que duas variáveis são independentes (ou seja, a correlação entre elas é nula).\n",
    "\n",
    "O teste de correlação de Pearson tem a seguinte H0: correlação zero\n",
    "\n",
    "Rejeitamos a H0 se o valor de prova (p-value) é menor que o nível de significância 0.05 (5%)."
   ]
  },
  {
   "cell_type": "code",
   "execution_count": null,
   "metadata": {
    "ExecuteTime": {
     "end_time": "2024-02-04T17:06:45.015295Z",
     "start_time": "2024-02-04T17:06:44.986Z"
    },
    "vscode": {
     "languageId": "r"
    }
   },
   "outputs": [
    {
     "data": {
      "text/plain": [
       "\n",
       "\tPearson's product-moment correlation\n",
       "\n",
       "data:  my_data$drat and my_data$qsec\n",
       "t = 0.50164, df = 30, p-value = 0.6196\n",
       "alternative hypothesis: true correlation is not equal to 0\n",
       "95 percent confidence interval:\n",
       " -0.265947  0.426340\n",
       "sample estimates:\n",
       "       cor \n",
       "0.09120476 \n"
      ]
     },
     "metadata": {},
     "output_type": "display_data"
    }
   ],
   "source": [
    "# Teste de correlação de Pearson , H0: R=0\n",
    "\n",
    "test <- cor.test(my_data$drat, my_data$qsec)\n",
    "test\n"
   ]
  },
  {
   "cell_type": "markdown",
   "metadata": {},
   "source": [
    "## Diagrama de dispersão - Scatter plot"
   ]
  },
  {
   "cell_type": "code",
   "execution_count": null,
   "metadata": {
    "ExecuteTime": {
     "end_time": "2024-02-04T17:06:46.529891Z",
     "start_time": "2024-02-04T17:06:46.474Z"
    },
    "vscode": {
     "languageId": "r"
    }
   },
   "outputs": [
    {
     "data": {
      "image/png": "[encoded data removed]",
      "text/plain": [
       "plot without title"
      ]
     },
     "metadata": {
      "image/png": {
       "height": 240,
       "width": 240
      }
     },
     "output_type": "display_data"
    }
   ],
   "source": [
    "# scatter plot (forma simples)\n",
    "\n",
    "plot(my_data$hp, my_data$mpg)\n"
   ]
  },
  {
   "cell_type": "code",
   "execution_count": null,
   "metadata": {
    "ExecuteTime": {
     "end_time": "2024-02-04T17:06:47.260816Z",
     "start_time": "2024-02-04T17:06:47.210Z"
    },
    "vscode": {
     "languageId": "r"
    }
   },
   "outputs": [
    {
     "data": {
      "image/png": "[encoded data removed]",
      "text/plain": [
       "plot without title"
      ]
     },
     "metadata": {
      "image/png": {
       "height": 240,
       "width": 240
      }
     },
     "output_type": "display_data"
    }
   ],
   "source": [
    "plot(log(my_data$hp), log(my_data$mpg))\n"
   ]
  },
  {
   "cell_type": "code",
   "execution_count": null,
   "metadata": {
    "ExecuteTime": {
     "end_time": "2024-02-04T17:06:48.568934Z",
     "start_time": "2024-02-04T17:06:47.994Z"
    },
    "vscode": {
     "languageId": "r"
    }
   },
   "outputs": [
    {
     "data": {
      "image/png": "[encoded data removed]",
      "text/plain": [
       "plot without title"
      ]
     },
     "metadata": {
      "image/png": {
       "height": 240,
       "width": 240
      }
     },
     "output_type": "display_data"
    }
   ],
   "source": [
    "# scatter plot (mais complicado, mas mais \"bonito\" com ggplot2)\n",
    "\n",
    "library(ggplot2)\n",
    "\n",
    "ggplot(my_data) +\n",
    "  aes(x = hp, y = mpg) +\n",
    "  geom_point(colour = \"#0c4c8a\") +\n",
    "  theme_minimal()\n"
   ]
  },
  {
   "cell_type": "code",
   "execution_count": null,
   "metadata": {
    "ExecuteTime": {
     "end_time": "2024-02-04T17:06:50.231796Z",
     "start_time": "2024-02-04T17:06:49.162Z"
    },
    "vscode": {
     "languageId": "r"
    }
   },
   "outputs": [
    {
     "name": "stderr",
     "output_type": "stream",
     "text": [
      "\u001b[1m\u001b[22m`geom_smooth()` using formula = 'y ~ x'\n"
     ]
    },
    {
     "data": {
      "image/png": "[encoded data removed]",
      "text/plain": [
       "plot without title"
      ]
     },
     "metadata": {
      "image/png": {
       "height": 240,
       "width": 240
      }
     },
     "output_type": "display_data"
    }
   ],
   "source": [
    "ggplot(my_data, aes(hp, mpg)) +\n",
    "  geom_point() +\n",
    "  geom_smooth(method = \"lm\", se = FALSE) +\n",
    "  ylab(\"Miles per Gallon\") +\n",
    "  xlab(\"No. of Horsepower\") +\n",
    "  ggtitle(\"Impact of Number of Horsepower on MPG\")\n"
   ]
  },
  {
   "cell_type": "code",
   "execution_count": null,
   "metadata": {
    "ExecuteTime": {
     "end_time": "2024-02-04T17:06:50.443758Z",
     "start_time": "2024-02-04T17:06:50.138Z"
    },
    "vscode": {
     "languageId": "r"
    }
   },
   "outputs": [
    {
     "data": {
      "image/png": "[encoded data removed]",
      "text/plain": [
       "plot without title"
      ]
     },
     "metadata": {
      "image/png": {
       "height": 240,
       "width": 240
      }
     },
     "output_type": "display_data"
    }
   ],
   "source": [
    "# vários gráficos de dispersão\n",
    "pairs(my_data[, c(1, 4, 6)])\n"
   ]
  },
  {
   "cell_type": "markdown",
   "metadata": {},
   "source": [
    "## Regressão linear simples"
   ]
  },
  {
   "cell_type": "markdown",
   "metadata": {},
   "source": [
    "Em R, a função básica para ajustar um modelo linear de regressão é lm().\n",
    "\n",
    "Syntax:\n",
    "\n",
    "    myfit <- lm(formula, data)\n",
    "\n",
    " onde a fórmula é a equação que representa a reta (hiperplano) de regressão, por exemplo\n",
    " \n",
    "     y=ax+b (matemátca)  <->    y~x  (fórmula para R)\n",
    "     \n",
    " onde *y* é a variável dependente (target), *x* é a variável independente (feature) e *a* e *b* são os parâmetros a determinar (o intercept e o declive da reta de regressão).\n",
    "\n"
   ]
  },
  {
   "cell_type": "code",
   "execution_count": null,
   "metadata": {
    "ExecuteTime": {
     "end_time": "2024-02-04T17:06:53.584698Z",
     "start_time": "2024-02-04T17:06:53.563Z"
    },
    "vscode": {
     "languageId": "r"
    }
   },
   "outputs": [],
   "source": [
    "# carregar as bibliotecas que vamos usar neste notebook / script\n",
    "\n",
    "library(dplyr) # para importar data frames\n",
    "library(tidyr)\n",
    "library(gmodels)\n",
    "library(matrixStats)\n",
    "library(corrplot) # para matrizes de correlação\n"
   ]
  },
  {
   "cell_type": "code",
   "execution_count": null,
   "metadata": {
    "ExecuteTime": {
     "end_time": "2024-02-04T17:06:54.311641Z",
     "start_time": "2024-02-04T17:06:54.252Z"
    },
    "vscode": {
     "languageId": "r"
    }
   },
   "outputs": [
    {
     "data": {
      "text/html": [
       "<table class=\"dataframe\">\n",
       "<caption>A data.frame: 6 × 11</caption>\n",
       "<thead>\n",
       "\t<tr><th></th><th scope=col>mpg</th><th scope=col>cyl</th><th scope=col>disp</th><th scope=col>hp</th><th scope=col>drat</th><th scope=col>wt</th><th scope=col>qsec</th><th scope=col>vs</th><th scope=col>am</th><th scope=col>gear</th><th scope=col>carb</th></tr>\n",
       "\t<tr><th></th><th scope=col>&lt;dbl&gt;</th><th scope=col>&lt;dbl&gt;</th><th scope=col>&lt;dbl&gt;</th><th scope=col>&lt;dbl&gt;</th><th scope=col>&lt;dbl&gt;</th><th scope=col>&lt;dbl&gt;</th><th scope=col>&lt;dbl&gt;</th><th scope=col>&lt;dbl&gt;</th><th scope=col>&lt;dbl&gt;</th><th scope=col>&lt;dbl&gt;</th><th scope=col>&lt;dbl&gt;</th></tr>\n",
       "</thead>\n",
       "<tbody>\n",
       "\t<tr><th scope=row>Mazda RX4</th><td>21.0</td><td>6</td><td>160</td><td>110</td><td>3.90</td><td>2.620</td><td>16.46</td><td>0</td><td>1</td><td>4</td><td>4</td></tr>\n",
       "\t<tr><th scope=row>Mazda RX4 Wag</th><td>21.0</td><td>6</td><td>160</td><td>110</td><td>3.90</td><td>2.875</td><td>17.02</td><td>0</td><td>1</td><td>4</td><td>4</td></tr>\n",
       "\t<tr><th scope=row>Datsun 710</th><td>22.8</td><td>4</td><td>108</td><td> 93</td><td>3.85</td><td>2.320</td><td>18.61</td><td>1</td><td>1</td><td>4</td><td>1</td></tr>\n",
       "\t<tr><th scope=row>Hornet 4 Drive</th><td>21.4</td><td>6</td><td>258</td><td>110</td><td>3.08</td><td>3.215</td><td>19.44</td><td>1</td><td>0</td><td>3</td><td>1</td></tr>\n",
       "\t<tr><th scope=row>Hornet Sportabout</th><td>18.7</td><td>8</td><td>360</td><td>175</td><td>3.15</td><td>3.440</td><td>17.02</td><td>0</td><td>0</td><td>3</td><td>2</td></tr>\n",
       "\t<tr><th scope=row>Valiant</th><td>18.1</td><td>6</td><td>225</td><td>105</td><td>2.76</td><td>3.460</td><td>20.22</td><td>1</td><td>0</td><td>3</td><td>1</td></tr>\n",
       "</tbody>\n",
       "</table>\n"
      ],
      "text/latex": [
       "A data.frame: 6 × 11\n",
       "\\begin{tabular}{r|lllllllllll}\n",
       "  & mpg & cyl & disp & hp & drat & wt & qsec & vs & am & gear & carb\\\\\n",
       "  & <dbl> & <dbl> & <dbl> & <dbl> & <dbl> & <dbl> & <dbl> & <dbl> & <dbl> & <dbl> & <dbl>\\\\\n",
       "\\hline\n",
       "\tMazda RX4 & 21.0 & 6 & 160 & 110 & 3.90 & 2.620 & 16.46 & 0 & 1 & 4 & 4\\\\\n",
       "\tMazda RX4 Wag & 21.0 & 6 & 160 & 110 & 3.90 & 2.875 & 17.02 & 0 & 1 & 4 & 4\\\\\n",
       "\tDatsun 710 & 22.8 & 4 & 108 &  93 & 3.85 & 2.320 & 18.61 & 1 & 1 & 4 & 1\\\\\n",
       "\tHornet 4 Drive & 21.4 & 6 & 258 & 110 & 3.08 & 3.215 & 19.44 & 1 & 0 & 3 & 1\\\\\n",
       "\tHornet Sportabout & 18.7 & 8 & 360 & 175 & 3.15 & 3.440 & 17.02 & 0 & 0 & 3 & 2\\\\\n",
       "\tValiant & 18.1 & 6 & 225 & 105 & 2.76 & 3.460 & 20.22 & 1 & 0 & 3 & 1\\\\\n",
       "\\end{tabular}\n"
      ],
      "text/markdown": [
       "\n",
       "A data.frame: 6 × 11\n",
       "\n",
       "| <!--/--> | mpg &lt;dbl&gt; | cyl &lt;dbl&gt; | disp &lt;dbl&gt; | hp &lt;dbl&gt; | drat &lt;dbl&gt; | wt &lt;dbl&gt; | qsec &lt;dbl&gt; | vs &lt;dbl&gt; | am &lt;dbl&gt; | gear &lt;dbl&gt; | carb &lt;dbl&gt; |\n",
       "|---|---|---|---|---|---|---|---|---|---|---|---|\n",
       "| Mazda RX4 | 21.0 | 6 | 160 | 110 | 3.90 | 2.620 | 16.46 | 0 | 1 | 4 | 4 |\n",
       "| Mazda RX4 Wag | 21.0 | 6 | 160 | 110 | 3.90 | 2.875 | 17.02 | 0 | 1 | 4 | 4 |\n",
       "| Datsun 710 | 22.8 | 4 | 108 |  93 | 3.85 | 2.320 | 18.61 | 1 | 1 | 4 | 1 |\n",
       "| Hornet 4 Drive | 21.4 | 6 | 258 | 110 | 3.08 | 3.215 | 19.44 | 1 | 0 | 3 | 1 |\n",
       "| Hornet Sportabout | 18.7 | 8 | 360 | 175 | 3.15 | 3.440 | 17.02 | 0 | 0 | 3 | 2 |\n",
       "| Valiant | 18.1 | 6 | 225 | 105 | 2.76 | 3.460 | 20.22 | 1 | 0 | 3 | 1 |\n",
       "\n"
      ],
      "text/plain": [
       "                  mpg  cyl disp hp  drat wt    qsec  vs am gear carb\n",
       "Mazda RX4         21.0 6   160  110 3.90 2.620 16.46 0  1  4    4   \n",
       "Mazda RX4 Wag     21.0 6   160  110 3.90 2.875 17.02 0  1  4    4   \n",
       "Datsun 710        22.8 4   108   93 3.85 2.320 18.61 1  1  4    1   \n",
       "Hornet 4 Drive    21.4 6   258  110 3.08 3.215 19.44 1  0  3    1   \n",
       "Hornet Sportabout 18.7 8   360  175 3.15 3.440 17.02 0  0  3    2   \n",
       "Valiant           18.1 6   225  105 2.76 3.460 20.22 1  0  3    1   "
      ]
     },
     "metadata": {},
     "output_type": "display_data"
    }
   ],
   "source": [
    "# Load data (R built-in data set)\n",
    "# comprises fuel consumption and 10 aspects of automobile design and performance for 32 automobiles\n",
    "data(\"mtcars\")\n",
    "\n",
    "my_data <- mtcars\n",
    "head(my_data)\n"
   ]
  },
  {
   "cell_type": "code",
   "execution_count": null,
   "metadata": {
    "ExecuteTime": {
     "end_time": "2024-02-04T17:06:54.956880Z",
     "start_time": "2024-02-04T17:06:54.930Z"
    },
    "vscode": {
     "languageId": "r"
    }
   },
   "outputs": [],
   "source": [
    "# definir 2 variáveis (uma dependente e uma independente)\n",
    "hp <- my_data$hp\n",
    "mpg <- my_data$mpg\n",
    "\n",
    "# ajustar o modelo de regressão linear simples para as variáveis definidas\n",
    "model1 <- lm(mpg ~ hp)\n"
   ]
  },
  {
   "cell_type": "code",
   "execution_count": null,
   "metadata": {
    "ExecuteTime": {
     "end_time": "2024-02-04T17:06:55.739545Z",
     "start_time": "2024-02-04T17:06:55.690Z"
    },
    "vscode": {
     "languageId": "r"
    }
   },
   "outputs": [
    {
     "data": {
      "text/plain": [
       "\n",
       "Call:\n",
       "lm(formula = mpg ~ hp)\n",
       "\n",
       "Residuals:\n",
       "    Min      1Q  Median      3Q     Max \n",
       "-5.7121 -2.1122 -0.8854  1.5819  8.2360 \n",
       "\n",
       "Coefficients:\n",
       "            Estimate Std. Error t value Pr(>|t|)    \n",
       "(Intercept) 30.09886    1.63392  18.421  < 2e-16 ***\n",
       "hp          -0.06823    0.01012  -6.742 1.79e-07 ***\n",
       "---\n",
       "Signif. codes:  0 '***' 0.001 '**' 0.01 '*' 0.05 '.' 0.1 ' ' 1\n",
       "\n",
       "Residual standard error: 3.863 on 30 degrees of freedom\n",
       "Multiple R-squared:  0.6024,\tAdjusted R-squared:  0.5892 \n",
       "F-statistic: 45.46 on 1 and 30 DF,  p-value: 1.788e-07\n"
      ]
     },
     "metadata": {},
     "output_type": "display_data"
    }
   ],
   "source": [
    "# output do modelo de regressão linear simples\n",
    "\n",
    "summary(model1)\n",
    "\n",
    "# mpg ~ hp lês mpg em função de hp...ou seja, mpg é a variável dependente\n",
    "\n",
    "# modelo a estimar:\n",
    "# mpg = a + b*hp\n",
    "\n",
    "# coeficientes do modelo\n",
    "# mpg = 30.0989 - 0.0682*hp  ( reta de regressão estimada ou ajustada)\n"
   ]
  },
  {
   "cell_type": "code",
   "execution_count": null,
   "metadata": {
    "ExecuteTime": {
     "end_time": "2024-02-04T17:06:56.405411Z",
     "start_time": "2024-02-04T17:06:56.378Z"
    },
    "vscode": {
     "languageId": "r"
    }
   },
   "outputs": [
    {
     "data": {
      "text/plain": [
       "\n",
       "Call:\n",
       "lm(formula = mpg ~ cyl)\n",
       "\n",
       "Residuals:\n",
       "    Min      1Q  Median      3Q     Max \n",
       "-4.9814 -2.1185  0.2217  1.0717  7.5186 \n",
       "\n",
       "Coefficients:\n",
       "            Estimate Std. Error t value Pr(>|t|)    \n",
       "(Intercept)  37.8846     2.0738   18.27  < 2e-16 ***\n",
       "cyl          -2.8758     0.3224   -8.92 6.11e-10 ***\n",
       "---\n",
       "Signif. codes:  0 '***' 0.001 '**' 0.01 '*' 0.05 '.' 0.1 ' ' 1\n",
       "\n",
       "Residual standard error: 3.206 on 30 degrees of freedom\n",
       "Multiple R-squared:  0.7262,\tAdjusted R-squared:  0.7171 \n",
       "F-statistic: 79.56 on 1 and 30 DF,  p-value: 6.113e-10\n"
      ]
     },
     "metadata": {},
     "output_type": "display_data"
    }
   ],
   "source": [
    "# definir 2 variáveis (uma dependente e uma independente)\n",
    "cyl <- my_data$cyl\n",
    "mpg <- my_data$mpg\n",
    "\n",
    "# ajustar o modelo de regressão linear simples para as variáveis definidas\n",
    "model2 <- lm(mpg ~ cyl)\n",
    "summary(model2)\n"
   ]
  },
  {
   "cell_type": "code",
   "execution_count": null,
   "metadata": {
    "ExecuteTime": {
     "end_time": "2024-02-04T17:06:57.814165Z",
     "start_time": "2024-02-04T17:06:57.794Z"
    },
    "vscode": {
     "languageId": "r"
    }
   },
   "outputs": [
    {
     "data": {
      "text/html": [
       "181.238628894476"
      ],
      "text/latex": [
       "181.238628894476"
      ],
      "text/markdown": [
       "181.238628894476"
      ],
      "text/plain": [
       "[1] 181.2386"
      ]
     },
     "metadata": {},
     "output_type": "display_data"
    }
   ],
   "source": [
    "AIC(model1)\n"
   ]
  },
  {
   "cell_type": "code",
   "execution_count": null,
   "metadata": {
    "ExecuteTime": {
     "end_time": "2024-02-04T17:06:57.102169Z",
     "start_time": "2024-02-04T17:06:57.082Z"
    },
    "vscode": {
     "languageId": "r"
    }
   },
   "outputs": [
    {
     "data": {
      "text/html": [
       "169.306417191856"
      ],
      "text/latex": [
       "169.306417191856"
      ],
      "text/markdown": [
       "169.306417191856"
      ],
      "text/plain": [
       "[1] 169.3064"
      ]
     },
     "metadata": {},
     "output_type": "display_data"
    }
   ],
   "source": [
    "AIC(model2) # critério de informação de Akaike: quanto menor melhor portanto o modelo 2 é melhor que o modelo 1\n"
   ]
  },
  {
   "cell_type": "code",
   "execution_count": null,
   "metadata": {
    "ExecuteTime": {
     "end_time": "2024-02-04T17:06:58.563612Z",
     "start_time": "2024-02-04T17:06:58.506Z"
    },
    "vscode": {
     "languageId": "r"
    }
   },
   "outputs": [
    {
     "data": {
      "image/png": "[encoded data removed]",
      "text/plain": [
       "plot without title"
      ]
     },
     "metadata": {
      "image/png": {
       "height": 240,
       "width": 240
      }
     },
     "output_type": "display_data"
    }
   ],
   "source": [
    "# definir o tamanho da figura\n",
    "options(repr.plot.width = 4, repr.plot.height = 4)\n",
    "\n",
    "# representação gráfica dos dados e da reta de regressão estimada\n",
    "\n",
    "plot(hp, mpg)\n",
    "abline(model1, col = \"red\")\n"
   ]
  },
  {
   "cell_type": "code",
   "execution_count": null,
   "metadata": {
    "ExecuteTime": {
     "end_time": "2024-02-04T17:06:59.225065Z",
     "start_time": "2024-02-04T17:06:59.202Z"
    },
    "vscode": {
     "languageId": "r"
    }
   },
   "outputs": [
    {
     "data": {
      "text/html": [
       "<style>\n",
       ".dl-inline {width: auto; margin:0; padding: 0}\n",
       ".dl-inline>dt, .dl-inline>dd {float: none; width: auto; display: inline-block}\n",
       ".dl-inline>dt::after {content: \":\\0020\"; padding-right: .5ex}\n",
       ".dl-inline>dt:not(:first-of-type) {padding-left: .5ex}\n",
       "</style><dl class=dl-inline><dt>(Intercept)</dt><dd>29.5998547561639</dd><dt>mtcars$disp</dt><dd>-0.0412151199627861</dd></dl>\n"
      ],
      "text/latex": [
       "\\begin{description*}\n",
       "\\item[(Intercept)] 29.5998547561639\n",
       "\\item[mtcars\\textbackslash{}\\$disp] -0.0412151199627861\n",
       "\\end{description*}\n"
      ],
      "text/markdown": [
       "(Intercept)\n",
       ":   29.5998547561639mtcars$disp\n",
       ":   -0.0412151199627861\n",
       "\n"
      ],
      "text/plain": [
       "(Intercept) mtcars$disp \n",
       "29.59985476 -0.04121512 "
      ]
     },
     "metadata": {},
     "output_type": "display_data"
    }
   ],
   "source": [
    "# listar apenas os coeficientes estimados do modelo de regressão\n",
    "model <- lm(mtcars$mpg ~ mtcars$disp)\n",
    "\n",
    "coef(model) # apenas retorna os coeficientes do modelo\n"
   ]
  },
  {
   "cell_type": "code",
   "execution_count": null,
   "metadata": {
    "ExecuteTime": {
     "end_time": "2024-02-04T17:07:00.034075Z",
     "start_time": "2024-02-04T17:06:59.922Z"
    },
    "vscode": {
     "languageId": "r"
    }
   },
   "outputs": [
    {
     "data": {
      "image/png": "[encoded data removed]",
      "text/plain": [
       "Plot with title \"Gas Mileage for Car Models\n",
       "grouped by cylinder\""
      ]
     },
     "metadata": {
      "image/png": {
       "height": 360,
       "width": 360
      }
     },
     "output_type": "display_data"
    }
   ],
   "source": [
    "# definir o tamanho da figura\n",
    "options(repr.plot.width = 6, repr.plot.height = 6)\n",
    "\n",
    "x <- mtcars[order(mtcars$mpg), ]\n",
    "x$cyl <- factor(x$cyl)\n",
    "x$color[x$cyl == 4] <- \"red\"\n",
    "x$color[x$cyl == 6] <- \"blue\"\n",
    "x$color[x$cyl == 8] <- \"darkgreen\"\n",
    "\n",
    "dotchart(x$mpg,\n",
    "    labels = row.names(x),\n",
    "    cex = .7,\n",
    "    groups = x$cyl,\n",
    "    gcolor = \"black\",\n",
    "    color = x$color,\n",
    "    pch = 19,\n",
    "    main = \"Gas Mileage for Car Models\\ngrouped by cylinder\",\n",
    "    xlab = \"Miles Per Gallon\"\n",
    ")\n"
   ]
  },
  {
   "cell_type": "markdown",
   "metadata": {},
   "source": [
    "## Transformação de variáveis"
   ]
  },
  {
   "cell_type": "code",
   "execution_count": null,
   "metadata": {
    "ExecuteTime": {
     "end_time": "2024-02-04T17:07:01.331870Z",
     "start_time": "2024-02-04T17:07:01.274Z"
    },
    "vscode": {
     "languageId": "r"
    }
   },
   "outputs": [
    {
     "data": {
      "image/png": "[encoded data removed]",
      "text/plain": [
       "Plot with title \"Histogram of mpg\""
      ]
     },
     "metadata": {
      "image/png": {
       "height": 360,
       "width": 360
      }
     },
     "output_type": "display_data"
    }
   ],
   "source": [
    "hist(mpg)\n"
   ]
  },
  {
   "cell_type": "code",
   "execution_count": null,
   "metadata": {
    "ExecuteTime": {
     "end_time": "2024-02-04T17:07:02.187962Z",
     "start_time": "2024-02-04T17:07:02.130Z"
    },
    "vscode": {
     "languageId": "r"
    }
   },
   "outputs": [
    {
     "data": {
      "image/png": "[encoded data removed]",
      "text/plain": [
       "Plot with title \"Histogram of score\""
      ]
     },
     "metadata": {
      "image/png": {
       "height": 360,
       "width": 360
      }
     },
     "output_type": "display_data"
    }
   ],
   "source": [
    "# o z-score ou normalizar uma variável (scaling)\n",
    "\n",
    "score <- scale(mpg)\n",
    "hist(score)\n"
   ]
  },
  {
   "cell_type": "code",
   "execution_count": null,
   "metadata": {
    "ExecuteTime": {
     "end_time": "2024-02-04T17:07:02.926222Z",
     "start_time": "2024-02-04T17:07:02.866Z"
    },
    "vscode": {
     "languageId": "r"
    }
   },
   "outputs": [
    {
     "data": {
      "image/png": "[encoded data removed]",
      "text/plain": [
       "plot without title"
      ]
     },
     "metadata": {
      "image/png": {
       "height": 360,
       "width": 360
      }
     },
     "output_type": "display_data"
    }
   ],
   "source": [
    "# Para entender o papel da transformação, reperesenta-se o gráfico de dispersão\n",
    "# entre a variável original e a variável transformada (transformação linear)\n",
    "\n",
    "plot(mpg, score)\n"
   ]
  },
  {
   "cell_type": "code",
   "execution_count": null,
   "metadata": {
    "ExecuteTime": {
     "end_time": "2024-02-04T17:07:03.555181Z",
     "start_time": "2024-02-04T17:07:03.538Z"
    },
    "vscode": {
     "languageId": "r"
    }
   },
   "outputs": [],
   "source": [
    "# logaritmizar uma variável (desde que tem valores positivos)\n",
    "# reduz a assimetria, diminui a escala, mas não altera as propriedades da variável\n",
    "\n",
    "log_mpg <- log(mpg)\n"
   ]
  },
  {
   "cell_type": "code",
   "execution_count": null,
   "metadata": {
    "ExecuteTime": {
     "end_time": "2024-02-04T17:07:04.388730Z",
     "start_time": "2024-02-04T17:07:04.338Z"
    },
    "vscode": {
     "languageId": "r"
    }
   },
   "outputs": [
    {
     "data": {
      "image/png": "[encoded data removed]",
      "text/plain": [
       "plot without title"
      ]
     },
     "metadata": {
      "image/png": {
       "height": 360,
       "width": 360
      }
     },
     "output_type": "display_data"
    }
   ],
   "source": [
    "plot(mpg, score)\n"
   ]
  },
  {
   "cell_type": "markdown",
   "metadata": {},
   "source": [
    "## TPC"
   ]
  },
  {
   "cell_type": "markdown",
   "metadata": {},
   "source": [
    "**Exercício 1.** Carrega a base de dados (in-built) \"women\".\n",
    "1. Calcule a correlação entre as 2 variáveis\n",
    "2. Represente graficamente o diagrama de disperssão\n",
    "3. Determine a reta de regressão que melhor se ajusta aos dados"
   ]
  },
  {
   "cell_type": "code",
   "execution_count": null,
   "metadata": {
    "vscode": {
     "languageId": "r"
    }
   },
   "outputs": [
    {
     "name": "stdout",
     "output_type": "stream",
     "text": [
      "'data.frame':\t15 obs. of  2 variables:\n",
      " $ height: num  58 59 60 61 62 63 64 65 66 67 ...\n",
      " $ weight: num  115 117 120 123 126 129 132 135 139 142 ...\n",
      "[1] \"Correlação: 0.995494767784216\"\n"
     ]
    },
    {
     "data": {
      "text/plain": [
       "\n",
       "Call:\n",
       "lm(formula = weight ~ height, data = women)\n",
       "\n",
       "Residuals:\n",
       "    Min      1Q  Median      3Q     Max \n",
       "-1.7333 -1.1333 -0.3833  0.7417  3.1167 \n",
       "\n",
       "Coefficients:\n",
       "             Estimate Std. Error t value Pr(>|t|)    \n",
       "(Intercept) -87.51667    5.93694  -14.74 1.71e-09 ***\n",
       "height        3.45000    0.09114   37.85 1.09e-14 ***\n",
       "---\n",
       "Signif. codes:  0 '***' 0.001 '**' 0.01 '*' 0.05 '.' 0.1 ' ' 1\n",
       "\n",
       "Residual standard error: 1.525 on 13 degrees of freedom\n",
       "Multiple R-squared:  0.991,\tAdjusted R-squared:  0.9903 \n",
       "F-statistic:  1433 on 1 and 13 DF,  p-value: 1.091e-14\n"
      ]
     },
     "metadata": {},
     "output_type": "display_data"
    },
    {
     "data": {
      "image/png": "[encoded data removed]",
      "text/plain": [
       "Plot with title \"Diagrama de Dispersão\""
      ]
     },
     "metadata": {
      "image/png": {
       "height": 360,
       "width": 360
      }
     },
     "output_type": "display_data"
    }
   ],
   "source": [
    "# Carrega a base de dados (in-built) \"women\"\n",
    "data(women)\n",
    "\n",
    "# visualizar a estrutura da base de dados\n",
    "str(women)\n",
    "\n",
    "# 1. Calcular a correlação entre as 2 variáveis\n",
    "correlation <- cor(women$height, women$weight)\n",
    "print(paste(\"Correlação:\", correlation))\n",
    "\n",
    "# 2. Representar graficamente o diagrama de dispersão\n",
    "plot(women$height, women$weight, main = \"Diagrama de Dispersão\", xlab = \"Altura\", ylab = \"Peso\", pch = 19)\n",
    "\n",
    "# 3. Determinar a reta de regressão que melhor se ajusta aos dados\n",
    "regression_model <- lm(weight ~ height, data = women)\n",
    "abline(regression_model, col = \"blue\")\n",
    "summary(regression_model)\n"
   ]
  },
  {
   "cell_type": "markdown",
   "metadata": {},
   "source": [
    "**Exercício 2.** Carrega a base de dados \"Advertising.csv\" do seguinte link https://trevorhastie.github.io/ISLR/data.html.\n",
    "1. Represente graficamente o correlograma das variáveis\n",
    "2. Represente graficamente diagramas de disperssão\n",
    "3. Determine a reta de regressão que melhor se ajusta aos dados"
   ]
  },
  {
   "cell_type": "code",
   "execution_count": null,
   "metadata": {
    "vscode": {
     "languageId": "r"
    }
   },
   "outputs": [
    {
     "name": "stdout",
     "output_type": "stream",
     "text": [
      "'data.frame':\t200 obs. of  5 variables:\n",
      " $ X        : int  1 2 3 4 5 6 7 8 9 10 ...\n",
      " $ TV       : num  230.1 44.5 17.2 151.5 180.8 ...\n",
      " $ radio    : num  37.8 39.3 45.9 41.3 10.8 48.9 32.8 19.6 2.1 2.6 ...\n",
      " $ newspaper: num  69.2 45.1 69.3 58.5 58.4 75 23.5 11.6 1 21.2 ...\n",
      " $ sales    : num  22.1 10.4 9.3 18.5 12.9 7.2 11.8 13.2 4.8 10.6 ...\n"
     ]
    },
    {
     "data": {
      "image/png": "[encoded data removed]",
      "text/plain": [
       "Plot with title \"\""
      ]
     },
     "metadata": {
      "image/png": {
       "height": 360,
       "width": 360
      }
     },
     "output_type": "display_data"
    },
    {
     "data": {
      "image/png": "[encoded data removed]",
      "text/plain": [
       "plot without title"
      ]
     },
     "metadata": {
      "image/png": {
       "height": 360,
       "width": 360
      }
     },
     "output_type": "display_data"
    },
    {
     "data": {
      "text/plain": [
       "\n",
       "Call:\n",
       "lm(formula = sales ~ TV, data = advertising)\n",
       "\n",
       "Residuals:\n",
       "    Min      1Q  Median      3Q     Max \n",
       "-8.3860 -1.9545 -0.1913  2.0671  7.2124 \n",
       "\n",
       "Coefficients:\n",
       "            Estimate Std. Error t value Pr(>|t|)    \n",
       "(Intercept) 7.032594   0.457843   15.36   <2e-16 ***\n",
       "TV          0.047537   0.002691   17.67   <2e-16 ***\n",
       "---\n",
       "Signif. codes:  0 '***' 0.001 '**' 0.01 '*' 0.05 '.' 0.1 ' ' 1\n",
       "\n",
       "Residual standard error: 3.259 on 198 degrees of freedom\n",
       "Multiple R-squared:  0.6119,\tAdjusted R-squared:  0.6099 \n",
       "F-statistic: 312.1 on 1 and 198 DF,  p-value: < 2.2e-16\n"
      ]
     },
     "metadata": {},
     "output_type": "display_data"
    },
    {
     "data": {
      "image/png": "[encoded data removed]",
      "text/plain": [
       "Plot with title \"Relação entre TV e Vendas\""
      ]
     },
     "metadata": {
      "image/png": {
       "height": 360,
       "width": 360
      }
     },
     "output_type": "display_data"
    }
   ],
   "source": [
    "# Carrega a base de dados \"Advertising.csv\" do link\n",
    "url <- \"https://trevorhastie.github.io/ISLR/Advertising.csv\"\n",
    "advertising <- read.csv(url)\n",
    "\n",
    "str(advertising)\n",
    "\n",
    "# 1. Represente graficamente o correlograma das variáveis\n",
    "library(corrplot)\n",
    "cor_matrix <- cor(advertising[, -1]) # Exclui a primeira coluna que é o índice\n",
    "corrplot(cor_matrix, method = \"circle\")\n",
    "\n",
    "# 2. Represente graficamente diagramas de dispersão\n",
    "pairs(advertising[, -1], main = \"Diagramas de Dispersão\")\n",
    "\n",
    "# 3. Determine a reta de regressão que melhor se ajusta aos dados\n",
    "# Exemplo de regressão linear entre 'Sales' e 'TV'\n",
    "regression_model <- lm(sales ~ TV, data = advertising)\n",
    "plot(advertising$TV, advertising$sales, main = \"Relação entre TV e Vendas\", xlab = \"TV\", ylab = \"Vendas\", pch = 19)\n",
    "abline(regression_model, col = \"blue\")\n",
    "summary(regression_model)\n"
   ]
  },
  {
   "cell_type": "markdown",
   "metadata": {},
   "source": [
    " **Exercício 3.** Carrega a base de dados (in-built) \"Income1.csv\" do seguinte link https://trevorhastie.github.io/ISLR/data.html.\n",
    "\n",
    "1. Faz uma análise exploratória dos dados.\n",
    "2. Determine a reta de regressão que melhor se ajusta aos dados."
   ]
  },
  {
   "cell_type": "code",
   "execution_count": null,
   "metadata": {
    "vscode": {
     "languageId": "r"
    }
   },
   "outputs": [
    {
     "data": {
      "text/plain": [
       "       X           Education         Income     \n",
       " Min.   : 1.00   Min.   :10.00   Min.   :15.19  \n",
       " 1st Qu.: 8.25   1st Qu.:12.99   1st Qu.:29.08  \n",
       " Median :15.50   Median :16.00   Median :49.87  \n",
       " Mean   :15.50   Mean   :16.00   Mean   :50.15  \n",
       " 3rd Qu.:22.75   3rd Qu.:19.01   3rd Qu.:71.14  \n",
       " Max.   :30.00   Max.   :22.00   Max.   :80.26  "
      ]
     },
     "metadata": {},
     "output_type": "display_data"
    },
    {
     "name": "stdout",
     "output_type": "stream",
     "text": [
      "'data.frame':\t30 obs. of  3 variables:\n",
      " $ X        : int  1 2 3 4 5 6 7 8 9 10 ...\n",
      " $ Education: num  10 10.4 10.8 11.2 11.6 ...\n",
      " $ Income   : num  26.7 27.3 22.1 21.2 15.2 ...\n"
     ]
    },
    {
     "data": {
      "image/png": "[encoded data removed]",
      "text/plain": [
       "plot without title"
      ]
     },
     "metadata": {
      "image/png": {
       "height": 360,
       "width": 360
      }
     },
     "output_type": "display_data"
    },
    {
     "data": {
      "text/plain": [
       "\n",
       "Call:\n",
       "lm(formula = Income ~ Education, data = income)\n",
       "\n",
       "Residuals:\n",
       "    Min      1Q  Median      3Q     Max \n",
       "-13.046  -2.293   0.472   3.288  10.110 \n",
       "\n",
       "Coefficients:\n",
       "            Estimate Std. Error t value Pr(>|t|)    \n",
       "(Intercept) -39.4463     4.7248  -8.349  4.4e-09 ***\n",
       "Education     5.5995     0.2882  19.431  < 2e-16 ***\n",
       "---\n",
       "Signif. codes:  0 '***' 0.001 '**' 0.01 '*' 0.05 '.' 0.1 ' ' 1\n",
       "\n",
       "Residual standard error: 5.653 on 28 degrees of freedom\n",
       "Multiple R-squared:  0.931,\tAdjusted R-squared:  0.9285 \n",
       "F-statistic: 377.6 on 1 and 28 DF,  p-value: < 2.2e-16\n"
      ]
     },
     "metadata": {},
     "output_type": "display_data"
    },
    {
     "data": {
      "image/png": "[encoded data removed]",
      "text/plain": [
       "Plot with title \"Relação entre Educação e Rendimento\""
      ]
     },
     "metadata": {
      "image/png": {
       "height": 360,
       "width": 360
      }
     },
     "output_type": "display_data"
    }
   ],
   "source": [
    "# Carrega a base de dados \"Income1.csv\" do link\n",
    "url <- \"https://trevorhastie.github.io/ISLR/Income1.csv\"\n",
    "income <- read.csv(url)\n",
    "\n",
    "# 1. Faz uma análise exploratória dos dados\n",
    "summary(income)\n",
    "str(income)\n",
    "pairs(income, main = \"Diagramas de Dispersão\")\n",
    "\n",
    "# 2. Determine a reta de regressão que melhor se ajusta aos dados\n",
    "# Exemplo de regressão linear entre 'Income' e 'Education'\n",
    "regression_model <- lm(Income ~ Education, data = income)\n",
    "\n",
    "plot(\n",
    "    income$Education,\n",
    "    income$Income,\n",
    "    main = \"Relação entre Educação e Rendimento\",\n",
    "    xlab = \"Educação\",\n",
    "    ylab = \"Rendimento\",\n",
    "    pch = 19\n",
    ")\n",
    "\n",
    "abline(regression_model, col = \"blue\")\n",
    "summary(regression_model)\n"
   ]
  }
 ],
 "metadata": {
  "hide_input": false,
  "kernelspec": {
   "display_name": "R",
   "language": "R",
   "name": "ir"
  },
  "language_info": {
   "codemirror_mode": "r",
   "file_extension": ".r",
   "mimetype": "text/x-r-source",
   "name": "R",
   "pygments_lexer": "r",
   "version": "4.3.2"
  },
  "latex_envs": {
   "LaTeX_envs_menu_present": true,
   "autoclose": false,
   "autocomplete": true,
   "bibliofile": "biblio.bib",
   "cite_by": "apalike",
   "current_citInitial": 1,
   "eqLabelWithNumbers": true,
   "eqNumInitial": 1,
   "hotkeys": {
    "equation": "Ctrl-E",
    "itemize": "Ctrl-I"
   },
   "labels_anchors": false,
   "latex_user_defs": false,
   "report_style_numbering": false,
   "user_envs_cfg": false
  },
  "nbTranslate": {
   "displayLangs": [
    "*"
   ],
   "hotkey": "alt-t",
   "langInMainMenu": true,
   "sourceLang": "en",
   "targetLang": "fr",
   "useGoogleTranslate": true
  },
  "toc": {
   "base_numbering": 1,
   "nav_menu": {},
   "number_sections": true,
   "sideBar": true,
   "skip_h1_title": false,
   "title_cell": "Table of Contents",
   "title_sidebar": "Contents",
   "toc_cell": false,
   "toc_position": {},
   "toc_section_display": true,
   "toc_window_display": false
  },
  "varInspector": {
   "cols": {
    "lenName": 16,
    "lenType": 16,
    "lenVar": 40
   },
   "kernels_config": {
    "python": {
     "delete_cmd_postfix": "",
     "delete_cmd_prefix": "del ",
     "library": "var_list.py",
     "varRefreshCmd": "print(var_dic_list())"
    },
    "r": {
     "delete_cmd_postfix": ") ",
     "delete_cmd_prefix": "rm(",
     "library": "var_list.r",
     "varRefreshCmd": "cat(var_dic_list()) "
    }
   },
   "types_to_exclude": [
    "module",
    "function",
    "builtin_function_or_method",
    "instance",
    "_Feature"
   ],
   "window_display": false
  }
 },
 "nbformat": 4,
 "nbformat_minor": 4
}
