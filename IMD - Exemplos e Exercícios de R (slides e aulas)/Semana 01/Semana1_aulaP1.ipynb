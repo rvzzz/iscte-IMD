{
 "cells": [
  {
   "cell_type": "markdown",
   "metadata": {},
   "source": [
    "\n",
    "\n",
    "<font size=\"5\"> <div class=\"alert alert-block alert-info\"> Introdução a Modelos Dinâmicos (IMD): Semana 1 (Aula P1) </div> </font> \n",
    " \n",
    "\n",
    "     \n",
    "    \n",
    "  <font size=\"5\"> Licenciatura em Ciência de Dados </font>\n",
    "\n",
    "  \n",
    "  \n",
    "  <font size=\"4\"> **Diana Aldea Mendes**</font>\n",
    "\n",
    "  \n",
    "    \n",
    "  <font size=\"3\"> diana.mendes@iscte-iul.pt </font> \n",
    "\n",
    "  \n",
    "  <font size=\"4\"> ISCTE-IUL, 05 de fevereiro de 2024 </font>\n",
    "\n",
    "   \n",
    "\n",
    "  <font size=\"5\"> <div class=\"alert alert-success\" role=\"alert\"> Revisões R, data-frame, estatística básica </div></font> \n",
    "  \n",
    "\n"
   ]
  },
  {
   "cell_type": "markdown",
   "metadata": {},
   "source": [
    "Para trabalhar com uma nova biblioteca (package) devemos conhecer as suas potencialidades.\n",
    "\n",
    "- instalar a biblioteca\n",
    "\n",
    "*install.packages(\"vcd\")*\n",
    "\n",
    "- pedir ajuda para entender as funcionalidades da nova biblioteca\n",
    "\n",
    "*help(package=\"vcd\")*\n",
    "\n",
    "- carregar (load) a biblioteca\n",
    "\n",
    "*library(vcd)*\n",
    "\n"
   ]
  },
  {
   "cell_type": "code",
   "execution_count": 59,
   "metadata": {
    "ExecuteTime": {
     "end_time": "2022-11-06T16:48:18.961993Z",
     "start_time": "2022-11-06T16:48:18.366Z"
    },
    "vscode": {
     "languageId": "r"
    }
   },
   "outputs": [],
   "source": [
    "# carregar as bibliotecas que vamos usar neste notebook / script\n",
    "\n",
    "library(dplyr) # para importar data frames\n",
    "library(tidyr)\n",
    "library(gmodels)\n",
    "library(matrixStats)\n"
   ]
  },
  {
   "cell_type": "markdown",
   "metadata": {},
   "source": [
    "## Data Frames\n",
    "### Construir um conjunto de dados"
   ]
  },
  {
   "cell_type": "code",
   "execution_count": 107,
   "metadata": {
    "vscode": {
     "languageId": "r"
    }
   },
   "outputs": [
    {
     "name": "stdout",
     "output_type": "stream",
     "text": [
      "[1]  1  2  5  3  6 -2  4\n"
     ]
    },
    {
     "data": {
      "text/html": [
       "<style>\n",
       ".list-inline {list-style: none; margin:0; padding: 0}\n",
       ".list-inline>li {display: inline-block}\n",
       ".list-inline>li:not(:last-child)::after {content: \"\\00b7\"; padding: 0 .5ex}\n",
       "</style>\n",
       "<ol class=list-inline><li>1</li><li>2</li><li>5</li><li>3</li><li>6</li><li>-2</li><li>4</li></ol>\n"
      ],
      "text/latex": [
       "\\begin{enumerate*}\n",
       "\\item 1\n",
       "\\item 2\n",
       "\\item 5\n",
       "\\item 3\n",
       "\\item 6\n",
       "\\item -2\n",
       "\\item 4\n",
       "\\end{enumerate*}\n"
      ],
      "text/markdown": [
       "1. 1\n",
       "2. 2\n",
       "3. 5\n",
       "4. 3\n",
       "5. 6\n",
       "6. -2\n",
       "7. 4\n",
       "\n",
       "\n"
      ],
      "text/plain": [
       "[1]  1  2  5  3  6 -2  4"
      ]
     },
     "metadata": {},
     "output_type": "display_data"
    },
    {
     "data": {
      "text/html": [
       "<style>\n",
       ".list-inline {list-style: none; margin:0; padding: 0}\n",
       ".list-inline>li {display: inline-block}\n",
       ".list-inline>li:not(:last-child)::after {content: \"\\00b7\"; padding: 0 .5ex}\n",
       "</style>\n",
       "<ol class=list-inline><li>'one'</li><li>'two'</li><li>'three'</li></ol>\n"
      ],
      "text/latex": [
       "\\begin{enumerate*}\n",
       "\\item 'one'\n",
       "\\item 'two'\n",
       "\\item 'three'\n",
       "\\end{enumerate*}\n"
      ],
      "text/markdown": [
       "1. 'one'\n",
       "2. 'two'\n",
       "3. 'three'\n",
       "\n",
       "\n"
      ],
      "text/plain": [
       "[1] \"one\"   \"two\"   \"three\""
      ]
     },
     "metadata": {},
     "output_type": "display_data"
    }
   ],
   "source": [
    "# vetores\n",
    "a <- c(1, 2, 5, 3, 6, -2, 4)\n",
    "b <- c(\"one\", \"two\", \"three\")\n",
    "c1 <- c(TRUE, TRUE, TRUE, FALSE, TRUE, FALSE)\n",
    "\n",
    "# visualizar vetores\n",
    "print(a)\n",
    "a\n",
    "b\n"
   ]
  },
  {
   "cell_type": "code",
   "execution_count": 108,
   "metadata": {
    "ExecuteTime": {
     "end_time": "2022-11-06T16:48:24.675658Z",
     "start_time": "2022-11-06T16:48:24.651Z"
    },
    "vscode": {
     "languageId": "r"
    }
   },
   "outputs": [
    {
     "name": "stdout",
     "output_type": "stream",
     "text": [
      "     [,1] [,2] [,3] [,4]\n",
      "[1,]    1    6   11   16\n",
      "[2,]    2    7   12   17\n",
      "[3,]    3    8   13   18\n",
      "[4,]    4    9   14   19\n",
      "[5,]    5   10   15   20\n"
     ]
    },
    {
     "data": {
      "text/html": [
       "<table class=\"dataframe\">\n",
       "<caption>A matrix: 5 × 4 of type int</caption>\n",
       "<tbody>\n",
       "\t<tr><td>1</td><td> 6</td><td>11</td><td>16</td></tr>\n",
       "\t<tr><td>2</td><td> 7</td><td>12</td><td>17</td></tr>\n",
       "\t<tr><td>3</td><td> 8</td><td>13</td><td>18</td></tr>\n",
       "\t<tr><td>4</td><td> 9</td><td>14</td><td>19</td></tr>\n",
       "\t<tr><td>5</td><td>10</td><td>15</td><td>20</td></tr>\n",
       "</tbody>\n",
       "</table>\n"
      ],
      "text/latex": [
       "A matrix: 5 × 4 of type int\n",
       "\\begin{tabular}{llll}\n",
       "\t 1 &  6 & 11 & 16\\\\\n",
       "\t 2 &  7 & 12 & 17\\\\\n",
       "\t 3 &  8 & 13 & 18\\\\\n",
       "\t 4 &  9 & 14 & 19\\\\\n",
       "\t 5 & 10 & 15 & 20\\\\\n",
       "\\end{tabular}\n"
      ],
      "text/markdown": [
       "\n",
       "A matrix: 5 × 4 of type int\n",
       "\n",
       "| 1 |  6 | 11 | 16 |\n",
       "| 2 |  7 | 12 | 17 |\n",
       "| 3 |  8 | 13 | 18 |\n",
       "| 4 |  9 | 14 | 19 |\n",
       "| 5 | 10 | 15 | 20 |\n",
       "\n"
      ],
      "text/plain": [
       "     [,1] [,2] [,3] [,4]\n",
       "[1,] 1     6   11   16  \n",
       "[2,] 2     7   12   17  \n",
       "[3,] 3     8   13   18  \n",
       "[4,] 4     9   14   19  \n",
       "[5,] 5    10   15   20  "
      ]
     },
     "metadata": {},
     "output_type": "display_data"
    }
   ],
   "source": [
    "# matrizes\n",
    "y <- matrix(1:20, nrow = 5, ncol = 4)\n",
    "print(y)\n",
    "y\n"
   ]
  },
  {
   "cell_type": "code",
   "execution_count": 109,
   "metadata": {
    "ExecuteTime": {
     "end_time": "2022-11-06T16:48:25.507979Z",
     "start_time": "2022-11-06T16:48:25.483Z"
    },
    "vscode": {
     "languageId": "r"
    }
   },
   "outputs": [
    {
     "name": "stdout",
     "output_type": "stream",
     "text": [
      ", , C1\n",
      "\n",
      "   B1 B2 B3\n",
      "A1  1  3  5\n",
      "A2  2  4  6\n",
      "\n",
      ", , C2\n",
      "\n",
      "   B1 B2 B3\n",
      "A1  7  9 11\n",
      "A2  8 10 12\n",
      "\n",
      ", , C3\n",
      "\n",
      "   B1 B2 B3\n",
      "A1 13 15 17\n",
      "A2 14 16 18\n",
      "\n",
      ", , C4\n",
      "\n",
      "   B1 B2 B3\n",
      "A1 19 21 23\n",
      "A2 20 22 24\n",
      "\n"
     ]
    }
   ],
   "source": [
    "# array 3 dim\n",
    "dim1 <- c(\"A1\", \"A2\")\n",
    "dim2 <- c(\"B1\", \"B2\", \"B3\")\n",
    "dim3 <- c(\"C1\", \"C2\", \"C3\", \"C4\")\n",
    "\n",
    "z <- array(1:24, c(2, 3, 4), dimnames = list(dim1, dim2, dim3))\n",
    "\n",
    "print(z)\n"
   ]
  },
  {
   "cell_type": "markdown",
   "metadata": {},
   "source": [
    "#################################################################################\n",
    "\n",
    "Para construir uma tabela de dados vamos usar a função pre-definida **data.frame()** \n",
    "\n",
    "Syntax:\n",
    "\n",
    "    mydata <- data.frame(col1, col2, col3,...)\n",
    "\n",
    "\n",
    "onde col1, col2, col3, são vetores coluna de qualquer tipo (numéricos, lógicos, categóricos, etc). \n",
    "\n"
   ]
  },
  {
   "cell_type": "code",
   "execution_count": 110,
   "metadata": {
    "ExecuteTime": {
     "end_time": "2022-11-06T16:48:27.140596Z",
     "start_time": "2022-11-06T16:48:27.115Z"
    },
    "vscode": {
     "languageId": "r"
    }
   },
   "outputs": [
    {
     "data": {
      "text/html": [
       "<table class=\"dataframe\">\n",
       "<caption>A data.frame: 5 × 2</caption>\n",
       "<thead>\n",
       "\t<tr><th scope=col>c.2..2..3..0..4.</th><th scope=col>c..1..1..0..2..2.</th></tr>\n",
       "\t<tr><th scope=col>&lt;dbl&gt;</th><th scope=col>&lt;dbl&gt;</th></tr>\n",
       "</thead>\n",
       "<tbody>\n",
       "\t<tr><td>2</td><td>-1</td></tr>\n",
       "\t<tr><td>2</td><td> 1</td></tr>\n",
       "\t<tr><td>3</td><td> 0</td></tr>\n",
       "\t<tr><td>0</td><td> 2</td></tr>\n",
       "\t<tr><td>4</td><td> 2</td></tr>\n",
       "</tbody>\n",
       "</table>\n"
      ],
      "text/latex": [
       "A data.frame: 5 × 2\n",
       "\\begin{tabular}{ll}\n",
       " c.2..2..3..0..4. & c..1..1..0..2..2.\\\\\n",
       " <dbl> & <dbl>\\\\\n",
       "\\hline\n",
       "\t 2 & -1\\\\\n",
       "\t 2 &  1\\\\\n",
       "\t 3 &  0\\\\\n",
       "\t 0 &  2\\\\\n",
       "\t 4 &  2\\\\\n",
       "\\end{tabular}\n"
      ],
      "text/markdown": [
       "\n",
       "A data.frame: 5 × 2\n",
       "\n",
       "| c.2..2..3..0..4. &lt;dbl&gt; | c..1..1..0..2..2. &lt;dbl&gt; |\n",
       "|---|---|\n",
       "| 2 | -1 |\n",
       "| 2 |  1 |\n",
       "| 3 |  0 |\n",
       "| 0 |  2 |\n",
       "| 4 |  2 |\n",
       "\n"
      ],
      "text/plain": [
       "  c.2..2..3..0..4. c..1..1..0..2..2.\n",
       "1 2                -1               \n",
       "2 2                 1               \n",
       "3 3                 0               \n",
       "4 0                 2               \n",
       "5 4                 2               "
      ]
     },
     "metadata": {},
     "output_type": "display_data"
    }
   ],
   "source": [
    "# data frame /tabela de dados\n",
    "\n",
    "df1 <- data.frame(c(2, 2, 3, 0, 4), c(-1, 1, 0, 2, 2))\n",
    "\n",
    "df1\n"
   ]
  },
  {
   "cell_type": "code",
   "execution_count": 111,
   "metadata": {
    "ExecuteTime": {
     "end_time": "2022-11-06T16:48:27.842569Z",
     "start_time": "2022-11-06T16:48:27.819Z"
    },
    "vscode": {
     "languageId": "r"
    }
   },
   "outputs": [
    {
     "data": {
      "text/html": [
       "<table class=\"dataframe\">\n",
       "<caption>A data.frame: 5 × 2</caption>\n",
       "<thead>\n",
       "\t<tr><th scope=col>var1</th><th scope=col>var2</th></tr>\n",
       "\t<tr><th scope=col>&lt;dbl&gt;</th><th scope=col>&lt;dbl&gt;</th></tr>\n",
       "</thead>\n",
       "<tbody>\n",
       "\t<tr><td>2</td><td>-1</td></tr>\n",
       "\t<tr><td>2</td><td> 1</td></tr>\n",
       "\t<tr><td>3</td><td> 0</td></tr>\n",
       "\t<tr><td>0</td><td> 2</td></tr>\n",
       "\t<tr><td>4</td><td> 2</td></tr>\n",
       "</tbody>\n",
       "</table>\n"
      ],
      "text/latex": [
       "A data.frame: 5 × 2\n",
       "\\begin{tabular}{ll}\n",
       " var1 & var2\\\\\n",
       " <dbl> & <dbl>\\\\\n",
       "\\hline\n",
       "\t 2 & -1\\\\\n",
       "\t 2 &  1\\\\\n",
       "\t 3 &  0\\\\\n",
       "\t 0 &  2\\\\\n",
       "\t 4 &  2\\\\\n",
       "\\end{tabular}\n"
      ],
      "text/markdown": [
       "\n",
       "A data.frame: 5 × 2\n",
       "\n",
       "| var1 &lt;dbl&gt; | var2 &lt;dbl&gt; |\n",
       "|---|---|\n",
       "| 2 | -1 |\n",
       "| 2 |  1 |\n",
       "| 3 |  0 |\n",
       "| 0 |  2 |\n",
       "| 4 |  2 |\n",
       "\n"
      ],
      "text/plain": [
       "  var1 var2\n",
       "1 2    -1  \n",
       "2 2     1  \n",
       "3 3     0  \n",
       "4 0     2  \n",
       "5 4     2  "
      ]
     },
     "metadata": {},
     "output_type": "display_data"
    }
   ],
   "source": [
    "# mudamos o nome de cada variável/coluna (nomes que aparecem na primeira linha)\n",
    "\n",
    "df2 <- data.frame(var1 = c(2, 2, 3, 0, 4), var2 = c(-1, 1, 0, 2, 2))\n",
    "\n",
    "df2\n"
   ]
  },
  {
   "cell_type": "code",
   "execution_count": 112,
   "metadata": {
    "ExecuteTime": {
     "end_time": "2022-11-06T16:48:28.660862Z",
     "start_time": "2022-11-06T16:48:28.627Z"
    },
    "run_control": {
     "marked": true
    },
    "vscode": {
     "languageId": "r"
    }
   },
   "outputs": [
    {
     "data": {
      "text/html": [
       "<table class=\"dataframe\">\n",
       "<caption>A data.frame: 3 × 3</caption>\n",
       "<thead>\n",
       "\t<tr><th scope=col>v1</th><th scope=col>v2</th><th scope=col>v3</th></tr>\n",
       "\t<tr><th scope=col>&lt;dbl&gt;</th><th scope=col>&lt;chr&gt;</th><th scope=col>&lt;lgl&gt;</th></tr>\n",
       "</thead>\n",
       "<tbody>\n",
       "\t<tr><td>1</td><td>Jerry </td><td> TRUE</td></tr>\n",
       "\t<tr><td>2</td><td>George</td><td>FALSE</td></tr>\n",
       "\t<tr><td>3</td><td>Elaine</td><td> TRUE</td></tr>\n",
       "</tbody>\n",
       "</table>\n"
      ],
      "text/latex": [
       "A data.frame: 3 × 3\n",
       "\\begin{tabular}{lll}\n",
       " v1 & v2 & v3\\\\\n",
       " <dbl> & <chr> & <lgl>\\\\\n",
       "\\hline\n",
       "\t 1 & Jerry  &  TRUE\\\\\n",
       "\t 2 & George & FALSE\\\\\n",
       "\t 3 & Elaine &  TRUE\\\\\n",
       "\\end{tabular}\n"
      ],
      "text/markdown": [
       "\n",
       "A data.frame: 3 × 3\n",
       "\n",
       "| v1 &lt;dbl&gt; | v2 &lt;chr&gt; | v3 &lt;lgl&gt; |\n",
       "|---|---|---|\n",
       "| 1 | Jerry  |  TRUE |\n",
       "| 2 | George | FALSE |\n",
       "| 3 | Elaine |  TRUE |\n",
       "\n"
      ],
      "text/plain": [
       "  v1 v2     v3   \n",
       "1 1  Jerry   TRUE\n",
       "2 2  George FALSE\n",
       "3 3  Elaine  TRUE"
      ]
     },
     "metadata": {},
     "output_type": "display_data"
    }
   ],
   "source": [
    "# data frame com entradas de tipos diferentes\n",
    "\n",
    "v1 <- c(1, 2, 3)\n",
    "v2 <- c(\"Jerry\", \"George\", \"Elaine\")\n",
    "v3 <- c(TRUE, FALSE, TRUE)\n",
    "\n",
    "df2 <- data.frame(v1, v2, v3)\n",
    "\n",
    "df2\n"
   ]
  },
  {
   "cell_type": "code",
   "execution_count": 113,
   "metadata": {
    "ExecuteTime": {
     "end_time": "2022-11-06T16:48:29.560862Z",
     "start_time": "2022-11-06T16:48:29.523Z"
    },
    "vscode": {
     "languageId": "r"
    }
   },
   "outputs": [
    {
     "data": {
      "text/html": [
       "<table class=\"dataframe\">\n",
       "<caption>A data.frame: 4 × 4</caption>\n",
       "<thead>\n",
       "\t<tr><th scope=col>patientID</th><th scope=col>age</th><th scope=col>diabetes</th><th scope=col>status</th></tr>\n",
       "\t<tr><th scope=col>&lt;dbl&gt;</th><th scope=col>&lt;dbl&gt;</th><th scope=col>&lt;chr&gt;</th><th scope=col>&lt;chr&gt;</th></tr>\n",
       "</thead>\n",
       "<tbody>\n",
       "\t<tr><td>1</td><td>25</td><td>Type1</td><td>Poor     </td></tr>\n",
       "\t<tr><td>2</td><td>34</td><td>Type2</td><td>Improved </td></tr>\n",
       "\t<tr><td>3</td><td>28</td><td>Type1</td><td>Excellent</td></tr>\n",
       "\t<tr><td>4</td><td>52</td><td>Type1</td><td>Poor     </td></tr>\n",
       "</tbody>\n",
       "</table>\n"
      ],
      "text/latex": [
       "A data.frame: 4 × 4\n",
       "\\begin{tabular}{llll}\n",
       " patientID & age & diabetes & status\\\\\n",
       " <dbl> & <dbl> & <chr> & <chr>\\\\\n",
       "\\hline\n",
       "\t 1 & 25 & Type1 & Poor     \\\\\n",
       "\t 2 & 34 & Type2 & Improved \\\\\n",
       "\t 3 & 28 & Type1 & Excellent\\\\\n",
       "\t 4 & 52 & Type1 & Poor     \\\\\n",
       "\\end{tabular}\n"
      ],
      "text/markdown": [
       "\n",
       "A data.frame: 4 × 4\n",
       "\n",
       "| patientID &lt;dbl&gt; | age &lt;dbl&gt; | diabetes &lt;chr&gt; | status &lt;chr&gt; |\n",
       "|---|---|---|---|\n",
       "| 1 | 25 | Type1 | Poor      |\n",
       "| 2 | 34 | Type2 | Improved  |\n",
       "| 3 | 28 | Type1 | Excellent |\n",
       "| 4 | 52 | Type1 | Poor      |\n",
       "\n"
      ],
      "text/plain": [
       "  patientID age diabetes status   \n",
       "1 1         25  Type1    Poor     \n",
       "2 2         34  Type2    Improved \n",
       "3 3         28  Type1    Excellent\n",
       "4 4         52  Type1    Poor     "
      ]
     },
     "metadata": {},
     "output_type": "display_data"
    }
   ],
   "source": [
    "# data frame\n",
    "patientID <- c(1, 2, 3, 4)\n",
    "age <- c(25, 34, 28, 52)\n",
    "diabetes <- c(\"Type1\", \"Type2\", \"Type1\", \"Type1\")\n",
    "status <- c(\"Poor\", \"Improved\", \"Excellent\", \"Poor\")\n",
    "\n",
    "patientdata <- data.frame(patientID, age, diabetes, status)\n",
    "\n",
    "patientdata\n"
   ]
  },
  {
   "cell_type": "code",
   "execution_count": 114,
   "metadata": {
    "ExecuteTime": {
     "end_time": "2022-11-06T16:48:30.405571Z",
     "start_time": "2022-11-06T16:48:30.387Z"
    },
    "vscode": {
     "languageId": "r"
    }
   },
   "outputs": [
    {
     "data": {
      "text/html": [
       "'list'"
      ],
      "text/latex": [
       "'list'"
      ],
      "text/markdown": [
       "'list'"
      ],
      "text/plain": [
       "[1] \"list\""
      ]
     },
     "metadata": {},
     "output_type": "display_data"
    }
   ],
   "source": [
    "# tipo de objeto\n",
    "\n",
    "typeof(patientdata) # list\n"
   ]
  },
  {
   "cell_type": "code",
   "execution_count": 115,
   "metadata": {
    "ExecuteTime": {
     "end_time": "2020-11-10T15:01:39.030961Z",
     "start_time": "2020-11-10T15:01:39.004Z"
    },
    "vscode": {
     "languageId": "r"
    }
   },
   "outputs": [
    {
     "data": {
      "text/html": [
       "'data.frame'"
      ],
      "text/latex": [
       "'data.frame'"
      ],
      "text/markdown": [
       "'data.frame'"
      ],
      "text/plain": [
       "[1] \"data.frame\""
      ]
     },
     "metadata": {},
     "output_type": "display_data"
    }
   ],
   "source": [
    "# classe do objeto\n",
    "\n",
    "class(patientdata) # data.frame\n"
   ]
  },
  {
   "cell_type": "code",
   "execution_count": 116,
   "metadata": {
    "ExecuteTime": {
     "end_time": "2020-11-10T15:01:54.152463Z",
     "start_time": "2020-11-10T15:01:54.127Z"
    },
    "vscode": {
     "languageId": "r"
    }
   },
   "outputs": [
    {
     "data": {
      "text/html": [
       "<style>\n",
       ".list-inline {list-style: none; margin:0; padding: 0}\n",
       ".list-inline>li {display: inline-block}\n",
       ".list-inline>li:not(:last-child)::after {content: \"\\00b7\"; padding: 0 .5ex}\n",
       "</style>\n",
       "<ol class=list-inline><li>'patientID'</li><li>'age'</li><li>'diabetes'</li><li>'status'</li></ol>\n"
      ],
      "text/latex": [
       "\\begin{enumerate*}\n",
       "\\item 'patientID'\n",
       "\\item 'age'\n",
       "\\item 'diabetes'\n",
       "\\item 'status'\n",
       "\\end{enumerate*}\n"
      ],
      "text/markdown": [
       "1. 'patientID'\n",
       "2. 'age'\n",
       "3. 'diabetes'\n",
       "4. 'status'\n",
       "\n",
       "\n"
      ],
      "text/plain": [
       "[1] \"patientID\" \"age\"       \"diabetes\"  \"status\"   "
      ]
     },
     "metadata": {},
     "output_type": "display_data"
    },
    {
     "data": {
      "text/html": [
       "<style>\n",
       ".list-inline {list-style: none; margin:0; padding: 0}\n",
       ".list-inline>li {display: inline-block}\n",
       ".list-inline>li:not(:last-child)::after {content: \"\\00b7\"; padding: 0 .5ex}\n",
       "</style>\n",
       "<ol class=list-inline><li>'patientID'</li><li>'age'</li><li>'diabetes'</li><li>'status'</li></ol>\n"
      ],
      "text/latex": [
       "\\begin{enumerate*}\n",
       "\\item 'patientID'\n",
       "\\item 'age'\n",
       "\\item 'diabetes'\n",
       "\\item 'status'\n",
       "\\end{enumerate*}\n"
      ],
      "text/markdown": [
       "1. 'patientID'\n",
       "2. 'age'\n",
       "3. 'diabetes'\n",
       "4. 'status'\n",
       "\n",
       "\n"
      ],
      "text/plain": [
       "[1] \"patientID\" \"age\"       \"diabetes\"  \"status\"   "
      ]
     },
     "metadata": {},
     "output_type": "display_data"
    }
   ],
   "source": [
    "# nomes das variáveis /colunas da data frame\n",
    "\n",
    "names(patientdata)\n",
    "\n",
    "# ou\n",
    "colnames(patientdata)\n"
   ]
  },
  {
   "cell_type": "code",
   "execution_count": 117,
   "metadata": {
    "ExecuteTime": {
     "end_time": "2020-11-10T15:02:12.635943Z",
     "start_time": "2020-11-10T15:02:12.614Z"
    },
    "vscode": {
     "languageId": "r"
    }
   },
   "outputs": [
    {
     "data": {
      "text/html": [
       "4"
      ],
      "text/latex": [
       "4"
      ],
      "text/markdown": [
       "4"
      ],
      "text/plain": [
       "[1] 4"
      ]
     },
     "metadata": {},
     "output_type": "display_data"
    }
   ],
   "source": [
    "# número de colunas\n",
    "\n",
    "ncol(patientdata)\n"
   ]
  },
  {
   "cell_type": "code",
   "execution_count": 118,
   "metadata": {
    "ExecuteTime": {
     "end_time": "2020-11-10T15:02:22.311445Z",
     "start_time": "2020-11-10T15:02:22.288Z"
    },
    "vscode": {
     "languageId": "r"
    }
   },
   "outputs": [
    {
     "data": {
      "text/html": [
       "4"
      ],
      "text/latex": [
       "4"
      ],
      "text/markdown": [
       "4"
      ],
      "text/plain": [
       "[1] 4"
      ]
     },
     "metadata": {},
     "output_type": "display_data"
    }
   ],
   "source": [
    "# número de linhas\n",
    "\n",
    "nrow(patientdata)\n"
   ]
  },
  {
   "cell_type": "code",
   "execution_count": 119,
   "metadata": {
    "ExecuteTime": {
     "end_time": "2020-11-10T15:02:43.221420Z",
     "start_time": "2020-11-10T15:02:43.191Z"
    },
    "vscode": {
     "languageId": "r"
    }
   },
   "outputs": [
    {
     "data": {
      "text/html": [
       "4"
      ],
      "text/latex": [
       "4"
      ],
      "text/markdown": [
       "4"
      ],
      "text/plain": [
       "[1] 4"
      ]
     },
     "metadata": {},
     "output_type": "display_data"
    }
   ],
   "source": [
    "# comprimento da lista (o mesmo que ncol())\n",
    "\n",
    "length(patientdata)\n"
   ]
  },
  {
   "cell_type": "code",
   "execution_count": 120,
   "metadata": {
    "ExecuteTime": {
     "end_time": "2020-11-10T15:03:17.431551Z",
     "start_time": "2020-11-10T15:03:17.410Z"
    },
    "vscode": {
     "languageId": "r"
    }
   },
   "outputs": [
    {
     "name": "stdout",
     "output_type": "stream",
     "text": [
      "'data.frame':\t4 obs. of  4 variables:\n",
      " $ patientID: num  1 2 3 4\n",
      " $ age      : num  25 34 28 52\n",
      " $ diabetes : chr  \"Type1\" \"Type2\" \"Type1\" \"Type1\"\n",
      " $ status   : chr  \"Poor\" \"Improved\" \"Excellent\" \"Poor\"\n"
     ]
    }
   ],
   "source": [
    "# estrutura da tabela de dados (caracteriza o tipo de cada variável)\n",
    "\n",
    "str(patientdata)\n"
   ]
  },
  {
   "cell_type": "code",
   "execution_count": 121,
   "metadata": {
    "ExecuteTime": {
     "end_time": "2020-11-10T15:05:42.412527Z",
     "start_time": "2020-11-10T15:05:42.385Z"
    },
    "vscode": {
     "languageId": "r"
    }
   },
   "outputs": [
    {
     "data": {
      "text/html": [
       "<table class=\"dataframe\">\n",
       "<caption>A data.frame: 4 × 4</caption>\n",
       "<thead>\n",
       "\t<tr><th scope=col>patientID</th><th scope=col>age</th><th scope=col>diabetes</th><th scope=col>status</th></tr>\n",
       "\t<tr><th scope=col>&lt;dbl&gt;</th><th scope=col>&lt;dbl&gt;</th><th scope=col>&lt;chr&gt;</th><th scope=col>&lt;chr&gt;</th></tr>\n",
       "</thead>\n",
       "<tbody>\n",
       "\t<tr><td>1</td><td>25</td><td>Type1</td><td>Poor     </td></tr>\n",
       "\t<tr><td>2</td><td>34</td><td>Type2</td><td>Improved </td></tr>\n",
       "\t<tr><td>3</td><td>28</td><td>Type1</td><td>Excellent</td></tr>\n",
       "\t<tr><td>4</td><td>52</td><td>Type1</td><td>Poor     </td></tr>\n",
       "</tbody>\n",
       "</table>\n"
      ],
      "text/latex": [
       "A data.frame: 4 × 4\n",
       "\\begin{tabular}{llll}\n",
       " patientID & age & diabetes & status\\\\\n",
       " <dbl> & <dbl> & <chr> & <chr>\\\\\n",
       "\\hline\n",
       "\t 1 & 25 & Type1 & Poor     \\\\\n",
       "\t 2 & 34 & Type2 & Improved \\\\\n",
       "\t 3 & 28 & Type1 & Excellent\\\\\n",
       "\t 4 & 52 & Type1 & Poor     \\\\\n",
       "\\end{tabular}\n"
      ],
      "text/markdown": [
       "\n",
       "A data.frame: 4 × 4\n",
       "\n",
       "| patientID &lt;dbl&gt; | age &lt;dbl&gt; | diabetes &lt;chr&gt; | status &lt;chr&gt; |\n",
       "|---|---|---|---|\n",
       "| 1 | 25 | Type1 | Poor      |\n",
       "| 2 | 34 | Type2 | Improved  |\n",
       "| 3 | 28 | Type1 | Excellent |\n",
       "| 4 | 52 | Type1 | Poor      |\n",
       "\n"
      ],
      "text/plain": [
       "  patientID age diabetes status   \n",
       "1 1         25  Type1    Poor     \n",
       "2 2         34  Type2    Improved \n",
       "3 3         28  Type1    Excellent\n",
       "4 4         52  Type1    Poor     "
      ]
     },
     "metadata": {},
     "output_type": "display_data"
    }
   ],
   "source": [
    "patientdata\n"
   ]
  },
  {
   "cell_type": "code",
   "execution_count": 122,
   "metadata": {
    "ExecuteTime": {
     "end_time": "2020-11-10T15:07:31.520801Z",
     "start_time": "2020-11-10T15:07:31.488Z"
    },
    "vscode": {
     "languageId": "r"
    }
   },
   "outputs": [
    {
     "data": {
      "text/html": [
       "<table class=\"dataframe\">\n",
       "<caption>A data.frame: 4 × 1</caption>\n",
       "<thead>\n",
       "\t<tr><th scope=col>age</th></tr>\n",
       "\t<tr><th scope=col>&lt;dbl&gt;</th></tr>\n",
       "</thead>\n",
       "<tbody>\n",
       "\t<tr><td>25</td></tr>\n",
       "\t<tr><td>34</td></tr>\n",
       "\t<tr><td>28</td></tr>\n",
       "\t<tr><td>52</td></tr>\n",
       "</tbody>\n",
       "</table>\n"
      ],
      "text/latex": [
       "A data.frame: 4 × 1\n",
       "\\begin{tabular}{l}\n",
       " age\\\\\n",
       " <dbl>\\\\\n",
       "\\hline\n",
       "\t 25\\\\\n",
       "\t 34\\\\\n",
       "\t 28\\\\\n",
       "\t 52\\\\\n",
       "\\end{tabular}\n"
      ],
      "text/markdown": [
       "\n",
       "A data.frame: 4 × 1\n",
       "\n",
       "| age &lt;dbl&gt; |\n",
       "|---|\n",
       "| 25 |\n",
       "| 34 |\n",
       "| 28 |\n",
       "| 52 |\n",
       "\n"
      ],
      "text/plain": [
       "  age\n",
       "1 25 \n",
       "2 34 \n",
       "3 28 \n",
       "4 52 "
      ]
     },
     "metadata": {},
     "output_type": "display_data"
    }
   ],
   "source": [
    "# isolar (ou ter acesso) a segunda coluna da tabela de dados\n",
    "# (o resultado é uma tabela com apenas 1 coluna)\n",
    "\n",
    "patientdata[\"age\"]\n"
   ]
  },
  {
   "cell_type": "code",
   "execution_count": 123,
   "metadata": {
    "ExecuteTime": {
     "end_time": "2020-11-10T15:08:08.147139Z",
     "start_time": "2020-11-10T15:08:08.127Z"
    },
    "run_control": {
     "marked": true
    },
    "vscode": {
     "languageId": "r"
    }
   },
   "outputs": [
    {
     "data": {
      "text/html": [
       "<style>\n",
       ".list-inline {list-style: none; margin:0; padding: 0}\n",
       ".list-inline>li {display: inline-block}\n",
       ".list-inline>li:not(:last-child)::after {content: \"\\00b7\"; padding: 0 .5ex}\n",
       "</style>\n",
       "<ol class=list-inline><li>25</li><li>34</li><li>28</li><li>52</li></ol>\n"
      ],
      "text/latex": [
       "\\begin{enumerate*}\n",
       "\\item 25\n",
       "\\item 34\n",
       "\\item 28\n",
       "\\item 52\n",
       "\\end{enumerate*}\n"
      ],
      "text/markdown": [
       "1. 25\n",
       "2. 34\n",
       "3. 28\n",
       "4. 52\n",
       "\n",
       "\n"
      ],
      "text/plain": [
       "[1] 25 34 28 52"
      ]
     },
     "metadata": {},
     "output_type": "display_data"
    }
   ],
   "source": [
    "# isolar a segunda coluna - output em formato de vetor\n",
    "\n",
    "patientdata[[\"age\"]]\n"
   ]
  },
  {
   "cell_type": "code",
   "execution_count": 124,
   "metadata": {
    "ExecuteTime": {
     "end_time": "2020-11-10T15:09:35.708831Z",
     "start_time": "2020-11-10T15:09:35.686Z"
    },
    "run_control": {
     "marked": true
    },
    "vscode": {
     "languageId": "r"
    }
   },
   "outputs": [
    {
     "data": {
      "text/html": [
       "<style>\n",
       ".list-inline {list-style: none; margin:0; padding: 0}\n",
       ".list-inline>li {display: inline-block}\n",
       ".list-inline>li:not(:last-child)::after {content: \"\\00b7\"; padding: 0 .5ex}\n",
       "</style>\n",
       "<ol class=list-inline><li>25</li><li>34</li><li>28</li><li>52</li></ol>\n"
      ],
      "text/latex": [
       "\\begin{enumerate*}\n",
       "\\item 25\n",
       "\\item 34\n",
       "\\item 28\n",
       "\\item 52\n",
       "\\end{enumerate*}\n"
      ],
      "text/markdown": [
       "1. 25\n",
       "2. 34\n",
       "3. 28\n",
       "4. 52\n",
       "\n",
       "\n"
      ],
      "text/plain": [
       "[1] 25 34 28 52"
      ]
     },
     "metadata": {},
     "output_type": "display_data"
    }
   ],
   "source": [
    "# ou, de forma equivalente, usando nomeDataFrame$nomeVariavel\n",
    "\n",
    "patientdata$age\n"
   ]
  },
  {
   "cell_type": "code",
   "execution_count": 125,
   "metadata": {
    "ExecuteTime": {
     "end_time": "2020-11-10T15:14:39.470485Z",
     "start_time": "2020-11-10T15:14:39.446Z"
    },
    "vscode": {
     "languageId": "r"
    }
   },
   "outputs": [
    {
     "data": {
      "text/html": [
       "<table class=\"dataframe\">\n",
       "<caption>A data.frame: 5 × 4</caption>\n",
       "<thead>\n",
       "\t<tr><th scope=col>patientID</th><th scope=col>age</th><th scope=col>diabetes</th><th scope=col>status</th></tr>\n",
       "\t<tr><th scope=col>&lt;dbl&gt;</th><th scope=col>&lt;dbl&gt;</th><th scope=col>&lt;chr&gt;</th><th scope=col>&lt;chr&gt;</th></tr>\n",
       "</thead>\n",
       "<tbody>\n",
       "\t<tr><td>1</td><td>25</td><td>Type1</td><td>Poor     </td></tr>\n",
       "\t<tr><td>2</td><td>34</td><td>Type2</td><td>Improved </td></tr>\n",
       "\t<tr><td>3</td><td>28</td><td>Type1</td><td>Excellent</td></tr>\n",
       "\t<tr><td>4</td><td>52</td><td>Type1</td><td>Poor     </td></tr>\n",
       "\t<tr><td>5</td><td>62</td><td>Type1</td><td>Improved </td></tr>\n",
       "</tbody>\n",
       "</table>\n"
      ],
      "text/latex": [
       "A data.frame: 5 × 4\n",
       "\\begin{tabular}{llll}\n",
       " patientID & age & diabetes & status\\\\\n",
       " <dbl> & <dbl> & <chr> & <chr>\\\\\n",
       "\\hline\n",
       "\t 1 & 25 & Type1 & Poor     \\\\\n",
       "\t 2 & 34 & Type2 & Improved \\\\\n",
       "\t 3 & 28 & Type1 & Excellent\\\\\n",
       "\t 4 & 52 & Type1 & Poor     \\\\\n",
       "\t 5 & 62 & Type1 & Improved \\\\\n",
       "\\end{tabular}\n"
      ],
      "text/markdown": [
       "\n",
       "A data.frame: 5 × 4\n",
       "\n",
       "| patientID &lt;dbl&gt; | age &lt;dbl&gt; | diabetes &lt;chr&gt; | status &lt;chr&gt; |\n",
       "|---|---|---|---|\n",
       "| 1 | 25 | Type1 | Poor      |\n",
       "| 2 | 34 | Type2 | Improved  |\n",
       "| 3 | 28 | Type1 | Excellent |\n",
       "| 4 | 52 | Type1 | Poor      |\n",
       "| 5 | 62 | Type1 | Improved  |\n",
       "\n"
      ],
      "text/plain": [
       "  patientID age diabetes status   \n",
       "1 1         25  Type1    Poor     \n",
       "2 2         34  Type2    Improved \n",
       "3 3         28  Type1    Excellent\n",
       "4 4         52  Type1    Poor     \n",
       "5 5         62  Type1    Improved "
      ]
     },
     "metadata": {},
     "output_type": "display_data"
    }
   ],
   "source": [
    "# adicionar uma linha para a tabela de dados, usando rbind\n",
    "\n",
    "patientdata <- rbind(patientdata, list(5, 62, \"Type1\", \"Improved\"))\n",
    "\n",
    "patientdata\n"
   ]
  },
  {
   "cell_type": "code",
   "execution_count": 126,
   "metadata": {
    "ExecuteTime": {
     "end_time": "2020-11-10T15:14:55.537684Z",
     "start_time": "2020-11-10T15:14:55.502Z"
    },
    "vscode": {
     "languageId": "r"
    }
   },
   "outputs": [
    {
     "data": {
      "text/html": [
       "<table class=\"dataframe\">\n",
       "<caption>A data.frame: 5 × 5</caption>\n",
       "<thead>\n",
       "\t<tr><th scope=col>patientID</th><th scope=col>age</th><th scope=col>diabetes</th><th scope=col>status</th><th scope=col>City</th></tr>\n",
       "\t<tr><th scope=col>&lt;dbl&gt;</th><th scope=col>&lt;dbl&gt;</th><th scope=col>&lt;chr&gt;</th><th scope=col>&lt;chr&gt;</th><th scope=col>&lt;chr&gt;</th></tr>\n",
       "</thead>\n",
       "<tbody>\n",
       "\t<tr><td>1</td><td>25</td><td>Type1</td><td>Poor     </td><td>Lisbon</td></tr>\n",
       "\t<tr><td>2</td><td>34</td><td>Type2</td><td>Improved </td><td>Almada</td></tr>\n",
       "\t<tr><td>3</td><td>28</td><td>Type1</td><td>Excellent</td><td>Braga </td></tr>\n",
       "\t<tr><td>4</td><td>52</td><td>Type1</td><td>Poor     </td><td>Porto </td></tr>\n",
       "\t<tr><td>5</td><td>62</td><td>Type1</td><td>Improved </td><td>Braga </td></tr>\n",
       "</tbody>\n",
       "</table>\n"
      ],
      "text/latex": [
       "A data.frame: 5 × 5\n",
       "\\begin{tabular}{lllll}\n",
       " patientID & age & diabetes & status & City\\\\\n",
       " <dbl> & <dbl> & <chr> & <chr> & <chr>\\\\\n",
       "\\hline\n",
       "\t 1 & 25 & Type1 & Poor      & Lisbon\\\\\n",
       "\t 2 & 34 & Type2 & Improved  & Almada\\\\\n",
       "\t 3 & 28 & Type1 & Excellent & Braga \\\\\n",
       "\t 4 & 52 & Type1 & Poor      & Porto \\\\\n",
       "\t 5 & 62 & Type1 & Improved  & Braga \\\\\n",
       "\\end{tabular}\n"
      ],
      "text/markdown": [
       "\n",
       "A data.frame: 5 × 5\n",
       "\n",
       "| patientID &lt;dbl&gt; | age &lt;dbl&gt; | diabetes &lt;chr&gt; | status &lt;chr&gt; | City &lt;chr&gt; |\n",
       "|---|---|---|---|---|\n",
       "| 1 | 25 | Type1 | Poor      | Lisbon |\n",
       "| 2 | 34 | Type2 | Improved  | Almada |\n",
       "| 3 | 28 | Type1 | Excellent | Braga  |\n",
       "| 4 | 52 | Type1 | Poor      | Porto  |\n",
       "| 5 | 62 | Type1 | Improved  | Braga  |\n",
       "\n"
      ],
      "text/plain": [
       "  patientID age diabetes status    City  \n",
       "1 1         25  Type1    Poor      Lisbon\n",
       "2 2         34  Type2    Improved  Almada\n",
       "3 3         28  Type1    Excellent Braga \n",
       "4 4         52  Type1    Poor      Porto \n",
       "5 5         62  Type1    Improved  Braga "
      ]
     },
     "metadata": {},
     "output_type": "display_data"
    }
   ],
   "source": [
    "# adicionar uma coluna para a tabela de dados, usando cbind\n",
    "\n",
    "cbind(patientdata, \"City\" = c(\"Lisbon\", \"Almada\", \"Braga\", \"Porto\", \"Braga\"))\n"
   ]
  },
  {
   "cell_type": "code",
   "execution_count": 127,
   "metadata": {
    "ExecuteTime": {
     "end_time": "2020-11-10T15:17:17.561501Z",
     "start_time": "2020-11-10T15:17:17.527Z"
    },
    "vscode": {
     "languageId": "r"
    }
   },
   "outputs": [
    {
     "data": {
      "text/html": [
       "<table class=\"dataframe\">\n",
       "<caption>A data.frame: 8 × 3</caption>\n",
       "<thead>\n",
       "\t<tr><th scope=col>EmployeeID</th><th scope=col>FName</th><th scope=col>LName</th></tr>\n",
       "\t<tr><th scope=col>&lt;int&gt;</th><th scope=col>&lt;chr&gt;</th><th scope=col>&lt;chr&gt;</th></tr>\n",
       "</thead>\n",
       "<tbody>\n",
       "\t<tr><td>1</td><td>Tom    </td><td>Hanks  </td></tr>\n",
       "\t<tr><td>2</td><td>Herry  </td><td>Potter </td></tr>\n",
       "\t<tr><td>3</td><td>Michael</td><td>Jackson</td></tr>\n",
       "\t<tr><td>4</td><td>Annie  </td><td>Joey   </td></tr>\n",
       "\t<tr><td>5</td><td>Martin </td><td>Li     </td></tr>\n",
       "\t<tr><td>6</td><td>Maria  </td><td>Jordan </td></tr>\n",
       "\t<tr><td>7</td><td>Janny  </td><td>Love   </td></tr>\n",
       "\t<tr><td>8</td><td>Abraham</td><td>KP     </td></tr>\n",
       "</tbody>\n",
       "</table>\n"
      ],
      "text/latex": [
       "A data.frame: 8 × 3\n",
       "\\begin{tabular}{lll}\n",
       " EmployeeID & FName & LName\\\\\n",
       " <int> & <chr> & <chr>\\\\\n",
       "\\hline\n",
       "\t 1 & Tom     & Hanks  \\\\\n",
       "\t 2 & Herry   & Potter \\\\\n",
       "\t 3 & Michael & Jackson\\\\\n",
       "\t 4 & Annie   & Joey   \\\\\n",
       "\t 5 & Martin  & Li     \\\\\n",
       "\t 6 & Maria   & Jordan \\\\\n",
       "\t 7 & Janny   & Love   \\\\\n",
       "\t 8 & Abraham & KP     \\\\\n",
       "\\end{tabular}\n"
      ],
      "text/markdown": [
       "\n",
       "A data.frame: 8 × 3\n",
       "\n",
       "| EmployeeID &lt;int&gt; | FName &lt;chr&gt; | LName &lt;chr&gt; |\n",
       "|---|---|---|\n",
       "| 1 | Tom     | Hanks   |\n",
       "| 2 | Herry   | Potter  |\n",
       "| 3 | Michael | Jackson |\n",
       "| 4 | Annie   | Joey    |\n",
       "| 5 | Martin  | Li      |\n",
       "| 6 | Maria   | Jordan  |\n",
       "| 7 | Janny   | Love    |\n",
       "| 8 | Abraham | KP      |\n",
       "\n"
      ],
      "text/plain": [
       "  EmployeeID FName   LName  \n",
       "1 1          Tom     Hanks  \n",
       "2 2          Herry   Potter \n",
       "3 3          Michael Jackson\n",
       "4 4          Annie   Joey   \n",
       "5 5          Martin  Li     \n",
       "6 6          Maria   Jordan \n",
       "7 7          Janny   Love   \n",
       "8 8          Abraham KP     "
      ]
     },
     "metadata": {},
     "output_type": "display_data"
    }
   ],
   "source": [
    "# Criar o dataframe emp1\n",
    "\n",
    "emp1 <- data.frame(\n",
    "    EmployeeID = c(1:8),\n",
    "    FName = c(\"Tom\", \"Herry\", \"Michael\", \"Annie\", \"Martin\", \"Maria\", \"Janny\", \"Abraham\"),\n",
    "    LName = c(\"Hanks\", \"Potter\", \"Jackson\", \"Joey\", \"Li\", \"Jordan\", \"Love\", \"KP\")\n",
    ")\n",
    "\n",
    "emp1\n"
   ]
  },
  {
   "cell_type": "code",
   "execution_count": 128,
   "metadata": {
    "ExecuteTime": {
     "end_time": "2020-11-10T15:18:34.487488Z",
     "start_time": "2020-11-10T15:18:34.455Z"
    },
    "vscode": {
     "languageId": "r"
    }
   },
   "outputs": [
    {
     "data": {
      "text/html": [
       "<table class=\"dataframe\">\n",
       "<caption>A data.frame: 8 × 3</caption>\n",
       "<thead>\n",
       "\t<tr><th scope=col>EmployeeID</th><th scope=col>BYear</th><th scope=col>BPlace</th></tr>\n",
       "\t<tr><th scope=col>&lt;int&gt;</th><th scope=col>&lt;dbl&gt;</th><th scope=col>&lt;chr&gt;</th></tr>\n",
       "</thead>\n",
       "<tbody>\n",
       "\t<tr><td> 5</td><td>1975</td><td>London   </td></tr>\n",
       "\t<tr><td> 6</td><td>1980</td><td>Helsinki </td></tr>\n",
       "\t<tr><td> 7</td><td>1984</td><td>New York </td></tr>\n",
       "\t<tr><td> 8</td><td>1967</td><td>Paris    </td></tr>\n",
       "\t<tr><td> 9</td><td>1971</td><td>Tokyo    </td></tr>\n",
       "\t<tr><td>10</td><td>1982</td><td>Amsterdam</td></tr>\n",
       "\t<tr><td>11</td><td>1988</td><td>Manila   </td></tr>\n",
       "\t<tr><td>12</td><td>1986</td><td>New Delhi</td></tr>\n",
       "</tbody>\n",
       "</table>\n"
      ],
      "text/latex": [
       "A data.frame: 8 × 3\n",
       "\\begin{tabular}{lll}\n",
       " EmployeeID & BYear & BPlace\\\\\n",
       " <int> & <dbl> & <chr>\\\\\n",
       "\\hline\n",
       "\t  5 & 1975 & London   \\\\\n",
       "\t  6 & 1980 & Helsinki \\\\\n",
       "\t  7 & 1984 & New York \\\\\n",
       "\t  8 & 1967 & Paris    \\\\\n",
       "\t  9 & 1971 & Tokyo    \\\\\n",
       "\t 10 & 1982 & Amsterdam\\\\\n",
       "\t 11 & 1988 & Manila   \\\\\n",
       "\t 12 & 1986 & New Delhi\\\\\n",
       "\\end{tabular}\n"
      ],
      "text/markdown": [
       "\n",
       "A data.frame: 8 × 3\n",
       "\n",
       "| EmployeeID &lt;int&gt; | BYear &lt;dbl&gt; | BPlace &lt;chr&gt; |\n",
       "|---|---|---|\n",
       "|  5 | 1975 | London    |\n",
       "|  6 | 1980 | Helsinki  |\n",
       "|  7 | 1984 | New York  |\n",
       "|  8 | 1967 | Paris     |\n",
       "|  9 | 1971 | Tokyo     |\n",
       "| 10 | 1982 | Amsterdam |\n",
       "| 11 | 1988 | Manila    |\n",
       "| 12 | 1986 | New Delhi |\n",
       "\n"
      ],
      "text/plain": [
       "  EmployeeID BYear BPlace   \n",
       "1  5         1975  London   \n",
       "2  6         1980  Helsinki \n",
       "3  7         1984  New York \n",
       "4  8         1967  Paris    \n",
       "5  9         1971  Tokyo    \n",
       "6 10         1982  Amsterdam\n",
       "7 11         1988  Manila   \n",
       "8 12         1986  New Delhi"
      ]
     },
     "metadata": {},
     "output_type": "display_data"
    }
   ],
   "source": [
    "# Criar o dataframe emp2\n",
    "\n",
    "emp2 <- data.frame(\n",
    "    EmployeeID = c(5:12),\n",
    "    BYear = c(1975, 1980, 1984, 1967, 1971, 1982, 1988, 1986),\n",
    "    BPlace = c(\"London\", \"Helsinki\", \"New York\", \"Paris\", \"Tokyo\", \"Amsterdam\", \"Manila\", \"New Delhi\")\n",
    ")\n",
    "emp2\n"
   ]
  },
  {
   "cell_type": "code",
   "execution_count": 129,
   "metadata": {
    "ExecuteTime": {
     "end_time": "2020-11-10T15:19:16.853839Z",
     "start_time": "2020-11-10T15:19:16.822Z"
    },
    "vscode": {
     "languageId": "r"
    }
   },
   "outputs": [
    {
     "data": {
      "text/html": [
       "<table class=\"dataframe\">\n",
       "<caption>A data.frame: 4 × 5</caption>\n",
       "<thead>\n",
       "\t<tr><th scope=col>EmployeeID</th><th scope=col>FName</th><th scope=col>LName</th><th scope=col>BYear</th><th scope=col>BPlace</th></tr>\n",
       "\t<tr><th scope=col>&lt;int&gt;</th><th scope=col>&lt;chr&gt;</th><th scope=col>&lt;chr&gt;</th><th scope=col>&lt;dbl&gt;</th><th scope=col>&lt;chr&gt;</th></tr>\n",
       "</thead>\n",
       "<tbody>\n",
       "\t<tr><td>5</td><td>Martin </td><td>Li    </td><td>1975</td><td>London  </td></tr>\n",
       "\t<tr><td>6</td><td>Maria  </td><td>Jordan</td><td>1980</td><td>Helsinki</td></tr>\n",
       "\t<tr><td>7</td><td>Janny  </td><td>Love  </td><td>1984</td><td>New York</td></tr>\n",
       "\t<tr><td>8</td><td>Abraham</td><td>KP    </td><td>1967</td><td>Paris   </td></tr>\n",
       "</tbody>\n",
       "</table>\n"
      ],
      "text/latex": [
       "A data.frame: 4 × 5\n",
       "\\begin{tabular}{lllll}\n",
       " EmployeeID & FName & LName & BYear & BPlace\\\\\n",
       " <int> & <chr> & <chr> & <dbl> & <chr>\\\\\n",
       "\\hline\n",
       "\t 5 & Martin  & Li     & 1975 & London  \\\\\n",
       "\t 6 & Maria   & Jordan & 1980 & Helsinki\\\\\n",
       "\t 7 & Janny   & Love   & 1984 & New York\\\\\n",
       "\t 8 & Abraham & KP     & 1967 & Paris   \\\\\n",
       "\\end{tabular}\n"
      ],
      "text/markdown": [
       "\n",
       "A data.frame: 4 × 5\n",
       "\n",
       "| EmployeeID &lt;int&gt; | FName &lt;chr&gt; | LName &lt;chr&gt; | BYear &lt;dbl&gt; | BPlace &lt;chr&gt; |\n",
       "|---|---|---|---|---|\n",
       "| 5 | Martin  | Li     | 1975 | London   |\n",
       "| 6 | Maria   | Jordan | 1980 | Helsinki |\n",
       "| 7 | Janny   | Love   | 1984 | New York |\n",
       "| 8 | Abraham | KP     | 1967 | Paris    |\n",
       "\n"
      ],
      "text/plain": [
       "  EmployeeID FName   LName  BYear BPlace  \n",
       "1 5          Martin  Li     1975  London  \n",
       "2 6          Maria   Jordan 1980  Helsinki\n",
       "3 7          Janny   Love   1984  New York\n",
       "4 8          Abraham KP     1967  Paris   "
      ]
     },
     "metadata": {},
     "output_type": "display_data"
    }
   ],
   "source": [
    "# merge os dataframes em função de EmployeeID\n",
    "\n",
    "EmpData <- merge(emp1, emp2, by = \"EmployeeID\")\n",
    "EmpData\n"
   ]
  },
  {
   "cell_type": "markdown",
   "metadata": {},
   "source": [
    " ####################################### EXERCICIOS #######################################\n",
    " \n",
    " **Exercício 1**: Acrescenta uma nova linha e uma nova coluna a tabela de dados patientdata, mantendo o mesmo nome.\n",
    " \n"
   ]
  },
  {
   "cell_type": "code",
   "execution_count": 130,
   "metadata": {
    "vscode": {
     "languageId": "r"
    }
   },
   "outputs": [
    {
     "data": {
      "text/html": [
       "<table class=\"dataframe\">\n",
       "<caption>A data.frame: 6 × 5</caption>\n",
       "<thead>\n",
       "\t<tr><th scope=col>patientID</th><th scope=col>age</th><th scope=col>diabetes</th><th scope=col>status</th><th scope=col>City</th></tr>\n",
       "\t<tr><th scope=col>&lt;dbl&gt;</th><th scope=col>&lt;dbl&gt;</th><th scope=col>&lt;chr&gt;</th><th scope=col>&lt;chr&gt;</th><th scope=col>&lt;chr&gt;</th></tr>\n",
       "</thead>\n",
       "<tbody>\n",
       "\t<tr><td>1</td><td>25</td><td>Type1</td><td>Poor     </td><td>Lisbon </td></tr>\n",
       "\t<tr><td>2</td><td>34</td><td>Type2</td><td>Improved </td><td>Almada </td></tr>\n",
       "\t<tr><td>3</td><td>28</td><td>Type1</td><td>Excellent</td><td>Braga  </td></tr>\n",
       "\t<tr><td>4</td><td>52</td><td>Type1</td><td>Poor     </td><td>Porto  </td></tr>\n",
       "\t<tr><td>5</td><td>62</td><td>Type1</td><td>Improved </td><td>Braga  </td></tr>\n",
       "\t<tr><td>6</td><td>45</td><td>Type2</td><td>Excellent</td><td>Coimbra</td></tr>\n",
       "</tbody>\n",
       "</table>\n"
      ],
      "text/latex": [
       "A data.frame: 6 × 5\n",
       "\\begin{tabular}{lllll}\n",
       " patientID & age & diabetes & status & City\\\\\n",
       " <dbl> & <dbl> & <chr> & <chr> & <chr>\\\\\n",
       "\\hline\n",
       "\t 1 & 25 & Type1 & Poor      & Lisbon \\\\\n",
       "\t 2 & 34 & Type2 & Improved  & Almada \\\\\n",
       "\t 3 & 28 & Type1 & Excellent & Braga  \\\\\n",
       "\t 4 & 52 & Type1 & Poor      & Porto  \\\\\n",
       "\t 5 & 62 & Type1 & Improved  & Braga  \\\\\n",
       "\t 6 & 45 & Type2 & Excellent & Coimbra\\\\\n",
       "\\end{tabular}\n"
      ],
      "text/markdown": [
       "\n",
       "A data.frame: 6 × 5\n",
       "\n",
       "| patientID &lt;dbl&gt; | age &lt;dbl&gt; | diabetes &lt;chr&gt; | status &lt;chr&gt; | City &lt;chr&gt; |\n",
       "|---|---|---|---|---|\n",
       "| 1 | 25 | Type1 | Poor      | Lisbon  |\n",
       "| 2 | 34 | Type2 | Improved  | Almada  |\n",
       "| 3 | 28 | Type1 | Excellent | Braga   |\n",
       "| 4 | 52 | Type1 | Poor      | Porto   |\n",
       "| 5 | 62 | Type1 | Improved  | Braga   |\n",
       "| 6 | 45 | Type2 | Excellent | Coimbra |\n",
       "\n"
      ],
      "text/plain": [
       "  patientID age diabetes status    City   \n",
       "1 1         25  Type1    Poor      Lisbon \n",
       "2 2         34  Type2    Improved  Almada \n",
       "3 3         28  Type1    Excellent Braga  \n",
       "4 4         52  Type1    Poor      Porto  \n",
       "5 5         62  Type1    Improved  Braga  \n",
       "6 6         45  Type2    Excellent Coimbra"
      ]
     },
     "metadata": {},
     "output_type": "display_data"
    }
   ],
   "source": [
    "# Adicionar uma nova linha\n",
    "patientdata <- rbind(patientdata, list(6, 45, \"Type2\", \"Excellent\"))\n",
    "\n",
    "# Adicionar uma nova coluna\n",
    "patientdata <- cbind(patientdata, \"City\" = c(\"Lisbon\", \"Almada\", \"Braga\", \"Porto\", \"Braga\", \"Coimbra\"))\n",
    "\n",
    "patientdata"
   ]
  },
  {
   "cell_type": "markdown",
   "metadata": {},
   "source": [
    " **Exercício 2**: Define uma nova data frame com os nomes, idade, profissão e cidade de domicílio da sua família (fictícia).\n"
   ]
  },
  {
   "cell_type": "code",
   "execution_count": 131,
   "metadata": {
    "vscode": {
     "languageId": "r"
    }
   },
   "outputs": [
    {
     "data": {
      "text/html": [
       "<table class=\"dataframe\">\n",
       "<caption>A data.frame: 4 × 4</caption>\n",
       "<thead>\n",
       "\t<tr><th scope=col>Nome</th><th scope=col>Idade</th><th scope=col>Profissao</th><th scope=col>Cidade</th></tr>\n",
       "\t<tr><th scope=col>&lt;chr&gt;</th><th scope=col>&lt;dbl&gt;</th><th scope=col>&lt;chr&gt;</th><th scope=col>&lt;chr&gt;</th></tr>\n",
       "</thead>\n",
       "<tbody>\n",
       "\t<tr><td>Ana    </td><td>40</td><td>Engenheira</td><td>Lisboa </td></tr>\n",
       "\t<tr><td>Bruno  </td><td>42</td><td>Médico    </td><td>Porto  </td></tr>\n",
       "\t<tr><td>Carla  </td><td>18</td><td>Estudante </td><td>Coimbra</td></tr>\n",
       "\t<tr><td>Daniela</td><td>15</td><td>Estudante </td><td>Braga  </td></tr>\n",
       "</tbody>\n",
       "</table>\n"
      ],
      "text/latex": [
       "A data.frame: 4 × 4\n",
       "\\begin{tabular}{llll}\n",
       " Nome & Idade & Profissao & Cidade\\\\\n",
       " <chr> & <dbl> & <chr> & <chr>\\\\\n",
       "\\hline\n",
       "\t Ana     & 40 & Engenheira & Lisboa \\\\\n",
       "\t Bruno   & 42 & Médico     & Porto  \\\\\n",
       "\t Carla   & 18 & Estudante  & Coimbra\\\\\n",
       "\t Daniela & 15 & Estudante  & Braga  \\\\\n",
       "\\end{tabular}\n"
      ],
      "text/markdown": [
       "\n",
       "A data.frame: 4 × 4\n",
       "\n",
       "| Nome &lt;chr&gt; | Idade &lt;dbl&gt; | Profissao &lt;chr&gt; | Cidade &lt;chr&gt; |\n",
       "|---|---|---|---|\n",
       "| Ana     | 40 | Engenheira | Lisboa  |\n",
       "| Bruno   | 42 | Médico     | Porto   |\n",
       "| Carla   | 18 | Estudante  | Coimbra |\n",
       "| Daniela | 15 | Estudante  | Braga   |\n",
       "\n"
      ],
      "text/plain": [
       "  Nome    Idade Profissao  Cidade \n",
       "1 Ana     40    Engenheira Lisboa \n",
       "2 Bruno   42    Médico     Porto  \n",
       "3 Carla   18    Estudante  Coimbra\n",
       "4 Daniela 15    Estudante  Braga  "
      ]
     },
     "metadata": {},
     "output_type": "display_data"
    }
   ],
   "source": [
    "family <- data.frame(\n",
    "    Nome = c(\"Ana\", \"Bruno\", \"Carla\", \"Daniela\"),\n",
    "    Idade = c(40, 42, 18, 15),\n",
    "    Profissao = c(\"Engenheira\", \"Médico\", \"Estudante\", \"Estudante\"),\n",
    "    Cidade = c(\"Lisboa\", \"Porto\", \"Coimbra\", \"Braga\")\n",
    ")\n",
    "\n",
    "family"
   ]
  },
  {
   "cell_type": "markdown",
   "metadata": {},
   "source": [
    "####################### FIM DE EXERCÍCIOS ################################"
   ]
  },
  {
   "cell_type": "markdown",
   "metadata": {},
   "source": [
    "## Importar bases de dados (csv, txt)"
   ]
  },
  {
   "cell_type": "code",
   "execution_count": 87,
   "metadata": {
    "ExecuteTime": {
     "end_time": "2020-11-10T15:24:06.667406Z",
     "start_time": "2020-11-10T15:24:06.629Z"
    },
    "vscode": {
     "languageId": "r"
    }
   },
   "outputs": [
    {
     "data": {
      "text/html": [
       "<table class=\"dataframe\">\n",
       "<caption>A data.frame: 10 × 3</caption>\n",
       "<thead>\n",
       "\t<tr><th scope=col>V1</th><th scope=col>V2</th><th scope=col>V3</th></tr>\n",
       "\t<tr><th scope=col>&lt;int&gt;</th><th scope=col>&lt;int&gt;</th><th scope=col>&lt;chr&gt;</th></tr>\n",
       "</thead>\n",
       "<tbody>\n",
       "\t<tr><td> 1</td><td>11</td><td>a</td></tr>\n",
       "\t<tr><td> 2</td><td>12</td><td>b</td></tr>\n",
       "\t<tr><td> 3</td><td>13</td><td>c</td></tr>\n",
       "\t<tr><td> 4</td><td>14</td><td>d</td></tr>\n",
       "\t<tr><td> 5</td><td>15</td><td>e</td></tr>\n",
       "\t<tr><td> 6</td><td>16</td><td>f</td></tr>\n",
       "\t<tr><td> 7</td><td>17</td><td>g</td></tr>\n",
       "\t<tr><td> 8</td><td>18</td><td>h</td></tr>\n",
       "\t<tr><td> 9</td><td>19</td><td>i</td></tr>\n",
       "\t<tr><td>10</td><td>20</td><td>j</td></tr>\n",
       "</tbody>\n",
       "</table>\n"
      ],
      "text/latex": [
       "A data.frame: 10 × 3\n",
       "\\begin{tabular}{lll}\n",
       " V1 & V2 & V3\\\\\n",
       " <int> & <int> & <chr>\\\\\n",
       "\\hline\n",
       "\t  1 & 11 & a\\\\\n",
       "\t  2 & 12 & b\\\\\n",
       "\t  3 & 13 & c\\\\\n",
       "\t  4 & 14 & d\\\\\n",
       "\t  5 & 15 & e\\\\\n",
       "\t  6 & 16 & f\\\\\n",
       "\t  7 & 17 & g\\\\\n",
       "\t  8 & 18 & h\\\\\n",
       "\t  9 & 19 & i\\\\\n",
       "\t 10 & 20 & j\\\\\n",
       "\\end{tabular}\n"
      ],
      "text/markdown": [
       "\n",
       "A data.frame: 10 × 3\n",
       "\n",
       "| V1 &lt;int&gt; | V2 &lt;int&gt; | V3 &lt;chr&gt; |\n",
       "|---|---|---|\n",
       "|  1 | 11 | a |\n",
       "|  2 | 12 | b |\n",
       "|  3 | 13 | c |\n",
       "|  4 | 14 | d |\n",
       "|  5 | 15 | e |\n",
       "|  6 | 16 | f |\n",
       "|  7 | 17 | g |\n",
       "|  8 | 18 | h |\n",
       "|  9 | 19 | i |\n",
       "| 10 | 20 | j |\n",
       "\n"
      ],
      "text/plain": [
       "   V1 V2 V3\n",
       "1   1 11 a \n",
       "2   2 12 b \n",
       "3   3 13 c \n",
       "4   4 14 d \n",
       "5   5 15 e \n",
       "6   6 16 f \n",
       "7   7 17 g \n",
       "8   8 18 h \n",
       "9   9 19 i \n",
       "10 10 20 j "
      ]
     },
     "metadata": {},
     "output_type": "display_data"
    }
   ],
   "source": [
    "# ler dados de ficheiros TXT\n",
    "data_without_colnames <- read.table(\"without_header.txt\", header = FALSE)\n",
    "\n",
    "data_without_colnames\n"
   ]
  },
  {
   "cell_type": "code",
   "execution_count": 88,
   "metadata": {
    "ExecuteTime": {
     "end_time": "2020-11-10T15:27:23.218914Z",
     "start_time": "2020-11-10T15:27:23.174Z"
    },
    "vscode": {
     "languageId": "r"
    }
   },
   "outputs": [
    {
     "data": {
      "text/html": [
       "<table class=\"dataframe\">\n",
       "<caption>A data.frame: 6 × 4</caption>\n",
       "<thead>\n",
       "\t<tr><th></th><th scope=col>State</th><th scope=col>Population</th><th scope=col>Murder.Rate</th><th scope=col>Abbreviation</th></tr>\n",
       "\t<tr><th></th><th scope=col>&lt;chr&gt;</th><th scope=col>&lt;int&gt;</th><th scope=col>&lt;dbl&gt;</th><th scope=col>&lt;chr&gt;</th></tr>\n",
       "</thead>\n",
       "<tbody>\n",
       "\t<tr><th scope=row>1</th><td>Alabama   </td><td> 4779736</td><td>5.7</td><td>AL</td></tr>\n",
       "\t<tr><th scope=row>2</th><td>Alaska    </td><td>  710231</td><td>5.6</td><td>AK</td></tr>\n",
       "\t<tr><th scope=row>3</th><td>Arizona   </td><td> 6392017</td><td>4.7</td><td>AZ</td></tr>\n",
       "\t<tr><th scope=row>4</th><td>Arkansas  </td><td> 2915918</td><td>5.6</td><td>AR</td></tr>\n",
       "\t<tr><th scope=row>5</th><td>California</td><td>37253956</td><td>4.4</td><td>CA</td></tr>\n",
       "\t<tr><th scope=row>6</th><td>Colorado  </td><td> 5029196</td><td>2.8</td><td>CO</td></tr>\n",
       "</tbody>\n",
       "</table>\n"
      ],
      "text/latex": [
       "A data.frame: 6 × 4\n",
       "\\begin{tabular}{r|llll}\n",
       "  & State & Population & Murder.Rate & Abbreviation\\\\\n",
       "  & <chr> & <int> & <dbl> & <chr>\\\\\n",
       "\\hline\n",
       "\t1 & Alabama    &  4779736 & 5.7 & AL\\\\\n",
       "\t2 & Alaska     &   710231 & 5.6 & AK\\\\\n",
       "\t3 & Arizona    &  6392017 & 4.7 & AZ\\\\\n",
       "\t4 & Arkansas   &  2915918 & 5.6 & AR\\\\\n",
       "\t5 & California & 37253956 & 4.4 & CA\\\\\n",
       "\t6 & Colorado   &  5029196 & 2.8 & CO\\\\\n",
       "\\end{tabular}\n"
      ],
      "text/markdown": [
       "\n",
       "A data.frame: 6 × 4\n",
       "\n",
       "| <!--/--> | State &lt;chr&gt; | Population &lt;int&gt; | Murder.Rate &lt;dbl&gt; | Abbreviation &lt;chr&gt; |\n",
       "|---|---|---|---|---|\n",
       "| 1 | Alabama    |  4779736 | 5.7 | AL |\n",
       "| 2 | Alaska     |   710231 | 5.6 | AK |\n",
       "| 3 | Arizona    |  6392017 | 4.7 | AZ |\n",
       "| 4 | Arkansas   |  2915918 | 5.6 | AR |\n",
       "| 5 | California | 37253956 | 4.4 | CA |\n",
       "| 6 | Colorado   |  5029196 | 2.8 | CO |\n",
       "\n"
      ],
      "text/plain": [
       "  State      Population Murder.Rate Abbreviation\n",
       "1 Alabama     4779736   5.7         AL          \n",
       "2 Alaska       710231   5.6         AK          \n",
       "3 Arizona     6392017   4.7         AZ          \n",
       "4 Arkansas    2915918   5.6         AR          \n",
       "5 California 37253956   4.4         CA          \n",
       "6 Colorado    5029196   2.8         CO          "
      ]
     },
     "metadata": {},
     "output_type": "display_data"
    }
   ],
   "source": [
    "# ler ficheiros CSV (dados separados por virgula)\n",
    "\n",
    "state <- read.csv(\"state.csv\")\n",
    "\n",
    "# visualizar as primeiras linhas da data frame\n",
    "head(state)\n"
   ]
  },
  {
   "cell_type": "code",
   "execution_count": 89,
   "metadata": {
    "ExecuteTime": {
     "end_time": "2020-11-10T15:28:47.164741Z",
     "start_time": "2020-11-10T15:28:47.120Z"
    },
    "vscode": {
     "languageId": "r"
    }
   },
   "outputs": [
    {
     "data": {
      "text/plain": [
       "    State             Population        Murder.Rate     Abbreviation      \n",
       " Length:50          Min.   :  563626   Min.   : 0.900   Length:50         \n",
       " Class :character   1st Qu.: 1833004   1st Qu.: 2.425   Class :character  \n",
       " Mode  :character   Median : 4436370   Median : 4.000   Mode  :character  \n",
       "                    Mean   : 6162876   Mean   : 4.066                     \n",
       "                    3rd Qu.: 6680312   3rd Qu.: 5.550                     \n",
       "                    Max.   :37253956   Max.   :10.300                     "
      ]
     },
     "metadata": {},
     "output_type": "display_data"
    }
   ],
   "source": [
    "# estatística descritiva básica das variáveis numéricas\n",
    "\n",
    "summary(state)\n"
   ]
  },
  {
   "cell_type": "code",
   "execution_count": 90,
   "metadata": {
    "ExecuteTime": {
     "end_time": "2020-11-10T15:31:29.352952Z",
     "start_time": "2020-11-10T15:31:29.326Z"
    },
    "vscode": {
     "languageId": "r"
    }
   },
   "outputs": [
    {
     "data": {
      "text/html": [
       "6162876.3"
      ],
      "text/latex": [
       "6162876.3"
      ],
      "text/markdown": [
       "6162876.3"
      ],
      "text/plain": [
       "[1] 6162876"
      ]
     },
     "metadata": {},
     "output_type": "display_data"
    }
   ],
   "source": [
    "# média da variável Population\n",
    "\n",
    "mean(state[[\"Population\"]])\n"
   ]
  },
  {
   "cell_type": "code",
   "execution_count": 91,
   "metadata": {
    "ExecuteTime": {
     "end_time": "2020-11-10T15:31:52.646223Z",
     "start_time": "2020-11-10T15:31:52.621Z"
    },
    "run_control": {
     "marked": true
    },
    "vscode": {
     "languageId": "r"
    }
   },
   "outputs": [
    {
     "data": {
      "text/html": [
       "4436369.5"
      ],
      "text/latex": [
       "4436369.5"
      ],
      "text/markdown": [
       "4436369.5"
      ],
      "text/plain": [
       "[1] 4436370"
      ]
     },
     "metadata": {},
     "output_type": "display_data"
    }
   ],
   "source": [
    "# mediana da variável Population\n",
    "\n",
    "median(state[[\"Population\"]])\n"
   ]
  },
  {
   "cell_type": "code",
   "execution_count": 92,
   "metadata": {
    "ExecuteTime": {
     "end_time": "2020-11-10T15:32:08.762483Z",
     "start_time": "2020-11-10T15:32:08.726Z"
    },
    "vscode": {
     "languageId": "r"
    }
   },
   "outputs": [
    {
     "data": {
      "text/html": [
       "6848235.34740114"
      ],
      "text/latex": [
       "6848235.34740114"
      ],
      "text/markdown": [
       "6848235.34740114"
      ],
      "text/plain": [
       "[1] 6848235"
      ]
     },
     "metadata": {},
     "output_type": "display_data"
    }
   ],
   "source": [
    "# desvio padrão\n",
    "\n",
    "sd(state[[\"Population\"]])\n"
   ]
  },
  {
   "cell_type": "code",
   "execution_count": 93,
   "metadata": {
    "ExecuteTime": {
     "end_time": "2020-11-10T15:32:32.327630Z",
     "start_time": "2020-11-10T15:32:32.302Z"
    },
    "vscode": {
     "languageId": "r"
    }
   },
   "outputs": [
    {
     "data": {
      "text/html": [
       "4847308"
      ],
      "text/latex": [
       "4847308"
      ],
      "text/markdown": [
       "4847308"
      ],
      "text/plain": [
       "[1] 4847308"
      ]
     },
     "metadata": {},
     "output_type": "display_data"
    }
   ],
   "source": [
    "# intervalo IQR\n",
    "\n",
    "IQR(state[[\"Population\"]])\n"
   ]
  },
  {
   "cell_type": "code",
   "execution_count": 94,
   "metadata": {
    "ExecuteTime": {
     "end_time": "2020-11-10T15:33:41.163663Z",
     "start_time": "2020-11-10T15:33:41.135Z"
    },
    "vscode": {
     "languageId": "r"
    }
   },
   "outputs": [
    {
     "data": {
      "text/html": [
       "<style>\n",
       ".dl-inline {width: auto; margin:0; padding: 0}\n",
       ".dl-inline>dt, .dl-inline>dd {float: none; width: auto; display: inline-block}\n",
       ".dl-inline>dt::after {content: \":\\0020\"; padding-right: .5ex}\n",
       ".dl-inline>dt:not(:first-of-type) {padding-left: .5ex}\n",
       "</style><dl class=dl-inline><dt>5%</dt><dd>1.6</dd><dt>25%</dt><dd>2.425</dd><dt>50%</dt><dd>4</dd><dt>75%</dt><dd>5.55</dd><dt>95%</dt><dd>6.51</dd></dl>\n"
      ],
      "text/latex": [
       "\\begin{description*}\n",
       "\\item[5\\textbackslash{}\\%] 1.6\n",
       "\\item[25\\textbackslash{}\\%] 2.425\n",
       "\\item[50\\textbackslash{}\\%] 4\n",
       "\\item[75\\textbackslash{}\\%] 5.55\n",
       "\\item[95\\textbackslash{}\\%] 6.51\n",
       "\\end{description*}\n"
      ],
      "text/markdown": [
       "5%\n",
       ":   1.625%\n",
       ":   2.42550%\n",
       ":   475%\n",
       ":   5.5595%\n",
       ":   6.51\n",
       "\n"
      ],
      "text/plain": [
       "   5%   25%   50%   75%   95% \n",
       "1.600 2.425 4.000 5.550 6.510 "
      ]
     },
     "metadata": {},
     "output_type": "display_data"
    }
   ],
   "source": [
    "# diferentes quantis da variável Murder.Rate\n",
    "\n",
    "quantile(state[[\"Murder.Rate\"]], p = c(.05, .25, .5, .75, .95))\n"
   ]
  },
  {
   "cell_type": "code",
   "execution_count": 95,
   "metadata": {
    "ExecuteTime": {
     "end_time": "2020-11-10T15:35:58.355548Z",
     "start_time": "2020-11-10T15:35:58.319Z"
    },
    "vscode": {
     "languageId": "r"
    }
   },
   "outputs": [
    {
     "data": {
      "text/html": [
       "<table class=\"dataframe\">\n",
       "<caption>A data.frame: 6 × 2</caption>\n",
       "<thead>\n",
       "\t<tr><th></th><th scope=col>State</th><th scope=col>Population</th></tr>\n",
       "\t<tr><th></th><th scope=col>&lt;chr&gt;</th><th scope=col>&lt;int&gt;</th></tr>\n",
       "</thead>\n",
       "<tbody>\n",
       "\t<tr><th scope=row>1</th><td>Alabama   </td><td> 4779736</td></tr>\n",
       "\t<tr><th scope=row>2</th><td>Alaska    </td><td>  710231</td></tr>\n",
       "\t<tr><th scope=row>3</th><td>Arizona   </td><td> 6392017</td></tr>\n",
       "\t<tr><th scope=row>4</th><td>Arkansas  </td><td> 2915918</td></tr>\n",
       "\t<tr><th scope=row>5</th><td>California</td><td>37253956</td></tr>\n",
       "\t<tr><th scope=row>6</th><td>Colorado  </td><td> 5029196</td></tr>\n",
       "</tbody>\n",
       "</table>\n"
      ],
      "text/latex": [
       "A data.frame: 6 × 2\n",
       "\\begin{tabular}{r|ll}\n",
       "  & State & Population\\\\\n",
       "  & <chr> & <int>\\\\\n",
       "\\hline\n",
       "\t1 & Alabama    &  4779736\\\\\n",
       "\t2 & Alaska     &   710231\\\\\n",
       "\t3 & Arizona    &  6392017\\\\\n",
       "\t4 & Arkansas   &  2915918\\\\\n",
       "\t5 & California & 37253956\\\\\n",
       "\t6 & Colorado   &  5029196\\\\\n",
       "\\end{tabular}\n"
      ],
      "text/markdown": [
       "\n",
       "A data.frame: 6 × 2\n",
       "\n",
       "| <!--/--> | State &lt;chr&gt; | Population &lt;int&gt; |\n",
       "|---|---|---|\n",
       "| 1 | Alabama    |  4779736 |\n",
       "| 2 | Alaska     |   710231 |\n",
       "| 3 | Arizona    |  6392017 |\n",
       "| 4 | Arkansas   |  2915918 |\n",
       "| 5 | California | 37253956 |\n",
       "| 6 | Colorado   |  5029196 |\n",
       "\n"
      ],
      "text/plain": [
       "  State      Population\n",
       "1 Alabama     4779736  \n",
       "2 Alaska       710231  \n",
       "3 Arizona     6392017  \n",
       "4 Arkansas    2915918  \n",
       "5 California 37253956  \n",
       "6 Colorado    5029196  "
      ]
     },
     "metadata": {},
     "output_type": "display_data"
    }
   ],
   "source": [
    "# primeiras duas colunas da tabela de dados state\n",
    "\n",
    "c12 <- state[, 1:2]\n",
    "head(c12)\n"
   ]
  },
  {
   "cell_type": "code",
   "execution_count": 96,
   "metadata": {
    "ExecuteTime": {
     "end_time": "2020-11-10T15:38:38.220436Z",
     "start_time": "2020-11-10T15:38:38.190Z"
    },
    "vscode": {
     "languageId": "r"
    }
   },
   "outputs": [
    {
     "data": {
      "text/html": [
       "<table class=\"dataframe\">\n",
       "<caption>A data.frame: 3 × 4</caption>\n",
       "<thead>\n",
       "\t<tr><th></th><th scope=col>State</th><th scope=col>Population</th><th scope=col>Murder.Rate</th><th scope=col>Abbreviation</th></tr>\n",
       "\t<tr><th></th><th scope=col>&lt;chr&gt;</th><th scope=col>&lt;int&gt;</th><th scope=col>&lt;dbl&gt;</th><th scope=col>&lt;chr&gt;</th></tr>\n",
       "</thead>\n",
       "<tbody>\n",
       "\t<tr><th scope=row>1</th><td>Alabama</td><td>4779736</td><td>5.7</td><td>AL</td></tr>\n",
       "\t<tr><th scope=row>2</th><td>Alaska </td><td> 710231</td><td>5.6</td><td>AK</td></tr>\n",
       "\t<tr><th scope=row>3</th><td>Arizona</td><td>6392017</td><td>4.7</td><td>AZ</td></tr>\n",
       "</tbody>\n",
       "</table>\n"
      ],
      "text/latex": [
       "A data.frame: 3 × 4\n",
       "\\begin{tabular}{r|llll}\n",
       "  & State & Population & Murder.Rate & Abbreviation\\\\\n",
       "  & <chr> & <int> & <dbl> & <chr>\\\\\n",
       "\\hline\n",
       "\t1 & Alabama & 4779736 & 5.7 & AL\\\\\n",
       "\t2 & Alaska  &  710231 & 5.6 & AK\\\\\n",
       "\t3 & Arizona & 6392017 & 4.7 & AZ\\\\\n",
       "\\end{tabular}\n"
      ],
      "text/markdown": [
       "\n",
       "A data.frame: 3 × 4\n",
       "\n",
       "| <!--/--> | State &lt;chr&gt; | Population &lt;int&gt; | Murder.Rate &lt;dbl&gt; | Abbreviation &lt;chr&gt; |\n",
       "|---|---|---|---|---|\n",
       "| 1 | Alabama | 4779736 | 5.7 | AL |\n",
       "| 2 | Alaska  |  710231 | 5.6 | AK |\n",
       "| 3 | Arizona | 6392017 | 4.7 | AZ |\n",
       "\n"
      ],
      "text/plain": [
       "  State   Population Murder.Rate Abbreviation\n",
       "1 Alabama 4779736    5.7         AL          \n",
       "2 Alaska   710231    5.6         AK          \n",
       "3 Arizona 6392017    4.7         AZ          "
      ]
     },
     "metadata": {},
     "output_type": "display_data"
    }
   ],
   "source": [
    "# primeiras 6 linhas da tabela de dados state\n",
    "state[1:3, ]\n"
   ]
  },
  {
   "cell_type": "code",
   "execution_count": 97,
   "metadata": {
    "ExecuteTime": {
     "end_time": "2020-11-10T15:39:12.546526Z",
     "start_time": "2020-11-10T15:39:12.517Z"
    },
    "vscode": {
     "languageId": "r"
    }
   },
   "outputs": [
    {
     "data": {
      "text/html": [
       "<table class=\"dataframe\">\n",
       "<caption>A data.frame: 3 × 2</caption>\n",
       "<thead>\n",
       "\t<tr><th></th><th scope=col>State</th><th scope=col>Population</th></tr>\n",
       "\t<tr><th></th><th scope=col>&lt;chr&gt;</th><th scope=col>&lt;int&gt;</th></tr>\n",
       "</thead>\n",
       "<tbody>\n",
       "\t<tr><th scope=row>1</th><td>Alabama</td><td>4779736</td></tr>\n",
       "\t<tr><th scope=row>2</th><td>Alaska </td><td> 710231</td></tr>\n",
       "\t<tr><th scope=row>3</th><td>Arizona</td><td>6392017</td></tr>\n",
       "</tbody>\n",
       "</table>\n"
      ],
      "text/latex": [
       "A data.frame: 3 × 2\n",
       "\\begin{tabular}{r|ll}\n",
       "  & State & Population\\\\\n",
       "  & <chr> & <int>\\\\\n",
       "\\hline\n",
       "\t1 & Alabama & 4779736\\\\\n",
       "\t2 & Alaska  &  710231\\\\\n",
       "\t3 & Arizona & 6392017\\\\\n",
       "\\end{tabular}\n"
      ],
      "text/markdown": [
       "\n",
       "A data.frame: 3 × 2\n",
       "\n",
       "| <!--/--> | State &lt;chr&gt; | Population &lt;int&gt; |\n",
       "|---|---|---|\n",
       "| 1 | Alabama | 4779736 |\n",
       "| 2 | Alaska  |  710231 |\n",
       "| 3 | Arizona | 6392017 |\n",
       "\n"
      ],
      "text/plain": [
       "  State   Population\n",
       "1 Alabama 4779736   \n",
       "2 Alaska   710231   \n",
       "3 Arizona 6392017   "
      ]
     },
     "metadata": {},
     "output_type": "display_data"
    }
   ],
   "source": [
    "# primeiras 6 linhas e primeiras 2 colunas (submatriz) da tabela de dados state\n",
    "state[1:3, 1:2]\n"
   ]
  },
  {
   "cell_type": "code",
   "execution_count": 103,
   "metadata": {
    "ExecuteTime": {
     "end_time": "2020-11-10T15:42:02.473026Z",
     "start_time": "2020-11-10T15:42:02.446Z"
    },
    "vscode": {
     "languageId": "r"
    }
   },
   "outputs": [
    {
     "data": {
      "text/html": [
       "<table class=\"dataframe\">\n",
       "<caption>A data.frame: 6 × 4</caption>\n",
       "<thead>\n",
       "\t<tr><th></th><th scope=col>State</th><th scope=col>Population</th><th scope=col>Murder.Rate</th><th scope=col>Abbreviation</th></tr>\n",
       "\t<tr><th></th><th scope=col>&lt;chr&gt;</th><th scope=col>&lt;int&gt;</th><th scope=col>&lt;dbl&gt;</th><th scope=col>&lt;chr&gt;</th></tr>\n",
       "</thead>\n",
       "<tbody>\n",
       "\t<tr><th scope=row>1</th><td>New Hampshire</td><td>1316470</td><td>0.9</td><td>NH</td></tr>\n",
       "\t<tr><th scope=row>2</th><td>Maine        </td><td>1328361</td><td>1.6</td><td>ME</td></tr>\n",
       "\t<tr><th scope=row>3</th><td>Minnesota    </td><td>5303925</td><td>1.6</td><td>MN</td></tr>\n",
       "\t<tr><th scope=row>4</th><td>Vermont      </td><td> 625741</td><td>1.6</td><td>VT</td></tr>\n",
       "\t<tr><th scope=row>5</th><td>Hawaii       </td><td>1360301</td><td>1.8</td><td>HI</td></tr>\n",
       "\t<tr><th scope=row>6</th><td>Iowa         </td><td>3046355</td><td>1.9</td><td>IA</td></tr>\n",
       "</tbody>\n",
       "</table>\n"
      ],
      "text/latex": [
       "A data.frame: 6 × 4\n",
       "\\begin{tabular}{r|llll}\n",
       "  & State & Population & Murder.Rate & Abbreviation\\\\\n",
       "  & <chr> & <int> & <dbl> & <chr>\\\\\n",
       "\\hline\n",
       "\t1 & New Hampshire & 1316470 & 0.9 & NH\\\\\n",
       "\t2 & Maine         & 1328361 & 1.6 & ME\\\\\n",
       "\t3 & Minnesota     & 5303925 & 1.6 & MN\\\\\n",
       "\t4 & Vermont       &  625741 & 1.6 & VT\\\\\n",
       "\t5 & Hawaii        & 1360301 & 1.8 & HI\\\\\n",
       "\t6 & Iowa          & 3046355 & 1.9 & IA\\\\\n",
       "\\end{tabular}\n"
      ],
      "text/markdown": [
       "\n",
       "A data.frame: 6 × 4\n",
       "\n",
       "| <!--/--> | State &lt;chr&gt; | Population &lt;int&gt; | Murder.Rate &lt;dbl&gt; | Abbreviation &lt;chr&gt; |\n",
       "|---|---|---|---|---|\n",
       "| 1 | New Hampshire | 1316470 | 0.9 | NH |\n",
       "| 2 | Maine         | 1328361 | 1.6 | ME |\n",
       "| 3 | Minnesota     | 5303925 | 1.6 | MN |\n",
       "| 4 | Vermont       |  625741 | 1.6 | VT |\n",
       "| 5 | Hawaii        | 1360301 | 1.8 | HI |\n",
       "| 6 | Iowa          | 3046355 | 1.9 | IA |\n",
       "\n"
      ],
      "text/plain": [
       "  State         Population Murder.Rate Abbreviation\n",
       "1 New Hampshire 1316470    0.9         NH          \n",
       "2 Maine         1328361    1.6         ME          \n",
       "3 Minnesota     5303925    1.6         MN          \n",
       "4 Vermont        625741    1.6         VT          \n",
       "5 Hawaii        1360301    1.8         HI          \n",
       "6 Iowa          3046355    1.9         IA          "
      ]
     },
     "metadata": {},
     "output_type": "display_data"
    }
   ],
   "source": [
    "# ordenar a tabela em função da variável Murder.Rate\n",
    "\n",
    "newDF <- arrange(state, Murder.Rate)\n",
    "head(newDF)\n"
   ]
  },
  {
   "cell_type": "code",
   "execution_count": 101,
   "metadata": {
    "ExecuteTime": {
     "end_time": "2020-11-10T15:50:49.319451Z",
     "start_time": "2020-11-10T15:50:49.260Z"
    },
    "vscode": {
     "languageId": "r"
    }
   },
   "outputs": [
    {
     "data": {
      "image/png": "[encoded data removed]",
      "text/plain": [
       "plot without title"
      ]
     },
     "metadata": {
      "image/png": {
       "height": 240,
       "width": 240
      }
     },
     "output_type": "display_data"
    }
   ],
   "source": [
    "# definir o tamanho da figura\n",
    "options(repr.plot.width = 4, repr.plot.height = 4)\n",
    "\n",
    "# boxplot - caixa de bigodes da variável Population\n",
    "boxplot(state[[\"Population\"]] / 1000000, xlab = \"BoxPlot\", ylab = \"Population (millions)\")\n"
   ]
  },
  {
   "cell_type": "code",
   "execution_count": 104,
   "metadata": {
    "ExecuteTime": {
     "end_time": "2020-11-10T15:51:26.128666Z",
     "start_time": "2020-11-10T15:51:26.062Z"
    },
    "vscode": {
     "languageId": "r"
    }
   },
   "outputs": [
    {
     "data": {
      "image/png": "[encoded data removed]",
      "text/plain": [
       "Plot with title \"Histogram of state[[\"Population\"]]/1e+06\""
      ]
     },
     "metadata": {
      "image/png": {
       "height": 240,
       "width": 240
      }
     },
     "output_type": "display_data"
    }
   ],
   "source": [
    "# histograma da variável Population\n",
    "\n",
    "hist(state[[\"Population\"]] / 1000000, xlab = \"Population\", ylab = \"Frequency\")\n"
   ]
  },
  {
   "cell_type": "code",
   "execution_count": null,
   "metadata": {
    "ExecuteTime": {
     "end_time": "2020-11-10T15:53:06.700370Z",
     "start_time": "2020-11-10T15:53:06.640Z"
    },
    "vscode": {
     "languageId": "r"
    }
   },
   "outputs": [
    {
     "data": {
      "image/png": "[encoded data removed]",
      "text/plain": [
       "Plot with title \"Histogram of state[[\"Murder.Rate\"]]\""
      ]
     },
     "metadata": {
      "image/png": {
       "height": 240,
       "width": 240
      }
     },
     "output_type": "display_data"
    }
   ],
   "source": [
    "# histograma e curva de densidade da variável Murder.Rate\n",
    "\n",
    "hist(state[[\"Murder.Rate\"]], freq = FALSE, xlab = \"Murder Rate\")\n",
    "lines(density(state[[\"Murder.Rate\"]]), lwd = 3, col = \"blue\")\n"
   ]
  },
  {
   "cell_type": "code",
   "execution_count": 92,
   "metadata": {
    "ExecuteTime": {
     "end_time": "2020-11-10T15:54:24.027109Z",
     "start_time": "2020-11-10T15:54:23.950Z"
    },
    "vscode": {
     "languageId": "r"
    }
   },
   "outputs": [
    {
     "data": {
      "image/png": "[encoded data removed]",
      "text/plain": [
       "plot without title"
      ]
     },
     "metadata": {
      "image/png": {
       "height": 240,
       "width": 240
      }
     },
     "output_type": "display_data"
    }
   ],
   "source": [
    "# gráfico de barras da variável Murder.Rate\n",
    "\n",
    "barplot(state[[\"Murder.Rate\"]],\n",
    "        cex.axis = 0.8, cex.names = 0.7,\n",
    "        xlab = \"Cause of delay\", ylab = \"Count\"\n",
    ")\n"
   ]
  },
  {
   "cell_type": "markdown",
   "metadata": {},
   "source": [
    "## Revisões"
   ]
  },
  {
   "cell_type": "code",
   "execution_count": 93,
   "metadata": {
    "ExecuteTime": {
     "end_time": "2020-11-12T15:47:48.531734Z",
     "start_time": "2020-11-12T15:47:48.509Z"
    },
    "vscode": {
     "languageId": "r"
    }
   },
   "outputs": [
    {
     "data": {
      "text/html": [
       "<style>\n",
       ".list-inline {list-style: none; margin:0; padding: 0}\n",
       ".list-inline>li {display: inline-block}\n",
       ".list-inline>li:not(:last-child)::after {content: \"\\00b7\"; padding: 0 .5ex}\n",
       "</style>\n",
       "<ol class=list-inline><li>0.446879954077303</li><li>0.523575605126098</li><li>0.786593320313841</li><li>0.181164263049141</li><li>0.040893726516515</li></ol>\n"
      ],
      "text/latex": [
       "\\begin{enumerate*}\n",
       "\\item 0.446879954077303\n",
       "\\item 0.523575605126098\n",
       "\\item 0.786593320313841\n",
       "\\item 0.181164263049141\n",
       "\\item 0.040893726516515\n",
       "\\end{enumerate*}\n"
      ],
      "text/markdown": [
       "1. 0.446879954077303\n",
       "2. 0.523575605126098\n",
       "3. 0.786593320313841\n",
       "4. 0.181164263049141\n",
       "5. 0.040893726516515\n",
       "\n",
       "\n"
      ],
      "text/plain": [
       "[1] 0.44687995 0.52357561 0.78659332 0.18116426 0.04089373"
      ]
     },
     "metadata": {},
     "output_type": "display_data"
    }
   ],
   "source": [
    "# Gerar numéros aleatórios (pseudo-aleatórios)\n",
    "# distribuição uniforme\n",
    "\n",
    "runif(5)\n"
   ]
  },
  {
   "cell_type": "code",
   "execution_count": 94,
   "metadata": {
    "ExecuteTime": {
     "end_time": "2020-11-12T15:48:57.757398Z",
     "start_time": "2020-11-12T15:48:57.727Z"
    },
    "vscode": {
     "languageId": "r"
    }
   },
   "outputs": [
    {
     "data": {
      "text/html": [
       "<style>\n",
       ".list-inline {list-style: none; margin:0; padding: 0}\n",
       ".list-inline>li {display: inline-block}\n",
       ".list-inline>li:not(:last-child)::after {content: \"\\00b7\"; padding: 0 .5ex}\n",
       "</style>\n",
       "<ol class=list-inline><li>0.113703411305323</li><li>0.622299404814839</li><li>0.609274732880294</li><li>0.623379441676661</li><li>0.860915383556858</li></ol>\n"
      ],
      "text/latex": [
       "\\begin{enumerate*}\n",
       "\\item 0.113703411305323\n",
       "\\item 0.622299404814839\n",
       "\\item 0.609274732880294\n",
       "\\item 0.623379441676661\n",
       "\\item 0.860915383556858\n",
       "\\end{enumerate*}\n"
      ],
      "text/markdown": [
       "1. 0.113703411305323\n",
       "2. 0.622299404814839\n",
       "3. 0.609274732880294\n",
       "4. 0.623379441676661\n",
       "5. 0.860915383556858\n",
       "\n",
       "\n"
      ],
      "text/plain": [
       "[1] 0.1137034 0.6222994 0.6092747 0.6233794 0.8609154"
      ]
     },
     "metadata": {},
     "output_type": "display_data"
    }
   ],
   "source": [
    "# distribuição uniforme com semente definida (set.seed)\n",
    "\n",
    "set.seed(1234)\n",
    "runif(5)\n"
   ]
  },
  {
   "cell_type": "code",
   "execution_count": 95,
   "metadata": {
    "ExecuteTime": {
     "end_time": "2020-11-12T15:49:40.995237Z",
     "start_time": "2020-11-12T15:49:40.734Z"
    },
    "vscode": {
     "languageId": "r"
    }
   },
   "outputs": [
    {
     "data": {
      "image/png": "[encoded data removed]",
      "text/plain": [
       "plot without title"
      ]
     },
     "metadata": {
      "image/png": {
       "height": 240,
       "width": 240
      }
     },
     "output_type": "display_data"
    }
   ],
   "source": [
    "# gerar (pseudo-aleatório) 2 distribuições normais e fazer o grafico de dispersão das variáveis\n",
    "\n",
    "z <- rnorm(1000)\n",
    "w <- rnorm(1000)\n",
    "plot(w, z)\n"
   ]
  },
  {
   "cell_type": "code",
   "execution_count": 96,
   "metadata": {
    "ExecuteTime": {
     "end_time": "2020-11-12T15:51:11.441290Z",
     "start_time": "2020-11-12T15:51:11.276Z"
    },
    "vscode": {
     "languageId": "r"
    }
   },
   "outputs": [
    {
     "data": {
      "image/png": "[encoded data removed]",
      "text/plain": [
       "plot without title"
      ]
     },
     "metadata": {
      "image/png": {
       "height": 240,
       "width": 240
      }
     },
     "output_type": "display_data"
    },
    {
     "data": {
      "image/png": "[encoded data removed]",
      "text/plain": [
       "Plot with title \"Histogram of x1\""
      ]
     },
     "metadata": {
      "image/png": {
       "height": 240,
       "width": 240
      }
     },
     "output_type": "display_data"
    }
   ],
   "source": [
    "# definir uma amostra normal com 100 observações, com média = 4 e\n",
    "# desvio padrão = 0.5\n",
    "\n",
    "x1 <- rnorm(100, mean = 4, sd = 0.5)\n",
    "\n",
    "# representar a variável x1\n",
    "plot(x1)\n",
    "\n",
    "# histograma de x1\n",
    "hist(x1)\n"
   ]
  },
  {
   "cell_type": "code",
   "execution_count": 106,
   "metadata": {
    "ExecuteTime": {
     "end_time": "2020-11-12T15:52:50.886553Z",
     "start_time": "2020-11-12T15:52:50.750Z"
    },
    "vscode": {
     "languageId": "r"
    }
   },
   "outputs": [
    {
     "data": {
      "image/png": "[encoded data removed]",
      "text/plain": [
       "Plot with title \"Normal Q-Q Plot\""
      ]
     },
     "metadata": {
      "image/png": {
       "height": 240,
       "width": 240
      }
     },
     "output_type": "display_data"
    }
   ],
   "source": [
    "# QQ -plot, para averiguar se a variável z é normalmente distribuída\n",
    "\n",
    "qqnorm(z)\n",
    "qqline(z)\n"
   ]
  },
  {
   "cell_type": "code",
   "execution_count": 98,
   "metadata": {
    "ExecuteTime": {
     "end_time": "2020-11-12T15:56:43.034645Z",
     "start_time": "2020-11-12T15:56:42.990Z"
    },
    "vscode": {
     "languageId": "r"
    }
   },
   "outputs": [
    {
     "data": {
      "text/html": [
       "<table class=\"dataframe\">\n",
       "<caption>A matrix: 1 × 5 of type dbl</caption>\n",
       "<thead>\n",
       "\t<tr><th scope=col>m</th><th scope=col>n</th><th scope=col>s</th><th scope=col>skew</th><th scope=col>kurt</th></tr>\n",
       "</thead>\n",
       "<tbody>\n",
       "\t<tr><td>1.498504</td><td>100</td><td>10.67117</td><td>0.3098188</td><td>2.84368</td></tr>\n",
       "</tbody>\n",
       "</table>\n"
      ],
      "text/latex": [
       "A matrix: 1 × 5 of type dbl\n",
       "\\begin{tabular}{lllll}\n",
       " m & n & s & skew & kurt\\\\\n",
       "\\hline\n",
       "\t 1.498504 & 100 & 10.67117 & 0.3098188 & 2.84368\\\\\n",
       "\\end{tabular}\n"
      ],
      "text/markdown": [
       "\n",
       "A matrix: 1 × 5 of type dbl\n",
       "\n",
       "| m | n | s | skew | kurt |\n",
       "|---|---|---|---|---|\n",
       "| 1.498504 | 100 | 10.67117 | 0.3098188 | 2.84368 |\n",
       "\n"
      ],
      "text/plain": [
       "     m        n   s        skew      kurt   \n",
       "[1,] 1.498504 100 10.67117 0.3098188 2.84368"
      ]
     },
     "metadata": {},
     "output_type": "display_data"
    }
   ],
   "source": [
    "# definir a assimetria e a curtose de uma variável aleatória x\n",
    "# com base nos momentos estatísticos de 3ª e 4ª ordem\n",
    "\n",
    "x <- 10 * rnorm(100)\n",
    "\n",
    "m <- mean(x)\n",
    "n <- length(x)\n",
    "s <- sd(x)\n",
    "\n",
    "# coeficiente de assimetria\n",
    "skew <- sum((x - m)^3 / s^3) / n\n",
    "\n",
    "# coeficiente de curtose\n",
    "kurt <- sum((x - m)^4 / s^4) / n\n",
    "\n",
    "# tabela com as medidas estatísticas\n",
    "cbind(m, n, s, skew, kurt)\n"
   ]
  }
 ],
 "metadata": {
  "hide_input": false,
  "kernelspec": {
   "display_name": "R",
   "language": "R",
   "name": "ir"
  },
  "language_info": {
   "codemirror_mode": "r",
   "file_extension": ".r",
   "mimetype": "text/x-r-source",
   "name": "R",
   "pygments_lexer": "r",
   "version": "4.3.2"
  },
  "latex_envs": {
   "LaTeX_envs_menu_present": true,
   "autoclose": false,
   "autocomplete": true,
   "bibliofile": "biblio.bib",
   "cite_by": "apalike",
   "current_citInitial": 1,
   "eqLabelWithNumbers": true,
   "eqNumInitial": 1,
   "hotkeys": {
    "equation": "Ctrl-E",
    "itemize": "Ctrl-I"
   },
   "labels_anchors": false,
   "latex_user_defs": false,
   "report_style_numbering": false,
   "user_envs_cfg": false
  },
  "nbTranslate": {
   "displayLangs": [
    "*"
   ],
   "hotkey": "alt-t",
   "langInMainMenu": true,
   "sourceLang": "en",
   "targetLang": "fr",
   "useGoogleTranslate": true
  },
  "toc": {
   "base_numbering": 1,
   "nav_menu": {},
   "number_sections": true,
   "sideBar": true,
   "skip_h1_title": false,
   "title_cell": "Table of Contents",
   "title_sidebar": "Contents",
   "toc_cell": false,
   "toc_position": {},
   "toc_section_display": true,
   "toc_window_display": false
  },
  "varInspector": {
   "cols": {
    "lenName": 16,
    "lenType": 16,
    "lenVar": 40
   },
   "kernels_config": {
    "python": {
     "delete_cmd_postfix": "",
     "delete_cmd_prefix": "del ",
     "library": "var_list.py",
     "varRefreshCmd": "print(var_dic_list())"
    },
    "r": {
     "delete_cmd_postfix": ") ",
     "delete_cmd_prefix": "rm(",
     "library": "var_list.r",
     "varRefreshCmd": "cat(var_dic_list()) "
    }
   },
   "types_to_exclude": [
    "module",
    "function",
    "builtin_function_or_method",
    "instance",
    "_Feature"
   ],
   "window_display": false
  }
 },
 "nbformat": 4,
 "nbformat_minor": 4
}
